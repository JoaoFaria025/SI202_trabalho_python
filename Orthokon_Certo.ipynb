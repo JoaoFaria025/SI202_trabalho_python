{
  "nbformat": 4,
  "nbformat_minor": 0,
  "metadata": {
    "colab": {
      "name": "Orthokon_Certo.ipynb",
      "provenance": [],
      "collapsed_sections": [
        "A9Zn3yjH3Jyq",
        "KqH3jR5n3N5C",
        "C6jnG5yZ3dPr",
        "O2j30GD8z0e6"
      ]
    },
    "kernelspec": {
      "name": "python3",
      "display_name": "Python 3"
    },
    "widgets": {
      "application/vnd.jupyter.widget-state+json": {
        "63688f13024e4a28bd35e4944e035327": {
          "model_module": "@jupyter-widgets/controls",
          "model_name": "VBoxModel",
          "state": {
            "_view_name": "VBoxView",
            "_dom_classes": [
              "widget-interact"
            ],
            "_model_name": "VBoxModel",
            "_view_module": "@jupyter-widgets/controls",
            "_model_module_version": "1.5.0",
            "_view_count": null,
            "_view_module_version": "1.5.0",
            "box_style": "",
            "layout": "IPY_MODEL_d041042c48d3417ab426f141d23b4b10",
            "_model_module": "@jupyter-widgets/controls",
            "children": [
              "IPY_MODEL_55346fe99fed45adbfa98076451c6619",
              "IPY_MODEL_4d36e3d221e74e94b54446ab30743f50"
            ]
          }
        },
        "d041042c48d3417ab426f141d23b4b10": {
          "model_module": "@jupyter-widgets/base",
          "model_name": "LayoutModel",
          "state": {
            "_view_name": "LayoutView",
            "grid_template_rows": null,
            "right": null,
            "justify_content": null,
            "_view_module": "@jupyter-widgets/base",
            "overflow": null,
            "_model_module_version": "1.2.0",
            "_view_count": null,
            "flex_flow": null,
            "width": null,
            "min_width": null,
            "border": null,
            "align_items": null,
            "bottom": null,
            "_model_module": "@jupyter-widgets/base",
            "top": null,
            "grid_column": null,
            "overflow_y": null,
            "overflow_x": null,
            "grid_auto_flow": null,
            "grid_area": null,
            "grid_template_columns": null,
            "flex": null,
            "_model_name": "LayoutModel",
            "justify_items": null,
            "grid_row": null,
            "max_height": null,
            "align_content": null,
            "visibility": null,
            "align_self": null,
            "height": null,
            "min_height": null,
            "padding": null,
            "grid_auto_rows": null,
            "grid_gap": null,
            "max_width": null,
            "order": null,
            "_view_module_version": "1.2.0",
            "grid_template_areas": null,
            "object_position": null,
            "object_fit": null,
            "grid_auto_columns": null,
            "margin": null,
            "display": null,
            "left": null
          }
        },
        "55346fe99fed45adbfa98076451c6619": {
          "model_module": "@jupyter-widgets/controls",
          "model_name": "IntSliderModel",
          "state": {
            "_view_name": "IntSliderView",
            "style": "IPY_MODEL_61da1e17847f44d089643e08daf849ba",
            "_dom_classes": [],
            "description": "frame",
            "step": 1,
            "_model_name": "IntSliderModel",
            "orientation": "horizontal",
            "max": 5,
            "_view_module": "@jupyter-widgets/controls",
            "_model_module_version": "1.5.0",
            "value": 2,
            "_view_count": null,
            "disabled": false,
            "_view_module_version": "1.5.0",
            "min": 0,
            "continuous_update": true,
            "readout_format": "d",
            "description_tooltip": null,
            "readout": true,
            "_model_module": "@jupyter-widgets/controls",
            "layout": "IPY_MODEL_15c6a02999f945a4b7f548b8b1d7214b"
          }
        },
        "4d36e3d221e74e94b54446ab30743f50": {
          "model_module": "@jupyter-widgets/output",
          "model_name": "OutputModel",
          "state": {
            "_view_name": "OutputView",
            "msg_id": "",
            "_dom_classes": [],
            "_model_name": "OutputModel",
            "outputs": [
              {
                "output_type": "display_data",
                "metadata": {
                  "tags": []
                },
                "image/png": "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\n",
                "text/plain": "<PIL.Image.Image image mode=RGB size=250x250 at 0x7FF8F7CB0358>"
              }
            ],
            "_view_module": "@jupyter-widgets/output",
            "_model_module_version": "1.0.0",
            "_view_count": null,
            "_view_module_version": "1.0.0",
            "layout": "IPY_MODEL_65cbdb2faaef4c82aff6d23d62d877c2",
            "_model_module": "@jupyter-widgets/output"
          }
        },
        "61da1e17847f44d089643e08daf849ba": {
          "model_module": "@jupyter-widgets/controls",
          "model_name": "SliderStyleModel",
          "state": {
            "_view_name": "StyleView",
            "handle_color": null,
            "_model_name": "SliderStyleModel",
            "description_width": "",
            "_view_module": "@jupyter-widgets/base",
            "_model_module_version": "1.5.0",
            "_view_count": null,
            "_view_module_version": "1.2.0",
            "_model_module": "@jupyter-widgets/controls"
          }
        },
        "15c6a02999f945a4b7f548b8b1d7214b": {
          "model_module": "@jupyter-widgets/base",
          "model_name": "LayoutModel",
          "state": {
            "_view_name": "LayoutView",
            "grid_template_rows": null,
            "right": null,
            "justify_content": null,
            "_view_module": "@jupyter-widgets/base",
            "overflow": null,
            "_model_module_version": "1.2.0",
            "_view_count": null,
            "flex_flow": null,
            "width": null,
            "min_width": null,
            "border": null,
            "align_items": null,
            "bottom": null,
            "_model_module": "@jupyter-widgets/base",
            "top": null,
            "grid_column": null,
            "overflow_y": null,
            "overflow_x": null,
            "grid_auto_flow": null,
            "grid_area": null,
            "grid_template_columns": null,
            "flex": null,
            "_model_name": "LayoutModel",
            "justify_items": null,
            "grid_row": null,
            "max_height": null,
            "align_content": null,
            "visibility": null,
            "align_self": null,
            "height": null,
            "min_height": null,
            "padding": null,
            "grid_auto_rows": null,
            "grid_gap": null,
            "max_width": null,
            "order": null,
            "_view_module_version": "1.2.0",
            "grid_template_areas": null,
            "object_position": null,
            "object_fit": null,
            "grid_auto_columns": null,
            "margin": null,
            "display": null,
            "left": null
          }
        },
        "65cbdb2faaef4c82aff6d23d62d877c2": {
          "model_module": "@jupyter-widgets/base",
          "model_name": "LayoutModel",
          "state": {
            "_view_name": "LayoutView",
            "grid_template_rows": null,
            "right": null,
            "justify_content": null,
            "_view_module": "@jupyter-widgets/base",
            "overflow": null,
            "_model_module_version": "1.2.0",
            "_view_count": null,
            "flex_flow": null,
            "width": null,
            "min_width": null,
            "border": null,
            "align_items": null,
            "bottom": null,
            "_model_module": "@jupyter-widgets/base",
            "top": null,
            "grid_column": null,
            "overflow_y": null,
            "overflow_x": null,
            "grid_auto_flow": null,
            "grid_area": null,
            "grid_template_columns": null,
            "flex": null,
            "_model_name": "LayoutModel",
            "justify_items": null,
            "grid_row": null,
            "max_height": null,
            "align_content": null,
            "visibility": null,
            "align_self": null,
            "height": null,
            "min_height": null,
            "padding": null,
            "grid_auto_rows": null,
            "grid_gap": null,
            "max_width": null,
            "order": null,
            "_view_module_version": "1.2.0",
            "grid_template_areas": null,
            "object_position": null,
            "object_fit": null,
            "grid_auto_columns": null,
            "margin": null,
            "display": null,
            "left": null
          }
        }
      }
    }
  },
  "cells": [
    {
      "cell_type": "markdown",
      "metadata": {
        "id": "eE9ooZWSkeCC"
      },
      "source": [
        "# **Problemas**\n",
        "\n",
        "Problemas que temos que resolver: \n",
        "*   Caso de vitoria em que o jogador não tem movimentos validos para serem feitos (Bloquear a movimentação do adversário).\n",
        "*   Análise de jogadas válidas para cada peça.\n",
        "\n",
        "Possiveis soluções(mudança de regras): \n",
        "Deixar o jogo rodar\n",
        " peças pularem as outras\n",
        "\n",
        "*   Deixar o jogo rodar\n",
        "*   Peças pularem as outras\n",
        "*   Limitar quantidade maxima de rodadas.\n",
        "\n",
        "\n",
        " \n",
        "\n",
        "\n",
        "\n"
      ]
    },
    {
      "cell_type": "markdown",
      "metadata": {
        "id": "05Yh6Ii3iHDd"
      },
      "source": [
        "#**Orthokon**\n",
        "\n"
      ]
    },
    {
      "cell_type": "markdown",
      "metadata": {
        "id": "A9Zn3yjH3Jyq"
      },
      "source": [
        "##*Tabuleiro vazio*"
      ]
    },
    {
      "cell_type": "markdown",
      "metadata": {
        "id": "gMpLf-WL3_dk"
      },
      "source": [
        "![](https://imgur.com/Wju6yfX.png)\n",
        "\n",
        "**Fonte da Imagem:** https://www.educamaisbrasil.com.br/enem/educacao-fisica/xadrez\n",
        "\n",
        "O tabuleiro padrão de Orthokon possui dimensão 4x4 e pode ser aumentado para tornar o jogo mais complexo, porém o aumento precisa ser proporcional."
      ]
    },
    {
      "cell_type": "markdown",
      "metadata": {
        "id": "KqH3jR5n3N5C"
      },
      "source": [
        "##*Movimentos possíveis*"
      ]
    },
    {
      "cell_type": "markdown",
      "metadata": {
        "id": "kTzJQaw64BGt"
      },
      "source": [
        "![](https://imgur.com/kjA1xrj.png)\n",
        "\n",
        "**Fonte da Imagem:**http://jnsilva.ludicum.org/Obidos/orthokonpdf.pdf\n",
        "\n",
        "As peças podem se mover na diagonal, horizontal ou vertical seguindo as seguintes regras:\n",
        "\n",
        "* Apenas uma peça pode se mover por vez\n",
        "* A peça só pode se mover em uma direção por rodada \n",
        "* A peça só pode parar de se mover quando encontra outra peça ou quando chega até a borda do tabuleiro\n",
        "* Todas as peças ortogonais a peça que se movimentou devem adquirir a cor da peça que fez o movimento.\n",
        "\n",
        "Exemplos de movimentos:\n",
        "* **Diagonal:**\n",
        "\n",
        "![](https://imgur.com/3hX2q2q.gif)\n",
        "\n",
        "* **Horizontal:**\n",
        "\n",
        "![](https://imgur.com/IiDvALk.gif)\n",
        "\n",
        "* **Vertical:**\n",
        "\n",
        "![](https://imgur.com/zSAZff9.gif)\n",
        "\n",
        "\n",
        "**Fonte das Imagens Animadas:** Imagens elaboradas pelos autores com base no tabuleiro disponível em:\n",
        "http://jnsilva.ludicum.org/Obidos/orthokonpdf.pdf\n",
        " "
      ]
    },
    {
      "cell_type": "markdown",
      "metadata": {
        "id": "C6jnG5yZ3dPr"
      },
      "source": [
        "##*Condições de vitória*"
      ]
    },
    {
      "cell_type": "markdown",
      "metadata": {
        "id": "a47jk7Kp4Few"
      },
      "source": [
        " O jogador  vence a partida quando transforma todas as peças do seu adversario em suas peças, quando as peças do adversario ficam ortogonais a suas peças você transforma as peças dele em suas. abaixo temos um exemplo \n",
        "\n",
        " O jogador amarelo moveu sua peça para casa, onde as peças vermelhas ficaram ortogonais, logo assim as peças vermelhas se tornaram amarelas, assim como mostra a outra imagem.\n"
      ]
    },
    {
      "cell_type": "markdown",
      "metadata": {
        "id": "XYDBB3Shanlj"
      },
      "source": [
        "![Capturar.JPG](data:image/jpeg;base64,/9j/4AAQSkZJRgABAQEAYABgAAD/4RDuRXhpZgAATU0AKgAAAAgABAE7AAIAAAAMAAAISodpAAQAAAABAAAIVpydAAEAAAAYAAAQzuocAAcAAAgMAAAAPgAAAAAc6gAAAAgAAAAAAAAAAAAAAAAAAAAAAAAAAAAAAAAAAAAAAAAAAAAAAAAAAAAAAAAAAAAAAAAAAAAAAAAAAAAAAAAAAAAAAAAAAAAAAAAAAAAAAAAAAAAAAAAAAAAAAAAAAAAAAAAAAAAAAAAAAAAAAAAAAAAAAAAAAAAAAAAAAAAAAAAAAAAAAAAAAAAAAAAAAAAAAAAAAAAAAAAAAAAAAAAAAAAAAAAAAAAAAAAAAAAAAAAAAAAAAAAAAAAAAAAAAAAAAAAAAAAAAAAAAAAAAAAAAAAAAAAAAAAAAAAAAAAAAAAAAAAAAAAAAAAAAAAAAAAAAAAAAAAAAAAAAAAAAAAAAAAAAAAAAAAAAAAAAAAAAAAAAAAAAAAAAAAAAAAAAAAAAAAAAAAAAAAAAAAAAAAAAAAAAAAAAAAAAAAAAAAAAAAAAAAAAAAAAAAAAAAAAAAAAAAAAAAAAAAAAAAAAAAAAAAAAAAAAAAAAAAAAAAAAAAAAAAAAAAAAAAAAAAAAAAAAAAAAAAAAAAAAAAAAAAAAAAAAAAAAAAAAAAAAAAAAAAAAAAAAAAAAAAAAAAAAAAAAAAAAAAAAAAAAAAAAAAAAAAAAAAAAAAAAAAAAAAAAAAAAAAAAAAAAAAAAAAAAAAAAAAAAAAAAAAAAAAAAAAAAAAAAAAAAAAAAAAAAAAAAAAAAAAAAAAAAAAAAAAAAAAAAAAAAAAAAAAAAAAAAAAAAAAAAAAAAAAAAAAAAAAAAAAAAAAAAAAAAAAAAAAAAAAAAAAAAAAAAAAAAAAAAAAAAAAAAAAAAAAAAAAAAAAAAAAAAAAAAAAAAAAAAAAAAAAAAAAAAAAAAAAAAAAAAAAAAAAAAAAAAAAAAAAAAAAAAAAAAAAAAAAAAAAAAAAAAAAAAAAAAAAAAAAAAAAAAAAAAAAAAAAAAAAAAAAAAAAAAAAAAAAAAAAAAAAAAAAAAAAAAAAAAAAAAAAAAAAAAAAAAAAAAAAAAAAAAAAAAAAAAAAAAAAAAAAAAAAAAAAAAAAAAAAAAAAAAAAAAAAAAAAAAAAAAAAAAAAAAAAAAAAAAAAAAAAAAAAAAAAAAAAAAAAAAAAAAAAAAAAAAAAAAAAAAAAAAAAAAAAAAAAAAAAAAAAAAAAAAAAAAAAAAAAAAAAAAAAAAAAAAAAAAAAAAAAAAAAAAAAAAAAAAAAAAAAAAAAAAAAAAAAAAAAAAAAAAAAAAAAAAAAAAAAAAAAAAAAAAAAAAAAAAAAAAAAAAAAAAAAAAAAAAAAAAAAAAAAAAAAAAAAAAAAAAAAAAAAAAAAAAAAAAAAAAAAAAAAAAAAAAAAAAAAAAAAAAAAAAAAAAAAAAAAAAAAAAAAAAAAAAAAAAAAAAAAAAAAAAAAAAAAAAAAAAAAAAAAAAAAAAAAAAAAAAAAAAAAAAAAAAAAAAAAAAAAAAAAAAAAAAAAAAAAAAAAAAAAAAAAAAAAAAAAAAAAAAAAAAAAAAAAAAAAAAAAAAAAAAAAAAAAAAAAAAAAAAAAAAAAAAAAAAAAAAAAAAAAAAAAAAAAAAAAAAAAAAAAAAAAAAAAAAAAAAAAAAAAAAAAAAAAAAAAAAAAAAAAAAAAAAAAAAAAAAAAAAAAAAAAAAAAAAAAAAAAAAAAAAAAAAAAAAAAAAAAAAAAAAAAAAAAAAAAAAAAAAAAAAAAAAAAAAAAAAAAAAAAAAAAAAAAAAAAAAAAAAAAAAAAAAAAAAAAAAAAAAAAAAAAAAAAAAAAAAAAAAAAAAAAAAAAAAAAAAAAAAAAAAAAAAAAAAAAAAAAAAAAAAAAAAAAAAAAAAAAAAAAAAAAAAAAAAAAAAAAAAAAAAAAAAAAAAAAAAAAAAAAAAAAAAAAAAAAAAAAAAAAAAAAAAAAAAAAAAAAAAAAAAAAAAAAAAAAAAAAAAAAAAAAAAAAAAAAAAAAAAAAAAAAAAAAAAAAAAAAAAAAAAAAAAAAAAAAAAAAAAAAAAAAAAAAAAAAAAAAAAAAAAAAAAAAAAAAAAAAAAAAAAAAAAAAAAAAAAAAAAAAAAAAAAAAAAAAAAAAAAAAAAAAAAAAAAAAAAAAAAAAAAAAAAAAAAAAAAAAAAAAAAAAAAAAAAAAAAAAAAAAAAAAAAAAAAAAAAAAAAAAAAAAAAAAAAAAAAAAAAAAAAAAAAAAAAAAAAAAAAAAAAAAAAAAAAAAAAAAAAAAAAAAAAAAAAAAAAAAAAAAAAAAAAAAAAAAAAAAAAAAAAAAAAAAAAAAAAAAAAAAAAAAAAAAAAAAAAAAAAAAAAAAAAAAAAAAAAAAAAAAAAAAAAAAAAAAAAAAAAAAAAAAAAAAAAAAAAAAAAAAAAAAAAAAAAAAAAAAAAAAAAAAAAAAAAAAAAAAAAAAAAAAAAAAAAAAAAAAAAAAAAAAAAAAAAAAAAAAAAAAAAAAAAAAAAAAAAAAAAAAAAAAAAAAAAAAAAAAAAAAAAAAAAAAAAAAAAAAAAAAAAAAAAAAAAAAAAAAAAAAAAAAAAAAAAAAAAAAAAAAAAAAAAAAAAAAAAAAAAAAAAAAAAAAAAAAAAAAAAAAAAAAAAAAAAAAAAAAAAAAAAAAAAAAAAAAAAAAAAAAAAAAAAAAAAAAAAAAAAAAAAAAAAAAAAAAAAAAAAAAAAAAAAAAAAAAAAAAAAAAAAAAAAAAAAAAAAAAAAAAAAAAAAAAAAAAAAAAAAAAAAAAAAAAAAAAAAAAAAAAAAAAAAAAAAAAAAAAAAAAAAAAAAFZpY3RvciBNZWxvAAAFkAMAAgAAABQAABCkkAQAAgAAABQAABC4kpEAAgAAAAM4NgAAkpIAAgAAAAM4NgAA6hwABwAACAwAAAiYAAAAABzqAAAACAAAAAAAAAAAAAAAAAAAAAAAAAAAAAAAAAAAAAAAAAAAAAAAAAAAAAAAAAAAAAAAAAAAAAAAAAAAAAAAAAAAAAAAAAAAAAAAAAAAAAAAAAAAAAAAAAAAAAAAAAAAAAAAAAAAAAAAAAAAAAAAAAAAAAAAAAAAAAAAAAAAAAAAAAAAAAAAAAAAAAAAAAAAAAAAAAAAAAAAAAAAAAAAAAAAAAAAAAAAAAAAAAAAAAAAAAAAAAAAAAAAAAAAAAAAAAAAAAAAAAAAAAAAAAAAAAAAAAAAAAAAAAAAAAAAAAAAAAAAAAAAAAAAAAAAAAAAAAAAAAAAAAAAAAAAAAAAAAAAAAAAAAAAAAAAAAAAAAAAAAAAAAAAAAAAAAAAAAAAAAAAAAAAAAAAAAAAAAAAAAAAAAAAAAAAAAAAAAAAAAAAAAAAAAAAAAAAAAAAAAAAAAAAAAAAAAAAAAAAAAAAAAAAAAAAAAAAAAAAAAAAAAAAAAAAAAAAAAAAAAAAAAAAAAAAAAAAAAAAAAAAAAAAAAAAAAAAAAAAAAAAAAAAAAAAAAAAAAAAAAAAAAAAAAAAAAAAAAAAAAAAAAAAAAAAAAAAAAAAAAAAAAAAAAAAAAAAAAAAAAAAAAAAAAAAAAAAAAAAAAAAAAAAAAAAAAAAAAAAAAAAAAAAAAAAAAAAAAAAAAAAAAAAAAAAAAAAAAAAAAAAAAAAAAAAAAAAAAAAAAAAAAAAAAAAAAAAAAAAAAAAAAAAAAAAAAAAAAAAAAAAAAAAAAAAAAAAAAAAAAAAAAAAAAAAAAAAAAAAAAAAAAAAAAAAAAAAAAAAAAAAAAAAAAAAAAAAAAAAAAAAAAAAAAAAAAAAAAAAAAAAAAAAAAAAAAAAAAAAAAAAAAAAAAAAAAAAAAAAAAAAAAAAAAAAAAAAAAAAAAAAAAAAAAAAAAAAAAAAAAAAAAAAAAAAAAAAAAAAAAAAAAAAAAAAAAAAAAAAAAAAAAAAAAAAAAAAAAAAAAAAAAAAAAAAAAAAAAAAAAAAAAAAAAAAAAAAAAAAAAAAAAAAAAAAAAAAAAAAAAAAAAAAAAAAAAAAAAAAAAAAAAAAAAAAAAAAAAAAAAAAAAAAAAAAAAAAAAAAAAAAAAAAAAAAAAAAAAAAAAAAAAAAAAAAAAAAAAAAAAAAAAAAAAAAAAAAAAAAAAAAAAAAAAAAAAAAAAAAAAAAAAAAAAAAAAAAAAAAAAAAAAAAAAAAAAAAAAAAAAAAAAAAAAAAAAAAAAAAAAAAAAAAAAAAAAAAAAAAAAAAAAAAAAAAAAAAAAAAAAAAAAAAAAAAAAAAAAAAAAAAAAAAAAAAAAAAAAAAAAAAAAAAAAAAAAAAAAAAAAAAAAAAAAAAAAAAAAAAAAAAAAAAAAAAAAAAAAAAAAAAAAAAAAAAAAAAAAAAAAAAAAAAAAAAAAAAAAAAAAAAAAAAAAAAAAAAAAAAAAAAAAAAAAAAAAAAAAAAAAAAAAAAAAAAAAAAAAAAAAAAAAAAAAAAAAAAAAAAAAAAAAAAAAAAAAAAAAAAAAAAAAAAAAAAAAAAAAAAAAAAAAAAAAAAAAAAAAAAAAAAAAAAAAAAAAAAAAAAAAAAAAAAAAAAAAAAAAAAAAAAAAAAAAAAAAAAAAAAAAAAAAAAAAAAAAAAAAAAAAAAAAAAAAAAAAAAAAAAAAAAAAAAAAAAAAAAAAAAAAAAAAAAAAAAAAAAAAAAAAAAAAAAAAAAAAAAAAAAAAAAAAAAAAAAAAAAAAAAAAAAAAAAAAAAAAAAAAAAAAAAAAAAAAAAAAAAAAAAAAAAAAAAAAAAAAAAAAAAAAAAAAAAAAAAAAAAAAAAAAAAAAAAAAAAAAAAAAAAAAAAAAAAAAAAAAAAAAAAAAAAAAAAAAAAAAAAAAAAAAAAAAAAAAAAAAAAAAAAAAAAAAAAAAAAAAAAAAAAAAAAAAAAAAAAAAAAAAAAAAAAAAAAAAAAAAAAAAAAAAAAAAAAAAAAAAAAAAAAAAAAAAAAAAAAAAAAAAAAAAAAAAAAAAAAAAAAAAAAAAAAAAAAAAAAAAAAAAAAAAAAAAAAAAAAAAAAAAAAAAAAAAAAAAAAAAAAAAAAAAAAAAAAAAAAAAAAAAAAAAAAAAAAAAAAAAAAAAAAAAAAAAAAAAAAAAAAAAAAAAAAAAAAAAAAAAAAAAAAAAAAAAAAAAAAAAAAAAAAAAAAAAAAAAAAAAAAAAAAAAAAAAAAAAAAAAAAAAAAAAAAAAAAAAAAAAAAAAAAAAAAAAAAAAAAAAAAAAAAAAAAAAAAAAAAAAAAAAAAAAAAAAAAAAAAAAAAAAAAAAAAAAAAAAAAAAAAAAAAAAAAAAAAAAAAAAAAAAAAAAAAAAAAAAAAAAAAAAAAAAAAAAAAAAAAAAAAAAAAAAAAAAAAAAAAAAAAAAAAAAAAAAAAAAAAAAAAAAAAAAAAAAAAAAAAAAAAAAAAAAAAAAAAAAAAAAAAAAAAAAAAAAAAAAAAAAAAAAAAAAAAAAAAAAAAAAAAAAAAAAAAAAAAAAAAAAAAAAAAAAAAAAAAAAAAAAAAAAAAAAAAAAAAAAAAAAAAAAAAAAAAAAAAAAAAAAAAAAAAAAAAAAAAAAAAAAAAAAAAAAAAAAAAAAAAAAAAAAAAAAAAAAAAAAAAAAAAAAAAAAAAAAAAAAAAAAAAAAAAAAAAAAAAAAAAAAAAAAAAAAAAAAAAAAAAAAAAAAAAAAAAAAAAAAAAAAAAAAAAMjAyMDoxMDowNiAyMToxOToxMAAyMDIwOjEwOjA2IDIxOjE5OjEwAAAAVgBpAGMAdABvAHIAIABNAGUAbABvAAAA/+ELHmh0dHA6Ly9ucy5hZG9iZS5jb20veGFwLzEuMC8APD94cGFja2V0IGJlZ2luPSfvu78nIGlkPSdXNU0wTXBDZWhpSHpyZVN6TlRjemtjOWQnPz4NCjx4OnhtcG1ldGEgeG1sbnM6eD0iYWRvYmU6bnM6bWV0YS8iPjxyZGY6UkRGIHhtbG5zOnJkZj0iaHR0cDovL3d3dy53My5vcmcvMTk5OS8wMi8yMi1yZGYtc3ludGF4LW5zIyI+PHJkZjpEZXNjcmlwdGlvbiByZGY6YWJvdXQ9InV1aWQ6ZmFmNWJkZDUtYmEzZC0xMWRhLWFkMzEtZDMzZDc1MTgyZjFiIiB4bWxuczpkYz0iaHR0cDovL3B1cmwub3JnL2RjL2VsZW1lbnRzLzEuMS8iLz48cmRmOkRlc2NyaXB0aW9uIHJkZjphYm91dD0idXVpZDpmYWY1YmRkNS1iYTNkLTExZGEtYWQzMS1kMzNkNzUxODJmMWIiIHhtbG5zOnhtcD0iaHR0cDovL25zLmFkb2JlLmNvbS94YXAvMS4wLyI+PHhtcDpDcmVhdGVEYXRlPjIwMjAtMTAtMDZUMjE6MTk6MTAuODU4PC94bXA6Q3JlYXRlRGF0ZT48L3JkZjpEZXNjcmlwdGlvbj48cmRmOkRlc2NyaXB0aW9uIHJkZjphYm91dD0idXVpZDpmYWY1YmRkNS1iYTNkLTExZGEtYWQzMS1kMzNkNzUxODJmMWIiIHhtbG5zOmRjPSJodHRwOi8vcHVybC5vcmcvZGMvZWxlbWVudHMvMS4xLyI+PGRjOmNyZWF0b3I+PHJkZjpTZXEgeG1sbnM6cmRmPSJodHRwOi8vd3d3LnczLm9yZy8xOTk5LzAyLzIyLXJkZi1zeW50YXgtbnMjIj48cmRmOmxpPlZpY3RvciBNZWxvPC9yZGY6bGk+PC9yZGY6U2VxPg0KCQkJPC9kYzpjcmVhdG9yPjwvcmRmOkRlc2NyaXB0aW9uPjwvcmRmOlJERj48L3g6eG1wbWV0YT4NCiAgICAgICAgICAgICAgICAgICAgICAgICAgICAgICAgICAgICAgICAgICAgICAgICAgICAgICAgICAgICAgICAgICAgICAgICAgICAgICAgICAgICAgICAgICAgICAgICAgICAKICAgICAgICAgICAgICAgICAgICAgICAgICAgICAgICAgICAgICAgICAgICAgICAgICAgICAgICAgICAgICAgICAgICAgICAgICAgICAgICAgICAgICAgICAgICAgICAgICAgIAogICAgICAgICAgICAgICAgICAgICAgICAgICAgICAgICAgICAgICAgICAgICAgICAgICAgICAgICAgICAgICAgICAgICAgICAgICAgICAgICAgICAgICAgICAgICAgICAgICAgCiAgICAgICAgICAgICAgICAgICAgICAgICAgICAgICAgICAgICAgICAgICAgICAgICAgICAgICAgICAgICAgICAgICAgICAgICAgICAgICAgICAgICAgICAgICAgICAgICAgICAKICAgICAgICAgICAgICAgICAgICAgICAgICAgICAgICAgICAgICAgICAgICAgICAgICAgICAgICAgICAgICAgICAgICAgICAgICAgICAgICAgICAgICAgICAgICAgICAgICAgIAogICAgICAgICAgICAgICAgICAgICAgICAgICAgICAgICAgICAgICAgICAgICAgICAgICAgICAgICAgICAgICAgICAgICAgICAgICAgICAgICAgICAgICAgICAgICAgICAgICAgCiAgICAgICAgICAgICAgICAgICAgICAgICAgICAgICAgICAgICAgICAgICAgICAgICAgICAgICAgICAgICAgICAgICAgICAgICAgICAgICAgICAgICAgICAgICAgICAgICAgICAKICAgICAgICAgICAgICAgICAgICAgICAgICAgICAgICAgICAgICAgICAgICAgICAgICAgICAgICAgICAgICAgICAgICAgICAgICAgICAgICAgICAgICAgICAgICAgICAgICAgIAogICAgICAgICAgICAgICAgICAgICAgICAgICAgICAgICAgICAgICAgICAgICAgICAgICAgICAgICAgICAgICAgICAgICAgICAgICAgICAgICAgICAgICAgICAgICAgICAgICAgCiAgICAgICAgICAgICAgICAgICAgICAgICAgICAgICAgICAgICAgICAgICAgICAgICAgICAgICAgICAgICAgICAgICAgICAgICAgICAgICAgICAgICAgICAgICAgICAgICAgICAKICAgICAgICAgICAgICAgICAgICAgICAgICAgICAgICAgICAgICAgICAgICAgICAgICAgICAgICAgICAgICAgICAgICAgICAgICAgICAgICAgICAgICAgICAgICAgICAgICAgIAogICAgICAgICAgICAgICAgICAgICAgICAgICAgICAgICAgICAgICAgICAgICAgICAgICAgICAgICAgICAgICAgICAgICAgICAgICAgICAgICAgICAgICAgICAgICAgICAgICAgCiAgICAgICAgICAgICAgICAgICAgICAgICAgICAgICAgICAgICAgICAgICAgICAgICAgICAgICAgICAgICAgICAgICAgICAgICAgICAgICAgICAgICAgICAgICAgICAgICAgICAKICAgICAgICAgICAgICAgICAgICAgICAgICAgICAgICAgICAgICAgICAgICAgICAgICAgICAgICAgICAgICAgICAgICAgICAgICAgICAgICAgICAgICAgICAgICAgICAgICAgIAogICAgICAgICAgICAgICAgICAgICAgICAgICAgICAgICAgICAgICAgICAgICAgICAgICAgICAgICAgICAgICAgICAgICAgICAgICAgICAgICAgICAgICAgICAgICAgICAgICAgCiAgICAgICAgICAgICAgICAgICAgICAgICAgICAgICAgICAgICAgICAgICAgICAgICAgICAgICAgICAgICAgICAgICAgICAgICAgICAgICAgICAgICAgICAgICAgICAgICAgICAKICAgICAgICAgICAgICAgICAgICAgICAgICAgICAgICAgICAgICAgICAgICAgICAgICAgICAgICAgICAgICAgICAgICAgICAgICAgICAgICAgICAgICAgICAgICAgICAgICAgIAogICAgICAgICAgICAgICAgICAgICAgICAgICAgICAgICAgICAgICAgICAgICAgICAgICAgICAgICAgICAgICAgICAgICAgICAgICAgICAgICAgICAgICAgICAgICAgICAgICAgCiAgICAgICAgICAgICAgICAgICAgICAgICAgICAgICAgICAgICAgICAgICAgICAgICAgICAgICAgICAgICAgICAgICAgICAgICAgICAgICAgICAgICAgICAgICAgICAgICAgICAKICAgICAgICAgICAgICAgICAgICAgICAgICAgICAgICAgICAgICAgICAgICAgICAgICAgICAgICAgICAgICAgICAgICAgICAgICAgICAgICAgICAgICAgICAgICAgICAgICAgIAogICAgICAgICAgICAgICAgICAgICAgICAgICAgPD94cGFja2V0IGVuZD0ndyc/Pv/bAEMABwUFBgUEBwYFBggHBwgKEQsKCQkKFQ8QDBEYFRoZGBUYFxseJyEbHSUdFxgiLiIlKCkrLCsaIC8zLyoyJyorKv/bAEMBBwgICgkKFAsLFCocGBwqKioqKioqKioqKioqKioqKioqKioqKioqKioqKioqKioqKioqKioqKioqKioqKioqKv/AABEIAawB6wMBIgACEQEDEQH/xAAfAAABBQEBAQEBAQAAAAAAAAAAAQIDBAUGBwgJCgv/xAC1EAACAQMDAgQDBQUEBAAAAX0BAgMABBEFEiExQQYTUWEHInEUMoGRoQgjQrHBFVLR8CQzYnKCCQoWFxgZGiUmJygpKjQ1Njc4OTpDREVGR0hJSlNUVVZXWFlaY2RlZmdoaWpzdHV2d3h5eoOEhYaHiImKkpOUlZaXmJmaoqOkpaanqKmqsrO0tba3uLm6wsPExcbHyMnK0tPU1dbX2Nna4eLj5OXm5+jp6vHy8/T19vf4+fr/xAAfAQADAQEBAQEBAQEBAAAAAAAAAQIDBAUGBwgJCgv/xAC1EQACAQIEBAMEBwUEBAABAncAAQIDEQQFITEGEkFRB2FxEyIygQgUQpGhscEJIzNS8BVictEKFiQ04SXxFxgZGiYnKCkqNTY3ODk6Q0RFRkdISUpTVFVWV1hZWmNkZWZnaGlqc3R1dnd4eXqCg4SFhoeIiYqSk5SVlpeYmZqio6Slpqeoqaqys7S1tre4ubrCw8TFxsfIycrS09TV1tfY2dri4+Tl5ufo6ery8/T19vf4+fr/2gAMAwEAAhEDEQA/AFAzzSGg8NQK9w+EHbqUHHNMpWPyUhis2Rx1pmcCmgHqOaQhhyQRTtcB2cim5oJIXhaTa3pQAuaWmsjDnFOIJ6CmkJiNyuKcvTFIVI7UYb+FSaAA9acCBTMuePLOaaBJ1KmpKJs0jNgUxWZeq8UHLGgQuadimAn+7Thk07sBe1AOKQ59KQdeaQDt2KUNUbHHNKDQrgSA+9ICd3WmE8cUgJzxzT1ESk4prfeowWHIxRglvWgY6m0hJBxS0AhelKDTevU0oOD60wAkUuc9KRuegpozSAdjFJupOaTHtTAXOaUYFJikoGLnPSnLx1poOKXPegCTgim0HgA5pu6kA+lB4xUYfmnUwHrSdD0pFOKa7elAhT1pc4FR7s0UAOJ5pwpoB70ucdKQxx5FLUPNPUmgBxz1pM8UpPoabjigYtJ3ozihmBoActLv5xTFbFL1oAcTmjrSU0tzQA7GTSnigU4470AN3UZpDiimIaXHpSA96UKPxNNIxS6kiF1HLHFefa34x1E3x+yv9ntlJT5QCSQepzXV69cva2TlDg7Tj8q82cFwd38R5rWELuyO7B04ybclc0v+Em1grkXzEH0A/wAKYdd1VzzfzA+xH+FYzpLZkPHl4j95R2qWOYTLvjOR/KumEY7Pc9B0IWvY0W1jVW66lcY9nxUbanft96+uD/wM1VDNThmt/ZwF7OPYk+1XBOWuJif96nfapx0nl/76NRKuaDkUvZRD2a7E32u5z/r5P++jUo1C8VflupV+jGqitmnA+tP2cSfZR7F1dX1Ffu303/fZqRdc1NB8t7Mc+rZrPGKdnNLkj2H7GD6F7+3dSPW8m/76qSLxDqUa/wDH07exNZZwOtNJFNU4h9Xh/KjYHiTVM/LdbR6YBpf+Eo1del0D9VFY+RS8UezgHsKf8ptjxjrAGN8Z99tH/CY6x/FJF/3wKwicGl470eyiP2MOxux+L9UB+Z4yPZBTj4w1PeP9WRn+6K5/6U7HFHsokewh2OjfxXqO7908YHuBQPFmpKPvRk+61zinFBap9jEXsIdjof8AhMdS9Y/++acvjS+A5jTPqK5nNHUUexiCw9PsdQnjS8GfMVD9BTT41uevlqfrXM44qLHNU6MB/V6fY6p/Gt2xHlwRD13c0n/CaX69I4P++a5leBQcGl7GI/q1PsdSfG135eBFFu+nFIPG96B/qoc+wrlttL0o9jEPq1PsdaPHVwFO+2Qn2PWnr45laH5rRd/oDXJjpSbtprN0Ug+q030Ox/4TULCrG2YyY5Xtn65oi8bAozzQBTnhU5zXHM4IOaQHv2o9jGw/qtPsdhdeOm8z/RLRGTjHmHB/Skl8bzKqhbaFjjn5iMVx+cnjinZ9aaoqxP1Wn2OqPj6472EX/fw0o8d3Df8ALhH/AN/D/hXKrjPNPyBS9jEawtO2x1a+Mbl+VsYvxlP+FKfGl0nDWMX/AH8NcqJMDrSecM9c0/YRF9Tp9jqx44mPAsEJ/wCuhqWPxiGz59uqH2Yn+lcf5vPy0F+9L2MRfVKfY66TxtsOI7EMPXfioj45lHTTlP8A20rlRJmnhsc1HsUL6rTXQ65PGrmLd9hUH031JB40UoxuLdIyBwAS2f0rkPMBXrQxXvVexiH1Wnc6s+NjvIFomzsS5zQfGcpI8u1jx3JY1yYC04YzxR7GNh/VaZ1o8WvjLQxj/gVOTxh8jeasQOeAATmuTO0io+jcUvYoPq1PsdZ/wlshORDCf+BGmSeL5g2BDCv581yxYg5pVUSsNzhfc0vYxH9Wp9jpovGNwLhBPbRGFjhijHIrr/Rh0Iryi4RkiODux3Fen2Unmabayf3olP6VhUp8pyYmlGCXKWNxo3ZNNzTgM1icSFoJoxikNAxc0U0GloATODTWJ60pOKR2yvSqIuc54ofOmyZ6gHFcGx+UV2nitv8AQmHqa4txwK6aHxnp4P4WNDc1UlgkimV7TgscFexq0BUbkrc25GT+9UYHfmuisrxuelBu5r2/hy/uokZb+2VmOCuwnBqaXwpqMMe6S8gxnG4Rmups7Y2vys7MkbbhvXJBbsMdau3NlDcXtu7u/IKlW3cHscVwc7OlJPocTD4UvZiMXy8nHEWatN4Ju0ID6pHnOMCGuzSwggtAis0TYwJFPOc+9JKoVljZX3b8uzDqPWqU2HIjiR4RuUtmnbUY2Rc/dj64NSR+E7l877ogAc/uq6kp5EYYBpI4yRsBwv8A9eqyRySW0su0+ZPhZIy3+rHXj04p87FyIxP+EQcNs/tBAxAK7kwTSr4NKvse+bfnsnFdCZImtER1eV7fa6Mg79OvpU0l1PYvNd3OLksiqqIOVPpT5mHIjmG8HxQzBLi9cknAwBzUEnhqGKYq88oQttViowa6u+ljSOKfcCxwR04OOhBqpLHJJJciOTfErhjCAPlPfj0pc8kJxRgf8IpIbry0eTy/7+3vUmj+CNY1hJni8mGKNyivIfv49q3Mr5R8xWyFJVkJFdd8OxJf+H41XJcyvnd161jWxEqaug5LnB/8Ks8RSSBYZbORj0+Y05vhP4lSTZPLaIR1w1ezSQNBJs3cj0p0cZmlVS3LHGTXC8xql8iPG0+E+us4C31qM+oqWf4Q+IIJNpv7MnGeBxXslzbfZ5tgYN9Ki2b5FBPU4zR/aNYPZo8ZPwp18thbyzJ9s0svwm8SRfeubI5HYmvbLm1WBwqyB+M5FQYpf2lWF7NHin/CrPEfa4sz+dPb4VeJYVDM9k4b/bxivbrm0ESoyyK24Z47VAEzwTR/aNYapI8WPwt8QnpJaj2zTX+E3ihI95NmV9nP+Fe5TWixRo4cNu7elQEHHXij+0qoOkjwLUPAfiDS7Rrq8ihMSkAmN84qkNCvGVdnlkHvu4r2vx1EyeEJZNoI8xDj8a4G2xPaiKV1wWJGf4fau7D4upUWpDpq5yTeG9TWMyIsboOuGp48M6rJt8qFHLcAK3U10Q8uBVKHCIcHb3Ndf4Ejt7iylukRS0UrIDjpnrUY/Mlg6DrT6G1DDe1nyo4/SfhZrN1h9SuYrKM/woNzCuhi+EukhR9qvrqU+qkL/Ku7z70ua/LsXxhjqk/3fuo+jpZXRitdTiP+FTeHj/y2vf8Av7Ub/CTRNv7q8vEP+8DXdGiuNcU5l/OaPAUNrHmN98IrjGdJ1MSEdEnXGfxFc1e+B/EenSBbmyVlzjfG2Qa9y346cUb1fKSrvRhgg969nA8ZYqEkq6TRz1crpSj7uh4BJoOqwsA1oRnoc1E2k6kCQbN/wr0/XbL7Nq0ltA5jiCh1xzkGqECxxzl1LOqkKSw71+k4bH+3pqrDZnz1Sh7OTizzuHT764vRZW9pLJckZ8sLzitD/hDvE3/QIkH1YV6b4Zumh8QM6qn+r44967bc875x8x9KipmEoO1ifZHz+vgvxSemjvz/ALQqf/hAvFmOdJx9ZBXvk9rNAB5w2k8ipDcPMgVznArneZztsCpK58//APCAeKsf8gxf+/gpY/A/iZW/e6TIQP7rivfWjdVDEEA9DUhuCbfyto+vep/tOfYfsV3PnuXwb4kD/Jo8oT3cUp8HeJtv/IIkP0YV74EJGcE++KsQvEkTK6biehprM6nYXsUfPg8F+Ksf8ghh9XFNPhDxOv8AzCJD9GBr31k59qlt1hEn74EjHbtT/tOd9g9ij59/4RLxMy/8gabP1FQyeG/ENsC8+jXAA67ea+g5AquRHnGeM0wRh2UOcAnnNNZnJ9BOjY+bfOVwcqeDgj0NM8wbsCt/xnZW1j4xv4bUBVZg5A9TXPFPmr16M/aQUjCSsyZxmMheuK9K0TLaBYf9cVBrzLGVIPpXo/hx8+HbI+keP1qa+x5+L+C5qBRTgMU0GnA1xHmBimsOKdQ1AWGgGnYoXgA0uaBERyRzSM3y4ozzSHAHHJp3IOW8VDfEsY6swArjZ/klZD1U4rrvFbERqw4IcGuOmO6dz6sa66HxHq4P+G2JupFQy6jYooJLXCjApKksTt17TSO1wtdFbSDPSp7nqVirRr5a7jLjPzDJP41PD53lhJQyOMFm3d/Sn2H+rRhjPWkuXcMzuFZBzgda8o6yNvLkk8sj5Fb5mzjnFK1uz24CySCVAGDHnv0p1tJnIZPm4YnqoHufWgzG1nO+aIKSDnptHvzVICtcRzTbwfmCxb8MuP8AJqvIBbWa3CTlTKp8xJMMD7cd6tXUSyOpaQSHBTd0wG7j86yTqAh8uzV1Z4+pVMBsGrAvCI20LlX2oYwxbOM/Sla5DLD5Cs4mG8Oo5OKzbgOXjlnaVUiBBI539+farInivmVQ7GMxkKyHaEx3zTEI8u1mMuGi3ZcSoAE47dyaGjgUSTx+ZJG/ysf7x7c0Xhhuo4YLoEQ/xOOoYHAwfQ0IsP2iBfOaAW8jbI05Vx6GgW4tgZhpMgjtgsiOQVcgkY9K6nwEWXQyQrIxmYkdCOa57a+GZbh2DgsQcbV7iuo+HgN9pIyQhMjZJrhxXwlI6u3h8+YKWwT3NPuIfJmKbg23uKZIvlSFQc44yO9PhUSzqjttBPJPavIZaEiQSSKpbBY4JNPuYhDMUVw49RSXESwXBRXDqOhHemxhWkAY7VJ60kxsaPmcAnqcZPap7q3W3cKsgkyM5HamXUccUuIpN4xnNRqQSATxnrVCEFWJ4FiVCsgYt1HpTLqJIWQRyiQHrgdKiNIoewz1NSS2/l2qyhwd3YHpRPEkUSFJQ5bqB2qsST3qJNgc/wCOCx8JzISdm9MgH3rhEeybyY4N6ZX5nx9z616F44tSvg+WUSKCXTHt8w6157aCaFo03KwkZiyqvykV6uBbsSQ322KzQFFmUPkPnGfwroPhN83hKeQnJe7kP61zOrwJHbrjdg5Yc/y9q6L4RZHgyTPQ3UhH514vFL/2Fndl38U7uimbqXNfj59New6ikpM0DArSbfmFLml9KqLaYjj/ABfII9VErZykQAwayEZhboHb5pPnKCtPxkjf2wrbAyrGpyT0rOWKbzC0iqUC5G08Cv2rh9v+z6Z8rjre1Zd0DdJ4oto1HzPEQfzr0mS3NuwUkZ9jXluh3C/8JNaSR5BYNj2r04FpG+Y8munFfEciJZHaVfnYtj1ND20sSK7LhT0p81qYAu51O4Z+WmtK7KFLEgdAa4NTTqDTSPGELcL0FN8qQruCnb60/wCzv5Pm/wANCXDrGUDfKe1F2G4sc7JA0W0EMepqMKT90ZNSRxO6kquQOuKWG4aAtsxz6ii7YBBKsbHzE3cd6jb5nJUfgKNplckDP0p8EnkzbiucdjQCRCBtkBYZGeRReBHfMS7R6VLM/myl8AZ7CopOF+YYFNCZ4L43BHje+yem3FYW3Irp/iTGIfHk5QYSSJWH61y+/NfV4HWgjiq/EGK7/wALybvDkAP8JYfrXAjkV2vhBi3h8f7MrD9a1rr3TzsX/DOjU5pw4pqkBfenjBHNcB5I5cAHjNIaWkIzUjDPpSUAYoyaoRC2aYdwUmpCM0h4XmhbiOO8VS/LHv6bxmuSlAEz7ehPFdT4xKgRg9GauTZssTXbR3PWwa/dBUljCJdd05HGVabJH0qIVc0b5/FGmKOdrMf0rTEfAd9NanrNuRiPA2bUxsxxUd10bIYADqoyafAskaZkcvx94jApPNdlZi6AqSrrnkZHFeYdaK8eF4ErOrDldnDH39KQbGu0BMZKn54XGSy9sUye5CQ7YklYnGDEmf1pyWwa4il+QNsMbE9U5yPxqkh3IbjfLMVuI4mhml2xlWOU4qtcRTW7TJborhFWP58BmAHr1pyXMMkCQF44GlldEckhmIzzVG7iDXEPn3aOgG2QiTawIHHA6k1ZJG90GsBEgYwySjdtOdh7j8amtVV47pjDviDgKFO1cYpsjFbdU2IGU7iFG0tjv79amiRiFWfdEQQyR9nJ9SKroBND5ojeW22dQUjddymrNwqxLtW13SMNzYTHzGqFuyQww2F35jFnKbBkMpzkcjtWskyxlYpQzEt8pbJz7VJRKIPJsvmwhQkOAu7dWn4GU/2C2Bj9+3HTvWPBGYU2TzsCWyN38We1dH8PIo59BbzZBGPOckn6muLF/CCOntIkmkCySbBjrSyqiSlUIYDoag6SEKeB0NTW4ia4VZ2KIereleQWLCiPMokbahPJ9KdOsazMIm3IOhNMmEaTMIX3pnhvWiII8oErbUPUimG4iBTIoc4Unk+lOuUhSUi3k3rSXKxLMVgYug6Eio1QbxuOATyaLhqMBG7k4q3cxQRbTDL5mRzUd1FbpIBbyGQY5yKhAzgdqNxXJOoqe4ghjiRo5d5YcjHSi5it40TyJS5I5B7VXbipsVc53xwR/wAIlcq24ruTgdfvVxkKyr5Kg+S+3Dh0zn6V33jaJYfBsk6yAtuQkenzV5+soMcr3FwzpsIO1uR9BXqYLYlq7K2rjybVsq0gCnYCe9bnwnk3eCFz189/51yeq3krwyyIzGMoPLx29c11PwnKjwPEFILCV9wB6HNeJxR/uVjvy/SqdvTqQAmlr8iZ9LZsUGkooxUjsFHcUUmauO4mcr4sVJNZRH7wgnP1rH+yTJdB1Uy2zDauDz9a3vE6eZqcDKuW8vB4rIlgUzRsu+NlG0KCcHNftOQf8i+mfK47Wsx9hEqeJ9MThdzMDn6V6bLCIWAV93HUV5WqsfEmluzEP5rJgV6bE3ygV04te8ca3JQSepqZ7Zlt/OyMZxikmjSONWR9xPb0qLJIOTx6ZrhZpoOLt5e3Jx6ULbu0ZkA+Vepp6W++2MoYcHp3qMOyqVDEA9qQrkkU7xqQhxnrTFjeQkRqSfQU+3gedmEeMgZ5qNZnhbKEg0XGPime3lyuARTWZpZSf4mOeKau6WTjljTyJIJRnhh2phcRgyNhgQfekmlLgAinSStMwZzzTJY3RcspAPSpY7o8Z+KUO3xbBIP47Y/oa4kda9E+MEinU9JkRcEo6MfXpXngxzmvp8ud6KOKt8QobB5rtPBzj+w3Qc7ZTn8ea4quv8DODZ3kR7Sg/pXZW+E87E60mdUhzUi01VAFOHB9q4GeQh5bjikHvQOtKcVJQwn5qdmkNLTERduKY/KkZp4GDUT8k0Es4nxljdCv+0f6VyxFdJ4tcNPGO4zXN13YdaHsYXSmFXNA/wCRv07PTLZ/KqdT6TMIfEUEuMlEYjPY1dde6dtPc9LxHPcNE08khSUHy85VD2zU8VzDN9sSSNYZAwBYn72O+TWW1xLG0dxtkZriNSyQ4xu9RThLM0bM1ugZ5QC3Uke9cHKdRoRT+XepaxzQmEjcAGwV4/Ws8wC2jkZ5Z5A0xO5EJJJ/TFNuLgC4JeyZZsBVVkGMeuRVlbWWOTy1PlOAWIXjcM+nekGxXY7JIFAWQqSYyeoOCOlQ21qE8u4mKwzMSJEJ5JzgcHtUs1oqwtPmSKJicbxypPrjoKglt2LeWFZ5FkBeYtxzxj9apXGSCGWGCG1OVDGR2Zj8x5HAqZbbKx+Y8qsrghYwCCOvNKJ5BGj+V5xjUhSgySopTIl1bR3fntaoWKMcgMnsfWqYIlhEcl1NLIvGDuD/AHgc9fyqa6uLt7YS2dwhATzEiK53gelR2sdut9LI5dps7PmPQAUt1DFBcLIJZYgrBVWNdygkY/AVA9x6XKC6WOW2khRvm85m+UN7V0PglQNAX/rq5/U1zkAZZhbyE4D5Gedwwa7DwJaQDQU+0S4AZmx68muDFv3QSsdJZx27lvtEmwAcYHWoXA8xscrng0mR0FT2ot3nC3TFUx1FeWi2NthC04FwSsfcimyrGJ2EJLJngmiRUWRhEcrninW4iE4NwTs74pkobHsMyiQkJnkinXSxLcH7OxaPHGabP5Ymbyc7M8ZpIyvmKZPu55pWKGDBkXd0zzU90kCSKLZ9wI5pLnyDN/o2dmO9RjaJBu4XPNCEAI6Gp7uKBI0aGbeSOR6Uy6W3Dj7KSRjnPrVfA70xMwfGn/Io3g64AP6157ZyRXErI5MbMmUwOD7Zr0rx7FBD4HupIpNzFRuHpzXmcK+dYhVVTgH5ifu49K9PBdRlPUonxGjZRDwUbjHvWJ4O8YTeENQuLdl86zkkJK56e4roXAmW3jeTc0o+Z2ByBWLrHhy0nzJp5ZGXIIcfePtTzDCLFUnCSujahV9nO57HovifStct0e0u4w7DmJmAYVsFRjg5r5hkttQ0qRWeOWA4yrAdPyq7beNtfsvlh1SZVHGGGf51+c4nhialenL7z26eOVtT6Q2mm5GetfP4+JXiUcrqQ/Fasr8VfEZjwbqDPqVzXC+GsV3Rp9die8EevH41ia34u0bw/bu15do8ijiKNssa8Xm8c+I9TYq13NKD/DEhwKt6V4SvdQuIrzWgBb7txQnLN7Gu7B8MTlL969PIieNiloegWuqTavpg1J1IackogIyi9qZaJOY99zcMxB+VWxTraBU+ZYFYR/JCu7GFpriXzGeWFPKDYBDZI9sV+lYXDQw9GNKOyPAqVHOTkQTySHWtNnZ+EuAOnY8V6rLHCiIYW3DHNeX3gjUWwK7CtwhwB716PC37pfTHaubFrUzuSj3qyIIvsvmGX5/7lJm3+z5GfM96gPPevP3KEyRwDU8Fv5ytl1XaM8nrSwJHJG5dtpUce9Qk4zg0WEALJnaSPpRFG0sgRepqS3i86QIW257mmyR+TKQGzg8EUWAa4e3mIzgr6UhdpXyxyT3pcebIBnk+tSXFq1sV3EHPdTSGtRJreWEAuu3PSmyzSSwqjnO3pSPI7qA7E46Zp5t3Fv538FFh2PKvi/Fsi0uYqdodlz7kV5n1r1n4vgz+H7HdgLHcgj8jXlBXaPavo8s/hHLW3E/hrqPA7/vL5fZTXL103gUn+0rsHp5Q/nXoVfhPPrr920duPuDHWlpi8U7Gea86TPGH0AUmaFNIBwFLSbsUA0ARGoXOAalNQzcIT7VXUk4DxOc34HsawsVta+4fU/oKx2+9Xdhz2MP/AA0NxUmmD/ieIxTeFQkpj7wqMjirGheb/bn7td2Fww9R6VVf4TupnW2rRxRRxqQuzJi3gnAPY4q+buWeV1iwI1wZEYD58jHGKpbI41G61aJu4dj8o9qvxWQtrsOm55JMCNscEHt6Vx9DoQu6SB5fMlEqKgUL1bj1xV6Jzcyb12FlQBctgjuR71SvLZ7OVBKxLTH5libaR6ZxUUAYReTeKYmjRgrq2WOe/NSUWJJ4Z1mQWssQlAE5xxn/AD3pGuFkWR4JQ0rkhY3IAGPf6VXt7ySOFYbtXwH2B92GIHrTVs2S83KiyR7su5OSfoO1UmgJ3ljt4S0bRpIV2KoJ+bPaqkU4hRwI0kYjMglyRuHT8quKIjc4dHVlIKM4zz68VTCOLocnfEX3MgwH5zyaTYle5oARS/NJP9/EhMbY5x0q0yxRMSJHzKvAPIz2OfWstEhu7aBdp85HJG84HvVm3uYBeKvnvHIhIZWH3vz6Vmy9CwY55Bvl3L5fCvnrxXVeExjw5aEEsSpySevJrmvPaG1fzk2RDdtHXOfeul8HhR4WtMn5gDgfia4MTsB01mLV1f7U7KR93b3qEnDHHSmjHerNqbcM32oMRj5cetecMS0e38w/as7cdqY+0s20/LnjNR4Ac7fu54qzaG3WbNypZMdBQBHbmPzh5+SnfFLN5QmPkZ8vtmmOUMzeXwmflBp8PlCYGYEp3ApANQp5o3g7c84qW7NuZP8ARt2z/apk5iMxNuCE7A0xVXzBv+7nmkK40Y3AVZvEtl2fZiTkfNk0XQtvMH2QMFx3qLAI5qtx2Od8bjHg2+I5G0ZH4151GB9lURRuitgFy3WvU/HcNsPBd35DlsqNw9Oa82tY38uNVwEK/dY9K9TBbMhtpjfJ863S2RwphHBYfeHtVZYgkwSUkKBnIWrd7CyNHuYlWXKugyUPpjuKiicLGXb946jYD/e9+a9NE3GrJBNp7tIzNLHJt2KBhfQmo306znDKjJcMyeaw8vpirUNut0dzKsQQ5dful8+9KsLeSsKMkD4wXC5OM/rUOEW9i+ZlC303SLi3aea0i8pyBHGIvmBI9frTrPR9MWOYppimWGTYoZMZzWzFMunxm0FtuMCAKxx82f4h3qJozOkVwSIpZIy7OOrHsKz9lC+xXPKxEhSyj2QokcI4Oxfu+oqzG++3McDq0KnIkz39MUqW0rW+XcbtvmMvfnrVm3jSJf3m0jZtBAwTVKMVsLml1IfNNuY3jdXY8YHIpouXgZjKwdXfOxByM1I4jhGXYqAchj0xUZjkeETLEPn5LAY4piG3M2zLFyGLrtz0616shtvsEPlj94VG4/hXj+pZeNFUYIkTJI6civVoCPIjx/dFeZjFqUmWDU0K2xhfzWIf+HFEUkAt2EiEydjnpUHymvPATp9Kmtkjml2yvsGOtLbi3Ln7Ru244xUJCrIdnTtTAkkHlysqtkA8GmgbmAz1NIpUsN1OnCK+Im3DHWp1GPuIRA4CuGyM5FRFiRyc/Wos+hqxJEqwI4kBJ6r3FLUL9hzW5FsJtwwe3eoxI+zZu+X0poJxjJxUkcDSxs6kfL1FPcLnn/xWtmm8I+YP+WU6H9cV5Ec5wa9m+Joz4Hugezoc+nzCvGRyoNfQZX8LRzVthCK3/BTbdanGesP9awSM1s+EDjxFj+9Ewr1anwnn1buDPQI33CpQarxggc1ICa8me54sWx2eaUHNJxSihMsXFJmlB9aXFMRCTVa6OIXI9KsVWvceQfSrRmzzjWGL6pJ7Cs+r2pHOpSkVTxzXdS+E92iv3aEzitbwVo+qaprE0+niJIYxh3m6Z7AVlMAFNer/AAllRPDEoZcs0hAPpzXNjZ8lO52UlqVn8MeInjEcsdlMAcg+aQc9u1OHh/xSYYkSCxDxn7zSk5/CvRVhLY2qT9BVm3nNqzMADkYwa8J4uZ1WPLX8GeJp1PmPZbSeVEhB/Oprrwdrt1HHHus4o06BXOfzrvp7je5VRk55qMoCMmvJxmfwwr5ZbnbRwU6yucCnhLXYYBHObOUjJ3+Zgk1HH4U11QwSWxTcMElyW/OvQ1IVeKeGB6ivGfFz/kO5ZXp8RwTeF9fCqY57J3UYDOxyRULeEPEkzD99YQx9SFbOT/OvQiin+EUgjUcjg1UeLk3rEmWVvpI8/wD+EG18q264tORwylhimL4M8Sxzb/NsZgGyA9emNeyNaC3faVU8HHNIlq7wmQKdo6nFfQ4bOIYqN6bPOrYaVF2Zwy+HdfhtjJFbWuUXkRuTn6Zq1oXiKxt9FRJVmWSIlWVk5zmu5huWhtXjXG0g9RXk0UYu3kaROsjBBnGRk813xbruzMNjs7fxjpPlSfaDNG44UFOtRp4ysZI9w8wDtlK5GdfmTaQFU5bHUfnUdvDHIscrg/MSTH3HPGRWzwem5Kfc7vT/ABdps0rrMs2AOCE70xvFUCk5gmAz12Vytsv75XeBogVIVepz6+1WoJE3tC2N4GSM5NL6nZbjcjqNP8S6dLcH7SJVXHHyGobvxXZQznaJNmeDsrmgZfMaRApVRjZjHPrmonVhH5ijfIG5UjGfpU/U13Fc6iHxhpi3KC4aSONv4inAp1x4v0zzmFvI0i56ha4zUNjlQFC7cs/fjHFRy+Shw7lQoG7YOelP6mu4k+52ieMtPLhZDIi55YpwKsXHi7R/OCW8zSIBksFyPzrz+3LNvUoIlXG5e7Z6Eg1fhhWJSNpDHnaFwKPqdh3sb3ivxJpT+EbkPcbN+AOO+a4rzI22z7J5Idgy0KEgGte6toSsazRq0bzJkHkE59K9E0+ySaPy1dI1QYAPSnG+HYNpo8fl1jzJDDAXEcYHlF4zlvbgUtzqVtcSqREyEp85CkANXr7RBSVGOD1FPt7dJpgkjKgP8RFV9d8hNHkLX1lJChzKoJAdix+bHtTo9ZsmhmaQ7QzfIik78V69cW0UcxRNrgdwKYtvDLKodI1BOCSopfXbhY8jGr2L6h5zXSKmwL8yZbAq9HrunK0pM0YjUDYxPXjnivUbvTbKOQBUhmGOuwVXOn2hPNpB9fLFP65crZHmsmr2isJrW5RnIwUJGGouNe0+McupmBGUzx+deoXGh6ZDGjpBbyMwyR5Q4qpJpenSDa1jbke8YprFq5LR5Zea7ZzybvtMKnOGjDghamGo2koPm6nticjaqMMAd69Pbwzon2USra2vmd08laqN4e0jIJ022P8A2yFP63EaskeeXt5b3mTDNE8CyoCyN6EV65aXNsdJRQP3uBg1wHxB8N6f/wAIxHcQQxWhjnUFoxt4J74rEhN06wiC8mmTO15EPC+1ZTvX+Eo9Y85dvNTWc1mN32kjpxXkU1/PHHJEjXDybtq4Jq67XEZCvLKwCg53kmsvqtQND0szRnJ3cUJLD5qh3AU9TmvLzJNgvDLO6htud2M0+ys9S1G4K2xmkVepbIX86ipRcFeWw4xctEelXc9rDLtjmUg9Mt1qNZlLAFxj61ysXguORllu7nZMOojYnH4mrTeEdPkGJZ7l8f8ATQivFqZlhKTtKaO5YOtJbHT3a20CIyTKxbqM9Kr/AGqBc7plH/Aq53/hDNKP3nuf+/ppreB9LZSEnuVz6yGslnGCbtzk/Ua3Y6yNoWtjN56bR71Gl3D/AATKc+9cVceC5rdP9CuZJIv7hlIrLexa2+WQTRP/AHZGNenQqUsQr0pJmFShUh8SOi+IkDXHgm/WMjIUNnPoa8RjB8sfSux8ZQ3j6KsiX8iQqw3w54kGe9ceG9OlfR5dFxTucVV6CgnFavhUkeJoP9pWH6VlZq/4fl8vxPZE93xXpT+FnFU+BnpS8/nTsUxQdzEetPBzXmy3PCuLijpQT7UhOe1TYYoNO5pq0uaYkQnPpVK/fFuR3q4z9qz9Q/1Jq0TY89vWzfz/AFqrmrFwd1xMe+81XPWu6l8J71P4EIT8pr1L4URs3homMFv375Iryx+EJPTFeyfCeZrPwXHGFU+e7MTjtmuDMv4R10dWd3b3UlujBMYb1FUNQnaO1dh1AJq0I5HYiNS2OTisTxBdvbafcMnURN/Kvm27HZFak+nSedp0MzDmRdxqxzUOlpt0a0B6+UpNWDX5Xj6jniJN9z6yjFRgkhpoFLiiuE3HZoJ4poNLn1qRiirNveyrbNCrDYTg1WUZNGk28txZzSIAVSVwfzNfU8ON/WWntY8vMV+6uWfLke3lZASFQk47cV5Tpsq+SyzNh2dinHAGa9W+1S21rOIsfNGQc/SvH7O2juB5Mp2eYS/mB+hB7V+mYP4j5w2Jn32gMaqyg4JZRzSbVSKOVZQp2/vCveqnnYZisgn2gLjG3Bx6d6nt3VZAYIUYEYkUnoa9YguAbZ8yLKSVIyBnNIpRVM1tD5zMQCVODj60Nd+VPbxsj7yhyoORj1prB4AHslRIU3HAz9akY9oy+VcsikkgVFMkjRhFLKoXAwcGnuWnhjLMAWG44PSmFQFZjMJAoy2BzTApzzwxeWsweOJvlLnnB9/Wq8sojnSOOVIthBkfy8hh/wDXq0s7TTAW07bWPVkz+naqryb4pIGZt2M5XGHHqD/SrsTqPmut1zLG0EgecBFniGQccgn0rQtJN0qJvG5MA5z83HNU4Xuy2HbzIWj58rqf/r1L5zz2MgVTaSRuNu9OaGhmhLvuZbWPb832lQMjHGa7iFcMc1wdpO13c20qzHbHIuF29SD1NejWFsLpiGkWPAyS3evJxekrBukS2dss82x32DHU1HLGI5WVW3AHGfWhlCsyg5wcZp8EayzLG7BFPVj2rhKGxRrJMqs+0E4z6U+6hSCTYkgkHqKLiFIZikb71Heo1UO4BbaCetILCKobGTgetWLmGGFV8mYSZ647UXVvHDt8qXzAR1quAAaYBgVZe2tltBKsu5z/AA0s1vCturxy5c9V9KqgDvRcYuMjip4ba3ktWkkm2uOietOWCE2Zk8zEg/hqsBjNJsNzkfiNGz+EmVeQJ4yQT1+YVw+lyJDFI7SHyCSNidVavQfH0RPg67kUjKMjAf8AAhXEJp8kknm21oNjIrZB6nvxXpYPZgSQSlL4b5GdFjOG9fb61dSJn3uXwH+XnsKakSOscrnyzCxYpt6jFOmCRab9ot28xXztGe5rv2ENtyLrU4bABAsr7SPQDriu/iijt4hHAoRB2FeM6JdTD4oaZGZGKMGJUnvivaW461+c8W4yrCUaUXZHuZbTi4uTG9KKSkNfnrbe57fQdxRmmUuaELUfnjg1WvrGG9tyJUBkUZVsc1YzThjNdmExVTD1oygzOcIzjZnlPjED+w5sqFZOgz71wq52j6V3XjLc2l6ij8MoJX864SN9yA+1fvmXT9pSUu6R8XiYKM2iVelWdIJHiGxIH/LZf51UBqayYpqlo6nBEy/zr0ZfCcEleLR6qG+dvrS55pgOSc+tPrzZbng2F3UUmKXNSAueKMikFFAiPFZupnFux7itIDnmszWVItSwHHNUtwW553KuZZG9XNRFgDUzn5XP+0arNXfT+E9+PwISY/uG+le0/DW1kfwjYtGMgRkn8zXicx/ct9K9w+HM0sPg+xWN9qvDz78muDMv4Z00dzr0nkgJKHBIwa5fxVufT58ckrz+ddPDbyXJIj5I5Ncn4vZ4rNlBwS6qcehNfNS2Z2x+I37ZfLtLdPSJf5U9qGwI48dkX+VNJ4r8lxDvVl6s+up/Ahc8UgppNJmsDQf3pcUynA80DJE9qh0qZ49NGxiBI7swHf5jUynuPSm6DZtdaTEysAFUnB785r6fhxfv5PyPLzJ/ukTmB7i0nEfURn+VePaecLEJLWMPHuXfjpya9euJXt7WZon2ny2Bx9K8fhZo7VdizKJCS8j89+1fpmD3PnC55v8AxMP3gCMEBPbjsQKswyO1vLLbWybXkG5d23LeuagSEyRqVJuGC4LsnI9s0TWk0DIBK0isc4H3UNeuQa0HmMz+XGqHgOucn86Yjy20cyMvmKAWQLxnmmwS4uy1szlcAOCvG70z1qOZ5Io5GkkgC9IoQMHd6c0AOa5tZEHlSRJIQQQTkg+lRl7cS/Zm2tKwG5R2P1qMmG4CG3WPcCBIAenNQqqSvIsFxi4kZgQeMj8aARdnLxSBoVUPGM5xkfSq6zqLXDxxF1bbtjHyhjUKnyWXeGfHGTwC31qbZMJ/Mit0EoXc78cntx3NMBVEbBmWUQttwFX+EjvU1vLAlv58m+SMkBiznlu5pht2e43w7AzcMSOCcegp8CAYVyUOcHDfIT6AU2xWLIYC+tRBgRyyrgL9a9Aj4jA9a863bb62YFhiUbge/NelWFuLghWlVAB1NeTjNxq9iaygW4nCPIEGOpptzEIZWVXDAHqKY6+VKyq27Bxkd6kt1SaYJK20H+L0rgKGQIJJFVm2gnr6VLdQrBN5auHGOoptxClvOURxIOxFMRQzANwCetACKB0JwM1ZuraKBUMUofcOfakuYIYWAhl8wEZ+lVyMn2otcBTwatNbRfZBKswL91pk9vCkKtHNvY9QO1QgcUD3AcVYihieB3aXa46Ke9NEMX2UyeaN/wDcqA1LGjmvHJc+F7jYcHcn/oQrm9PWM6eBFKX2sQSDyDXX+LbP7T4Wu/m27QrfkwrmoUTyVAXacZITvXp4Ml7kL7EhDTO75Pzsq5qr5MclvmxDRp5hYgjr+HarUtxgkY24OCMc1BJ5hw8RJQqdyjvXcBxVkxtPidpDkY3TEEexzXushy3FeCagi2fi3SZFPzLcqOucDPrXvRO7B9RX5pxfBe1hI9/LH7jEzQaaeKbur4Ox64+im5zSikA4U76U2nr1Gaaeozg/F0Cvp+pKAN3lsentXlEI/crj0Fex+J4iz6go/iibA/CvHLbP2dPpX71kU+fCwfkj4zHRtVkSAYqe2IF1A3dZFP61GBmhAfMXBx8wx+dfQyWh5h6ruyemKlBGOlVo/wDVxsT1UGrUfHNeZLc8B7sQ0AZpxpAMVAhM+1OpaKBEBbA5rM1qUiwkz2HFaZ296ytcZP7Pl/3T/KqW447nnrHMZHvUJ4FSYPl1C1ehT+E96K0RFLjy2zyMdK9+8BWDzeEbFoQAI7cEgn8a+frniBiK+g/CnmW+g2caMVAt0yAevFeZmb9xHVRVjejZ48mNyueDiuQ8YuUtjI+dqSK7n2B5rtLS0a6YqHC4Gea53xRpL3ljcWzHAYFQw7V880mdkVZ3NGGeO6s4p4GDxugKkGg14ro3ivWvAV8+l6kpuLRW+VW4yPVTXoumfEPw3qUYJvRbOeqTDBBr88x+U4ijVbUbp9j6ejXhKKOkoxUCalp8oDRXkLKe+8Uv2+0B/wCPuD/v6K8aVGonsdCkmWAKCKhF9aDk3cAH/XUVkar448PaUp86/jlYfwQ/Of0qqeFrVJcsYsJVIpbm7NItvayzSnaiIWJ9OKbpDlNJtShIDQqeO+RXlOpeM9U8b30WkaFA0MEhAcHqwz1J7CvZdN07fbrCrqvkoF574FfbZLltTC3nU6njZhVUopIhuIGuLC42dViY89+K8r0ubzLGSNiW2nC7WAz6jNeo6hI1tp9y8bYZY25/CvLLS4mmhhWOJQm8P5ijBH4V9rg9zxWW7W1Au3kiZ4Y2XBBPT3pk15DIht7kSSoVwXThs565q3IAk7PtI5wBnr705ZYo2ZzFJICo3kjqc9hXrp3Jew6Bo4lSGHLogBy55bj1qJj5UITYCSxYGU5y3WqomAkdTBOXZz8i4Hy9eOafI+XWWeLId+BJwIsDNMljokWKS3cNtDbjJkZwT0qKS0gGRNdRu+/KbOuO+RVh3tSpeF5GRfmKqflOe+aVJrWO4SNlVWbJXIHI+tK41sUGhmaRoOXt5QQJN2cfT3qZlEcZBlYSxpnaWHQetSPbWk8ipGBCoYuxVsbu1SiEAloI0xjYdx3Ej1BptghYUFujXTcuBlVz1qRZ3kVn+yPC2d3ODz61FcTSxnyrWMySHuy08TCOaOS7lkiDLtII+UGk9REqxbprcA5ZplGfxr0CHKqB3FeftNFDc2whlZn85SPl46969I0+1+1ttEip7tXl4zdFLYktIBczeWX2AjqabPD5MrIHD7T1FNePypmQHdtOMjvToYfOmEZO0Hua4B7DY4xJIqs20E9fSpbmFLebYkgkGM5FNuYBbzmMOHHqKjRQzhcgZPU9qkfoKF3MOcZqe6tY7cIY5vMDdfakuYFgcBJQ4I7dqhP51XQQq9atNBCLYOJcuf4abNbxR2iSJMGduq+lVx60LcoRhg1ZhtYpYGd5grAcKacLWN7My+cu4fw1T70mBj+Ksnw9dKDwQP51zMQZYwFweOtdfr9o1x4bvSjBSibufbmuORitsqrLsL/dbGa9DBiewyedi37u3ZyDgtkcfhVYlpnkDoYpAPk9W/CpLlmtrUvHeKrbgGkaP3pGm3Roy7S+cKWIG/3FeiI4DxSEiktJ4+GSdSW245zXu8DF7WFvWNT+leFeL4ZZbfLQyRBJMjd616j4H8WWmv6RDA8qx30CBJImOCxA6j2r4HiyhKcIzitj28umrNHSsaZ3p8iHPAzTQDX5w1Y9sUUuaQClKmkwFB5qRTzTFH50ryJboZLh1jRRksxxSUW3ZDOT8TGZdYkjVco8BOffpXjlsp8jnqGZf1r1/VrhNQ1A3iM6x7SqjsR615Iq7JJlU7lWZuR9a/cuH4yhhKalvY+Px+tWTJRHtXJOc1Gx+U44qQ9ODTWTEbMxwMV9RJ6HlHqNkN9jA3rGv8qsgkcGqmlNv0Wzb1jFWya82e54M9JMOTRg0gNLms7EABUlRk0ZoAg4zzWR4h2rp8nGOK1sZrF8Tt/xLn+lNbjh8RwzY8uoGGelWZRhB9Kgr0obHvR2RXuF/ckepxX0Z4asDLpaYYKIoRnP0r52m6L/ALw/nX0VpZZbdVUkDaAcHrXlZm9EjqorU0UZl6Eg+1PitVvZRG7AA9SaktLUXTlWkEeBnJ71C6+XKVU5x3FeDY6vIwte8JadqPmQXkayp69xXnupfBxmkLaTe7cniOfkD8RXr0UHnThWYjJ60Xtp9muTGHDgdxUPU1jOUNjwm8+E/iuwdRHHDOrDIMc+P51TPw18VZ5s1H/bwK98CscAk4+tTXVp5EaP5gct2HalyI2+stdDweL4UeK2jEjQRKv+1OK29J+DsxkV9Z1BUTvHAMk/jXqm0nuQPrVuOyQ2LTCUBgfumjkHLEu2iKHhzwlpWjWMg0xI4iPvM3Lt+NWwcMcGo1HHFWrO0W5LAyCPaM5PerSsc06jnuUdUjM2j3aI2G8lse/FeewWpOlxJGFDxqDn1rvNedrbQr54z8ywtg/hXDWsLpaRFpBtK8gCvRwm5hLcnEYMYdhww4J6ZpAsotZPsrIJOcb+lO8spEArhl7LinSKm3DAsO6g8ivTW4W0K7OjNC14qqyqMleOfbvVcpMiqqR+bA5YOeu0dasuBKXSIB9qHC9DTEfLSR7HVmiwPQ+v41YiKPyrmz8iAbYlTZuxirElvZyW6wTqoeMAqc85qlDH9jTdJbzO8pKgx9F9wKswXBKBZGEqdPM2gY9j70ybkgtYXh2bANzbtx9cU8uxj8oKqOvCqO47UxiCkYZS5X5QuMjPrVpVIRI0wx3dzjbUORSRBEWikWJE3syFiSf4h6VG6s7eaFfcvzHcvK+2KuKkf2gkOSQfyqS6UmPcOR3ouSZwW4ubiBgox9oQKcjOPpXo0WVGB681wUUUENzayIuHM6k8969DsrZ7uQiPHHJya83GbpjRLaQG5nEYYKT3NNuI/JnZCwbaeopGiMUhQ/eU9jSxxebKqFtuT1NeeWNRfMkVC2Nxxmpbm2NtKE3BuM5FF1bm2m2Fw3HUVBySOaBDupAJ71ZubUQRJIsgYP0xTbm1+z7Dv3Bxn6VXOcdSQPWgFoLVs2yLYiYSgsf4aa9mEs1uPOVgeq96rg/KaBiZ544q1bWiTW7yNIAV6CiO1V7MymRc/wB3vVYAjoTigoz9bkKaPdgNgeW1cVAxeGMdAnIzXca1aNc6DfbOqwknNcHA4eyiCMUZl4JGT+Vd+D3ZDHzpGNrxgMM7SCMgVXWSOS42vEPMA+UlflAqSGdLmZo2bHlybXYdKpG7i+0PcRMRltvz98dwK9OxNw1bTk1exnilG0sOCPUdK82u7C/0O8Mg3psPEqGvUheQ7lIkUeY3y+9NNsbuaRpYEMZGNn97FcuIw0ay1OijWcNjkNI+KOt6dtWZ1vIx1V+p/GuntvjHZNj7Xp0yHuV5rOvfCGmXcnmJE0JI58sYKmqB8DxcFb2TygPmJUZzXzGI4eoVHdw+7Q9OGOaW51q/F7QcfNb3Q+iUrfGHQgMJaXbn/crkT4FtmIMV/IPUMgNTL4EiBBE0km08ggAGuT/VfD/yv7y1j2+po6h8ZZS23TNLwOzTNz+QqhbSeIvGd4k2t3Bh09Gy8SHbn8KuWWjWtrHJ9ms081T8xdc4/E1uxIEgQ7AmR2FerhMiw1CSkoo562Nk1ZMQGF1Mds5ZVGME8ivL0+W6vEPO24YD869Rnk2QloiiOFOOPvV5hOrR6peBgoJl3cdOa+mw0VF2R5VV8yuxR1p5YqA20Hac4NMUk08rlCPWvSlscfU9G0SYTaRbSDADIOB2q9n8qw/Ccu7w3bD+7uH6mttB81edPc8GtpUaHHpSdDS/xcUrcnpWZkA5p2RTR1p26gZXYCud8Rkmxk9iP510Ug/Cub8U5SzYDoR1qluOn8aORm6VWNTStnrUBr0IbHvpaD4YvPvbWL+/MgP5ivozRrN5bdm3Y2Dmvm9YpJbmCOF2jkeQBWXqDmvV7a91G3t0Q6nOp2hXyfvV5mPg52sdVE9CBxyM1LBEJ5Nucd8muDF7f7eb6QAVGNYvtzbL6bCfeOa8f2E+x0HdzkQyFQeh60yNkkcKTyT1rhptS1RoRJDeMy5+bcM1QbVtSM8iHUUVV6MopexlHc0jCcvhVz0u6tjasAzbsjNQMQVGTXAJr1+B+91Nn9CVzimN4guh/wAxJj9Iz/hWbS7m6wldq/Kz017RY7JZy/DdBVUyDGAa4FNZvZVCxatksfuumKdNf6xEoMd6rAnBKgdaqMebYzlhq0fii0ei29sJ7ZpBIF29QaroxBPNedy+JNTskc3Nw+0cAgdabD4o1cOBLOoUjdwvIFa/V6nY5mrHf6rbfa9DvY9wXMDcn6VwluuLWFpD+78vp3JxVe61/WdV0dore+t1eY7MAEdTjFaKeGNXa0ijN9b71HJ2GuikvZ/EIS1eOQRsy4ZRhlPODTJobVFbEKu7HsSKuReENdnmxDc2zvtHAjI6USeFdYWbD3NqHAxja3FdXt4dxlIRlAFt38tlGQoOaqMzniRTLzliO1a0Xg7XJpBGNSt+TnHlGluPBOuW7mNr+D5hz8p5qvb0+4jKtLkJDMsjM3OVRD0A7UkDQXF68kaMCcMsZ9R3x61fh8E6pBGY7e5t8ueQc4yamn8Ea7bLHHNdWsI6kR5+an9Yp9wMmBrp9S8+FgifcZGH3hVyKDZNKYXd2LYYM2dv0q1b+GtZ/wBXJNa7egYFt38qkbwd4isbhZnktXjY8kuct9eKn28O4kitHuAICbSGJPHU1ZjjCqzOWBkOTk5Ap8+i66+PKFqD3O41Z/4R/wARR26yTQWxi9RJzVOtDuCRVW1DXttwXJlUDHauzhBjY4JU+1cNrY1nRNM/tCNElMciECM4289809fG8sn3YFWbHzRu2CDXFiHzv3Qsd7FE9w5VOW6014mRyH4YGuEk8balaSq0doodum2TBqNfHWrlz5mju47kPmuX2U+wWO/SFppQoPJPen3Vq9pMEcgnGeK4L/hYl7AwDaM4PYiQVN/wsC8nbE+mSRtjIDOCSPzo9lN9BnZHc2OtWJrJ4YUcsGD9MGuGbxzcRuo/s1myM5Djj9alHj+cgBtMnPp8y/40vZz7C6nXFSF5qyLBhZ+eXAB/hrjpvGSoq+ZburHquQSKa3jZYod8kMqpnHJo9nPsUdWOBip4LF7iJnVhha5RPF0bxs628h2jJAHNLF44t0AzHcLu/h20vZy7DNbWi8Oi32xiD5L/AMq8zt95sWKMVYqGVgdxP/1q7LVPF2my6LdeZ5iMYmwHQjPFcXo182oaQLmz06YxrgDCHkD8K7ML7jfMJ6lm9aKSwCRRyE7N5EZwobvzUNtbW0iRoqGTyl3EFt3JpWvrgO0cmn3arjIAgYgn06VAbm7jUNDpV2TuyUEBUH8q9D2kRO1ixB5QjmuWEluAfL+Rc4Priiyj3xiS3ZkG47pG4ZyPakF3dTBU/s2/jXOSfKbOf8KPtV7/AGlkaReLCiYB8oksaOeIrF9lUP57gl+hI70LLA6MoQgnqoPJqur3khLjTb+PI4BhJxUwj1CWFf8AiXzB8Y/1JU/nSc49xjJYXDEIOq5AY80xvKtkVrsyHc3BB+6fSnol/FdJG2lXnl7cGRRnBqR9O1B3Zzp8rKRgcc1HOu4IQIl5HuCudvBZTjNIyR26CNnYp1+Y9DVr7FqZQImmyRpgHcp5J96dLpeoOdy2MkpbqrEAD86OePcChfwCWGNkJdFPODivPdTUrr12nQAgj8q9Ml0jWPsZaTT/AC9vIWOQHP4V55rx/wCJ6/OC0YJTGCp963oyXMTPYogYp4NRg0ucV6L2OQ7Xwa3/ABIAh/hlf+ddEo4rmfBjA6XMvdZTXSrg1wVdzw6/8RjlODTiaaFpcbqxMA75pcZpMU3zHHAApgQnPeuW8Vk/ZufUD9a6pgc1yfi9sRoPVhTW5pRV5o5SQZao2GKkc/NTDzXoxWh7yWhY0wf8TmyI/hkzXpFhM0pLykAbSS3415xphC6vbMxwFbJ/Ku6iV0hkFmAFcjBboCa5K3xHTT2NVXdkOwAhujVTml+zlo3cDOCyhPvfjUE16+VEMsZZBtYD1rLguDcSzFn3sjbWPvXnYqr7Gk5o9XL8OsTiI031Ls11I6mNGZIs/cB6/Wo1AC00mlzXxlbEVar95n6lhsFQoK0IjuDShBTAaXNYqT7nZyR7A3WkAKnKHafakJyaWnGpKLumZVKMJxs0TefJcRsphSSbcMFsYPFRWr4uHnliBkclRGuDj8KWFA9woZsCtGC1Xe8/3EXjpnmvrssxEq1L3t0fnOe4Onh6ycNEzMkkEBiXyY1MVzGx2cZ+YcYr1O1jkuf9WhY4zgCvPRp6hwGXdvkVsnvzXoenTzWy7ojtJGM1piz5xNFqKaS1kyh2t0NRSuXkLuck9agvrvYjsevUmiL54UfP3hkV89mGOjg6XO9zrw1B1pWJkkZG3IcH1okmeVsyMWPqTTQMLSGvha2eYupK6dke9DA0YrVXEL4anvcSytmRy/pntULUCuf+1MZ/OzX6rR/lHhqlaZnUAuxA6AnNQU187eOtd+EzzE05/vHdHPVwNKS00NBrSWOBZWGFbpzQZJDGIy5K+maghnkktlV3JA7Zq19jmFuJyvyetfoFGsq1NTXU+eqQ9nNxOc8cQyxeCrm4CnbuQf8Aj1cCzRmJFlijleQDD91HvXpPi5y/g+6hly0OVJX8a86t4SCp27YFBVQR2PY16+D1uZsuMIUkCkohXBEgyQR6Cq7XE0QljRHQ4+WQtg49alMqwW26coFCdMc+1FqpvVjE53kREhl7mvTsiSLzokjQtMzM/cnnHemxfZZIvOuH3vG+0Fh2PSqzK0uXVI3C/fXd/nFG+KKOR44yRjiM807RJaNSGBoGmed4mjLDYo+8VFFtC39qCMxfuPLJDAjqT+tUo7Y+ZGpDoGO5lMn8J7VYtwIbplgDeWFZQu7JGPQ0rIC1LCbuExpGV2EuHKYDEdqlTBWNwgHHzowzUUBZ4GZZHjk6J5x+6asB2llIkZeIxkKc/jU8qGmMt4gbmaVQQXGxkz8oHqBTZ7N/tMckLKqIMHfyT9KlMcqKZHmQxAZ45bApT9nnhjktNzAjLBsg1LSGQaiCbSRt21cc88H612GkeWdJthCiqhjHCjArjrjdmZmk2RGNh5YXOeOtdp4WW2PhHTm37pvJGea4cVpHQEbEf2UWmGj/AHvZsVCB7DP0p4A7VZgW28h/Ozv/AIcV5t2UJbJaeW32hBu7cVXZQGIQ8dqdU9sluxb7QxXjjFLmGMtVh8z/AEnO3HXNRyiPzG8nO3PGaHA3EDpTrdI2mAlJCdyKVwGQpGZQJfuZ5p9zHAshEH3e1LOkYmIhOV7U1VUyLuOBnmi4ERTH0qWf7P5SCD73epL1IEKi3ct61XUAii4Ee3HevKfifpFrZ6taajaqqSXCFZf9ojoa9imS3FqpjJMn8VeQfFtz/aOlKR8u18fXiuvCSarRJmro4Rue1IDk0Zz1oX71fVHC9zq/BLEJeRjpvB/SupBwwFch4Kk/029X1VTXYLy1cFXc8fE2VRjjmlVsUhPNFYnKOwTzTcGgGl3UARuxx8tcd4uIk8lc4O7NdfnGa4nxQ+26jDcgNVLc3oL30c/IMORTCKWWTdIdvTtTc5r0o7HuFvSADrcG44AB7ZzXZSxr5QtxNcsN+8AKFXjtmuP0VZBq6NCsZZQf9Z0ru0nkSMgyxmOP7596462rOiBTvVtzH5kR8mVOQOSG+tY+kHL3o7+cM4+lb9zMsluHgZjltrqR0+lYmkMJbnUn7LKv8q8fMf8Ad5Hv5LpjIGgKM807FFfFSP1WKEzRmiipL2E70tN704VSIZNZKGvYwwyM9q3oR5bSDs5yc9qwLR2j1CJlG45wB61vqxb7y4PcelfT5O/ckfBcTq04MVg8c0O3BUyL/OuxgVnT5VJ47CuSYZ8r2kH867PT7yS1VmjAIYdxXbimfGHH+NNQmsdHungJB2bT7V0tic6XaY/54of0Fcr49V5dIvCq5JXJrptOfdolgx6m3TP/AHyK+D4l/hRfme5lb1aLBpDRmm5r4Y9wCKAKCaM0x2HClxkUi807tRcLDreFxAZD/q92Ac96trcyeR5O8lPSqscreX5WflB3YqyttL5Pm7Ts9a/UcqlfBwfkfK41fvpGT4pjdvC90Qp25Xn8a462sd0P72VmVukZ4Ars/FN3JD4Ru41GdxXj8a5V1WW0+cEHjGD0r6XBPc4WZ08K2agJbxjpvLZbb75NKHjhkZDmOQr9+Pt/SrQjka28l0aSI4UeaRu69/UVVvJEtVkNxa7ZCw2hf+Wi5FerHYRmxJHtJR2ySVbd/F/9epYpBZ4eVF8lvkD7gCW6irKJF51xb20m+RWDIpH3QRUJnR4mjaAskRwI3AbcfUVQtxElbUoZpg++5jYKSQOF9vWnXEklviRtvOScZBGB6ClSSIWjwJFti4YhRt2mmmaYW8iRlVQglGx8y+xPemxWJ2vF8pYDGoWdCwPLbuOue1LGhjSJFVk+Tbjdy341WN7HEtvbwH52Pz7RkLkcipYHW1s5zHIznPyh+dvtU2GWFt1S1ltCW+0oN52t92r1sWFpAxIzsAw+OvvWUzhbZpiUM04ERGeT9KnSNpgyh3Ro+RtwM4+tTyjLly8bERSMsTvkLn+Liug8IY/4R2155VNp/CueuJY/kd0UlcMpJGeldR4Tgj/4Ra2mWQbiWynpya4MWvdBHSRC0NkxdiJuwqv0HFIoA5q3BDDLBI7y7WXovrXlFDLaKCRHM0hUgcVAwx3z70HHapra3W4Zg0mzAzz3pDEtYo5pcStsX1psoVJGWM5Ud6jb5WIByM9afBF58yx7wme5oEEQVpFDHaCeTUl1HHFIBE+8etMuIfImKbg2O4pigs4GcUAIe2asXEECQq0L5LdRSXMCwYAcPkdqrk9KQCH7pNeYfGCNRHoswOWMrqR+FesSWqLYiUSAsf4a8n+L/Gn6W3925I/MVvh3arFlO1jzsjJ4peOKOuaQfe4r69Hnvc6DwfJjWp16boP6iu1HIBFcL4SyPES7ujQsK7hSRla4a254+LVqhJjNGKUcdaBwawOQAtGKdz+FJQMr9a4bxVzeAf7VdwxwDjrXC+KXxeAjuauG50Yf4zAPB4paOooxXpLY9lF3SI/N1EHnCKSf6V11lKkA8m7s/lkPzMw4PNcroEm3UiisFd1wuRkZzXVZ+1q0EMjsYTzIw6nuK4aujOmGxJdXEUju1sV2Rnbs6c1jaKSk2oqxGSykjP1rRmsoTG5lJQhch93Q1kaOy/bL5AcsCvPrXk5l/u7Pbyd2xkGzZB4p1NUcU4V8Sz9ZhsIaBRS0imNxSU7PNNY+lBL2HQELdRO2cKwPFdD9o8ycthRGejZ5Nc9GdkiMcdRwe9bImJtHP2dYmQ/KgYHNfS5Om4s+G4mavEuxswuog6EKJF/Guvi5Tj0rhYPtTXFu0zKwMy8quMCvQrC7Fsj/ALpH3Dqe1duLvzWPi1axyHjOZodEvSveIg1taQd3h7TmHe3T+VYnjYZ0m9IHWMnArV8MsZPCGlMeptl/lXxPEn8CPqevlnxs0KYakNRk18Ij3hCabuOaU0mKoZIrGpRUCipQakLj41J3MBwDjNX1vJvs3kb/AJPTFUYpWWN4x91iDirCBmTIQ49cV+nZN/uUD5bHfx2ZHixWPhe6P3QCpLY4HNcnby74YlJy5XqOhrsvFV48PgzUI9qlWQdfrXA2t1CNPtILe4dHYbgWUkN6gmvqMGtzgknuaDRvHAQkakvkMWPI9xUV1Ek8KGcnIUAkDJ4qI3clvI0oJuAw/dJjB465pTdF7aKUjc7AEhR3Jr00SQeS8yRTQsRGSFmEpwSP6Gqs0ckVv5hRYUByfKOWz2q5MbeWeQKshdjsZV4DY701LbYBgSKdxG0dT9RWgiuZEuJFb5XJXcxz0/CqrzSiSLzpm8tl3FCeKllSOKRYo0CO53MrDp+NVLmSOSQoFUCJ8K/XK+hpgOXy1++vIODgcexqzHerH80Ct8o+YYBBqDz2ZWAKBegGOopbYBpQiqCCe9MCa2Nw14AsamOTlwxxgeo96ndxBfubOWT5s5V+QT3IqpE0jjBjZZI3ZFdG5IPsetX48L5QJm2KBxImMmpYCCeMwoVIkDHbIGPQ9vpXYeDDnQBznbM46/7VcdEln9t8hoZUkmGGQ9PXORXZ+DrUQ+H22N8qzuoB69a4cX8BSOshtoZLMyNLhx0Wq444FNUYWrNva+dbySBwNnY14zLFtrQXIf8AeBCozz3quV2sRnpRnHIPNSW1s90zKhAwM8mkAtrb/aJ9hcL7mmXERhlKZBweopJFMcmCeVPaliRppQi8k9MmmISNd7qvTccZNSXNsbZwCwbPcU2aF4JNkhw3tUfVgM8n1oAM+tWprNYrcSCVWJ/hFRXFq0CqXIO70qPOQOaLAN6DFee/F62UeGrK6fkJdqAM+ua9L+yN9lM+4Y9K86+LUXm+C92eI7hH/p/WtKfxob2PLHADcDHtmgAY96h28ipVX1NfXxehwM2PDblPEltuHDKwH5V3akbjXn+hsF16zOf48c/Su/281yVlqeTjF7yZITnjFApuacACvPWuc4hd1GaavB5pcCkMrP8ALzXB+JGEl8Aewrupj8prz/XHzqZB/u1Ud0deGXvmWeKZnnFONIB616kdj1zR0JM3jlcfLjJ9K624eHzoCskkXl8nZ/F9a5rwwqvcTkgnkDgDiuhtpLd5/LyQBncsg7159T4jqhsS3TRPbbGd8ydCRkmuOuJZdC1b7Qo8yJxtcV22yX5BlFKnGBzkVDNo8V05d8MMY2svFctemqsHE6qFWVGanHdGZZaraXyAxSgN/dPFXSSB7Vzeo+EJIpGk0+Vo+fukcVmyR67py/vJZNvYhsivlq2Wyi9D7bC8RLltUR228GlAZugJrg/7T1s9JJMfSj7Z4hkXIabHTI4rn+oVDt/1godmd0TtPzcfWqt1qllaKTJMpI7DmuRFrr12wWQy5bpuY1atfC88rH7bc/MBu8v+9+NbUstnJ6nNV4ipqL5EXor278R3qxWKMlvEQ0j56V0yLPFBvsx500S7trnIZf8AGqFtLbab5SwweSgUCRU/iNX7CW2LsLaV4IyCzMw6d8fSvpsJhVh4WPjsbjamLqc0zS0y+ja6t1uCQ7S42nsa7yFvkH0rzu1bzdStWAGx5Pl9eO9el6bPBFauJ4t7EcHPSufGfEcBg6/J5djc7o94aMjFZnw48Qw6v4aWzyFuLNjEVJ7dq6O+tluUYYznsa8o1vw7qvh7ULi/8PK7JcHMkKHBU+q187mWC+uUXBbndhKypT1PXyCrYNJivHtL+K+o6eBBqdubhlGGEnytXVWXxY0a6A8+CaE45GM18NWybF0n8N/Q9+NeEludtwO1OyPSuU/4WNoLdDKT7LVWT4p6DCxX96WXsFzXPHLsU9FBlurBdTtePSkJSMFpGCqBkknpXmd38YlBK6fpofnhnbr+FVoW8YeO5Asoew0/PzNtKhh+PWu6hkeJnJc6siJYiCPRtE1NdXkv5bYFraCQRJJ2Y966FL5xZ/Z9o2+tZuj2ltofh+PSrNP3aclz1Y+tWFr7zC4dYekqa6HzuJmp1GzM8W7D4SvPNJEeAGIOMDPNcNp5U2tsIZf3ceACwyWFd34pn/4o3ULfZnzFAB9K8+s5IvsscaAsU+ZMDkgcEV7mCWjONluPfKjy3LYHmErtHQUrKgkyr4ZuVBH3qjBhe6aRAEYjLH+6fTFICZlh1C2lWVQSFBGM+tekhMcsqvfl4nZtnIDeuO1V5WnlgMiSyLI6lmRzgjBwCPapIxGlw8UYZpFIkMbHGeexqB7xZ712nxDGIggjI6854NUAsMMQKzbmuFRMMZGx+ntVRY7We4YxgomPm8wYGR6VJlW2fIrHaVHbd7/hUoWa5uXRYcpGAE3L973q76ElT7OEZg8m0YypAzkVctpI1fyRAro4yG6NmrLhTdIsUSyRjjcRyh7j8aZbr5d6di52novzFAaTYxwtpIFjAgMqEliytzH9afaSgFpJfNZJGyrkZUVJtaYRvB8kThtw6MT2NJbQgMsUqFYFJ3BTw31qWwI0kxxf5Zw5VGHGVzwTXTeDQ8VlcwvKzqlwSpJzwRmucMseoSTDa0bKxQJtzgdjmug8GQiPT7nY7OEm2sW65xXFi/4ZSO4jtfMtDLvHHaqqsRwCcUxJG2YDHHpUsFrJNC8i9Frx7lEsNrJcBihUBRzk1CrNGxGcEelRh3QnaxGeuDUlvDJO5CDJ70ASRxNcSBU+8fWmuj282xuGHoajJaKQ8lWU9qX55pOMsx9aYD8tJIBnJJxyadcW8lu48wYz0qF45IHw4we1JJLJKw8x2c9smgB7SM+NxJ9MmppLSSOFZGxtPvUUsEkKgyLjd0prSsU2liR6E0AIWPTdx6ZrjvibbySeAL2VRlUdSfzrsltZWi84D5PWuS+IJZvA2poGwvl5I/EU4uzTCx42CrKGHHAxS5bsajT5oYz/ALIqQDA4r66HwpnHKxYsZDHqVq3fzlH616UxwxxXmSHZJC54xKh/UV6QGGQT3FYVmeXjFsP3HtUgb5ajFLnFcx51h+c0hYg0gbkUp60gsU5vuE+1efay2dSb2Fd5cEiNvpXnuotu1KTPWrhujswq98qmlx8tNagE16Wlj2Ejf8KsyQ3IQctIME9q6iRN/wC7Y5JA+bFc54SAexncjOJcfpXRSH5iDwGHymvNqP3jeIs0K7fn3Iy/MCOoqdVG7LMRwCv+1ULKzzwx7GYEf6wHjHvUvlvAqxSMWKjG6szUWW8UfL0x1BHWs6YG5kKXVlIbYnBbIx9a0yJxGoiTdnq47VCyNDGts53LK3IHY+tDGnYy5VtEhQR2u2NuAccjmkjsmuLJ4xOokYhoiy9h2q9MHkBErEIAUXaKYbUqyzBk3xYJVRwe1FkO7IAzLADOPm5jbCYwfWkltJFSCWJGdWGN3oKcjyRM8jzPsySExnPtV2OZJG8tkIBXvwRVJJE3Zl3Vt5YQ3X7tWbr3FSpaQMqeRcCRGYq5Y4I/CrkARmwEcupJbevBHtmhLmKGNdkIiWRiPMA+6femLYlsf9H1iys3TI6rIBXfW7fuwDXntrcu+sWCSEl/PKsSOo2nke1el2KWrWkhmOJB92vLxfxFLYmspreIv9oiMmRxjtVKaKOVmLKCCeOKkOBnFWLN7eOQtcIWGOMVw6glqYE/hzSL6UNf2EE6996DJrBvvhl4durl5IbZoFJ4EchUCu1mZPOOwYUngUkTIkys43KDyKhmynJbHDR/C3QYmB/0gjuPObmp/wDhWPhgTB0tJPdTKxB/Wu0u5IZZt0C7Vx0qAUrIftZ9zJsPCWg6YQ1ppkCuP4mXd/Oumlvke1SJIVQL/dFR3VzBLGiRRbCvU1VPT3p2RLqSa3JQSRxV+K8VbMw+Xlj/ABVWFxF9g8ny/wB5n71RI/arMjO8UnHhm86/KmePrXnljdbbY3Vosh2/IEK8jPXivRvEskS+D9S8wDf5RKk9q890+9VmSKM/Oy733DA6etelgnuSy80cexnbCMwOfc1UuUX7GqGTbFEMrHEmfqTT5SrOsFwdg3lwVboT3pkG1JTHKZN7ElWQ9geQa9JCHJfMkKyhQ8rBRuCfw96hnQvsuIZJJEjcghh0/wDrUHFy4doSqZOMH+tWlj+fykG2CWLdyfmB6U7gVy0stqJ0VXV/uqB/qz6023jktma+Ae4kL7drcbO3NWiGjlVF4QKQ4A4Y9jUcrvNtTCDJKuF9Pei4BYRzy3F2yFVuEw+Y+dw9Kub99wCsflMVywzzj/8AXT7W2trVk8p3RxHggH5Wp/lebN5wQB143DvSbEQWilfMkRduf4CeM+3pU8TDa8bgrk4YY9e9TKgJJGBzyPenzENIMAbiKlspIakSQQMsQ4PJOeTWl4eOwXQU4DOGI98VmrGfKYBsVd8OgmW5yc4IBrlru8B2Ovitpmt/O2/IB1pEmZFKqzBW6gHrTI7mVLfyw52ntSIjuhZFJUdSBXkjJoYJJsmME460iTSQyHy2KnocU2K4kiBEbYz1poR5HJUFj1OKBDhvlk4yzGlDSQTYOVdf0qNHeGQMpKstLJK00m5juY0ASSyyzvlyWPQU1opISPMGM9KjLMjjIKkc81JLdSXGPMOcdKQwe4kkGHdmA6A9qUwy+UJCvyHvUJDKOVIB6EipTcy+T5W7K+lAxvnSBdgYhPTNYPjK2efwbqhVcgW7fnW5tLKW2kgd8Vl+IJJG8M6lDH0eBuPwqkB4DaHNpFzn5BVqNSfvVBYKPsURH93mrYRe5xX1VN+4mcctxkgAtzk8ggivSUctDESOqj+Vea3KE27Drx1Fd/ZSeZY2rg53Risq2x52MWiZoj9KUDjmow3FKWbbwcVznmW1H7eRTieahVzuGTSnJPWkNoo3bfuW+lefXK7r6d8ZAOM1313/AKl/pXns7n7XN6Fuaun8SO7C6SIW60fwmmk0ueOK9C9kelF6nUeBrfUbozRW1vH9mBJMrt/F6Yrq5PC2tXMn37RVA4y5/wAKr/CRFutHvxI+zypiB713ON1fO4iu4zaR1xucO/hjxGqpEslnsX0c8/pUo0HxIMAizk9zIRXd26RtMolbavrS3QSKQrGdwx1rB4lpGtjg30fxPARiG0ZT12zf/WqlPpnikt8lnAp7MJc16DuHemyvGVG0YbvzXLPNKVP4pI1VCrLZHADSvEg+d7GNj14nHX6VUl07xKbgOmmfKBgr5qjNejCTtil3g9RWX9uYdP40X9VrdjzRdK8UMxxprKueQZF/Srb2evuqhtIfcnAYyLmu/wDMwanthFLcqsj4BrppZpTqv3JJmcqFSO6PPmt9dktvLOlTb8YDBwMVWi0rXIlKy6VNIuMY3rj+dem3cUcVwVibcvrTU5rpWLkY2PMRqV5o+s2balpksULPsR3wdpx6iurk8WIsI+z27v654xUXxJttmm6cI1DtLcA49MCsSxb9yQ5G1cgg9a1jH2+rDY6G28WwuxS7jkSTGVVeeKaPFu1BIqM8RzhgOn1rneZrgvGnJ4C98VM7LaRC2hZYo2GTnnk0/qkQNk+L4IbmJ76KRYnOAw5H40+48Z2STERxyum7bkDp9a5aYug2yTLIvdcVHuthEEERXd/rAnGaylTow+KR1UsJWq/DFnXp4us1dPNWQIzAZAzVm+8XaZHcRxQB8lckFeR+FcKTGmfK3EZGA3anmZGvPPKE/Lg+tYXw/wDMdP8AZmK/kZ2I8WWiv86SqOxKVoz+JtH+xRsk/wC8bGeK4R57efmRpFOMdMgUSN512Xhb90keSVXuPWtIU6M/hkc9XB16SvOLR1//AAlNgCwWXJXrx0q9Z+J9HezkaSbMg6bQSa89YWsyMsLB2YhiR3PeiGNIlc5dBgg8cY9a3+pruch1XiTxDp1x4Yv0835hHnae9cRZ3tpdactwiyjzSVbKHCjHbHardy1qun+ZDCskUijzVb6816PpRtrWGJY7aPytgwu2mrYdi3PM11fTRHsfzC8KEDCH5vYcVabXLGJBMkmJGG0goTXpUkMEkhcW8fJ/uCm/ZLc4Jt4jz3QVX1xdgsednUbCK1gVXVjISAF/h78jtTLfVbd0leQwIIl2IDLkn1r0m7s9PuNpFhApA5Owc1WOi6bkZsID/wAAFP64uwrHDO9nJuElwqrtBJVsmp5pLZ4x9k2qWZQxJx8vc4ruxpejm3ZJNMgLkfe2Cqf9g6Yxz9hiz9KX1yPYdjlkniFxHDvDbgdrA9x2qe2mVlZycBjyM966e30LSI5gZrGMqPbpUUnhzSfMfyLRVQngbjR9aiwSOchkRN7ZJJ65NSLIC244HHHNbTeGNKLfPaZ/4G3+NPuPCWgyRr5VvKj98SNS+sxKMWKWORSS21lPT1rQ8Pv5k92EZSuQfpTk8JaXEDtWc565mNYOpaWuh6wj6beTxx3KnzY92enQionVVRWQjujKFHOcVLDqZgjMaMNrdRiuCS7v4YmRLyUxk5Ck5xTUmvdxeS4kWLHBByc1h9XmB3gnUg4qS3v/ACZdyMOneuEt9Wv4op0tpzIOOWAJqlc6nqEMzEyExqASMYIoWHmDseivcB5CWPJNEdyscgZCMjsa8/tNU1JGlcOFYEbCfmyPXFMuNbvNxd58OeAqr1NH1eYHo9xdvcyB22jA7VD5u0g5rgINZ1Ho1wA452gZqd9d1K6jUtIqMhPMa9fwpOhUA72S+aaMKxGF9BUfmfLkdK4OLXtQaTbvIx1ZhVtvFd8LQxfumx3VeaPYT7Adsl+8cBiAG09aqXAWa1mQ/wASEfpXFDxHqEuBvVf+A1ag8V3kcDwBIXL5AYrjBoVCYXPMFtXtbi6tgM+TMy9e2aaXBPekK3Nve3Q1Da1w8zMzKeDmgZD5xxX0NH+GrnLLclYqYW69K7TQ3DaHasOuzFcSEZ8hSp49a7Dw8caDB6AkA/jSq7HBi1+7NcGl3UwHI4pRzXMeWPHJyKCaRTgUmakClekCFs+leeSlWmmJPO413+pHbbEivPH5aUj+9WtLWSPQwsdWRHil64ptPDALXd0PQS1PQvhWMadekHGbg/yFelWcKTSMJJNgxXn3wotRJ4fuJWO0+exHvXcA4r5bFO9VnZDYWeZYGYbs4OBUDTMcZ71ka/f/AGaNWBx86j9a1G65r5jOsTOjSSi9z1cDSU5XfQeZD60wsTTCaTJr4iTcndnuKxKDS7vWo80hNICTcKjkPIYcEUoNDdK0p1JU5KUWKUVJWZZgbzdu44yeTV6aGODb5bhwR61kWshLyL2UjFXFbJr9HwNR1qEZyPmcRBQqNI5H4gSslzpYXLYkZtuevy1mkhrX5BGqsM7gec+lafxFt2Q6PcqS2ZWGF7fLXPQ2xit3NovyhwzeYc8+wr6DC/CznZYjnjtYhOzbpF4ZO4NV3uXnUnbtVhyrDJFV7uVLFZfMVTJIC0hzwvHBFRWMzT2MUrHllzUZhXlRpXievk+GhXxFp7IsKNvFPFRk0ua+SlNyd2fotOnGCtFD/pSgVGTShqg20Hn2puSGypwfUUm6jrTUpRd0zOcIyVmiaLzFKvCcbchxjqD3p8bSvazrAPMXcE29Gz3otJ1gk3P0wQcU1XO9l/1cgQyKgPPXjJr67Lq861L3uh+e53hYUK/udSDU2kgsJ/PjQKFAU9D9D9K9I0phLZwkc/Ip/SvPNVL3mkyGZfl2r8uc4OetekeHp1t4UPlhh5YAH4VeL6Hgov28ojmDEZx2qW4mW4l3hAox0quzB5GYDGTnFKuAwz0B5rzShcc1akuIjZLGqfOOpqO4mSQL5aBMdcd6rg0CsKSDVm0mhjLecm7jikiktxassqZf1qpnFMCQvljgd+KdGV8wF+ncU2Bo1nUzglKJtnmnyfu9qQyxdPAxX7OuOOar5zTd3FTzG38hTDnf3oAeot/sjbs+b2wa4XxT/wAhmy90cfyrri/Fcp4tjIksZo2AfzWjAbvkVpT+JCKkbYQbEB28DJqTz4fMEe8b8ZKiqSz3Eds5uIwrJyAnJcU8FCquX+SQjaD9K9hIQ07ocqgYLu61HMZBl0JYbcMrchqldHW4+ZsRYy2am0/TINVhkV0ZbcNgsCct7Cs61aFCLnN2SLhBzdkU4FeSYEQFsKQAOozTk0u5MUkVva3BDHcPMAIB+tdbb2lvaRqttEFwAMnkmpw7dq+SxHFFKErUo3PShlzavJnGx6Zqw2u1hhxwcHtT49M1Myu/2Z4l9E6muw3t60m4561x/wCtkulM0/s2K+0cZLZajlx5b27R4Il2/eHfNV4ZW8o3EkqsudrKF5Fd8JDjB5HoapXOlWdyhHlCInqY+M124fiijOVqkbESy5pe6zl8Bocxyp5Z6EdjTBEUTj5mz1A5qbVdJ/sudHiGLcjkjnJ96oCWQx+fHIzbWwVzivrKFenXip03dHl1IShKzOa1cltXmBXnNVTx1q5rYdNcfPAZFaqZAY5zxXpU/hOaQYZT8pHNdV4ak36Ksf8AckIrl9iDua6HwpJutrmMceXKP1FKpscWKV6Z0WcJShgvIpByKTbiuVnjjt3ejdTeaSpGZmqufsxxXBu4MJGMEmu11hiLYgdua4g4MY961pbnpYXqNXjrT+Np4plKWwhFdj2O5LU9F+GblfDoAyP3rZ9+a9Bs4RcSFS23jNcR8K7E3HhMSKwGJHPPf5jXX79vfB9q+XxH8RnZBaHJ+NAVQJnIW4QZ/wCBCulJ4X6CuX8XndbqfSVD/wCPCumLZVf90V8hxB8MT2Mve4E0U0mjNfJHsDwaXrTAacDSsA6g0maCaQEdscXMq9OQc1rXFqINpV926slG/fSAdcA1aRjtGTX6JlLvhYnzuN0rM5bx47BtN5OFkcgZ/wBmsSLhvPhwA67XyMYrovG1oZG0x327C7ck9PlrmHQCM7pxLHkDAP8ASvpsLscTMrV1b7PMZOSpKk+oxUulMDpcGOgWk1l99o+xeqtuPam6MMaTAPRa5c1/hI+h4f8A94foXjzRmkJpM18uffj6KbmjdQA7FLjFJmlzQMkhUNIFZC+egFOLIzyhvmSYBSg4OR3zTLdylwrg8rk/pUkaz3TOsIUZHy7h8wr6bKX+7aPhuIv4kSvdJ5dnOIwoQQBSVPU5716NpL4tYsf881/lXA6nGwsJtm6P5fmQgdq7/QJo0jjMi7h5agflXXi+h8qjSt5VS4V2GVB5FSXU8ckxaNdo9Khd1aZiowD0FMJAYZ55rzSkS7s1PLLbtaAIuJR1PrTLl7d41MCkMOtVS3FAEu8Yqe1a33N9p6Y4wKZbfZ/s8nnff/hqvux0piJGYFjjpnikVhvG7pnmlh2GVfMPy98Utysaz4iOVxQMmuRbrt+znPHNV88UzPNWGiiFqsiyZfutAEsEVvJaFpH2yVxHjNSy2ZR9jLKQG9CVrqifSuV8bRM+kxyITvS4XAAz1rSnbmAzbZEgh82WT5yvc5x74pLi8SGSFpNgVRwMcv6YqqXm8hmgjVxIuF8w4KnvwafapD5kG92Ztp2lxxmvZWwjO1jUbmKCS6LNCADhCAQuK6jwJdSXng22nmILyMxJA9647xTuXT5Y5pd+5Tt7103w1kz4FtR/dZv518txJJ/VT0MEl7Q6wnFG7NNzmjpX5qz3ug/NLUe6lzxU2AkDUu6ogacDQBHfIs+nzxt3TI46VwUVwZYHl2FjvIxj0rvpTmJ19VIrgLdjFvAKghioz0PNffcK1JSU4N6I8fMYpJMxtdb/AImKcDmMc1nAEfdGa0vEEfl3MEnBLLg4rNSRhx2r9Cg9DwpDsNwWGK3fCjYmvVH+yf51hEseeTitXwsxGp3WeN0QIH0P/wBeib0OXEK9NnWbjSlsrUYb5QaeD61yHi2FBxRmjg0mKQzE8QEJbP24rjWKNbxbF24XB5rq/EJzbyfTiuPKlRtPStaO56eF2Yopz/LEx9qYFx0pZOYH/wB012PY7EenfDzdF4StlUkBskgHrzXYW9u1zKUU4x61y3w9tJJ/CtqU/hjB5NdKGeN8qxVh3FfL1vjZ1xOU8ZIYrZlJ5Eq/+hCujU/u0/3R/Kub8Xhns3JOTvUk/jXQROGt4iDnKD+VfJ58nyRZ7GX7skNFN60tfJHrjxS5pmaKQh+aM0yjpSsAyNv9Mk/3RWpJbPbwozkEN0xWRCf+Jg6558sHFaBkZhh2zj3r9Ayj/dInz+N/jM5XxxMQbBHy4V3YLn2rJiCGRJSu75OcDoa0PHVvO8mnSx4++2M9+KyROyGKLGOM8DnPvX1OF+E4WZF+xl80vn5Q2EFGiPv0iA4wSvSpNUP7mZ1xG4yMjq1Q6E2dGg3fewc/nXJmv8JHv5C7Yj5GgaBQaK+YPvr3FoopKCri5pc8UygU3sJsngyZ1AqW1HlSbl3fv+C2fuEentVWJiJBjOenFTLujtYWuFbdG5b5jnAPFfQ5T8Ej4viPWcB15ltKnEs20cFW67h3rutLKrDEE6eWMflXnl4u/R7rZ0jGDzXoXh54ljtmuBlfKX+Vd2K2PlEjTjYCVS4yM81PdyQtKDCuFxzUFy6G4Ji+4elNznkdq88ofuFWMWv2MksRL9aZOIPIQxH5/wCKqp6UhDhJVi0WGSbEz7BjrTLWGGVH82TawHAqDgdaBk0u1JWVDuGeDTd3SmxgM6gnGT1p9zEIJQqvuGM5FMCxcQxRRI8cm4t1FV81EW45qwLcG088SA/7NICW1t1nV2Zwu3tXF+P3MWhqUJz9oTocd66hXOMg4zXN+NUZtCZlYLtlQlmGQBmrh8SGYUL3DMTw0JQFs8kH2q5FGIzFFIFcsmUaqUc9zJHC8cMLxFDvcHGD60tkxWZ7aRcAqHjPZfWvZjoiUYuvFpLWRLoeVKqttA6Gui+GbZ8FRD0kYfrXO+ILhUWSKQtkqRux8pPtW18LmJ8JMp/hmYV81xEr4Y9DBfxDts0bqbSZr81aPduSA0ZpgNFJoY/NG6mUtKwXHkZU/SuFjkMVzPAI1kTecNjBBruVOeK4acSPqEwztj3HPbv1r7LhZ2qSR5eYr3EzD11GXyS2c5IIJ6VmIGRvm4z61ta5vKxhh06Hru/GsTc6tliCOnPav0mGx89ImyR0NaHh5j/b2OzwMMfiKyyCKt6TMU8QWhXq25f0/wDrU5bGVSzg0dnntTx0qPp1p6tiuRnhWHbsGjdTd1NzSA5rxC+63bntiubkx8uPSt/xC2LZvwrnchgDW9Hc9PDfCLnFRzEi3kI/umnMfSkmTNlM3oprok9DsW56z4IleDwxZCNiu6Fc4+ldDHE8821Tya57wbDK/hiz2LnbCufyrdWR4pAynDCvmKj95nXHYw/E1jJNZ3EB4fHFc14a8ZrZEaPr+YZoTtSZ+AR2rvp1N0SZOWbvXNeIPBkGoxj7VF82MpIvDCuLE4aniafJM6qFZ0pXOghniuEDwSpIp6FTmpDXlS+FfEeiyH+xb4smfuliv6dKtLqnj2xhLy2jSoO+0Nn8jXzNXIqif7uSZ60cXTa1PSs0vWvL/wDhK/Gsh405wP8Ariamg1Xx9dsVgtGB91C/zNY/2HierRf1qn3PS+g54rJ1XxJpukRZuJ1aTtGpySa446D411f5dQvPs69xv/wrc0PwJYaXKtzeM15cjnc/QH6V10ch1vVl9xhPGRWxq+GRdXQuNVv1MZuflijPVUFdF5DrEJWX5T0qKSGWNU8xdoI4qQ3EjRCMtlRX01GlGlBQjseTVqOrLmZyPjJpXmsYo2UbCzKGrnVFwJGMERLt8rFugHtW34zVZdQs0k3BdjkMpxg8ViS3ZNuUQsvQYavYwvwnOyjqEJaIS8Mx+U4PWsnRdUFpI9lekoNx2Fu3tXQ3EaERxx5YqQ/IxWLqOm/aYDPLGducqR1qsXR9tT5TsweJeHqqaNzcCAQcjsRRmuWt5NRsVxE4kT+4TzirK+IpkOJrRvqK+YqYSpB2sfbUM3oTj7zsdCDS5rBPieJRzA4+tN/4SmL/AJ4tWXsJ9jq/tDD/AMxvUhOOvA9a59vEsr/6m2Yn/dJojg1LV3IuJhBEOSo4JH0rSGFqTdrHNWzahBaO5sQX6z6kLe1c/IpaSQdBx0rSlm+0nY+FKqBtJ+Y+9Z+nW8FlEsNvna4JYk8k1NCrMgaVWSVmwjYPI+tfTYPD+whY+Nx+Mli58z2RJqMqQ6ZMi7VR1xtByW967nS+LaAA5AjXBH0rgNTAOlSq64k8vavr1rvPDxRrWzEhwvlLn8qnFbHAjXBG4Z6d6s3XkJt+znIPWobhY0lxE2VqI+1eeIkz71PHFE9szs+GHQZqPyohY+bv+f0qvmkMfmpLdBNOI2YKD3NFrALiQqW24GahcbZGAOcHGaAJp18mUoGDAdxUe7PU0z0qa5tmt1RtwIb0pgSPb7bYSggg1AG+XGeKRWO3k1LFbPNGzxkYXrmkFh9vbtcZCEAgd65nxqzQ6FNhQxDoCD0PzCt1WKNlSRj0rE8XHd4fuS3ONrH/AL6FVH4gOesTGCwSMQgDDqG+UmpJpo1UsGXKDjjoKrWrLhGYph2wTu+9UV3L9pYlLZ4hGw2nfjPPORXtR2JMzWiblTKZg643Lnp9K1/ha5/sG7T+7cHj0rM1pEZREDtGN+F5zVHwB4hj0fVp7G8/dxXL/KzcbW968LPKUquGcYndg5JT1PWd3FJupucjKkMp6EUdq/MZRadme8mPBpc1FmlzU2HckzSg1GDTgeakCQNg1xV20aXtwsv3dxBFdhLKsMZkkO1VGSTXEXDx3M9w8acyybhmvseGYyVWTPMx8vcsZ+qtH/Zn7stuDAANWWwLwr5igYHYda1tSU/2fMAUO3tt5BrHjVnj4LYHXiv0aD0PAaGKD2xj61ZsG8vV7Nj/AM9MfmKi8sAcHmgusVxbuO0q5/OqexnJe6zuW+9SZpCwPSgDNcjPDF606mfdpQc0hWOT8RHMZXsWFYTNvwOOBWt4gcnZ7uKy22q5A7VvRPUw690jK4ptw/8AoMq+opztUMzqyKrNtDOASfrW0n7rOqO57J4Wme10G0VOP3Kgj8K1AWkkwBkk1l6RgadEF5GwYx6VpRTNFIrr1FfNzV2zqWxIQ0b88EU6ad5yC56cUySZppC79T6U3PtWZQrwMI9zpwe+KBIfs5hIG30xUrzvLCIz0FQGgd2EcLMD5aZA64FLDK0DErwafBcNATsAORgg1FnJ6UxOTHFneTJ5LGnFCrYddv1pobawPcHNSzXJnYM/UDHFLYL3JJblplUMeFHFMCuU3Y+X1qPNTpeMtsYcAg047gzjfFzK19aCRgqorMc988Vl7F8l4mIV8Blc+varPi8E6pD+7aTbCeh6c1VO17NJc5dkHfNenhvhM9xJIFKo4keW4jAJwODSTsz7UIPzEnpxjHSp0hhJkO/98uNpzgVFCWZT5OGHmsG39VPfFdYzNaKJE/dROB0ZmHzGoltIvNRlV256dK1I4nF1MZcP8u5HIwB7fWoZyhs5JNrLISqt7c81Nk9x3aEg0uKJZH2mUsp2qxGc+gqAW0ZuIHcLCMMSGA5x2q6si3OAxfdGSYnKkfhRFayvKzXIXyWToBwDml7OPYfMymkG28YOwaBx94cZ+hp0ahXLZIwMBscH2zV54H3NN8u2P5Ujxxj1pCg2CHawhA3PKvT6YppJbBdtFeEklX2gkjv0qeFJZDkhiv8ACAc8UWYUhtq+YuDsHTNPhgk8x3LNEki7FUnkGquSV9QgQ22y3T52UhwT0z0ruNLj8iGGLOdsYGfwrjLqCI+Y/mFWAwceortNKRjFAGPLIOT9K4sVsNaGjVma3WGBHSTcT2qK4t2t3CswOfSoi2cDNeeA4nnFTwWxnVirAbeuaaluZLdpgRhetQByPukj6UgHAkZwSD7UsaNJIEHVjgUkKGV9i8miRHhkw3DCmBLPbvAwEmOfSoyxYAMxIHTJoeRnGXJP1pXhdYw5GFPemA9YHMJlA+UdaarsqkKxAPXmmrK4iKKflPUURo7k7FLYpAORGdtiDJrC8Xb4NBvdwwREetbiSNE+5eGFZHiotc6HeF+T5Lfypx3A4y3mMNmnnsm0qGBIztOKndJ5otx2P67R29ayLEXRs7eMxJJGCAd46jHrV6IbGWQeaRkqoX+H617cPhJHTRpLGAV3OvyeZF/DXMaxoEgPmoytMzkAAY3f/XrrUzFM0KqpRvmMnTNRukMESySbn+fKjOSPpUzpqasxqbizk9J8W6x4flEW9nRT/qp/6Gu0sPibYTKo1C3kgkPUqNy1SvbG1uJB9ojDxgZXK81my+ELWVRLAzojHG30rwcVktGs7tHfTxcoo7iLxjoc6grfIvs3FT/8JLox6ajB/wB9V5vP4MhjUH7S+Seh5pIfBsc8jqssi7DySBg15UuG4PZs3WOPR28UaMgy2oQ49mBrKvviNo1nkWzPcydlRetcnH4Ns1kDSSSSKv3l6ZrWsdO020kHk2SxkcBm5Jq6fDdJO8mxSxz6E39qap4gInu0+zWYOUiB+Zvc1M0P79WiIUcZUnHIqSd3cKEbaOnAqNYdzfv33r+WDX0mFwdLCw5aaPPq1ZVHdjNR+axuB5XGzJPvXPRSv5e0MRnqK6W7ZBZyAIdm3rnrXLqV2r2OOcdK9GBzSFKOxwKimXbHubqjBvyNWAwU5BzTLjDW8nHVTWr2M2tDtEO5VcdCoNPJqlYSeZYwN6oP5VazXJLc8SS1Y/OaT8aZuxRk0riOO19v3kWP72ayXf5j61pa4S9xEF65JrKVJbiUpAuSOrHoK2pHqUPgGM7lgiLuY9AKmksVe3xK2SeoHap1jS1GI+X/AIn9aYXz1rd2aszdOxo6Vrmp6XAsNtdFkUYAkGcCrc/iDV5gXN8UJ7KOlYYcAVKsm4VyvC030L5zTh13W0YY1In6qKtzeKNalUBtQRSBwVj61gMfSkVj3qfqlMr2hsDxJrq9NRXPulTjxb4iiAVbi2k3DqYzxXP7s04ucYFL6nTD2puHxN4kUAtd2nPYof8AGpIfF/iKKYES2b/VD/jXPDI5Zs09Xz3o+p0x+1Oim8V+JWdpD9i2+wIpi+K/ErAsFszjsKw2cFSM/rSLMY1+Qip+pwH7Q6L/AITfxHJb7RZ2w29TnrUtt4y1Yc3VpFj1Rq5lbiXZhTgUokmb+LjvzR9TgCmaGoalrF/rcly1srwBNoQPjHvUS6lqIdnayDMOBtPQVCLqVGZtxUHrg9aRbmTbjtnP1rWFFQVkHMSyaxey3Cs+nSIV5+QjDfWo5NZuN6t9huFWNixUdCT3NKLhzklQKQ3DBW75HTNXyBzD212aaMq9jdKud2VwagOvZjk3WFwWlxyR1qSG4kKAjIHfmpHupQF5GM8HvS5WF7jYPFBtkw1pcsM906U5vF1vIgRrS5BRgVGKe93ufY4JUj05p4lSFA5iUBumRS5WO6I38WW5k/1EyIUwBsPWl/4Smw+zeXtl3E/MChpJbpnKjeoCtu+4OlLNcjzt0MUeXOeVzRysOYi/4SXT+GZ5FdQAFVSAKtQeI7AzMivlG5DN1zTVlWSRpJLeEkHGNnWoXa0iYyNbxmQ9FK9KfKwuizLr1pbRTmUqwkbKL1zXSaN41srnTEeVTDLGoDoeCPpXHhIhL5hSMgjlduQKldoHZA8afLyMf4VjUouaC52Unj/SA3765bPvUi+OdB2gm/QZ9a4j7NbLKZdi5b+EqMUpisXGDZwtnrhBXN9Tfcq6O5Xx9oixlV1JNp6jNIPHGgnpqEf4muIFjpoQr9lUHqPlBqRbHSvLAe1jyf8ApkKX1R9wujuE8aaMjBk1OJT/AL1SnxdpMzZOowknvurz2bTtNL5S3hGAP4BzTRpOmEZlgTnsBR9VfcV0ekL4k0wj/j+hI/3xUo8U2EiCE38JX/erzFdO0cLtNsMk9TmlGh6QI2JABzwBml9VmF0eoLq9my5S6iK+oapbbX7WByYrmFiR3NeURaTp6ZXDOp/hDEYqaLRNPjXzE8xT/dLHij6rILnqI1GGViwkU7ueDVfVLy3XSLlpXUL5ZySfavPIWa0G6GSVCPRjSXO/Vbfybu4lkjJyQTjP5Ulhp3HcW0eWTTpFdwpDAIue2KtqDDCirIw3D5sn7p9aoLpNnBCsavN8pyuHoNlkf8fkuG6qW4r0I6IRqpIVgCtt8z+L3qvDJCl7J5YKLtJYZzj3FUJrORbrzBduBtA4NV/skolYx3MhDDB3DmgRtC5RsgtzjjI4+tXFuFDxLg4b0Oa55bW+jwI7l2TH8QBqRbfUERpUuwD02AUmCOkmWF8F2yO2DULyZwXbYM4+WsESakVCm7GRzygphXVJWIF3nP8AsDFSB0BYJIVR85O4tnIFPVUmcOsi7D0Oa5tYdQhxi5Kkc/d60ggv2RgbhSDyVximM6oSIWIGMAU2NhIjDyxwfWsNbjUIYVVRG4HQZ5pgvNQLZECBhxnnpQSbk6iW3ZFUDjiuWSB3ZgXVdrEcnrV19U1FFVFjj+bgse1ZbR3lnvmvts0TNuLIfu5rSOgmWTA6dSD9KY3zKQeOKXzFk+aInb6GlABHrWzdzM6XSHD6TbkdNuPyq9nNZOiNu0iLHYsMenNaa9K5pHj1FabHGkyKaTRtNZmZxOvTFbqMpxt43VmpIYVIhl+8Pmr07xr4Gh0xo5Yf31rIcDf95W9K49vDdsSf3OPo1EJ6XR6UZey9ye5gGVivLUbzW7/wjVv2jb/vqg+G7cHlGH0atvbMv2sO5hb6kWTHetj/AIRq3PQS/wDfVIfDluOnm5+tHtn2D2kO5lebS+aTxWkfDkQ/jmpf+EbXb9+UfjVe1D2kDK3EU5XrR/4Rs/8APWQCkPhwjP7+QD6Ue2Qe0j3KHm9jTQ/PWr3/AAj7D7tw/wCIpf8AhHJiMi4Y/wDAaPbLsHtI9ylupykd6tHQJx/y8H/vmk/sG47XP/jlHtUV7SPcY04KBRwBUYepzoN2P+Xlf++TTTot4OkyH/gJp+0RXtI9yPzvenLMp+9+lIdGvv8AnpH+RpDpWogdYvzo9og9pHuPW4T+IEikNxvb5FwtMOl6iP8AnmR9aVdO1MfdSM/jS9pEfPEkWchhu5x0FOM6t1H0NQGw1M9IkP0NNaw1NusA/BqftIhzItCdd4YnJFJJdbm+Y59KqfYtRXrb/wDj1H2G/wAZa1b8CKOeIcyJzcLIxLYX1PrQJYg+4Pn3qqbS8zzayflSfZ7of8usn/fNPniCkaBuo3j2l+M5pIvJYktJkdh61niK4HW1k/KlbzQObWVffbRzxK5kabbAeOntShkXnvWSJX/55y/kaPNk/uyD8DRzIOY1Wl/dnJBp0ADx/fAPpWN9p2jB3flTjdJtH3qLoOY28xBBGpUN1LZ60jMBxvyKw/tIzwxFKLhM/NI34UXQ+Y3FVGYMOvrUhl5PO49uKw1u4wv+tfNL9tUrjfSug5jYMgjADSqWP8IHNBkywxzWQt4Fztfr6igXnzfep3QcxtY+b5lyPQUsjFmCrlV9M1kG89JD9M0z7WxP+s/WjQXMbwnUKU+bHvTWckDaMVh/a2H/AC0p6ahIP+WnFKxXMbYKdSefrTWG/kdB71kjUCCPun8Kd/aR7BaLILmkSR1NKuQMms1dQyctTzqOf4h+NGg7mpudVBDY9OaY0sh/iI9xWUb4g5XH5077ex64oshcxp+aSuWclvWmGYnozL7g1nm+BNAvgOozSsg5i+J3J+Zy2OhNO80jOTWcL1e4xS/bkPTrRZDuXlkJOQxFKXc/xkj3NU1vEA6CnLex+nNGhNycliQBT+QpVvmVuCp71AspblU/WgSPu5FGgDZrN4VM1qN6gfNGByB7U2N0kXg//Wq0ty0By2V96pXapKzz2gIfGXx0PvTTBG/4fO3S2XOdspFaqnisfw4uNKZlbeGkJya1xk9KymeTVXvsUcNT91MwaSszKx3nj/B0GHP/AD8r/wCgtXnLJ82a9A8eOToMP/Xyv/oLV5/uJrGj8B34xfvfkATPelK0ZxSg1rc47AEAp3Sm5ozTuMdncKQjIxQD0p7cdKVwI8YFG2lzSZp3FYQADtSgZNJTgcUXCwhWjGKCTmgEk0rjF7UgXPakY8ilU807gLsUckUFVPYUMelDHApXAQop7CgKoXBApAabnmhMByovYUGNfSlB4pc07iuyPykzkgGl8tP7op1IDzRcLgI4hzsFIY1P8IpW4NGTSHzMaLaMnkAU77LHjG2gscUgYmmh3YGzh6YzTGs4ehWpQx5pAxJouHMyEWFuc5QflSLp0C9UB/CrIY5ppY5ouHMys2mwN0Rf++aadItiAdif981cDHFJ3pXHzMpf2PAekSY91o/sSz/54pn/AHavg4FJuIFFw55GcdCs3PMSA/SmDw9ZsDuhUfia0N58yn7zTuCnLuZf/CO2RH+p/wDHjTT4csif9Vj/AIEa1QxxSgk0XH7SXcyG8M2h6Bh/wI1GfC9tnlpAP96tzNIzGnzMftJdzBbwvBj5WkH/AAKmDwvER/rJB+NdAGJNJk5pXZXtpmCPDEWP9dJn60h8Lx9p5M10JY0hNO7F7aRzh8Mc8zuPwobwxIo+W449xXSZpCeKLjVaRzX/AAjc23ifj/dpB4ZnPScflXSg804sR0ouP6xI5keF7n/nuppjeGrpT/rErqVYkUMaOZh7eRyh8P3Y6FD+NRvoN8vRVx65rr+1ITkc0uZj+sSOO/sbUF7Z+jGkbStQH/LFiPZq7PAI6UuBjpRzMr28uxxH9nX4PzQSf99VYtdIvZztO6FW4LE12J4FNH0ouH1iQlrEtpapbx9FHOO5qYFs1CODmpCxzQ2crfM7km40m6oixpdxpCP/2Q==)![Capturar.JPG](data:image/jpeg;base64,/9j/4AAQSkZJRgABAQEAYABgAAD/4RDuRXhpZgAATU0AKgAAAAgABAE7AAIAAAAMAAAISodpAAQAAAABAAAIVpydAAEAAAAYAAAQzuocAAcAAAgMAAAAPgAAAAAc6gAAAAgAAAAAAAAAAAAAAAAAAAAAAAAAAAAAAAAAAAAAAAAAAAAAAAAAAAAAAAAAAAAAAAAAAAAAAAAAAAAAAAAAAAAAAAAAAAAAAAAAAAAAAAAAAAAAAAAAAAAAAAAAAAAAAAAAAAAAAAAAAAAAAAAAAAAAAAAAAAAAAAAAAAAAAAAAAAAAAAAAAAAAAAAAAAAAAAAAAAAAAAAAAAAAAAAAAAAAAAAAAAAAAAAAAAAAAAAAAAAAAAAAAAAAAAAAAAAAAAAAAAAAAAAAAAAAAAAAAAAAAAAAAAAAAAAAAAAAAAAAAAAAAAAAAAAAAAAAAAAAAAAAAAAAAAAAAAAAAAAAAAAAAAAAAAAAAAAAAAAAAAAAAAAAAAAAAAAAAAAAAAAAAAAAAAAAAAAAAAAAAAAAAAAAAAAAAAAAAAAAAAAAAAAAAAAAAAAAAAAAAAAAAAAAAAAAAAAAAAAAAAAAAAAAAAAAAAAAAAAAAAAAAAAAAAAAAAAAAAAAAAAAAAAAAAAAAAAAAAAAAAAAAAAAAAAAAAAAAAAAAAAAAAAAAAAAAAAAAAAAAAAAAAAAAAAAAAAAAAAAAAAAAAAAAAAAAAAAAAAAAAAAAAAAAAAAAAAAAAAAAAAAAAAAAAAAAAAAAAAAAAAAAAAAAAAAAAAAAAAAAAAAAAAAAAAAAAAAAAAAAAAAAAAAAAAAAAAAAAAAAAAAAAAAAAAAAAAAAAAAAAAAAAAAAAAAAAAAAAAAAAAAAAAAAAAAAAAAAAAAAAAAAAAAAAAAAAAAAAAAAAAAAAAAAAAAAAAAAAAAAAAAAAAAAAAAAAAAAAAAAAAAAAAAAAAAAAAAAAAAAAAAAAAAAAAAAAAAAAAAAAAAAAAAAAAAAAAAAAAAAAAAAAAAAAAAAAAAAAAAAAAAAAAAAAAAAAAAAAAAAAAAAAAAAAAAAAAAAAAAAAAAAAAAAAAAAAAAAAAAAAAAAAAAAAAAAAAAAAAAAAAAAAAAAAAAAAAAAAAAAAAAAAAAAAAAAAAAAAAAAAAAAAAAAAAAAAAAAAAAAAAAAAAAAAAAAAAAAAAAAAAAAAAAAAAAAAAAAAAAAAAAAAAAAAAAAAAAAAAAAAAAAAAAAAAAAAAAAAAAAAAAAAAAAAAAAAAAAAAAAAAAAAAAAAAAAAAAAAAAAAAAAAAAAAAAAAAAAAAAAAAAAAAAAAAAAAAAAAAAAAAAAAAAAAAAAAAAAAAAAAAAAAAAAAAAAAAAAAAAAAAAAAAAAAAAAAAAAAAAAAAAAAAAAAAAAAAAAAAAAAAAAAAAAAAAAAAAAAAAAAAAAAAAAAAAAAAAAAAAAAAAAAAAAAAAAAAAAAAAAAAAAAAAAAAAAAAAAAAAAAAAAAAAAAAAAAAAAAAAAAAAAAAAAAAAAAAAAAAAAAAAAAAAAAAAAAAAAAAAAAAAAAAAAAAAAAAAAAAAAAAAAAAAAAAAAAAAAAAAAAAAAAAAAAAAAAAAAAAAAAAAAAAAAAAAAAAAAAAAAAAAAAAAAAAAAAAAAAAAAAAAAAAAAAAAAAAAAAAAAAAAAAAAAAAAAAAAAAAAAAAAAAAAAAAAAAAAAAAAAAAAAAAAAAAAAAAAAAAAAAAAAAAAAAAAAAAAAAAAAAAAAAAAAAAAAAAAAAAAAAAAAAAAAAAAAAAAAAAAAAAAAAAAAAAAAAAAAAAAAAAAAAAAAAAAAAAAAAAAAAAAAAAAAAAAAAAAAAAAAAAAAAAAAAAAAAAAAAAAAAAAAAAAAAAAAAAAAAAAAAAAAAAAAAAAAAAAAAAAAAAAAAAAAAAAAAAAAAAAAAAAAAAAAAAAAAAAAAAAAAAAAAAAAAAAAAAAAAAAAAAAAAAAAAAAAAAAAAAAAAAAAAAAAAAAAAAAAAAAAAAAAAAAAAAAAAAAAAAAAAAAAAAAAAAAAAAAAAAAAAAAAAAAAAAAAAAAAAAAAAAAAAAAAAAAAAAAAAAAAAAAAAAAAAAAAAAAAAAAAAAAAAAAAAAAAAAAAAAAAAAAAAAAAAAAAAAAAAAAAAAAAAAAAAAAAAAAAAAAAAAAAAAAAAAAAAAAAAAAAAAAAAAAAAAAAAAAAAAAAAAAAAAAAAAAAAAAAAAAAAAAAAAAAAAAAAAAAAAAAAAAAAAAAAAAAAAAAAAAAAAAAAAAAAAAAAAAAAAAAAAAAAAAAAAAAAAAAAAAAAAAAAAAAAAAAAAAAAAAAAAAAAAAAAAAAAAAAAAAAAAAAAAAAAAAAAAAAAAAAAAAAAAAAAAAAAAAAAAAAAAAAAAAAAAAAAAAAAAAAAAAAAAAAAAAAAAAAAAAAAAAAAAAAAAAAAAAAAAAAAAAAAAAAAAAAAAAAAAAAAAAAAAAAAAAAAAAAAAAAAAAAAAAAAAAAAAAAAAAAAAAAAAAAAAAAAAAAAAAAAAAAAAAAAAAAAAAAAAAAAAAAAAAAAAAAAAAAAAAAAAAAAAAAAAAAAAAAAAAAAAAAAAAAAAAAAAAAAAAAAAAAAAAAAAAAAAAAAAAAAAAAAAAAAAAAAAAAAAAAAAAAAAAAAAAAAAAAAAAAAAAAAAAAAAAAAAAAAAAAAAAAAAAAAAAAAAAAAAAAAAAAAAAAAAAAAAAAAAAAAAAAAAAAAAAAAAAAAAAAAAAAAAAAAAAAAAAAAAAAAAAAAAAAAAAAAAAAAAAAAAAAAAAAAAAAAAAAAAAAAAAAAAAAAAAAAAAAAAAAAAAAAAAAAAAAAAAAAAAAAAAAAAAAAAAAAAAAAAAAFZpY3RvciBNZWxvAAAFkAMAAgAAABQAABCkkAQAAgAAABQAABC4kpEAAgAAAAMyNQAAkpIAAgAAAAMyNQAA6hwABwAACAwAAAiYAAAAABzqAAAACAAAAAAAAAAAAAAAAAAAAAAAAAAAAAAAAAAAAAAAAAAAAAAAAAAAAAAAAAAAAAAAAAAAAAAAAAAAAAAAAAAAAAAAAAAAAAAAAAAAAAAAAAAAAAAAAAAAAAAAAAAAAAAAAAAAAAAAAAAAAAAAAAAAAAAAAAAAAAAAAAAAAAAAAAAAAAAAAAAAAAAAAAAAAAAAAAAAAAAAAAAAAAAAAAAAAAAAAAAAAAAAAAAAAAAAAAAAAAAAAAAAAAAAAAAAAAAAAAAAAAAAAAAAAAAAAAAAAAAAAAAAAAAAAAAAAAAAAAAAAAAAAAAAAAAAAAAAAAAAAAAAAAAAAAAAAAAAAAAAAAAAAAAAAAAAAAAAAAAAAAAAAAAAAAAAAAAAAAAAAAAAAAAAAAAAAAAAAAAAAAAAAAAAAAAAAAAAAAAAAAAAAAAAAAAAAAAAAAAAAAAAAAAAAAAAAAAAAAAAAAAAAAAAAAAAAAAAAAAAAAAAAAAAAAAAAAAAAAAAAAAAAAAAAAAAAAAAAAAAAAAAAAAAAAAAAAAAAAAAAAAAAAAAAAAAAAAAAAAAAAAAAAAAAAAAAAAAAAAAAAAAAAAAAAAAAAAAAAAAAAAAAAAAAAAAAAAAAAAAAAAAAAAAAAAAAAAAAAAAAAAAAAAAAAAAAAAAAAAAAAAAAAAAAAAAAAAAAAAAAAAAAAAAAAAAAAAAAAAAAAAAAAAAAAAAAAAAAAAAAAAAAAAAAAAAAAAAAAAAAAAAAAAAAAAAAAAAAAAAAAAAAAAAAAAAAAAAAAAAAAAAAAAAAAAAAAAAAAAAAAAAAAAAAAAAAAAAAAAAAAAAAAAAAAAAAAAAAAAAAAAAAAAAAAAAAAAAAAAAAAAAAAAAAAAAAAAAAAAAAAAAAAAAAAAAAAAAAAAAAAAAAAAAAAAAAAAAAAAAAAAAAAAAAAAAAAAAAAAAAAAAAAAAAAAAAAAAAAAAAAAAAAAAAAAAAAAAAAAAAAAAAAAAAAAAAAAAAAAAAAAAAAAAAAAAAAAAAAAAAAAAAAAAAAAAAAAAAAAAAAAAAAAAAAAAAAAAAAAAAAAAAAAAAAAAAAAAAAAAAAAAAAAAAAAAAAAAAAAAAAAAAAAAAAAAAAAAAAAAAAAAAAAAAAAAAAAAAAAAAAAAAAAAAAAAAAAAAAAAAAAAAAAAAAAAAAAAAAAAAAAAAAAAAAAAAAAAAAAAAAAAAAAAAAAAAAAAAAAAAAAAAAAAAAAAAAAAAAAAAAAAAAAAAAAAAAAAAAAAAAAAAAAAAAAAAAAAAAAAAAAAAAAAAAAAAAAAAAAAAAAAAAAAAAAAAAAAAAAAAAAAAAAAAAAAAAAAAAAAAAAAAAAAAAAAAAAAAAAAAAAAAAAAAAAAAAAAAAAAAAAAAAAAAAAAAAAAAAAAAAAAAAAAAAAAAAAAAAAAAAAAAAAAAAAAAAAAAAAAAAAAAAAAAAAAAAAAAAAAAAAAAAAAAAAAAAAAAAAAAAAAAAAAAAAAAAAAAAAAAAAAAAAAAAAAAAAAAAAAAAAAAAAAAAAAAAAAAAAAAAAAAAAAAAAAAAAAAAAAAAAAAAAAAAAAAAAAAAAAAAAAAAAAAAAAAAAAAAAAAAAAAAAAAAAAAAAAAAAAAAAAAAAAAAAAAAAAAAAAAAAAAAAAAAAAAAAAAAAAAAAAAAAAAAAAAAAAAAAAAAAAAAAAAAAAAAAAAAAAAAAAAAAAAAAAAAAAAAAAAAAAAAAAAAAAAAAAAAAAAAAAAAAAAAAAAAAAAAAAAAAAAAAAAAAAAAAAAAAAAAAAAAAAAAAAAAAAAAAAAAAAAAAAAAAAAAAAAAAAAAAAAAAAAAAAAAAAAAAAAAAAAAAAAAAAAAAAAAAAAAAAAAAAAAAAAAAAAAAAAAAAAAAAAAAAAAAAAAAAAAAAAAAAAAAAAAAAAAAAAAAAAAAAAAAAAAAAAAAAAAAAAAAAAAAAAAAAAAAAAAAAAAAAAAAAAAAAAAAAAAAAAAAAAAAAAAAAAAAAAAAAAAAAAAAAAAAAAAAAAAAAAAAAAAAAAAAAAAAAAAAAAAAAAAAAAAAAAAAAAAAAAAAAAAAAAAAAAAAAAAAAAAAAAAAAAAAAAAAAAAAAAAAAAAAAAAAAAAAAAAAAAAAAAAAAAAAAAAAAAAAAAAAAAAAAAAAAAAAAAAAAAAAAAAAAAAAAAAAAAAAAAAAAAAAAAAAAAAAAAAAAAAAAAAAAAAAAAAAAAAAAAAAAAAAAAAAAAAAAAAAAAAAAAAAAAAAAAAAAAAAAAAAAAAAAAAAAAAAAAAAAAAAAAAAAAAAAAAAAAAAAAAAAAAAAAAAAAAAAAAAAAAAAAAAAAAAAAAAAAAAAAAAAAAAAAAAAAAAAAAAAAAAAAAAAAAAAAAAAAAAAAAAAAAAAAAAAAAAAAAAAAAAAAAAAAAAAAAAAAAAAAAAAAAAAAAAAAAAAAAAAAAAAAAAAAAAAAAAAAAAAAAAAAAAAAAAAAAAAAAAAAAAAAAAAAAAAAAAAAAAAAAAAAAAAAAAAAAAAAAAAAAAAAAAAAAAAAAAAAAAAAAAAAAAAAAAAAAAAAAAAAAAAAAAAAAAAAAAAAAAAAAAAAAAAAAAAAAAAAAAAAAAAAAAAAAAAAAAAAAAAAAAAAAAAAAAAAAAAAAAAAAAAAAAAAAAAAAAAAAAAAAAAAAAAAAAAAAAAAAAAAAAAAAAAAAAAAAAAAAAAAAAAAAAAAAAAAAAAAAAAAAAAAAAAAAAAAAAAMjAyMDoxMDowNiAyMToyMjowOQAyMDIwOjEwOjA2IDIxOjIyOjA5AAAAVgBpAGMAdABvAHIAIABNAGUAbABvAAAA/+ELHmh0dHA6Ly9ucy5hZG9iZS5jb20veGFwLzEuMC8APD94cGFja2V0IGJlZ2luPSfvu78nIGlkPSdXNU0wTXBDZWhpSHpyZVN6TlRjemtjOWQnPz4NCjx4OnhtcG1ldGEgeG1sbnM6eD0iYWRvYmU6bnM6bWV0YS8iPjxyZGY6UkRGIHhtbG5zOnJkZj0iaHR0cDovL3d3dy53My5vcmcvMTk5OS8wMi8yMi1yZGYtc3ludGF4LW5zIyI+PHJkZjpEZXNjcmlwdGlvbiByZGY6YWJvdXQ9InV1aWQ6ZmFmNWJkZDUtYmEzZC0xMWRhLWFkMzEtZDMzZDc1MTgyZjFiIiB4bWxuczpkYz0iaHR0cDovL3B1cmwub3JnL2RjL2VsZW1lbnRzLzEuMS8iLz48cmRmOkRlc2NyaXB0aW9uIHJkZjphYm91dD0idXVpZDpmYWY1YmRkNS1iYTNkLTExZGEtYWQzMS1kMzNkNzUxODJmMWIiIHhtbG5zOnhtcD0iaHR0cDovL25zLmFkb2JlLmNvbS94YXAvMS4wLyI+PHhtcDpDcmVhdGVEYXRlPjIwMjAtMTAtMDZUMjE6MjI6MDkuMjQ5PC94bXA6Q3JlYXRlRGF0ZT48L3JkZjpEZXNjcmlwdGlvbj48cmRmOkRlc2NyaXB0aW9uIHJkZjphYm91dD0idXVpZDpmYWY1YmRkNS1iYTNkLTExZGEtYWQzMS1kMzNkNzUxODJmMWIiIHhtbG5zOmRjPSJodHRwOi8vcHVybC5vcmcvZGMvZWxlbWVudHMvMS4xLyI+PGRjOmNyZWF0b3I+PHJkZjpTZXEgeG1sbnM6cmRmPSJodHRwOi8vd3d3LnczLm9yZy8xOTk5LzAyLzIyLXJkZi1zeW50YXgtbnMjIj48cmRmOmxpPlZpY3RvciBNZWxvPC9yZGY6bGk+PC9yZGY6U2VxPg0KCQkJPC9kYzpjcmVhdG9yPjwvcmRmOkRlc2NyaXB0aW9uPjwvcmRmOlJERj48L3g6eG1wbWV0YT4NCiAgICAgICAgICAgICAgICAgICAgICAgICAgICAgICAgICAgICAgICAgICAgICAgICAgICAgICAgICAgICAgICAgICAgICAgICAgICAgICAgICAgICAgICAgICAgICAgICAgICAKICAgICAgICAgICAgICAgICAgICAgICAgICAgICAgICAgICAgICAgICAgICAgICAgICAgICAgICAgICAgICAgICAgICAgICAgICAgICAgICAgICAgICAgICAgICAgICAgICAgIAogICAgICAgICAgICAgICAgICAgICAgICAgICAgICAgICAgICAgICAgICAgICAgICAgICAgICAgICAgICAgICAgICAgICAgICAgICAgICAgICAgICAgICAgICAgICAgICAgICAgCiAgICAgICAgICAgICAgICAgICAgICAgICAgICAgICAgICAgICAgICAgICAgICAgICAgICAgICAgICAgICAgICAgICAgICAgICAgICAgICAgICAgICAgICAgICAgICAgICAgICAKICAgICAgICAgICAgICAgICAgICAgICAgICAgICAgICAgICAgICAgICAgICAgICAgICAgICAgICAgICAgICAgICAgICAgICAgICAgICAgICAgICAgICAgICAgICAgICAgICAgIAogICAgICAgICAgICAgICAgICAgICAgICAgICAgICAgICAgICAgICAgICAgICAgICAgICAgICAgICAgICAgICAgICAgICAgICAgICAgICAgICAgICAgICAgICAgICAgICAgICAgCiAgICAgICAgICAgICAgICAgICAgICAgICAgICAgICAgICAgICAgICAgICAgICAgICAgICAgICAgICAgICAgICAgICAgICAgICAgICAgICAgICAgICAgICAgICAgICAgICAgICAKICAgICAgICAgICAgICAgICAgICAgICAgICAgICAgICAgICAgICAgICAgICAgICAgICAgICAgICAgICAgICAgICAgICAgICAgICAgICAgICAgICAgICAgICAgICAgICAgICAgIAogICAgICAgICAgICAgICAgICAgICAgICAgICAgICAgICAgICAgICAgICAgICAgICAgICAgICAgICAgICAgICAgICAgICAgICAgICAgICAgICAgICAgICAgICAgICAgICAgICAgCiAgICAgICAgICAgICAgICAgICAgICAgICAgICAgICAgICAgICAgICAgICAgICAgICAgICAgICAgICAgICAgICAgICAgICAgICAgICAgICAgICAgICAgICAgICAgICAgICAgICAKICAgICAgICAgICAgICAgICAgICAgICAgICAgICAgICAgICAgICAgICAgICAgICAgICAgICAgICAgICAgICAgICAgICAgICAgICAgICAgICAgICAgICAgICAgICAgICAgICAgIAogICAgICAgICAgICAgICAgICAgICAgICAgICAgICAgICAgICAgICAgICAgICAgICAgICAgICAgICAgICAgICAgICAgICAgICAgICAgICAgICAgICAgICAgICAgICAgICAgICAgCiAgICAgICAgICAgICAgICAgICAgICAgICAgICAgICAgICAgICAgICAgICAgICAgICAgICAgICAgICAgICAgICAgICAgICAgICAgICAgICAgICAgICAgICAgICAgICAgICAgICAKICAgICAgICAgICAgICAgICAgICAgICAgICAgICAgICAgICAgICAgICAgICAgICAgICAgICAgICAgICAgICAgICAgICAgICAgICAgICAgICAgICAgICAgICAgICAgICAgICAgIAogICAgICAgICAgICAgICAgICAgICAgICAgICAgICAgICAgICAgICAgICAgICAgICAgICAgICAgICAgICAgICAgICAgICAgICAgICAgICAgICAgICAgICAgICAgICAgICAgICAgCiAgICAgICAgICAgICAgICAgICAgICAgICAgICAgICAgICAgICAgICAgICAgICAgICAgICAgICAgICAgICAgICAgICAgICAgICAgICAgICAgICAgICAgICAgICAgICAgICAgICAKICAgICAgICAgICAgICAgICAgICAgICAgICAgICAgICAgICAgICAgICAgICAgICAgICAgICAgICAgICAgICAgICAgICAgICAgICAgICAgICAgICAgICAgICAgICAgICAgICAgIAogICAgICAgICAgICAgICAgICAgICAgICAgICAgICAgICAgICAgICAgICAgICAgICAgICAgICAgICAgICAgICAgICAgICAgICAgICAgICAgICAgICAgICAgICAgICAgICAgICAgCiAgICAgICAgICAgICAgICAgICAgICAgICAgICAgICAgICAgICAgICAgICAgICAgICAgICAgICAgICAgICAgICAgICAgICAgICAgICAgICAgICAgICAgICAgICAgICAgICAgICAKICAgICAgICAgICAgICAgICAgICAgICAgICAgICAgICAgICAgICAgICAgICAgICAgICAgICAgICAgICAgICAgICAgICAgICAgICAgICAgICAgICAgICAgICAgICAgICAgICAgIAogICAgICAgICAgICAgICAgICAgICAgICAgICAgPD94cGFja2V0IGVuZD0ndyc/Pv/bAEMABwUFBgUEBwYFBggHBwgKEQsKCQkKFQ8QDBEYFRoZGBUYFxseJyEbHSUdFxgiLiIlKCkrLCsaIC8zLyoyJyorKv/bAEMBBwgICgkKFAsLFCocGBwqKioqKioqKioqKioqKioqKioqKioqKioqKioqKioqKioqKioqKioqKioqKioqKioqKv/AABEIAaECBQMBIgACEQEDEQH/xAAfAAABBQEBAQEBAQAAAAAAAAAAAQIDBAUGBwgJCgv/xAC1EAACAQMDAgQDBQUEBAAAAX0BAgMABBEFEiExQQYTUWEHInEUMoGRoQgjQrHBFVLR8CQzYnKCCQoWFxgZGiUmJygpKjQ1Njc4OTpDREVGR0hJSlNUVVZXWFlaY2RlZmdoaWpzdHV2d3h5eoOEhYaHiImKkpOUlZaXmJmaoqOkpaanqKmqsrO0tba3uLm6wsPExcbHyMnK0tPU1dbX2Nna4eLj5OXm5+jp6vHy8/T19vf4+fr/xAAfAQADAQEBAQEBAQEBAAAAAAAAAQIDBAUGBwgJCgv/xAC1EQACAQIEBAMEBwUEBAABAncAAQIDEQQFITEGEkFRB2FxEyIygQgUQpGhscEJIzNS8BVictEKFiQ04SXxFxgZGiYnKCkqNTY3ODk6Q0RFRkdISUpTVFVWV1hZWmNkZWZnaGlqc3R1dnd4eXqCg4SFhoeIiYqSk5SVlpeYmZqio6Slpqeoqaqys7S1tre4ubrCw8TFxsfIycrS09TV1tfY2dri4+Tl5ufo6ery8/T19vf4+fr/2gAMAwEAAhEDEQA/AK1GKaDxSivpD866jgtFApaoewopD1oJwvFM30yXqPLkU0tmmls0qnmlcaQobFBbNBopMuw0Glo4oFIl6ADzQaKO1WK4qmpBzUO7H1oDmkCJ2AA4phNN3HvTdxJoC5Jmg0g6daTNO4C0Dg5ppbmndKBD8+tFR7s0uaAHZoxTd1Lup3BDs4pA3NN3ZpTQDQpam555oHvSgjNIQpGKB0ozuPFOIFCGJiimluaMmgBWNJniijNANB3pTSA80E0CAU6milzQMWndqaKXNACilpmaeDSaGFJnNLmkOKaQDWNANBIpAeaCbDs0opp5pN2KQx5opobNKDQMdmlxTKXmgdx9JjmmZNLuoBsf0ozUe6lBp7Ejt1BPFOHSkfpQFhlLmkApcUgEyTTs00DB5pQaAEopaKdwKoHFPpo6UopW0C+ovb3p23NNp24Ac0ir9xGAWNndgiqMkselZ/8AbGmBsG/gB/36w/GmoM8UFtFIVByXCnGfrXEb/KbDDK+vpT1ex6WHwSqx5mz099e0qM4N9Cfoc00+I9IX/l+jP0B/wrzUODyuMU5SDWqpNm31CC6noreKNH/5/Afop/wpv/CW6Qn/AC2dvolefHFGB6VXsSvqUO7O9Pi7SjnDS/8AfH/16B4t0v8AvS/98f8A164PHoKUCmqIngabfU70eKtMb+OUf8A/+vUg8SaWxH+kMPqhrz/FKFxT9kT9Qh3PQxr+lNn/AEsD6qad/belf8/q/ka87xSYFHsyfqEe56KNa009LxPyNSLqmnHreJXm4xS01SQv7Pj/ADHpA1Owzxexn8aeupWLnC3UZP8AvV5pnjim5YdCRS9iDy9fzHpzXdqCM3EYz6sKU39oePtMR/4GK8w3sx5J/Ojc3qfzo9iT9Q8z08Xlt/z3j/76FOF1b4/4+I/++hXl4dh3P51KkjBSMnBp+xH9Q8z0n7Za9PtMWf8AfFOW6tyM+fH/AN9CvNS5x940xpXK4Vj+dDosn6g+56ct1bseJ4z/AMCFSNcwD/lqn/fQrywTSDo7L9DSmeU9ZXOOnzUlSYfUJfzHqH2iJuki/nQJYyeJEPr8wry/7ZcBcCZwPrSLdzrnEsgz/tGn7Fh9Qfc9S8+Hgecmf96nGWMdJFP415UJGGeTz70iyyK2VdgfrU+yY/7Pfc9V3x5++PzoEiN0YH8a8sM8pYnzGz9aUXM4bKzOv0OKPZMHl8u56qSB1IppIHcV5eb273KftMhK9Mt0qSPUrtLjzvtEm8d85H5UvZS6B9Ql3PTOMZzSr84+WvMzql7v3NdSMe3PH5VI+uag6spuSFcYIAxS9mw/s6Xc9JCml2HHevMIb+eJ2bzGYsMZZicUxry6H/L3N/38NP2Ug/s+Xc9RAIzSDJ7V5d9pvD/y9zf9/DUqXNyME3c3/fw0eyYv7Pn/ADHqCqe9LjnFeZG7mwf382e37w0v2q6Kf8fcoP8Avml7KQvqE+56YRgc03PpXmgvrlQC9xMx7ZkNSPql3IgAnZB7E5pqk7EvATXU9H2Me1JsI7V5ob67xxeTf99mljvbwnm7n/77NHsmNYCp3PS9pPSmHIbGDXnjX10ZCxuZTx3c0k+q3r4HnOigdFYjNSqbCWAmlueh5wfSnV5wNRvGAzcScf7VOW8mHJlfP+8ar2TFHATa3PSFGaduArzh9RlYqWJJXpk0PqU0hLsSD/skil7Nj+oT7norEetMLr/eFedm9cqSGbn1Ymo/tjTNhtwx3BNLkYfUJ9z0gHPSlzXMeDbt5Hu7Z5GdUAZAxzj1rpxz0qGjkq0nSnyskDUv3qjp60rmSDbSjOaWkPAoHYRhSCjOaMUgsLRQaKRJXooJpDTExc0yU4jNLiorhwsZzQVHc4DXnLaidxzWRtU53jIrR1pw2pOR0rN3c10UUmj6TD6QRXKtbSFly0fp6VMsqPHuDY/GnnBHPSrWhWFpLKXuUjfdL5YEhOBSnKVPY7EubcppIrfxr+dIZVVuXX867pPDmmND5klhGOp+VSc81Wi0awuJQIdPUq4ym6LBA75rP27HyI5MTxY++v8A30KXzoj/ABr+dd7BomlBmjaygaTj5dnIFI+j6ZvQSWNuiq5LHZ2/xqvbsORHCCaM/wDLRfzpwdT/ABDH1rspNJ09FM4s4hABxsjySauPp+nySC3S0iB2AjKDHNNV2Dgjgt6j+IfnSeaoBrvhp+nLazvJaQW8kLbSDz07j1qzJpEEUA8y2hdjyMKKaqk8h5v5gxnNG8Yz2rupLSIWoaZYokEgBIUfL9aiW1hlWSOVEKg4DIg5pqtqHLZHGKQwGDSEr2YH8a7AaLY6hdWFjIZY90vzfLtJXniu3Hw+8OsgU2Kj3DEGsp4yEHqLlZ4uGAPJpxkT+8v517Svw08J+SS1pKZO3704oj+HXhqPj7AGH+05NR/aNMOU8W3p/eX86d5q46j8690h8AeFFhYPpSlz0INVj8OfDWf+Qev50/7Rp9hch4izgfxL+dGR2ZT+Ne5R/DfwntbzdO3Nj5fmOKrt8NPDJOTYY+jmn/adPsNQPFc/7Q/OkYYGe1e2xfDTwoG/fWDEEcYc/wCNNPwz8LjO2zdh6GQ8Uv7Splch4mCD3FA+te1J8MfChfM1i+w/3ZWqN/hd4X34it5VHbEpzR/aNPsPkPGqGOK6++8M2Np4lubGMv5SvtQufunAOKrtodhHceS9tKwIJLBumK6o14yXMiHE5cOKdyK6dPD+lTXSpGkzBzgDJG2ur0v4Y6ZIqz6msm0jiEOf1rmxeZYfCU/aVXZGlKhOq7RPLTIucBsn0HNLtmP3bW5Yeohb/CvoCy0LSNOjCWenwRgDGdgJ/OryiNPuRIPoor5Gtxrhou0INnqRyqXVnzeRKOTbXA+sTf4VGZl/iDJ/vKRX0sSp6xx/98CoJ7KyuEK3FlBID/ejFZw43w99abKeUy/mPnRJFb7rA/Q073r2fUfhx4Z1JmdLZ7SUj70LYGfpXK6h8N4NLYK888kTHiRTwB719DgeIMHjdIOz7HFWwNSjq9UcIGpS2eldC3hizwVF3JkH+Hmifwa4tGltbrkDIEi8V7ft4WucXKznN5FKZTXo+l/CKC80mK6vdWdZWXJSIYFTD4QabnnUbr8xWLxtFbsORnmW/PWl3ivVrT4NaTcSOH1G5G0Z5anf8Kg0ZTj7Xdf991H1+j3D2bPKA4B5p/md1B+terR/BvSJn2R3t0rHoS1JL8ItOiBhbU7zj0IpfXqPcfI7HlXmHvTtwr0z/hT+nMQF1G8JP+0KfJ8G7CBgJ768/wC+hTWOo9yfZs8w3inBhXpbfCLSj92/vAPqKD8HrNFDG/vAp7kCn9eodxcjPNC4NJnINelH4Q2BGRqd0D+Fc14t8ETeGLVL2zuXu7UttkDr8ye9OOMoydkx8hy+4iTGPzqQSqePLUf7Q61A7u2OeO1CNxg11LVEM6PwWQutXC9N0J/nXZKx6Vw/hBwPEePWFhXb5w1ctRWZ4WNX7y5MBxQeKaGpetZM5LICaQn3oxSdWpaiFHtQM5pcAUvFMQUUtFTqBVNFBpRVkiVVvf8AUt9KuEYqteD/AEdj7Ui4bnm2qfNfSH3qh3rV1PZ+/I/1nm4/DFZea6aGqPpaStBC44roPBsayQ3Sk5ZpcAEZHQc1zpNdV4EjDWUj9S0zgA9OgrPEOx2Q2Owt4vs6lY2jGeAuc8U62QxqFKoWXI+QHgGpBY7o0m37XxjCjAFMmdgMR5znkn0zXLcqwhmDSEFvLbOFJXrj3qNQj78lR5blzvOCMjkYqwgMUQGecnDE5zmlnhUJI+VDOhHK5JIFUVYxpCI7uN2ZyqHCpnhs9aGCwsfs7bvMGVfOQvtViCVVvYise0tFkhvXJqOIxieYOEXdnaV69MmqRNiZkSeR/PYXDKqgJtwF7E1Humt7mZ551eHcESPP3ff8qZaXguPMaIgWoT53J+bPsKLZJZpBGJG3qoc70+XB6H3phYguBOiTGdFYORtQtncM/Sl2/voxGjYlHXH3T6UQXLfbpLVEIjVvmduR706JY7ryryK7UQxTbVBG3IHXijqHLoSxwSJ4o0pi5YCUhh6cV6sotjZABT52eTXmEUC/8JDZy28hOXywznPFelQqNua8vEv3h6bC7KtRPAloyPFukJ4b0qXz4PsXliH95/fqoB61xkgBzU0U0KQyJJFuZvut6VJDcRpaPE0QLseGPaq+BSuLlGHrU1tLHEWMqb8jAHpUttcQwRyCSESM3QntVU43ZoTuVawbQWJxj2qxavHCxaRN/HSi1uIoJCZY/MBGAPSoCcsfQmkUgfazEquBnpREE84eYPlqW2mjgmDSx+YuOlQyuGmZkG1ScgelUthHlPiNFHjbUBGrTASbsds4FVmcyNGAqq+45yecVd164lt/F2oGFl+dgMN0ztHNVkfZHD5zLMXyBOvJz6V7WHf7pEbso293JFr+nQMrKsl4I8MOo717A4wcAV4bFMT440VQXZTd8bmzivcnPzGvz3jCrLnhBbHvZYlytiCnU0GlzX59qewgPFIaWg00Nsjyar6qgn0G8RxnEZI+oq0RVbUh/wASe6xx+7NduDqyp14OPcznFSi0cBvzCvlhU3kA5Xn3p8+PJlTkooPQ9aqxBmu5JnTEaDCox6H1NWGO2FiwOSp5r93g+ammfHSj7zO58OSfaNHt3XONg610EEFuyOZnKsPu471ieDWtf+EUgDqfO29fxrYHNeNUb5mPlI9m1yy8ZqxbxLNLhzgetLbpC0jC4YhccYpp2q5CH5e1QAxx5cpCnIB6ikRfMkAJ6nqakjRHkCudoJ5NLPGsUpVG3Ad6Q+gTW/kSY3AnqCtNkZ5OXJbHrSLyeTU08Hkop3ht3p2pskje1kijDuAFbpSNcSPAImbKjpSM7FQCSQOgp4tXNv53G361Nw2Ilhdoy6rlR1Ncn8Q5xH4GvF2DcDw1dcsrIhRWwp6iuQ+I0DP4HvmUZCgEn0rSm7SQmjxUD5AaQVIp/dqfakYDtX10djmZqeF32+Ioc91YfpXeK25jmvP9AO3xDae5P8q79WGTXPW3PEx/xolFOzTRT1HrXOcNhKTHNS8UwmgBCDRTlNGM0CFFFMzRTuIgpegpKXtU3dx2EJzVe8P+jtVjFVr/ACtsxpsuK1POdRBM87AcFyKzqvXcrGSVexcmqPrXTQ2PpqfwIdsytdf8Po2bTZGwcRyuc9j0rk4cFsN0rtvAW1PD6lpAplkcqM9eaxxO6OmGx1pAltgCOO4rMlISUgOAByBnp+Faj/c69B0qlIr+aQux1YZ5UcfjXMixWYPABtWbuDjgmhZGEJaVVCBgFfdk5PGMVE8rRxtsUM8altoGAcCoyI57WKI2+FciTy0bG09c5qhlW+8wMwjiCSICUaQYGO+Kr+S8bRpdSLuY/fi5APvV2SQRW00E0vzkl8HqUz0rOASa8X7Esg/56LI2AB6jNWgY4yyw3EkYCmGP5HbGME9verguHSFVIcLGNhlxkcjpWWlvM8hh8xT+9zvY4OBV/wA9J7yOMOzRSswG88ZHpQwJxDcCzhRB5gVwI2U5zx1NTRrKWWOaFQ2f4QOtFsqC8mwPKd1wCE4J9jU0Si2mzdSMXZ1C8UJhcg8vZ4h0nyiMeYQxz1r1ITQmxSNI8SA/MxrzNiJ/EmmmNQqiY4wMZ4r0UD5QTXlYlvm1Fa+pJuO0VZS5VbIw+UCx/j9Ka90rWawrEoI53Dqar5IGcGuQQ8MfSp47lVtZIzCrFujHqKEvWW0aAxrg/wAWOagIwpwKTATdmpYLpIVcNCshYYye1NhuzFbyReUrFv4iORUAz6UIL3HBs9BVm1nSFmZ4w+RgA9qjtbr7Nv8A3SvuGPmHSo8lj8oP4VQCs25iQO/an28kSTjz03pjkVJaXAt2YmMPkY57VXbBkLdMnp6UhnmfiJIZvGt/ti+5IrhiO22qsEapahfNALBmJToM1b1tVTxbqM7XIjKkKqFc5yozVfdBFC4dlUbQ7FFwCMV7VD+GhbM5uGJ/+E+0MS9ftBIHqMV7cx+avEYt0nxD0NhLvIlPA7cV7VnJr854v/jQPey74GPpaQUtfCnrBmlzSUUkAGq2pKH0O8UjOYmqwelV7/d/ZN4E+8YWxXVhletD1RMtmedxrDukMu8x4yuTyOKkkRnWIQBihXBL/wAVSW6B7YrMpKkZkI69OaltniS2zC8jRgEhXXBA9K/eKekEj4+W51Pgnnw7CGPzAkH866q1kgRW85Cx7e1cv8OryE+Fyrx5dnbBPbmuiBA7V49T42MdkFiadD5ZmHnfc7063eJZMzqWX0FRylWmbYMLnioJHy7PMPlfd7UxRlgO2eaFwHXd0zzUk3lCT9wTtx3pDHXUUcTL5Um/I59qhznqadjI5qWWGJIFaOTcx6r6UDshr24W2WTeDn+HuKiy23buO30pD71YjgR7dnMgBH8PrQFkRRQ71Jz0rn/GSmTwdqcPVWhOa3clehqhq9q15o19EvJMDcevFCeokfOsTZiT6CnDrUcQHkr6jg0/pX2FLWKZySL+kuF16xb/AKa4/SvQujkGvNbKTytStX9JR/OvSSD5hzWVZHjY9apkwFSA81GOlLnFcx51x5NNNAY0GgLgKcDTe1KKAF20UtFAFYrxSDrTqQ1PUV0GRVa/b/Q3+lTGq2oNts396ocNzzK6bNxJ/vGoMVLNzO/1pldVLY+oh8KGEkA/Su48EPDF4ZgkuDtXcfm/GuHkX92x9q7XwwzQeEITHs3IdzBj0XPWufELVHVDRHT/AGlZ1klhR2ETAKCMb6WZnE4ijj2A/wARPSqU0jSWqG2lLSb1OI+Mg+3pVi4uGuIZw8KthRuBfHPp9awtpoUmxryJZPG15KZfOfYqKMDmoJLiKU2sVv8ALHE5MhzyRzx+dNQg6fbxyQNlTkszbiaieXy2JaRJEdsoqpgoMf4076ARSXObMtdWYZ3ZgNh5x2qK2RP9FhAKh2Kx87zzyc0RujzxSHc0qEr5Y/iBqzDIlxPtXdD5RbaB27VotiWmQRxKLiQSyNwvQHcAamjkjuYftSFQYZNoAXjBHNPtbdYbdHK7HUAdQcn/AOvRJcL9leTzQQpy0SpjOeMH3pDRcs0na1xdOse35kY9AO1SxhjGvmSR3DbusfO2mliLdGkiMdt5fIPJU9hj0qlClu7mSzuWtvOXBEa52sCcnn1pLcb2Lyyudf0vdGI8TMMeox1r0yW6SWBUSILt6kd68wtC51vS4mYzeXI+HPVuO9ekqMfwnmvKxK9+4X0HgYXOKnN2TZC3Ma4znd3p89289ukRRFC9wOTVYIcZIOK5QEw23djiplu2W1MAVSpOc45pzXL/AGMQbV2g5zjmq/luE37Tt9cUC1QBeM4NT2900EToqKwbuR0pYruRLUw7Vw3cjmofKZY94B2+uKCrDdpbOAantLl7UttRW3evaiC6eCJ1VQd4wc1XAbnaCfUgdKAaHcliQCfoKfbzpDPmWPepHQ060uzbFzsD7hjntVdvnZmA6noKBHmniaXHi3UdsSspKMAeMZFZF5LJcARy4SDZ93+6fU1oeLkkTxfc7MZkjXk9uKpPI02yO6JEypjy8f6z3r2cNrTQjmf7Ri03xtpV/I++FJcO56YIxXvETpPAksTB0cblIOcivAPEVi7WoSKMsUcsSB0FS+FvH2qeHZEQubi2AwYnOf8A9VfIcSZbPFSU4bo9fBVowjZnvopRXFab8WNBvFUXyyWch65GVH41tw+NfDdwMxarB+Jr89qYHEQ+KDPYjUg9mbZppJrOTxLokrbU1O3J9N4om8RaLbqTLqVuAOT84rD2FRP4WXzx7mjnNQ38qQafM0p2hlKj3JrlNY+JujafD/oIN4+OCDha5fSfEes+KvEAvrwCPT7bOyJDwWPb3Ne3luU4ivVjJqyRz1q0YxZu4itTslnEbN1DDGadHENglZlzuPfjFLLAZZRcTBwM8RyAcUsxacAJCyjPfpX7FFWjY+Vk7yNr4esJNFkwORO+cdua7OCZYJCWQPnsa5D4dz/YodQtxGrfvzyO2RXVAFpOASSa8arpJl9BT8zkgYz2p8bKsql13KDyPWnRSeTMGZAcdVNE8wmlLqgTPYViIJ3ikkLRLtX0qLI49KQ/KwyKnuJIpQvlR+Xgc+9AwnMAiUQ53fxA1XzSk81Pi3Nr382mhCbITali/wC9/u1Cp7UmOeKsW6QMrGV9pA496GILeOORiJZNnHHvVK/OLadVPVGGR9Kn6EgetRyRCQMhYDcp5pFHzQuULx/3HYfrTgxp94hh1a+h7R3EiD/vo1HX11B/ukcc9xyttniY/wAMin9a9TU7gG9QDXlEhwAfcV6jbPm1iJ7oP5VNY8rH/CiwDT15pg6U5a5DyR2OeKdim5xTvSmVuIRSUrUgoAXNFJmilYCCkPSnE0zNBNhDWfq7lLUj2rQJrK159tkx7hTVLcqmryR53L/rm9M02nOOSaZXVT0R9RHYbMcRN9K6jww6x2luJAwWSEor9hXLzEeTXT6PFINMgMOXj2jIXorVhWV5I3i9Ddt4vtCiS4nfarjahwNvbqO1PmRI1l2XTR7mMiOuCGx2OapSS3CQMzJsZlCEheW5qx5SfYmLQ8SAN5ZOCKzWhbLNtaymOaWebzGVQynAGeOlTtb/ALtW8t/Kx88agEn3zVOGXzJ9iH7y4C88Ae561LJdebPHHbXDQzlDw/O4f40EkUsIimuApWPZsKTYx8pzx9eKX7MI2woLtkuzDk9KbcTPaMqDMrb8t8vLGpFJaTzjGyyMP73HH0ouMjd5rO7gPn+bG334dvX3q07TKrbUCRrIvltnO9T1zVGYSM4kKLG5JVIw38OM5osWCyF0Hm+amzl2ytSM1VvUeJxJkupx904ApGQzxSJLJGvIeNlXaSKistQ8wP5kLIUGPu9cVPEovVRzMBubaGj4wB61Dd2V0JtIcPrlgjgb1MhJA9q9Ie9+0RoojC7emK89sF8nxNYquCGR8Gu4iJXB7g15mI+ICd9yj51K/XvViS/eS1SHaoC+3NNur2S8VPNC/L0wKheN4wGZCoPTIrlEPZHCbnUgHoT3qQ3kv2MW3y7B7U2S9kkgSJ8FU6YFMeKVI97RsFboccGgNxNsnlhth2nvip4ryZLVoBt2N1yKi+1y/ZRBkbPpTVjkMfmbTt9cUAOWNyhZVJUdSBToL2W3jdI1Uh+uRTo7yaGFokI2N1qFUdlLKpIHUgUANQMwOFJ9cCprS5NtKSYw4IwQadaXclssioFIkHOe1QhS7HANMZ5d4xlI8d3DKv3lTgenpWeIk+2rHGMuyMSZOee1aPidNvjm8XeyqyICV+lU0haLlXG8klWb09K9rC/w0JlJXMEPlfKpZv3jY3bh6c9Kybzw9Z6hMzgm3IHyFBwT71vTNb3BKIqpNg5TbyTUaRTr5DIqMyHcB0yPeuidONT4kOM3HY4qbwtfx8xzwyJ0BJxmq7+GtWG7/RkYK20sHGK9DNxNcX24W6TebnZ5g4GPSkEPm39vaqVY+WTcR4+Xg55rglgabZrGu0ec/wDCOasJFVtPO45wd45q9B4N1ibbvt0gDfxSv0r0K8trzyw+5EKuCkKLyV7io5GSWeRmckykKY2P3RUfUIdS1iJR1Od0zwHEt4i6pdCaMj7sOQAfrXXQ29vaoLOJQkETcBOMY/nVSPzGby49rIx65ww9cVoeX5Myl4eGUEFm5I966KWGhS2M51pTH3jQvEskjSBJGABL4xQNkKE+YxUH5c81TZPkLyIrndkKvb8KeGcKQxzg5APb/GukwOj8Fl5Lq+VCHbzM4Qe1djDNJbzBlXDDqCK4zwDful/qTxqokDqrce1dmHaeQs3zMxrw638Rl20CWR5ZGZhyx7UYZGXepHfkU6RXhYbl2sDnBouLmS5YNLjIGBgVixElzciZlwgUKMcVBnI6UhVgASCAemRUzXIe1WLywCv8VAxzTRNZrGEAcHlqgyMUw9OBU0VxEkLI8W5j0PpQK4+BoRG4lXLEfKfSoD1po5qa2aETAzgsntSuNBBs80eZ93vUN4qGU7OV7VJKyGUmMYXPAqJyvGaYPY+eNcQR+JNSjAxtuGz9Sao1seMoVt/G+qLGeDKD+YFYwr6vCu9GJyz3Gyj5DXplqd1jbEdDGv8AKvNJDhD9K9I0h9+jWZ/6ZCnW2PLzBXpovqvy04ClHNFczPH6AeaXoKSkzmpAdzilFNGTS0wuLRTCaKAuRGkApaDwKXUY1hisLxHJixf6YraYmud8TSH7Gwpl0VeaOMY54pmKeelNrsp/CfT9CG5+WOu00O1VdNgEV1tLKDtGOTXJw2J1O/trNW2+c4Un0Fe023w80e1s4LeS3ZyijDLKQT+VcGKrKnJXN4rQ5eziBaWGXCknKOxzkjuPapw9siySXarLJvIXBGF4/SulHw/0Y4/dTjb0xO3FWZfhnoUMayy2zP5nPEx5+tcn1uJSRwdvbLdEoZXDxcqQ3ygHtmmzXCX80UIfa8Z+XnBOPeu4HgnQIo9iWcgX0WZsUg8D6AwB+xuGHQ+YcisKmaUKXxuxrGjOeyON81vLaO43kFiVIOCB7HtTlEcVuYbe4ZP4h0Ofxrrj4K0kjDW7sOwMzf409PBuixr/AMeIz7SGuX+3cFe3Ob/U6tvhOPndJoEfenmIfv8AA2j3qBZ0hZPs9wG29drdfpXYv4I0RmP+gsM9f3rf41dtPAegXDLELJIzjALO1bQzfC1HaMjKWHqx3Rwr3yhd8bKkhYF2kPX86vWExvLdA424Yk+TjFdVP4D0BJTE1iH2nr5jUWvgXREuF8m3eMk9VmYV0fWomfL3MTTUceKLOVXQoittUdR9a70Nnr1rj/Evh8+FNQs7nSbop5hbejncDVIeI9ZkcOsqx7efmiGGrCadR3QWsegMMAZ4qSa8e4RFlfIXoK86uvFmsXTqzyRoBwQiDBoXxDqzxeZG6bQcZKA1n7GbDQ9BKleW4B6VLLfPJCsLPlF6CuJk8Q6pewwiS4VQg42ximnUtTBH+koQPVAKXsZILI7XYQm5hgGpBdyJAYQ/7s9q4268T6nLZJGXiCkZBCcms9dZ1ZgcOgHbC5o9lPsI78Z27scetTwXckETRxsoV+tedQ+MNXNi9sBCxU4DlccVWXxHqjSlYpA2O4j4FCoz7BoekhDyVyR3NT2tw1uzFQDuGDmvPLbxjq0NrJAPJlEhwJQOn4VLH4i1KBgXKzAddq/0qvYz7AZnisiPxjfu33TGpIx0yKpWgt5V8s/KCpJLnp71YW21nxF4ivZ3S2igwIxI2cnj0qzceDtdlt2tYb6zeEgcMpBGK9CjUjCCjJiMb7K+1irLJ5LZLD7+3696iJeWYsC645CbSePatuPwRrcSl4ZrGNyu1grPz79Kkg8IeIIlG27tCcYY5bd+eK3+sU+4rGS6xu22KNk8rjH8OSKc0SRW0xjPkSrHu8xBjPtmtCfwf4ik2gy2LRh97J5jAt9SFpLjwv4mlLZ+wlGAxGZDgfpT9vT7kMpQB5Jlld2YBCu1jkjI9RU/2EIgMyAbE2gc5bvzUi+G/FC25h+z2Kpkf6qQg9fpVv8AsrxL5m42ds2R2m5/UUvb0+49SssMbZkCrsZQSV5IPoKmZmMDvIQscYHzDse1NGheI0Z5Es4Vkx8o84baz30bxYkzMdOik3HIH2gBR+Hej2sO4x6ziSUPOVEa8lweaVBG8kxt5BJtOHJ96ih0TxLGzB9HiZGwSFnHWpv7O8SyKY5dFTaz5ZlkAP6daftIW3Frc2/AcWdQ1FY1O4uuSO/FdwBJBNj7rLXmHg3xTa6TqeoxzebBJHIFxIvOcdBXXHxxYXU5bzGZu+1OK8ism5tpGp0k80kzb5jlulNZWjALKVz0yOtc+/jHTgxUtJvAyRsoufHNtOiCQvtXp+7rHlfYTOjmunmjWNgNq9MCoCSBnB/KudHjKw2jIk56HbUjeObZbJljt5HB7heaOV9iToUuSsLR4B3dz2qAHmuXg8aW8sZLWtyh9Cmf5VZtfHVpb79+n3kgI6+TUlcrOmtp1hl3MgYY6GmO4LE4xk9q5R/HFuWJGnXwGeP3VNi8e26TL5llcqgPOU7UtGFmddHjIJ5HenXTRMymIbcdRXKz+PbMzZgt5tn+5UkfjCymDGVJEAHJI6U7Mb2PJ/G4A8d6iD1JU/pWJWt4t1TTdY8VXF5pbO8ZAUuRgMQKycV9VhP4MTlnuI/Kn6V6JoLh9AsyOyY/WvPGHymu88Lnd4atz1AJH61pV2PNx6/dG2G+WlzTR0pWHpXIzxegZopBSikSPFGM03OKUGkMTFFFFMRDRQaO1AxpxiuW8Tn/AEcj3rp3OK5PxK+Ysf7VM3w/8RHLt0plSOMcGo8V2Q+E+kL2gHHijTveYV9B2rmUDd16V8/eHY/M8XaYg6mb+hr6IFqbbClwxxnIrwcx+NHVHYsz2v2YKTIrbueO1ULi7G4QoxLN2z0qaQ7UJOTxWFuz4mjAfIMDMRnoc14eKqezoymuh00Y881Fmpt2nk5NLSdaUivy2viKlWblNn1UIRgkkGaUGmd6WsOZjH7hRjv0pAKWnGcou6YNJrUlgVXmVXbaCeSe1TXUKQXGyKTeAAdwqhK+x41P8bYFWVQBgCeDX6NkeJnWw156tM+dx1PlqaHK+OpVaXTVlkIAZiOevHSsMAudgUEkd62PiRDFbahpOwmUHeRj14rAt7/zJPnVYyn32xgke1fY4XVXOBgI3W5UNhhGCdmQd2aeEU4b7QVRQcxJ3+tCSrBOZVjMisCMjqM1ZhiY7sgKCMqfX1rtVjMbIXitUeFGdtuVXIH51Yd90CGRMA8Mp55qPEoSEL+8Vs5bGAg60qrGwZhMzq53BSeFpNJsadhquv2jEGVC9Mjge1QeYFuZPJZjIfmIH3R+NSmVPuk9OOmM1DKcZ2O0YbhsHORTaQFUEozLb8krkEgcc802UPNbM6SpIIG+4nU560rCUQlFkgZgcRyA/N7g1HEgVZYN8cW3BEiHaSe596XKugjQgKJKypwyLuC7c8Vet0FxGzlh8xwe1ZFuk+7Ek63EmBiQDA2+nvWlA0bK8QZImjbLZ5/GnyhdGv4WVi18HHScDH4CuwlkgaGNYYdhXqxPWuV8IrH9jupI23F7hiTnrwK6RfmGDXjVfjYCjBNWvtCfY/JEKhv79LLdRyWqQCAK6/xjvVYnFZMBvGBVm3uEihkjaFXLdCe1LHdLHaGLylYt0c9RVYtilqFwKZ6CrFpMLZjuhWTPrS2l6LcMGhEm4cH0qLzC2TjrQO4yQbmJAxk5wKW3byJ1kKhsfwtU9tciCXeyBxjoainl8+dnCbdx4AppiYTMJ5mcKFz2FRqBHKu4ZGealgfyp1dl3bTkqe9PvZ1upN+wRjpgUXKWx45q93EvjPUgLdBEJwPNPVcgZqXbHDbLHBOoZjuDOnUVW1uJk8W6nJ5RljS4G9c9toqRTLe7kChY8DYWGCor16CvTQmWbZcQyT3EnmCZflwuMYqbYN2zdhRhmOOg9KjtmzaRCTlFbYMdyD1puqXkFrbEzDZj5sZ6j3rRxAt2ujTajcPBA5jVD8zuMgZ9K6qy8O2FntZkM8oHLNwD+FUfAtxFe+F47qEf612JPrziuir84z3Pa0KzoUdEj3sHg4cnNLUYsFun3II0+i1INo/hX8qKSvkJY/Ez1c2ejGjBdB+7/ZX8qjlt7edSs0CMCMdKWlBpRx2Jg7qbB04bWMO78LwOu6wkMLDJ2HkN/hXPtaSQTMt1bbSPvA9673NYXilVSOCZupyOvWvscjzurWrKhW1v1PNxuEpqm5wPF9VSOLXLpYoljUsGCr05quKt6+MeJLkN12qcfhVMV+qYf+GkfNSWo5j8tdv4QfPhsKe0xArhyeK7Hwbzo0g9Jj/KrqrQ8/G/wjp1UBaWogxp+eK4jw9LC0UmaXdzQIWjPzUDmjbQAtFNooCxEaQnilJpOtAELVyPiU42/wC9XYSLxXG+JTmRB70zpwq/eI5888000rfeo712R2Po7Gt4NXf44sc87Qzfoa95gLMiljk4rwvwIm/x5aj/AKZv/KvfXihiVBDIJPlGSK8DMf4iOiOw2/SOG03RyBiRyPSuU0k+Z4vuSx4W2A/WuiuuYH+lYWgpE/iHUXQ5ZI0DcdK+azOVsLM7sIr1UbxGOlI1OLU0mvy8+pEoNNzzTutIQCnjrTelANAEN1j7VYg8Azc/Taa1rpbdXUWrZHesa5Ob+yX3c/8AjtX4gRg1+g8Or/ZW/M8HMn76OM8dsf7T05FUuxjkxjqOlYPmy/2aokgXcB+8Ev3iM9q6H4kLbDUtKkgdixR1YAZINcuzrtMfnDzcZQE4ya+7wfwM8qTJ08wASRAsGIQqT91T3q7HE9tFIEMpYcDDZBJ/pWTu8owiVmgQEbhnOa0ImgHmy27ysu4Z3sSuPp2rrILMTPF5Ud2+5mPJHQGlW0FvPuiBZNpGB25qSdLdoFZOYy2fNB4U4qrJJPF88G6UbQChbge9AdbDpWCLgR7mYdHP3RUUgnZikSqEA+bcP5GoZrsrCZTColbCqA2R60iX0YQLK6tPt/gbIH4UIBzQs9vF5GyOQMcupAK/X1qKS3Jb9/GCu3kqfu/T2pdnyieCF5JFIAB4JHcj1pzGQI0/DDdtKkj7vritUhXI2RVSJYLtl2Y/diPdkepq46yfaBMlsPLbiUkY3ccVAkjGWNtqorDDlRyBVyO4mPmbjvtz90AnI/Ck0Tc6XwyVMVwEx/rMnA9hXWTXMT20cccGxl+83rXH+DMfY7gsdz+cfywK6cn1rw6/xst7Buyc1bjvEWyaFogWP8fpQ1zE9isSwKrg/e9aqnr0rC4rgTnpVq1vBbxOjQq+7jJoju40tWiMIZj0b0qsOvSi4WAHBJx1qe1uPs8hbYGBHcVJaXS227dEsmR37VWLZYkDFIBzvvYnGMnOBRDKYpVfaDjsRT7W4+zy7zGH9jTJpvOnMgQLnsKNhjp5jPMZCoXPYVGQP4xxnkU5JPLlVigYA9DUl3cC5k3hAgxjAplI8p1uOCbxzqcaM0cc+1SV6g4FAtIrecGOY7gfmSQdfpU+oRSHxlqDwQqf3qbmZscbRVkqDceYuG2nBJFexh/4aEyp55hnjAt/MhZsNtHKk1z/AIqIazuZFcsrKUC54Xiuhme58wYnQxBst8mDisDxLHA1lhNx3qWDKOM+5raWqCO51fwnff8AD629Vdh+tdkelef/AAan3+Dp4P8Anlctx9a78ivxLOYtY2Z9Xhn+6QUUmaM1451C0UlGaT1FYcKx/FVu1zpcYXgo+R+VbHaqGt4XSWcnG1hXq5TLkxtN+Zz4hXpyR4l4oheHxM3mkBmhU8Vmg1ueNQB4igfHLwf1rFAGa/e8K/cPjKm4YzXX+CwV0+5BPSbp+Fcl9K6jwfIWW7X3U1tV+E4cWr0WdUOelPpiH2qU9K4mfP2GjrR3opc5FIBVNPpiCn0XBDaKdxRSKKx60UlLjimQIw3DBOK4nxJ/x8oPc12b52muK8RH/TFHsaa3OzCK9RGFIPm4phOKc+d3FMY12paH0B0Xw+Ut44ifssDn9K9wt8CECvE/hv8AP4tlJ6JbnP517tN9mVEFscjbzmvn8w/iHTHYi1P7KLMeSW8wjDc1y/hbjVdYk65ZV/IV0N0N1qwB5rz+08TWvh3xlLZX52RX3IcnhW6c181mlOU8LKMdzuwjtVR3pPJozmkRllQSRkOjDIZTkGlxX5pOHI7M+muGKAcUYpcCsrDF3UmeaUDPSjAUF3ICgck9qfK3sNEUm3+1rQMM4jc/yrWuXt/k+zjAxzXLWOsW+seKp4LJxJHZW5V3U8biw4/St7PHFfo+SU5U8Kk9D53MHeocZ413HWbBUlMfyPzjPpXNvHJZbzMEmXu+zkV1Hjq3E+qaWbYDdsYNubGDmsR5nm80Enap2yR5BxX2WFX7s892C2htj8i7ZcpuAfjtyaigMkNxJaRfM7L8zFDjb2OelWLtSbRRa4B9OppoN5ZRD7Q4ZWAClV6e1dhBO0caRxwToJFLbQDnB9+KrS/aLe4LxxKCx2Kgk42jvU/nIsbPIWUIcEn1NJEZRIJjEy8lTke3BoYWKbOIYY5YQu5pCRuOQeOlQJPFJy6m3nbIcsNyn6Cr0YzZrCIEuFU5ViMZ5ps8Mk6jzrdsSMT+6PKVa2JZAkw3yRmR8og2lemD3AqRTEFLReY24AHJ5qC12RxuIFld489U6n3NXYIT5u94xyFOA2c9aroIctmvlJNCpVycE9CBUwWRdqn72eMNyR70ydXaRn+1NEqgDapz+Yp8ZQ7WRi4cAqT1qbuwmtTe8IOVjugy4Ik6fhXYS3MM1oqRwhHXq3rXI+E8NbzuSCzTHOB04rpeABXh1/4jLew7pVoXSfYzC0ILH+OnNdRPYrEsGHHV6rdqwJGqatW14II3UxK+7ue1NjuY47V4jDuZujVXHXmmA8sOc1La3C28hcxrJkYwaktrmOAMHiDhhj6VW4LE44oGOdjJIzBQAT0HanQyCGZWKhtp6Gn286wSCTZvx2NRzy+dO0gXbuPQUmMW5mE0xcIEz2WoiduCRxT43Eciuy7gDyD3qW9uFucGNBGAOlHQpHA655X/AAlly8C4yqHHvioJVkaPOcOP4SODU2q4/wCEmuFJ/hT+VU7mWOORYhNiQnkA8162F+AciIJICxdQVwRtB5rG1iJRblY9xJX7nTH4VrGBXV0S9eR9248jI9qpaoxEAkdVUlSrDGcY9662lYlbi/BZwLDV4M/MlxnH4V6YeleTfB2ZU1zXLfPL7XUevJr1gmvxnP4OONkfUYR3pojLUuaYTzS18/ZnYhwOacBTB1p1IY8VV1hA+izgjIAB5qzVbVgp0O7D9DGa7cDpiYPzRjV+BnjnjiNV1SwkJ+9GwrA4zwa3vFaRt/ZjqSR865/CsZAoJ4Br9/wvwHxVTcbtIxXTeDSBcXS552Ka5lsjvW/4L/5C1wD3iH866anwnJiNaLOzUc1J2pgp46VxM+cG9aUCjgUopCFAxS0Z4pwxtoEN4oppJzxRQUQClzSZxxTc8UxISQ/JXD+IDu1Jc9lruG5Q1wuuHdqbewojuduC1qGOw+amEc1Ix+amE+tdq2PfOs+GEefEl85HyiELn8a9lhIKr9K8j+FgzqmosRxhBXsk8kD7DCu3jkYr53G/xWdK2JL0Wslsiwx7X/iPrXnPjbwOmvW7SINlygzHJjofSvQMZAqeZ4GshGE+c9TivPa0NItxdz53tdc8V+BZhbyljDnhJF3Ifoe1dLY/GUEAahpoJ9Ym/wAa9NuLC3uVKTxKw9xWDJ8OvCd35hubDZI3RoiVry6+V4bEazjqejTxklo2c+3xf0v/AJ8Lr9KB8YdJHXTro/UirZ+Evh7JxJeEdh5v/wBalh+E3hrzP37Xm32lri/sLCdjo+ueZm3HxltFjP2LSpC3bzHwBXPT+KPFvjac2dhujgf5THApC/8AAmr0G3+GnhW0kDJaSzjPSZ9wP4V1OnwWmmKsdpbRwxD+FFxW9DKcPSlzRhr5kSxqtqzn/A3hIeFdNcXDB7q4IaZlOQPauyuZLeWNBbx7COvvUd5cxTSKYU2gjmoQRjivYjGysjzKk+eXMzg/HEMtx4gs4oeMxMSQcY5rPs4PJhmhLsWDZbJ5P1re8VvCfENrhtrrAc/nWWvkLds4/wCWi/Mxr2cL8Ji7EcbyLgr8hIIBI/CieK4dvluVKx/MqbQSOO5qcYLjGDg8GoZIY/tjTrHtkZCpb2rsTFysrRxyIYmuZJG8xz+7KDGT3zRbNeRXnkJtk8zLCZjnjsMVMWaT5Zl+RRkbTyR61UkB06ONLeRmDksdw5AJoW4tSwZrhtQMPJygdcDgHoRSR3N2+2ExMkm/DYPr3+lWIP8AWKv3ZXX5N525qTfI84EmEO3qO9VcNSKEylPI8oxbR8xzwTnmghIsxxjZv6YGQPpTs+bIm0FHzwx6Mfen+Vgln+V8FeOg96GBXNl9mPnvOzO3ByOv0FPtZrkW8gZIVKn5AfvfjUi2zNDG3mHIXDqwzn3HpUM0RACjzXTIz5Y5+uaLk9ToPB7mSO8LEFvNySB7Cu0nltZLREih2yDG5vWuQ8JxxpbXLxoyF5zkN9BXTAcV4lb+IyrEnAXFTrcQrZNEYcyHo9LJNbGwWNYsTDq3rVXPFYMQmR+NWre5jghkR4g5YYBPamwXECWsiSxbpG6NVYtUgSbqns7hIJi8kQkGO9FjcxW8jefEJFYcZHSoSQSSBgZ4FWMdM4eRmVdoJyB6UQSiGdXZQ4HUGltZUiuA8i71HamzyLLOXRdoJ6UmA67lWeYuiCMHsKizhRmnx7VkVnXcoPI9alvp4Z3VoI9mBg1XQDh/EqwnxQXthtDwrvPoRWY7DbuaCN23ctt7Vc8QsT4k2ISD5QbgVVEu35Rt4I3rnmvWw38MTKUQaO4klWGOOMnduXG5vY1Wu7SW9tySzwfNkrkHIqxcHbFI6NjB4P8AKnhfMjVzgtgbiD1PrXVa6FsedJqV54U8WyXVmSJEPIPSRT2r1rQfiNomt26ieX7HcAYaOU459jXK674fg1S3MpADxj74I4+tcTf+FtSsVMkca3EPZ0PP5V8jm2SwxTcnv3PXwuK5FY+hlaOZA8EiyKe6mnqjEdK+b7XVtZ035be+urbH8BJxWrH4/wDFEUYC6nuA7soNfHT4erp2hJHqfWos99CH0pdh9K8GX4i+KyMLqSH/ALZio38UeL9TQouo3LA9fKTaPzFZx4dxTeskV9ZhY91vdR0/TYDLe3cUSjruYVyMnjKLxHNLa6YGFpCcNKV/1h9BXndl4R1HUJlk1meRhkHa0u4mu5trYadZpaaVAiQr1VjyffNfRZbw5GlUVSq7tHBiMZ7vLE5nxuf3NioUY84ge3FYCqV610XjhP8AiW2RXGVny2DnFc3vOa/RsNoj5+YuMmt3wgjrq7yceWIyh+vWsIVq+GZtniJFzw8bAiuipsclf+HI7sU4Ug6UoNcTPmxTTc06jFIQi07JxSBfSnAYoASilzRTArDmkIpVpetKwrkUjbUNcLq5zqUv0rubg/ujjrXC6lzqM30H8qqO56GBXvmU/DGm9ac/DmmZ5rsWx7qO6+FS/wClai3bcgr1mIYAyK8m+GGo6dZtdRXdwscplDkMP4a9TuPEGjMw+y3SbQK+dxabqs6Yq6Ne5mt3t0EMexgOTjrVJumaz213Tz/y8oPqanm17S2tVWO4XeBz9a4WmXqX/Pg/s9o2izMTw+OlUto71mP4hsUPNzF/31Vq08UaItu63N1EZD93BqULU07SaCLd50XmA1WYgudowM8VnHXtPLcXUePrU9prulR3ANxcpsIxjrzS1DUv27LFMGddyjqDS3Mkc85aOPyx/dFZ02v6a1w4juYsZ4GaSHW7Dz1LTxkDrzVIXKaAAVhmrtzcQywRrFGEK9T61nXut6ZPIpt5o1XHOTUaapZnH+kR/wDfVPUZyPiKMN4tZpQCPswwD9arQ7Fz+7BUcgY61b8Sajp934mjW3mRnjt9kmG685rPNyhYMJlCxg/Ju6ivTw8rRG0lqTZEa5SJjuPCr2qFnmIZDG6qehdcAfjUyXMbR70ZSB71CLqCMl3lX5jxufiuvmQkxs0UYVSlwwaQBNoOQp9aZmKV45LgssiceZj5c+wpJLm2dgRNHu9d2QKpTXEYlSIyLKCchl4A+tO6JZclEsasbiUTxxtksVwUX1FSiRo4zKTmOMna56lfpVaaeae42JKu1+HQdPrTnkivVWKKYMVOHAGFb6GncNyYTxQxi6ZhIjnClQTt9jVtG2JiMFzI2Tk9KqK8VlD5cK85+561bijWRPNifIPOc1V0ySczJDFul+7nHAzTQpgmLofl9DRbqrSHMg45PNWFMefmxj1qboRqeF2Z7O4Mn/Pc4+mBXVSm0NogiDeZ3Jrm9BaKO1nHmKX847l/u8DFa/nxhR8wrxq7/eM06Eh9qsxy2ws2R4yZT/FmmvLYCxDecPNP8NVRIjfdYGsVqSx4AqzaSwRLIJ49+4YHHSnWzWv2VxP9/Hy1T8xMdRml1AUEZPpVm0ljil3TR+YnpRYtahmNwpcY4A9aYVXLEcDtTegkNnkjaZmiXapPA9KSNwkqsV3AHketOt5IVuFab5k7ipLiSB7hjANqHoPSpuMW5mjlk3RJsXHSoCQacjLvG48Z7VYu/s7BRbAjjnPemmBwPjJoofE1u0DEh7cBlAyc5rDm8yQqLbZ5ysDI2fuj3rS8YxSHxJGNhKfZwCQeR81UNksV00ylU3JsLY6e/vXsYX4BMrT3rtKtpACMMS5Kn5h9e1QwzTqrStbmOEHJG7J/OpZBPHc+Yr79yBS2cAH1xUpRpGg8qYhFb5hjr+NdmgtyB5S8aLMoZnbhIDksvvmrg8vyiYW+6u1oyKbIJ57jAeFoIm+YIuHx9alVYYow6IVUjPHOaiTTKSsQ/Y1ljG6MOpXBBUZFNFla2/7pLOEIB0KcGrS+Y5JgZTj+EnbkUvmEkpMThl+6BkD8az5Ile0l3KAtbCN8G1hj3HPyxg8042seM2SBGB+ZWXgj2qyI41UScnA54pkQu3l25DDOQQOcUckQdSXchiMS3md0ihhzlcc1fzhm427eMkdaf+7VW/ebyByCvNQxvIoIaMmPsevFK+oa7nJ+K/LudPZwPmSQcjoa5xTnFdj4ngV/D92InICsDlvrXHLjAx6V14d7mNQmUdKuaQdniKxYHG5ip/KqQ4qxp7bdXs29JRXTPVHNU+Bno44OKd2pinJzT8cVxtanzLdhRSikFLjNSIXNHXvSDAoxSAD1opKKYEe0Ypp4HFOxnvSEcVQrEFwdsR+lcBqLZ1Gb6iu9ufmhbPpXn162b2U/7VEdz0svXvlOT7xpmO9SNg5pmMV2Ht9TrPBNvENPmuG273kx05IrqkjJJ3qoXPGO4rkfDe1dMhJzguwJA6HNdXNcqkCxjBWNMsc815VaKlI6IEzW89zIsFmiNKT1Y8AeprdtfDNtFHm7bzifvIB8tVvBjQ3OlT3wy0kkpUMewHGK6EcrX59necVMPVdCjpbqe/hcLGUeaRnroejouF0y2HuUzT10jTF6afbD/tmKuGkxXyMszxT152ej9Xp9ilLoelSrhrCD8FqtJ4X0xiCkZi/3TWvSMMitaecYuD+MiWGpy6HJX3hl7R3mtgs8WORjDCsXyIVVsLg7uBnmvR8HbiuM8UwLa6pbmJEHmoxPbkYr7bI87WLqqjWWp5mKwapx5onPzwyqJGu0yqH5ADj86c1pKGt2WLzVI5BfGKHg85jJmQlG+fnj6VJcKzWwzlmLYRc/dFfa+zh2PHZreHNE0y9uLu5mskMqOEbdk4OO1dEPC2jvz9ghz64NY/gwOk1+JAQrSKRk9flFd7JaRQ26SJKGLdVHavOqScJWQGPL4L8PpYiVbdDIcfLVRvCuiFfmsIyffNbTOucZ5ppPNeXjMyhhI81SR0UcPOs/dKMfhHwz9hYmyjE393kVSHhPQ16adH+Z/wAa2SOaWvnanFP8sT0VljtqzOt/CHhx43aa1KSDlMOaqf8ACIaI3/LivX+8f8a2d3NOBxUf61T/AJSnlfaRRtfCPh6WNo722ITHygO1Vx4S0aLcsMEgTPA8xv8AGtfdU9mbeS423DELXs4LPIYr3b2ZxYjBTpK+5h2vg/QjKBNFMif7MrVI3hfSoZmSJJJIh03uTWxJ5aSsIzlc8VJBHG8yiRtqnqa9tVZdzz7Hk2oQXGk+KtQGn3UrElf3Tng8dvepFuLu5dxN9oifbyu/OM+9S+KoDD481EIpkjbYVY8D7vrVa1SXymZt7NIAyylumOwr06NOE4XkJtjPIu24bULlCTgAPnFSMlzCdn9r3ecZwrDcP0qSVWdDGSImPz5ByWP1qASPFJuO50Iycnr7j2rZYan2ECzalHw+sXW7GVUMMt7dKnj1C8a2LTXd0pIwC5AOaqfapt0blOFbduxkVZuLmKfd9rtsxlgYyozn2PpU/VYdh3JVn1KM7jqN1twcNuHUVbtL3UuHa9mmLD5EcjGPXpWfNdRTxuhV1jKn50HCn0q3vRbW1jEu3anDEZbHpml9WgDHwapqcs0q/aJAEYghcfzp8mq6tbxyTPct9nTkMOTj3FEcXzCaKXayx4kQj7w7Ej1pCqqoVWCjO8Z6YzUvDQ7C3LMuq6krRtFduqMm/BTP4UtnrmryKZBeLgHlSn9aQFVjZfm3Sckiq8K28SOIoikYOXOf1qXhodiircwa14o8UQGO5ihihi/ekA881sP4Hv7lyLfU8M3QGLP9ah0GTb4qWOIq6zwl1KHO4A13UBlhk3qSrDpXLUnKk+WJVkcOfAWqqyibVY1de3kdf1qNfAOqRzM8WtKu/wC8oh4P616FK8lxJukOWPpTWieNgSCD15FQsRUJsjhbjwDqrW5hk1bygw6rDjI/OiLwLqSQpH/bICIMYEA5+vNegzXD3KqJP4RgVCYyo5GKX1ip3A4weB70FZJdS3ADAzBj+tB8ESsrL/abqWHVEAruHu3e3EJxtHtUO3j2oeIqdwVjkoPBMy2gim1CacL/ABeWAfzp3/CHL82b+cAjHAAIrs47p4rZolAwe9VwpIJAJA61P1ip3HZHNweEdrYjuZZOMcqKjPg22Mgaa6uiVPAVwoH5V1UFw9sxMYByMc0za0jE4yx54pe3qXA878YeHJrXRbm4sQ9ynlHzIWIz9a8uiw8Kuvp09K+jLo+VbzFxkeWwII9q+d9yvJK0ahV3tgfjXq4Cq5yaZlPYTk1LanZfWzekq/zqLNOB2hWHUOpz+Neq9jCSuj1AAA8GpByKgTHlIQeqg1IhxXHLc+Ye4/FGaTNJmpJFJopD7UmSDSYD6KTNFAEYFI3SgtSE8UhlS8H+jvj0rzy7ObuX/eNeg6gdlqx9q8+nG6R5D3bmtI6s9LAL3mVm60h+7mlIyeKRxhDXW9j2kzpvDrbNLRXIEcjEgk981cvLuJEn+yBpCpKOx6YxTfDccp0WERsiFgSCy5x70usrNDYSO0iuxUgle9eZV3ZvDVnb/DxPL8D2eVwZCzn8WNdLurI8IRlPBumKeD5Ck/jz/WtYjmvxPNpc+MqSXc+voK1JIUdaUCminZryTcKDSbqAc0rDuFcf4wMh12xWNQQkLuxI6ciuxxXG+I7gxeKAeSEtgCB7n/61fQcOwvmEDixbtSZlWyu3mNs2JuAIH8Vactsu4KVVVA+XaKbasssZZdpU9Mc1bGGAB54r9kPlmW/DsGxpyD1b+ldDJL5cLE9qwPDiBBPj/np610WqWbW+niQyKwccAGvIr/ECMizvludbktlbLRwh2A7ZPFauK4vws2PHurDr/o0Z/U12hNfmnEEn9at5H02BS9lcKQ0ZpK+dTPQG96UUYpcUXEHamD5ZAakA4pYkR7iMSHCk8n0rtwc3GvFruZVknBos2iQvcAXD7E9alnSJbhlhbcg6Gq7hRcMIzlQeDUsKB5lVm2gnrX6zHY+Pe55z4oQS+IrxJ5tkA2cN0ziqZQoUCxPIighSq/LXQ6/Zqni69UMkigITnntWfPLFJMIG3Ry4O0EEA/0r2sN8CBmS0Vx9oVngQJGpCbW+YZ74pmpShfsytl2CHcqnBAqy1nNDNMI42fABUqR36jFV7g3C+SJNqhWxvPHWuxMgqgBHP2fcY2XcQTxVmK0YSyTTzhBsHloDjd34oEG91jkIVTncR2FQNHe/aI1RMpG+I3kYFQKYFpWAtWjViDnc0btknNToJCsKRM2EGGj25GM0x44TeOHj+ZmG4nhSe3NQpE0V80O8YYYwrY2Htn2oaEXZpdt40YiPmOh/eI55xUhu7Z1ghmQukgAAHAz9azkmMAj+0SgO2UAi6Zz0NWpc28DyKqvcRL8iA5FTYCzFdmPU/s9qqRhYyZI3X5j71O1sXQ8fKx5XdVdHAvleQsx8ob1I45p8E6XRcQnDRthvepHcsaHcfY/F9m6omFgdFAGMdK70ytcPvYfM3QAV55p5YeIrBpoljfMkZC/SvQrVzA6uvzbe1eTiviKRIoaKQNjDA55qW6uXupAzgZAxwKLm5a5l3uoBxjioQSGB7g1xoBeR1GKmnumnjVSgG3uKLi5+0BAYwpUdRVdj6UDEx3xVgXTC28nYuP72OaV7sSWqxeWBj+Kq+RTRIvXpU0F4YIXjCKd3c0RXIS2eIxglv4jUGKA1G4YtkKTUsFw1vJvUDd71JbXP2djlA+RjmoHPmOzAYyegpgVNSJuLe5PRnRun0r5yiB2up/hdlPvzX0m5CE5GeDXzgT/pl7gcfaZMD/gRr0su/iNClsHbpSMp8s+1Oz7UNzEwB7V7r2MJHpNq2+wt2PeJT+lTqao6U2/SLMt3hX+VXgMGuKW58xU0m0LminUmakjcM8UmaU9KQjNIQZopcUUDG4FBApvNB4oC5Q1Ti0fntXnUzEs31r0PV2xaP9K86k6n61VP4j1sD1GA0rDKUg60rdK7G9D1VqdRojQRWKpDFI0soCE7u3tU3iPz7e2k2RFYlUAOx+9mjTLHdZ2/7/y32fLgZzxms/XLy4exNrI5f94qkn0zXmVno2dVL4keyaVH5Og6enQi3T+VWs+tMtF26far/dhUfpTjX4VjpN4mfqfY01aCFzSZpBS1xaliUq9aQ0CgCWuG8Quf+EkupMbhFFGCMfWu3HLD61wGp+c/jbUCsg8kbVdep6cV9LwzHmzCPkcOP0osms4slpFzGoxhQOKvpxye1ZNkkshMI3mFsnJP3Tmr+5RGY2baVwAc9a/XUj5hmxoS7jOR08yte8ybRx7Vk+HX3wT7enmkfoK3tTtJrWy3SgfOOMHNePXl7wJHG+H4fs/xA1DOD5lmh4+prrWPzVxuhO3/AAsm5Rj96y/k1dk1fmvEH+9fI+nwGtEM8UmaQ0018/Y7h26gMPWo2pFoDoWAeKTNMWnKNzKCcZOM+lbUHarH1InrFluzjSa4CSNtU96muIlhuCiNuA71WePypimd209amij82ZUzjcepr9dp6xTPj5L3mcJqbgeL747vmbZkfhUN23myclwGOCEXJI/pU3iWFbTx3PajDSSIHSUdhiq4mhUfvZ1dkzuxxn2+te1hvgRMhJIVZXjd5kkTDqQc/hWdJPcst0G8tixVkRhwuO9aSwojeYpOGztBPWqsjyLJ5yANCqkOiKNxB7iu5EIpzvJLGJLdmDuQXZANv0pgEkvmNHMCVwDHjp71IUtEby4opTFuLja33s9ar/NC5MK7ocbFAyCvPGaYD3YPkXThY8/8tO5+gpn2n7Owlt8SsU2hj0OO9Drv+Xy2bCkcnOWOKrwB2UqvymM8E8YNMRZtZZBHiRdxZ9zEjjrVmSTy7j7VLtZCOgOazy80R2xuOejL708QSSuA7nBOFUDHPU0CLjSmJZZ5cqrMMFcsAMcHPar6XMSopWTf5gHyr2I71m2ksUVsLe3fYZMtJ5nO32x2pIme2VJ0iV8Ha5UcVDA2tJuTD4tsXnXcm5gBnO4kV6F5okkLKu0E8CvLtOZk8QacAsm0z7gx6Ywa9Pt5Akyu67gp6eteRi/iRoPV9sgbGQpziprq5W5YMsYjwMY9aS5nWeTcqBBjpUIbBHGa4loJhkVaubiKaFFjiCFRyfWkupoJ1jEUWxl6n1qsRikX0DPFWFuYBZmIw/vP79JJNbtZqqxES9zVbFUQOzxU8FzFCrCSPeSOD6UsElvHbusyFnP3T6VUxmmMkJz0p9vMsMu503j0pbSaKGQ+cm8EcCmSsrSsyDapPApARXbrJI7Ku0HtXzncxtHquoqFIAunH619H/LuBcZHpXz3rUmzxVrMZLBBdsVH416GAf70T2KRzSrHlT60olBHSlDA5HPSvoL6GLid3oR3+HrP2TH5VpAetY/hlifD0APOwkfrWxnI5rilufMYhfvGLSd6M4opGCHdqSkozUNg2OopKKYyMnFJ1pM0uRSuUZmtHbYOfY1564wxrvtdb/QXx6GuDY5Yk1dL4j18AtGMAoc/LxQaQn5ffNdctj1EdfpyTPpqeUFEoA3PjotZeuCO4sHktHzJuwRjnI71sWUzWluEBOGHGKlaF7mJkkCqmCRjHJrzaq5k0dFPR3Oq8DeM7PxBpUVtI/lX1ugSSN+N2O4rqmHGRXz5qegXMT/bLOUrIvOIjgirml/EbxDo8It7mUyqvQTKc/nX5rmnD83Vc6T3Po6GLXKkz3bIFLnPSvJ7b4vSMubmyjz/ALDVbj+L9oP9ZYyZ/wBlq+fllGMi7cp1LEQZ6WTQK84Pxg08dbKX/voVQu/jG5bFjZIo9ZDk0RybFt/CL6zA9VubqGwtXubuQJGgySTXmNrqq6tLf3kfyNcyswde6jgVyt5rPiDxjL5c8hitGPzEcKK62wsobGyjisUZo1iIeQ44IHpX2+QZRLCT9rPc83G4hTjZD4LqMSJF5twsiejcN9au/uLu4E8gznG0HsfWqLGOF45I0LrISAy84OMjNJJapHdfaLSbJYAumeAe9fatWR4p2vhlNltKD3kJrbvZHe3Ku7MMYGTnFc94UnlmtWD4J8w4xXRX1tLHbnzEKkjjNeLW1kX0ON0+1e2+JkbSMAJrNgPzrsCea8r8a3Wo6Nrun6xBuaO3k2yAdlNd3p3ivSNT8uNblY52UNsPTH1r4PiDC1HUVSK0PewE0qdrmwaZ1pw+bleR7UAV8py2PT5kMIzQEp9Lg9qLCuMHFEhHlEk4A6mmT3EFqjNcTJGFGSWbFcnN4j/4SfW7bQfD7eaJJVM869FUHPX8K7sHhataouRGdSaUXc7y1hNxMse4Kx7mp5rbyLgxMwYjuKryxG3unQNnacZFOjLNIBnkmv1GCaikfIv4medeIJpl+IEyRtjMA+Z+nSqy5eEyXvkMWbDlRjce1XvFSzweOprZtu3y1YN9Ris6WNTGpaBtkUuWRFzlvpXuYb+GhS1EjM0d0J5GY4UqY88L9KnLMlq8qyKAzqRuH3RjpxQsoaM5AjUHIUjBzUJuJJLRJY0WPzzg45xiurUSSHGULarc3E+PmyEA6ioZ72JW2iUvL8xC7cg+lPWNwgkVhGlvu3Aj5X46c9qrD93MGgjzujGcc8Yz8pq0SyvOJRZI6xFd7hyy5HTjpVdnZAd8RAY/e9a0JJJpowsLtFEUy3m85HtSeSZ49phVABw2c7qsCqpMh/cJjJ5AqxLbyBIomDpIH3EjoPxoaGaMDfGIxjBIGDn61ftYS0MbT73OPlXOdvHrUsRXjLKrtNMYwx2YeMMTnoQfSrIWaOEiOdUcZ2KeN/4VCYcMkUU7yoQSXYAlf/rVL5Ul3GTKd6wsGWXGMn0pNjJtMvQuo6WmoMS/2jPK4B46V6XmNpGMS4XPAryuO7JvreOfa0hnRkI5xzXqNlKqzKZRlM8ivJxm6Y4kwIDKSMjPIqW6khlkBt02DHIpt3LC8mYRgd6gLgdeRXANjycYq1cNamBRCG8zuTUVy1qUQ2wIOPm5qANQUOIFTKbT7IdwbzuxHSlb7J9hyGPnelUxQmJocp7GrVo1sN32kEn+HFMtvsrQv9oYq4+7g9arhxnjpQ2JEvAJ4qW3eJJg0y7k7iktTbmQ/aiduOMVDOYxIRFnZnjNFxj7uWNpswptT0r598VR7PG+rqo4Mgb8xXvYZSy7/u55rw/x5GkHxE1MQNlGVG/Su3Av9+iXsYQwBg1KpGOKiBz1pwAB4r6QyOy8KzB9FKjkrKRgVuHpXM+D222d0vYS5/SukDBhxXFPc+cxStWY4U7FM6UZ55NRc5bDu9FDEYqPOaBWH5opuaKZRGeKTdSFqQmosVoYuvy/6DJj+6f5VxTHjmuv8Rtizb8q49ua0pr3j2cD8DGk0EHcmOpYDminphpogO7iuqb0PRR3McMqxKiSRhwDkN3HpU0a/uxE6DMfQqeDRboVDlvvHuRU8LKoKsfm7e9ec9zdMgh8l1fEeMH5lYZqaXTrO+iCzW0bL7oKSOVZpHRzt3Dj6jtVgMzR4jIVvcVDjGW5opNGBc+CtIl+ZYfLHUlayW8H2TXDIlvJsH8YY4rrLiF2CxSTmMMcZT+uaTyJUcQrcbo0ByXXGfTpWfsIbWL9ozjT4Uso7kK5YrngZrVttD02G4cQWkW+IfecAnNaCI4mYyhJVXn3HpTpGgmMd1tSBy21iRkN9aaowT2I55Fc26xIoACucsoXoRTgc7Zk3RyMu1hnjNX7aL94TuR48EBkHQfjUf2OKEnzJJH3N8vA5NdCSjsRdtlCPULm3/c7wFzgBh1q8lz9pmigVMIqncRxuNMtormNlP2ZJUZzjPJAq39miigkiIWOTBKkHJGap6ol7nSeEg0Vo3G0iQ45rqZrqe5wJm3ema5TwiXbSlVjvZXYbvXmukKuuMqQfpXhVl79jS2hT1jQBeWri6hBjkXBDDhhXlur/DW8tZGm0O4KjtHKx4+jV7HPdTTxqkrbgvQY6VHJZyLGGljwp6EiueUFJWZdOo4bHiluvj3QovMWK9MPqp3qasR/EHxSi4azuG9zbt/hXr7ZaHyifk9KVdMBgMiWylB3xXBUy7D1HeUUdsca0jyJvHHjCSHdb2FxIO7fZmx/KoDrnjzVl8pLW5QHjKRlMfnXsKqsa4RFUegFT28Ek5PkqMjrUwyzDR2ghPGyPKNI+GnifxFITrF2YIxyQ0m5sf0r0bw/4asfCkDW9hGFl/il/iY/WtBJZYXIDFW6HFOiV7i4Cqcs1d0KMYbGM8VKasWIEknm2L8zt6nrT5oZLaTZJw3Xiq5MltP12utOMrysC5LMfWuixyHnviyWQ+LJnLHBRcseSOOKqs05iWVWVzIvzKn8PvU3ixbmLxkwG1V2JvVhyQfSoo4mhuHlMmVkYKF7LXs4b+GiWJHJIbyCLy0aDBMrMOQB70glEqXIsPlkUZVGGQ30FNluo2mO6L/Zww6+/wBKiZXa4Mx2bVHZCChx0rquIdqEUq26AyrEJBhgTxn6VXic3MSSJ5cUcfQhulPW4ma5YkbizAvuTIH0pPspiviirvhClmA9DTAiu9qWjrPIY3Yj5VOcj2q98kVkJdrFZxtKtwcD0pIrZGn3xt5yg5ww7e1U7uASSOIzNM2PMjOeEx1FK5Uti8lszWLCFxMynJBb+f4VMD9mRDuZrfkSApyMjjJ9KcyIYRPaFiTEC6IMbmxSJG0iRldyjowzyPrSbFEf9lQQxqhZcdAp7fWm3P2lFht4WJCsD04b6mrbQF8tGcMvPXg0qSkHB7ntU8wmiu0LQXNszLGzCZN5AxtXNegRldx8s5Xsa4OdgJA2ckMMD8a7jThG8iiVtqHuK87FboUUWkZS43/dzzU139nDD7McjHNR3axRzFYH3p2NQgjIBNcJQ7cBVqaO3S3RopNznqPSo7uKCJEMMu8nqKrg0APzVmOKBrUu0wEg6LUYhi+x+b5vz/3KrFsUh7DmPNT2scDlvPk2YHFMt4I50kZ5QhUcA96gPp196FoJk5YBiFOR2NCFDIPN+7nmm26pJMEkfYp70lwqxzMiPuUd6AHXfkqx+zklfevD/H4KePps9JLdSK9pG0ttJwD1ryH4p262/jyAxNvElqB9MGuvCu1aIujOWzT4z8wz0pgXJGalGOK+lMLHQeFXJkvo14wVPNdJEeOa5bwtIG1K7VsDMamupj2+tck9zwMav3zJgaKaDS5rI5bC9aTGDS5FJxQKw7FFNz70UXCxXPWkOcUE0hOBU3NLHO+JiRbNXKfw10/idv3JU/xEVzcgCnAOR61tSep7WEjaBFT7UBtQtlY4XzVyfxpvTFSQ2i3V7BAXKeY4XcO2a3qbHej0TYfLYsQARxzUEdzF52x22llIDZrpbPwrpv2KOOWORwqj5mkOTT5PB+iOuPsrZHcStmvFeIVzdROdt5LbyCjSh5geHOKnjaLdy4HuDWxH4G0UL8ttIB6+c1ObwVowXBSf8Lhhip+sRLSMQxWycvL5uAcFsVVJiMOyRwfnzgHotbzeBNLZCElulHoJzUCeANLR932i7H0mNNYmNx8pj+ZGq73VCqjAPfHpVeWe1lQMjKsRIOCOlb8vgGwf7l7eKP8Arrmq5+HNjt2/brsL6bhVfWYC5TNt3813EMkaADgL3FTRyPMihZAksY6OM5q/H8PrSIYh1C8X1+Yc/pUv/CBxht66leKfXI/wp/WYshKzMWe5WKaON5ME8tjtTQZGcbnBI+ZZD/EvpW4fAcEgy2o3RPr8v+FRzeAi0JRNVucY4BUH+lUsTGwWNbwgr2+mq0i7W812AP1rprnUPtJAbAI6CvKtFv8AUtNafT5LlmEMrIHPUirs1zqKs0qXbkqNw3HvXHKnKcuZF6WPQTKo68VLLqJlt1jeTIXoM152da1W4e3jmcYb7zIMbfrRJqFxDcES3uVxwy1HsJko75T8m7tUq38iQGFX+Q9q83PiHWxELYOroG4kTggVF/bmpwMVmu3PfcBxR7CaFY9HVS4LKOB1qSG6e3JMbFcjB964K28U6pbWNwDMjHHAK1Db67qstvve4RDjpjOaXsZBZvY9BXdM5K/Me9CyNDJuU7WU9a4zT/E+o2jPL+7f5cHcMVBJ4n1GQCWPy3Lt0U5xT9jPsFmjvGke4lyTlmp4DI2GGCK8/XxXqNvcIdisVbnIq1eeNNRlkDpGjnHIReAPc0eyneyQ3HS7KHjS7uG8YTzIgysCR7mGQaqQS70W2eORZwm4MDhc+lNkh13XfGBubdYo4VjXzGc5U/8A160pvBniWGHzonszvzh8nPNd9KcYQSYrFJGee3Xeh3Rnd9acy3Uq2yyuCXBLMo6fUVYHh/xMjq3+hkBQNm44z61NaeHPEZmkn+y2snssmD9K19tDuK1ikscgieKTcy+WwJx7fmKftMcMSlXRlQAbhu4+tMn0HxHIP3lsCd+WCTgfLnIFWRpOvTSOf7MxuUBR5wNWq0LbkvcqRxgLsgRpGhwSoGOKs2i/Z5nAwZME5I6Z5xUxsNetpCh014wq/wAJGW/GmpaalHI7f2dN+8YsScHbxjH6Ue2h3GyZ3ZwrSjDIQpxxkmnzFYcHkgkDAOM1CLXVlgga4024IGQzBcg+hpX+2DBWyuBtPC+X1qXUj3BFsMAp2jAxxxTUA2hu9VvMvTnNheEY6CI1A2pOki4s7tNp5BhPNT7SPcZbuVV9rR4BDAEntzXY267F2jkAcGuC1HVPKtTJJbTCPcCxMRGOa6iDxLpXkxBblQrADf1HSuPEPm2K5UbqfNIATjJ61NcwLA4CSBwR1rAm12yjcjz0YjuKaniK2dgpnXOcVy2aJaNtvu9asyWoitUlEytu7Vh3Or2ttjzLiM59G6VEPElmFx5m70wamzHZGyTUqWxlt2lEirt7GshdZtjbmXzowP7u8ZFRf8JBYk4+0KAfenZikrGmamt4PPkwHC/WsyHUbW4VvJnjO3/aFQprNoWIFxGD6bhmlYRsOm1yuQcdxTUUNIFJxk1VtryG4kCRzRkkddwpLi7hhkKPOgI9GFFh2Lt5B9nk2hg3fNeR/FC3ZfEmn3HVXiZD7V6UmoQSsFWdWJPdq4v4rRxx2un72TzfOGwA8kd62oNqrFitdHAgbRzzTtwbqKSQgY2bgPc01CetfTXMXozU8MnZrbIf44jXWgbTXI6FLjXocfxKwrrc5Nc9Tc8THK1S5MDmlzUamndaxOC44GjdTCMUZoGOzRSFqKQyFid1NyaUkE0FhikWcv4oyUTP96ubdq6LxM+DF9TXOStuatqO57eG/hjc1PZsRq9j/wBfCfzqugy3NWbRM6zp6jqbhf51tVdos7Yn0A1yksESxpt2qM8daRWwM1WgPyLj0FX7q6RrVVCBSB1r5aTdzZEn21FtPKKjPr6VTMo71QhuPPlk+bhTipMmvncyzR4d+zprU9LB4X2i5pFnzsdKYX3VDnijJr5ipmOKm/jPXWGoroTbyO9JvPrUWaXNZLHYlP42P2FPsSebtq5HqSPamLZ8/TOKzjTE+R817OX5vVVRQq6pnDicJFpuKsX1J7VYgnSLe0oyNh7e1JaXSwxnMYYn1qCVswS8Yyp6V9mnfU8Npo8wtEWXULmeIMwkuXJGe26r1zNtkKklVA6dzWLp12sEjh0d1lkdfl6qdx5rSlmWORZtu4q3lhM53A969ql8CAuRbYrXeWb5wQAe1VlZpJDBHbLIwHyEHO6o76RrWFpp2wnIWM9Oa6DwhFDNp4vhskdyVWQDsK5cdioYWi6kuhtRpubsM07wncb0nvbkRRleYU5I/GtKPwtpce7zFllB7PISPyrVL80wnmvznE8RYypL92+VHu08HTitdSkPDejKHxa5D9QXOD+tSHQNKKqBBtC9AGNWqAcVwrOsff8AiM1+rUexQuPDNnLA6RSvEWGPWsK78OajYRAWSx3cYTBONrV1uc09Tg5rvw/EeMpP33zIwng6ctUec+bv2scbm6j0p4aWK6aNQjr5ZD4OM59Pet7xdpyGGO6t41H7wCVem4Hv9awPssM6St5zgYyFY/dx0NfoWW42GMo+1ieLXpSpPlZpeEZJF1i+t2kYp5aMAT0ru0kZo1Qsdo6DNedeFHdPE19GVwohTn15r0g2kkNrHI33W6c1Ff4znVyRbOWS3acY2DrzzUaM8anYxXPXFKszrGUDEKeop0UEk4PljO3rXPqUhsMDXEmxfvH1oaNoZME4ZTRHK8Um5DhhSktNN/eZjRcVhJHeZt0jFmokt5IQpkUgN0okjeFsSDafSnz3cs8apIeF6UlcAaeQ23kk/JnOKjS3kdC6qSB1NBV/KD7TtPepIbqSFCqHhuoqk2hCQTPATs7+tNBZ5CQOSe1IoL8KpJ9hmlWQwyK6j5lPQ0czAgv/AJLWUTJuGw5Vh14rzzT/AC3tEjWLEeMgY6e1ei6lObiKR5Ouwj9K860ws9ugBywznH1rqoNuWoy59mWQ5cHY3WkuQUVY41XY3AYjkU5nESMyEFj3Y8A1HJI0kQEnygHkr0+td3KhDLmKApM24EsgyMeneqT2ofKtK3lEBlKHH4VaDFR+7y4c4BAzUMFtNc3rwW0EuAMnC/L+dTJwiryGotvQS4lihZHKMnnYA3L0+tReUxupJJArSJ0CnC4rpIvD8vkqj3flcYIxmlPhK2eRHku5Gde4AGa82eaYGm7Smjf6rVktjAbJjjmMeNrZOO3409lSUBoZBvxyo61vN4StiuBdTYzyKJPCkMkXlpdMgxx8o4qFnGXv7aE8HWXQwIZY44QqSI208gtgiklSZ3D7wQ3qc4rS1DwzcJMklrGlwAf3nOCR9KzpC9rMYntmMfdApBSu+jWw9dXptMylRnD4kNLeUwU7S45OKzfEdj9usluJ2kee2bKEseF78VqCe3K7yFA7HPJqlrLo+jSukmV4PpiuqNON9jLY5YZK8mlBUcEZFCAFM5JoG3Byteh0My/o20a5aFe5I/SuzH3z9a4SxOzU7ZxxtkFdyhxnnNYVDyMeveTJM806ou9SZrFnm2FJ4pueaCabmgLEuBRUQY0UDsMJpDyOaM5BpjH5TUmljk/ELF5o19zWC4w1bOun/SVA7Vj9a6KT1Pawy/doFXmrekDPinTAeR54P5VWX71WtJ58U6bt/wCep/lRXfuM7YnurTxyInlrggc1BeSFbckenFNhG2MYqfVZ4ZNPRI0w46nFfMze5qkc54euWnutRVv+Wcij9K3M1zPhcEapq47eYv8AKulr4DOP96Z9HgV+5QhNANBpBXjnYx2aAaKWkMM1BccRntU9Q3I3W7gdccGtqP8AEXqZz1iy6jccVZt5IwWMwypU1FYXEMSsJl3Ejg4prMNrkehr9Ph8KPlnueWWr+TJdSIWZPtD4A4IG41dkSG3m82POXAZf61QsnZJZC7KF818hu/zGrbxCRyqZIRwQT3HpXu0pfu0RazKusSrPZRI5IVMsxboeOldV8PufBlq3Zmc/qa5DXNhtZYRyCjOPauu+Hwx4Hsfo38zXzHEzthD0sB8Z0hNGaQUGvzI90dmjNMzRmgB4NSA1CDTgaNw2MzxbgeG52Izhl4/GuPd/LnClWP7rkR/dNdj4kK/2DN5gBUkAg9DXGYcrIjEfKuGAPCA1+j8LaYaXqeJmKvNGp4dwNfvChyphjI9hXfiZ2t0UsSo6CvPPDu1dcuwhyohjFehC3lS1WQj5SOte5WfvnlkyQSPCZVHyjrSRzPFnYxGetRrcSpCY1f5T1FNjSSXPlruxWAXJFR5pMICSeaX54ZgejKe9RxTvDJuTg9DTZJmlmLHlmNKwXLE9w9xIGkOTjFRsrooLqVB6ZqNt6MA6lT1GalnvZJ4VjcDC9MVQXHrdSC38g42VGAWyVBI9qhBYjIBx64qxbXrQI6qAQ1IB1tctbSF0wcjGDUcjGSQsepNR7yTTo5THKr4ztOcUDI5+B846HODXmivaefMzb42EzkBM9M16fqF2Llg2zaAMcV5lBJDHqVyXQExysp9TzxmunDv3hGpEsjT73x5TJ9w8YI71EXDWsjTERxZwDnpUE94Y59s2IyU+XHJqmEeW2VpHWGHdlY853e9en0JLtrdRXN9a2FrKg8xsEg84xkn9K7SKJLWLyohgDv615Jo8oX4n2Cj7oDAH14r1tjya+D4lxdWM1Si7I9vAwi43Y4nNKDUWTTga+Hd27s9TQkzS5pmaM0rtBa48Hmo7m3iu4XjmXIYEZ7inZozXRQxNWhNSg7ETpqStI4W+s5NPuhA4jZIyDz1IPeqeoxCTTrxRuw0Z2g4rb8XEjULF16EHf74rDvQRaXBySJE49jX67leKeJw0aktz5rFUlTqNI5eM+WoHXjmpQ1QRHKjceamaML1Ne2nocgFyskTZxiVT+td4pG8n1rz6YgQE56EGu9hwYY2H8Sg/pUVDysfHSLJuKfxioxS1gzzEh+KMCkzRmkMQcUUZooAhzimSn92cU7PFRytiNqRZx2sZN6AATxWXmtDVJCNQznjBrPc/NxW9LQ9ygv3aHDrV7w4obxjpobkCQk/lVBTWp4WAbxhaE9lc/pSxD/ds6oHtczQFE8gY45qnfHNtT4z8vtTtRa3/s5PLOZB1r5yRujmfC7f8TLVx3Dr/Kui31zXhpsazrAHcrXRCvgs5X+1M+hwWlJDy1IDSdqAa8U7CQGlzmmZpQaQDqhuGxbufQVLmoLo/wCjSfQ1rT+NES2J4m4FXIfKP+u+7iobAwjPn8qV4+tNnK7JMcAA4r9PpawR8tPSTR51GYW80CHeqyvyTyfmNKC8YEqkJHkkbs1BpshklYA5G5gRnpyanu4zLDGFy6ocFfWvcpfAiTPvTGbCWRDndG2HPGeK7DwFx4JsP90/zridaAMYZW3MkTDyxwF4612vgU/8UXYf7p/nXzXEy/2VHoYD4zogaCeabnrSZr80PbvqOzRmmZpc0WGOBpwqMGnhqEgZleK2VfDdxv5XK5A781z2IbfbsYq7AbkIzkV0niIq2iuj8h2Arj0ffHH5gkYqzDLdQAa/RuF/92l6ni5h8SNLQNg1y8Cdo13exzXeLdStbLGzZUDiuA8P3Ak1++RUCAxoxx3ru4o5PsqylDsx1r2q/wAZ5hMkbSRllUkDqaW3uXgYmM9aSG7eKJ41xhutRoCchQT9KwJsKSWY4GSTnihWaKUNjDKc8iiKdoJg4HK9jSXFyZ5i5AGewpgS3N21y4ZwBgY4qLJ6kcVETirT3u+0WHywCO9AkPjuyloYNoIJ61CPu8CogcmrVpcrbsxddwIoKsNtZRBNvZQ3saSaQSTMyjAPao2cF2IGMmhXAkUkZAPIqRjZW/d/jXnE8kP9uangqqGYq6sOx6YNeoX1xDOi+XHtIHPHWvKzavJ4j1dS4ZDKfl3dM+1dOG+ITJ4IPJuFKvuLIQS53HA6YqVyfsSJcxDeAQMd6bHHFatGhDKhUhGP8J/+vTL6Mvao00jJNECevFeqScxpbsfiRpzHGSSMjvwa9iY4avHLSUr4+0hn27t2Dt6GvYHb5jX51xMv30We5gX7o/NG6ow1Ga+RsemS5ozTM0uaVgFzTs8UzNG6iwHO+LE3SWWATlyMjtxWJOojVhPGAzoRkZrd8XIGsoCQCA3OT096wnIMK7XLsg4ycgj61+p8OyvgonzuOX7049cLkHgZqdVyvXIpjIA7hmGAePelX5FAxxX1UdUecwniBgb5sjHQV2tg+/T7duxiX+VcY2DG30rrNGk83RbUjP8AqwKU9jz8arwRobqXPNRjg0pNc7PJJN1G6ot1LuNIQ/dRUeaKQxpqKb/Vtn0p5aq9y37k/SkaxOP1P57x8dqo1bvW/wBMkqpiuinse5R0ghwrW8Ixh/GdsCcBY2J/QVkDmtfwb/yOA/64N/MVniX+7OiG57PcLbpGnkNknqKoXfMH1qRSNvNTXMUMmnZRv3melfPy3NTjNDvYbbxRe20rhZLhQUBPXFdVmuF8V+Hri6mS809/Lu4fmRumaraV8RZbJhaeI7V0kXgyAf0r5rNcvqVZe1p6nsYOvGMeVnouRikzWLZ+KtFvVBivowT2Y4rQXUbJhkXUX/fYr5WWHqxdpRZ6fMpaot5FLmqTanYL967iH/AxUUmv6RAuZNQg/wC+qFQqN6RHzKxpZqlqV3HZ2EssxwoHHufSub1D4jaVbt5dmkt1KegQcGjSbTV/E97Fe6yv2Wwjbclv3c9s16mEyuvUkpSVkc9WvCEdzs4Dm2jY8blBxUmA6lXOFIOTUtssUkwWU7V7YqvfbUjlCnICn+VfdQVopHzs9ZNnmcIigWdozn52GPU5NT7wluhc5cYOFNVbYRSblTdE+7LFhkEZqXyYobgBD5jZ+Y9q9ql8CIKWrSLLG8x+U7SAMe1dZ4AvEn8KWqRMCYgVYA9DXL3NqbmOTDkKX27awNN1W/8ACWsPNagvAWxIh6MP8a8fOsLLE0OWJ2YOahPU9u3UueK5zRPGuka0gAm+zzd45eDW+rK65jYMPUHNfmNXD1KUuWase6pxlsOzRmk2nrSFT2rHlKHg0oNR/c+8QPc1mar4m0nR4S9xeRs/aNDkmtIUalR2gribSJdfIbSyhbDFwR745rj90rzlIkyoIbPQe9VH1258RXz3kqyQ2salIIum8+tXIpgRt8vacZZBxjHav0vIcLPDYe092eHjJKU9DQ0JVTxNehDkfZ05H1rvILyU2Ag421554bnca/eRygAtCrY9BnpXdW+RCCBxXbX+M4iygZhkAnHpUtvcm2dmAzkYINNtrs26uoAIb1qAvlzjuawEPZy8jMe5pc7WBxnBzimxy+VIrYztPINPubgTyBlULxQBLc3K3GwqgUr1x3quetMJqybiL7IIzGN+PvUDHwXEcUDo0eWboagBNRZqW2ljWUecu5fagB8Mix3Cs43L3FF1Isk5aIbV9KilYGYlBhe1M3UyRXP7s157fxBPFF+4hZomcF3Q8rlRmvSblrY2wMOQ/wDFmvM9S3weJ9RZS2SUIAPUEDNb4f4wZKdPjNoI4pHZfLOx3PQ0ty5OnhndUlACl3qcvIYfkj3qo+9WdLObpn2oNnKtuGCpr1BI5WJ3XxhpUkmOJwuQOvNe0s2WrxK8mRPEFhLGMKlwuWzwea9qDbkVhyGAwa+B4lj78Wezgth+aXNR5pd1fH2PSuP3GlDVHmlBqCiTNANNBozRYRj+KV32UOTxvweK51hGsYh+ZcrlWA4rofEz402NgCT5gHFc35svmBF42dm7iv0zht/7J8zwcf8AxDnp4Qbl4zjIPIzioQu1ipGB25qxdgHUpN/BzniopQC3+FfWpnmMbj5Sc10vhtidDjJPIZlx+Nc6qjbxW74aP/EtkTOdsppT2OPFq9M2c0ZpM0VgeMKDS5pBRSHYXNFJRQBCxqvct+5OfSpjmq96cW9I1SOOum33svsagJqSY5upCP7xpuOK3p7HuU/gQiD5q3PBiA+MGPpAf1IrCHFb/gVSfENzJ1xGF/UVjipfuzeB61NAkcSsr5J6j0qAVGGJ6mrS22LQS7xn+7Xgs0EjsoLqFzKdpHSuf1Lw9Y6ipW6gSUepHNbmSOlPtoBNNhm2/WhlptbHn5+GWnTzgRSTwKeysMD881UuvhV5dyyQam4QdyoNejzL5cxUc4PWmfebmp5UzRVZLqecp8LjkeZqcn4IK1k+FGlRQrLPeXEzd13AZ/Su4ubZbdUIbduGfpUI560uVFe2l3MbS/C+kaQ4ezs03j+N+TXRWcSTswc7ABxikgtRNE77guwdD3qFTtPBquUxk23qSsuxyAc4PaorhTJbyrnkof5VLCvmzKpOMnrUOrobS3nCsCVjY5B9qtCsebRlzEioxyuVOe/NSqXjacSFRJ1CkZzTLOfzY2+TaVXcvqfWrLT4k8zYrSKMDjORXsU/hRJVgiaVQxbau75h/tVRvbJJrhlC7lYnCL6962GC+bliymVgOVxtOKryxy28efMCZ+9jqfpVNXVmCbWxy914fAk3RAr7A9Kkt31ewQC3vp41BwO9b4gkQGTPBGQMc/Wp7KNWmeKR8EEEhwMcjt71xVcHSqfEjohXkjFl1PxZEB/pr4PsKj/tzxSYwwvn29M4Fb0siOBMxkRFG1lbjHbNRLAXs/KkjRI1jyZc/jXL/ZeH/lX3GyxUjBkk8R3mRPqE2COfmxUtl4ehRllu38+Q8ncc1rLG8kESqu1T0bOc0MNkyo207RhmHeuingaVPZEyxLkPWIFIAf3aR5Ix0qdd3Ejh5GORiMdqbJEsaK8xKxgbs1Y80RK0sbb2CBioGODXcopaI5G29RfD5MniSd8EFrcD9a9EtrsxWIhKA571wXhtoBfXG3cZNi4J9M12cTYUZ9K8/EfGTcmBqSCQQzq5XcB1FOtJo4pGMq5BHHFRuwaRiowCeK5wsOnlEs7Oq7QTwKiJoyFYFumeRU13JBIENum3+9xTAkmuIXtkVE2uvU1X3ZpnarMBt/s7eb/rO1Kw7i20kKlxOuQRxUHAbjpTdwzT49rTKJDhe5oFuKDh13dM81LdGDzF+z9Mc0y5EaTEQtuXHWot1AwdgENcDqzbfF0wYjDohAzjHGK9DeCJrEuH+fHSvNdaKjxiySDIkt1A/M81tR0mhbkziVrdoUlaHaxJ2Ny1QZZjcBcuWG7k98VGk2Jj9qi/dqMI+c7van7ocIbdSd7fLnjaK9XoTscr4gtXkhV0AVkOSijn610/hLx/ALOOw1xiki/LHNjhh70l1bwsw+1fvW3fK+3G324rn7vww03mTRERPuPyEfKa8jMcvhi4WkdeHxHs2evW80VzGJLeVZFPQqc08jFeG2763obCSB54BnA2HKn8K3LX4j61AgW5Ec/+9Hg18XXyOvB+47o9WGKg9z1bNKDXmi/FK4H39OQ/Rqd/wtWXtpn/AI9XH/ZOK/lNfbw7npYNJI6xxl5XVFHJJPSvNR8QtavV26dpnJ/iIyBTIrTXdZk83XbspBjJhRtufaumjkeIqO0tCJ4mEUdFqmsx6iSLM7oITkt/eNUVXzVZwquc45PaljWC3UxxFVQDAXPQU6PaFMcauhb+LqMV97gMIsJRVNHi1qjqy5jA1CLZqjjAVcDFRuFjb5SD71Z1hHTUAeSuwckdapkqyj+detHY5HoAk68YrW8NSfu7teuJAf0rKMYA+WtDw6xTULpHGAyKwFOWxzYhXps6Ec0oNNB9KTNYs8Vofnml3VHml3YFIQu6ikzRRcCPPrVS/OISParG7mqWot+4J9qm5qtzkmP72T/eNMZ8Cmlsu/8AvGonJb5UGWPYVvTeh7sF7o8yfnW14N1e00/VZo75vKabG1j047Vlw2ywYaQh3PbsKMbnzsX8qivBzjZGsdD1/wDtWwEIk+1xYPP3qrDxRpCvta/jB92ry5FRScrk0FYz96NSPpXn/VGPmR67BrGnXCkx3sOP98VGdf0xX2/bYc/74rydTbrx5K5+lI6QN/yxX8qPqciuZHra61p8jALeREn/AGxU0l9axAZuIv8AvsV46kFoxO6FR9BSC2sgTviLenNT9UmO56+NTtT/AMvMf4uKsLcW5j3i4iIP+0K8XFtaMTiAD6mpktbVhtdGx/ssRS+pzC57B9ugB/16f99U6K5hmYiOVDj/AGq8aa0s/MwBLj/roakaxt0YeVNNHnqRIaPqdQV0exNcIkmPMXI9DVfVL2GPSbmSV/lETZb8K8nFrCj5F3cE+vmVNOBd2rW815MYzjjf1pLCzuO5p6c/lbZhIZEMYGW4xV1dzK0wVSTjjPIrnG063jRI4byYqBwN3SmyWTfwX8/5iu+KaRNzpZrpLh45Y9u1pMOT/dA61Eptbu1YRcAk7WIzg+tc8bWdEHl6jKCevApogvFl2x6k6r2+Wq1GrHQyXCLIpRiTGAjf7VRGR/t8g81Y9xVgzLmsVrTUHI26oev92g2Wphif7TXI6/KKkZ0z2qXQTz2Vsgr8vepNsbR+VghIcA8dhXJldcThNQBHb5RUwi151YPex4YY+YUXYWOhIUzsIPl3j5WHbNRyrtPlY3RopZnbgsawY/7aAYpdQMY8KRinFdfYNJutmKfw96OYLG8ZIZlTe8hQ4Bj29KlmlSLKiHHIAHUbfWuZkn19bdnkWEo4x8p5qVrzU/sa/aoPlBBBDf0qhHY6FEx1KYsgUeWMEd67K0kt1tmFwuX7GvHLa81xdRS8hZECjAQHIYe9a1x4t1ZE328RGOCHPeuGvCTldISR6N5ozxUsUieYu/7uea8wj8YeIz832SGRfZsYpx8Z+IVOP7Oj5/2q5/Zz7A9D1G6khMn7j7uKg8wBa80Xxr4hLYGmxH/gdTf8JrrwB36TGcDPD0/Zz7AenYtjaBi/730zVfcPWvN18e6sOX0hcez1Ivj+/H39Hk59DS5J9h2PSbZY5ZtsrbRSSALMyqcgHg15y3xAvExu0aYfjT0+IzKwWfS7hPwzUuMuw0jv2YA1ZuIFghR1bcWrzyT4iIhGNNuSp7lamg8exTrlrSdB7qafLIlnaM3yHmuA8VWynxPC8r7FaAAH3DH/ABrdh8UWkiAvMiZ/hY4NcZ4j1231bXo9kcwSD7jbThjmtaKfOhFlI4LaURI7bDISwIJA96nBV0aFpQ7NyhAwVFZqalb/AGh5mDRj7pBBxThqNsuZN+fL+ZWAPT0r1CWaYl+x26blkkVScsvP50JI7rJ5rqY5BuRQORWbPrMJtC0cgG8fdPekGqw+XHG00a7UyM+vpU3KsasKmR1EgBjA5XbnIpwsLZNx8oEduKz49Tijy7SqBtxlG61ctNWtlULJcREnnk1LimCbRB/ZkUm5kjWPBzkr1H0qw1tZoEKxL94A/J60k2qWrLueeMAHs/aq/wDbFqMp5iOSflKnoKnlXYrmZbaMqhWF/LVT0QVNEzOhzz+NZy6rBHGu543VzhzuwasR6jbyyeTAQD3Y9DTsibtljyMMAyKSx4O2pQXyIxlQO47VBNPnaFY5XqFbrThcI4GCQSOQTVD2MfWmdL1eTjBxms8S9uDWj4gaBfJLSKXZsdao4iY/NEy+46GtombEBPY1c0Zv+Juwz96L+tUWA/hqzpRKaxDj+IMP0q5bGNZXgzp+aKbu5pc1ztniNWDmik3UbqLkjt1FNzRQBGwqhqR/cnHoa0kWWaTy4Inlb+6i5NUdXtLqKMpNbSwk9nUis7o2jF3ucXIQEBByzMcj0qyht7Zdsbb3I5eqrwTwSMPIdueoFRYkznyJB+FaQqJbntxatoW3lBNNEuKrYl7wSflR8/8Azyk/75rT2kRlnzeam3jA5qh839x/yp/mED7rfiKftIklskUjPVTzj6H8qPPHv+VVzxFqWg1OBFVPOA70faF9aXPErUtlttOEo7dapfaFPenLOo71XNENS15o9OacimQ5zxVT7QueSKcLkDowpc0QVy0wGacu3tVMXCnq4pwuB2YGlzRKLRyW60oznk4qp9oyeopxnLdWFK6Yy4Vbr2ppBaQHfjFVWmdl27+PSl3DA+b9aNALqEkcetCs4VgTiqguCg4NN+1nvRox3NOF8RjzH4HbFIZ2ZSeu37oNZ5uyVwOaja5OPSjSw7s0FuNu7jG7khaSMBgOSSW5yaoC6IHCilF5IOnFPlFzGlLdCNsAsSp4GOKjW4kdmaUbgRxz0qn9rLYygOOee9S/blI+ZMewHSnYm5ZWXb91Tntg1JHMQMydfQ1SF2oOf6UfawxyaVh3Ln2llkwBjPNSLcSZwpYnsAKzRcr5oJGan/tGMcopVvrxRYVy/wDa3ViWb5v93rQ1/IwOQG+grP8At0ZXBHPrTVvU3fe4qbIDQWYE5KAexp73Ui7cbR6DFUxdRH7uM+ppPtcYbLKGPYE8U7D1Ly3coO5wjEdKJLppSGaKP8qoG4A5OwZ7KaVLmMD5m60mkLU0obplbLcqOxXIprTi4bPAx6CqZuowpAkOD2pEu0VcK+Pwo5UXfQtOrmQYK4+lSJMqDplvpVP7UrAEv0p4kQH5WB/GlyonUsvOJOZIwfYiow8DIVMIAPtUZmB68j601mXHAI/GiwCsIwm0IoU+1EcEBBBUY9cUmQepFOEiL15+lFguPWxtDjKKfUHimSWdqWJjCD0X0oaRGORgU3fg5GDS5R3A2dsQMxoPwoFpYAcbdw7EU1pSaaXLcEA++KOUVyQWdr1KKfanfZrVTuCnGOmaj34Wjexo5R3A2sLLkTMvPSj7PCvSRyaduJ4xSFTjmiwFcWFq5IuMvz8pJ5FNkWe0kZcl7f8AhJPSrQ2gU5GX+IBgeoPeqRLZWDZUEd6sWEmzV7b3Yj9KguLVrUG4tzuiJ5j7rRbXCNf2pzz5i4/OnJ6Ez1izrQNpOadUbEbjSl8isOp4ctx23NGMU1WpScmgmwUUUUXDlO2+Hv8Aqbr/AHh/KtLxz/yLNx9B/MUUV5r/AIx9FT/3Y8bkplFFdp5qCmfxUUUygaoX6UUVRRFTWoopjiQPULfdoooNkVm6mmmiiq6CGio2ooqS4jTSUUUGglOFFFJAOFJRRVlIfSn7tFFUjOW45aVqKKOgPYcvQ0p+6KKKskfHTjRRQMa1MoooYEkP3xTn70UUARiph0oooEKOv4UjdaKKaKGD71PWiimxCP0po6UUUhi9qli70UUDJDSj71FFAMeaSiikAwdamH3KKKBjD1p5+6KKKCWPXoKTvRRQA5etS9qKKTGiF+lKvaiimJ7luL7jfSsiz/5C8X/XZf50UVL2FLY7M/eNFFFZnhy3Bad3oooJHUUUVJZ//9k=)"
      ]
    },
    {
      "cell_type": "markdown",
      "metadata": {
        "id": "u9uVwi3KGCjD"
      },
      "source": [
        "Outra forma de vencer é bloqueando a movimentação do adversário, se ele não puder mexer as peças dele você vence, abaixo temos um exemplo\n"
      ]
    },
    {
      "cell_type": "markdown",
      "metadata": {
        "id": "UKEW3gxKGGm5"
      },
      "source": [
        "![Capturar.JPG](data:image/jpeg;base64,/9j/4AAQSkZJRgABAQEAYABgAAD/4RDuRXhpZgAATU0AKgAAAAgABAE7AAIAAAAMAAAISodpAAQAAAABAAAIVpydAAEAAAAYAAAQzuocAAcAAAgMAAAAPgAAAAAc6gAAAAgAAAAAAAAAAAAAAAAAAAAAAAAAAAAAAAAAAAAAAAAAAAAAAAAAAAAAAAAAAAAAAAAAAAAAAAAAAAAAAAAAAAAAAAAAAAAAAAAAAAAAAAAAAAAAAAAAAAAAAAAAAAAAAAAAAAAAAAAAAAAAAAAAAAAAAAAAAAAAAAAAAAAAAAAAAAAAAAAAAAAAAAAAAAAAAAAAAAAAAAAAAAAAAAAAAAAAAAAAAAAAAAAAAAAAAAAAAAAAAAAAAAAAAAAAAAAAAAAAAAAAAAAAAAAAAAAAAAAAAAAAAAAAAAAAAAAAAAAAAAAAAAAAAAAAAAAAAAAAAAAAAAAAAAAAAAAAAAAAAAAAAAAAAAAAAAAAAAAAAAAAAAAAAAAAAAAAAAAAAAAAAAAAAAAAAAAAAAAAAAAAAAAAAAAAAAAAAAAAAAAAAAAAAAAAAAAAAAAAAAAAAAAAAAAAAAAAAAAAAAAAAAAAAAAAAAAAAAAAAAAAAAAAAAAAAAAAAAAAAAAAAAAAAAAAAAAAAAAAAAAAAAAAAAAAAAAAAAAAAAAAAAAAAAAAAAAAAAAAAAAAAAAAAAAAAAAAAAAAAAAAAAAAAAAAAAAAAAAAAAAAAAAAAAAAAAAAAAAAAAAAAAAAAAAAAAAAAAAAAAAAAAAAAAAAAAAAAAAAAAAAAAAAAAAAAAAAAAAAAAAAAAAAAAAAAAAAAAAAAAAAAAAAAAAAAAAAAAAAAAAAAAAAAAAAAAAAAAAAAAAAAAAAAAAAAAAAAAAAAAAAAAAAAAAAAAAAAAAAAAAAAAAAAAAAAAAAAAAAAAAAAAAAAAAAAAAAAAAAAAAAAAAAAAAAAAAAAAAAAAAAAAAAAAAAAAAAAAAAAAAAAAAAAAAAAAAAAAAAAAAAAAAAAAAAAAAAAAAAAAAAAAAAAAAAAAAAAAAAAAAAAAAAAAAAAAAAAAAAAAAAAAAAAAAAAAAAAAAAAAAAAAAAAAAAAAAAAAAAAAAAAAAAAAAAAAAAAAAAAAAAAAAAAAAAAAAAAAAAAAAAAAAAAAAAAAAAAAAAAAAAAAAAAAAAAAAAAAAAAAAAAAAAAAAAAAAAAAAAAAAAAAAAAAAAAAAAAAAAAAAAAAAAAAAAAAAAAAAAAAAAAAAAAAAAAAAAAAAAAAAAAAAAAAAAAAAAAAAAAAAAAAAAAAAAAAAAAAAAAAAAAAAAAAAAAAAAAAAAAAAAAAAAAAAAAAAAAAAAAAAAAAAAAAAAAAAAAAAAAAAAAAAAAAAAAAAAAAAAAAAAAAAAAAAAAAAAAAAAAAAAAAAAAAAAAAAAAAAAAAAAAAAAAAAAAAAAAAAAAAAAAAAAAAAAAAAAAAAAAAAAAAAAAAAAAAAAAAAAAAAAAAAAAAAAAAAAAAAAAAAAAAAAAAAAAAAAAAAAAAAAAAAAAAAAAAAAAAAAAAAAAAAAAAAAAAAAAAAAAAAAAAAAAAAAAAAAAAAAAAAAAAAAAAAAAAAAAAAAAAAAAAAAAAAAAAAAAAAAAAAAAAAAAAAAAAAAAAAAAAAAAAAAAAAAAAAAAAAAAAAAAAAAAAAAAAAAAAAAAAAAAAAAAAAAAAAAAAAAAAAAAAAAAAAAAAAAAAAAAAAAAAAAAAAAAAAAAAAAAAAAAAAAAAAAAAAAAAAAAAAAAAAAAAAAAAAAAAAAAAAAAAAAAAAAAAAAAAAAAAAAAAAAAAAAAAAAAAAAAAAAAAAAAAAAAAAAAAAAAAAAAAAAAAAAAAAAAAAAAAAAAAAAAAAAAAAAAAAAAAAAAAAAAAAAAAAAAAAAAAAAAAAAAAAAAAAAAAAAAAAAAAAAAAAAAAAAAAAAAAAAAAAAAAAAAAAAAAAAAAAAAAAAAAAAAAAAAAAAAAAAAAAAAAAAAAAAAAAAAAAAAAAAAAAAAAAAAAAAAAAAAAAAAAAAAAAAAAAAAAAAAAAAAAAAAAAAAAAAAAAAAAAAAAAAAAAAAAAAAAAAAAAAAAAAAAAAAAAAAAAAAAAAAAAAAAAAAAAAAAAAAAAAAAAAAAAAAAAAAAAAAAAAAAAAAAAAAAAAAAAAAAAAAAAAAAAAAAAAAAAAAAAAAAAAAAAAAAAAAAAAAAAAAAAAAAAAAAAAAAAAAAAAAAAAAAAAAAAAAAAAAAAAAAAAAAAAAAAAAAAAAAAAAAAAAAAAAAAAAAAAAAAAAAAAAAAAAAAAAAAAAAAAAAAAAAAAAAAAAAAAAAAAAAAAAAAAAAAAAAAAAAAAAAAAAAAAAAAAAAAAAAAAAAAAAAAAAAAAAAAAAAAAAAAAAAAAAAAAAAAAAAAAAAAAAAAAAAAAAAAAAAAAAAAAAAAAAAAAAAAAAAAAAAAAAAAAAAAAAAAAAAAAAAAAAAAAAAAAAAAAAAAAAAAAAAAAAAAAAAAAAAAAAAAAAAAAAAAAAAAAAAAAAAAAAAAAAAAAAAAAAAAAAAAAAAAAAAAAAAAAAAAAAAAAAAAAAAAAAAAAAAAAAAAAAAAAAAAAAAAAAAAAAAAAAAAAAAAAAAAAAAAAAAAAAAAAAAAAAAAAAAAAAAAAAAAAAAAAAAAAAAAAAAAAAAAAAAAAAAAAAAAAAAAAAAAAAAAAAAAAAAAAAAAAAAAAAAAAAAAAAAAAAAAAAAAAAAAAAAAAAAAAAAAAAAAAAAAAAAAAAAAAAAAAAAAAAAAAAAAAAAAAAAAAAAAAAAAAAAAAAAAAAAAAAAAAAAAAAAAAAAAAAAAAAAAAAAAAAAAAAAAAAAAAAAAAAAAAAFZpY3RvciBNZWxvAAAFkAMAAgAAABQAABCkkAQAAgAAABQAABC4kpEAAgAAAAMzMwAAkpIAAgAAAAMzMwAA6hwABwAACAwAAAiYAAAAABzqAAAACAAAAAAAAAAAAAAAAAAAAAAAAAAAAAAAAAAAAAAAAAAAAAAAAAAAAAAAAAAAAAAAAAAAAAAAAAAAAAAAAAAAAAAAAAAAAAAAAAAAAAAAAAAAAAAAAAAAAAAAAAAAAAAAAAAAAAAAAAAAAAAAAAAAAAAAAAAAAAAAAAAAAAAAAAAAAAAAAAAAAAAAAAAAAAAAAAAAAAAAAAAAAAAAAAAAAAAAAAAAAAAAAAAAAAAAAAAAAAAAAAAAAAAAAAAAAAAAAAAAAAAAAAAAAAAAAAAAAAAAAAAAAAAAAAAAAAAAAAAAAAAAAAAAAAAAAAAAAAAAAAAAAAAAAAAAAAAAAAAAAAAAAAAAAAAAAAAAAAAAAAAAAAAAAAAAAAAAAAAAAAAAAAAAAAAAAAAAAAAAAAAAAAAAAAAAAAAAAAAAAAAAAAAAAAAAAAAAAAAAAAAAAAAAAAAAAAAAAAAAAAAAAAAAAAAAAAAAAAAAAAAAAAAAAAAAAAAAAAAAAAAAAAAAAAAAAAAAAAAAAAAAAAAAAAAAAAAAAAAAAAAAAAAAAAAAAAAAAAAAAAAAAAAAAAAAAAAAAAAAAAAAAAAAAAAAAAAAAAAAAAAAAAAAAAAAAAAAAAAAAAAAAAAAAAAAAAAAAAAAAAAAAAAAAAAAAAAAAAAAAAAAAAAAAAAAAAAAAAAAAAAAAAAAAAAAAAAAAAAAAAAAAAAAAAAAAAAAAAAAAAAAAAAAAAAAAAAAAAAAAAAAAAAAAAAAAAAAAAAAAAAAAAAAAAAAAAAAAAAAAAAAAAAAAAAAAAAAAAAAAAAAAAAAAAAAAAAAAAAAAAAAAAAAAAAAAAAAAAAAAAAAAAAAAAAAAAAAAAAAAAAAAAAAAAAAAAAAAAAAAAAAAAAAAAAAAAAAAAAAAAAAAAAAAAAAAAAAAAAAAAAAAAAAAAAAAAAAAAAAAAAAAAAAAAAAAAAAAAAAAAAAAAAAAAAAAAAAAAAAAAAAAAAAAAAAAAAAAAAAAAAAAAAAAAAAAAAAAAAAAAAAAAAAAAAAAAAAAAAAAAAAAAAAAAAAAAAAAAAAAAAAAAAAAAAAAAAAAAAAAAAAAAAAAAAAAAAAAAAAAAAAAAAAAAAAAAAAAAAAAAAAAAAAAAAAAAAAAAAAAAAAAAAAAAAAAAAAAAAAAAAAAAAAAAAAAAAAAAAAAAAAAAAAAAAAAAAAAAAAAAAAAAAAAAAAAAAAAAAAAAAAAAAAAAAAAAAAAAAAAAAAAAAAAAAAAAAAAAAAAAAAAAAAAAAAAAAAAAAAAAAAAAAAAAAAAAAAAAAAAAAAAAAAAAAAAAAAAAAAAAAAAAAAAAAAAAAAAAAAAAAAAAAAAAAAAAAAAAAAAAAAAAAAAAAAAAAAAAAAAAAAAAAAAAAAAAAAAAAAAAAAAAAAAAAAAAAAAAAAAAAAAAAAAAAAAAAAAAAAAAAAAAAAAAAAAAAAAAAAAAAAAAAAAAAAAAAAAAAAAAAAAAAAAAAAAAAAAAAAAAAAAAAAAAAAAAAAAAAAAAAAAAAAAAAAAAAAAAAAAAAAAAAAAAAAAAAAAAAAAAAAAAAAAAAAAAAAAAAAAAAAAAAAAAAAAAAAAAAAAAAAAAAAAAAAAAAAAAAAAAAAAAAAAAAAAAAAAAAAAAAAAAAAAAAAAAAAAAAAAAAAAAAAAAAAAAAAAAAAAAAAAAAAAAAAAAAAAAAAAAAAAAAAAAAAAAAAAAAAAAAAAAAAAAAAAAAAAAAAAAAAAAAAAAAAAAAAAAAAAAAAAAAAAAAAAAAAAAAAAAAAAAAAAAAAAAAAAAAAAAAAAAAAAAAAAAAAAAAAAAAAAAAAAAAAAAAAAAAAAAAAAAAAAAAAAAAAAAAAAAAAAAAAAAAAAAAAAAAAAAAAAAAAAAAAAAAAAAAAAAAAAAAAAAAAAAAAAAAAAAAAAAAAAAAAAAAAAAAAAAAAAAAAAAAAAAAAAAAAAAAAAAAAAAAAAAAAAAAAAAAAAAAAAAAAAAAAAAAAAAAAAAAAAAAAAAAAAAAAAAAAAAAAAAAAAAAAAAAAAAAAAAAAAAAAAAAAAAAAAAAAAAAAAAAAAAAAAAAAAAAAAAAAAAAAAAAAAAAAAAAAAAAAAAAAAAAAAAAAAAAAAAAAAAAAAAAAAAAAAAAAAAAAAAAAAAAAAAAAAAAAAAAAAAAAAAAAAAAAAAAAAAAAAAAAAAAAAAAAAAAAAAAAAAAAAAAAAAAAAAAAAAAAAAAAAAAAAAAAAAAAAAAAAAAAAAAAAAAAAAAAAAAAAAAAAAAAAAAAAAAAAAAAAAAAAAAAAAAAAAAAAAAAAAAAAAAAAAAAAAAAAAAAAAAAAAAAAAAAAAAAAAAAAAAAAAAAAAAAAAAAAAAAAAAAAAAAAAAAAAAAAAAAAAAAAAAAAAAAAAAAAAAAAAAAAAAAAAAAAAAAAAAAAAAAAAAAAAAAAAAAAAAAAAAAAAAAAAAAAAAAAAAAAAAAAAAAAAAAAAAAAAAAAAAAAAAAAAAAAAAAAAAAAAAAAAAAAAAAAAAAAAAAAAAAAAAAAAAAAAAAAAAAAAAAAAAAAAAAAAAAAAAAAAAAAAAAAAAAAAAAAAAAAAAAAAAAAAAAAAAAAAAAAAAAAAAAAAAAAAAAAAAAAAAAAAAAAAAAAAAAAAAAAAAAAAAAAAAAAAAAAAAAAAAAAAAAAAAAAAAAAAAAAAAAAAAAAAAAAAAAAAAAAAAAAAAAAAAAAAAAAAAAAAAAAAAAAAAAMjAyMDoxMDowNyAwMDoyNjoyNAAyMDIwOjEwOjA3IDAwOjI2OjI0AAAAVgBpAGMAdABvAHIAIABNAGUAbABvAAAA/+ELHmh0dHA6Ly9ucy5hZG9iZS5jb20veGFwLzEuMC8APD94cGFja2V0IGJlZ2luPSfvu78nIGlkPSdXNU0wTXBDZWhpSHpyZVN6TlRjemtjOWQnPz4NCjx4OnhtcG1ldGEgeG1sbnM6eD0iYWRvYmU6bnM6bWV0YS8iPjxyZGY6UkRGIHhtbG5zOnJkZj0iaHR0cDovL3d3dy53My5vcmcvMTk5OS8wMi8yMi1yZGYtc3ludGF4LW5zIyI+PHJkZjpEZXNjcmlwdGlvbiByZGY6YWJvdXQ9InV1aWQ6ZmFmNWJkZDUtYmEzZC0xMWRhLWFkMzEtZDMzZDc1MTgyZjFiIiB4bWxuczpkYz0iaHR0cDovL3B1cmwub3JnL2RjL2VsZW1lbnRzLzEuMS8iLz48cmRmOkRlc2NyaXB0aW9uIHJkZjphYm91dD0idXVpZDpmYWY1YmRkNS1iYTNkLTExZGEtYWQzMS1kMzNkNzUxODJmMWIiIHhtbG5zOnhtcD0iaHR0cDovL25zLmFkb2JlLmNvbS94YXAvMS4wLyI+PHhtcDpDcmVhdGVEYXRlPjIwMjAtMTAtMDdUMDA6MjY6MjQuMzMwPC94bXA6Q3JlYXRlRGF0ZT48L3JkZjpEZXNjcmlwdGlvbj48cmRmOkRlc2NyaXB0aW9uIHJkZjphYm91dD0idXVpZDpmYWY1YmRkNS1iYTNkLTExZGEtYWQzMS1kMzNkNzUxODJmMWIiIHhtbG5zOmRjPSJodHRwOi8vcHVybC5vcmcvZGMvZWxlbWVudHMvMS4xLyI+PGRjOmNyZWF0b3I+PHJkZjpTZXEgeG1sbnM6cmRmPSJodHRwOi8vd3d3LnczLm9yZy8xOTk5LzAyLzIyLXJkZi1zeW50YXgtbnMjIj48cmRmOmxpPlZpY3RvciBNZWxvPC9yZGY6bGk+PC9yZGY6U2VxPg0KCQkJPC9kYzpjcmVhdG9yPjwvcmRmOkRlc2NyaXB0aW9uPjwvcmRmOlJERj48L3g6eG1wbWV0YT4NCiAgICAgICAgICAgICAgICAgICAgICAgICAgICAgICAgICAgICAgICAgICAgICAgICAgICAgICAgICAgICAgICAgICAgICAgICAgICAgICAgICAgICAgICAgICAgICAgICAgICAKICAgICAgICAgICAgICAgICAgICAgICAgICAgICAgICAgICAgICAgICAgICAgICAgICAgICAgICAgICAgICAgICAgICAgICAgICAgICAgICAgICAgICAgICAgICAgICAgICAgIAogICAgICAgICAgICAgICAgICAgICAgICAgICAgICAgICAgICAgICAgICAgICAgICAgICAgICAgICAgICAgICAgICAgICAgICAgICAgICAgICAgICAgICAgICAgICAgICAgICAgCiAgICAgICAgICAgICAgICAgICAgICAgICAgICAgICAgICAgICAgICAgICAgICAgICAgICAgICAgICAgICAgICAgICAgICAgICAgICAgICAgICAgICAgICAgICAgICAgICAgICAKICAgICAgICAgICAgICAgICAgICAgICAgICAgICAgICAgICAgICAgICAgICAgICAgICAgICAgICAgICAgICAgICAgICAgICAgICAgICAgICAgICAgICAgICAgICAgICAgICAgIAogICAgICAgICAgICAgICAgICAgICAgICAgICAgICAgICAgICAgICAgICAgICAgICAgICAgICAgICAgICAgICAgICAgICAgICAgICAgICAgICAgICAgICAgICAgICAgICAgICAgCiAgICAgICAgICAgICAgICAgICAgICAgICAgICAgICAgICAgICAgICAgICAgICAgICAgICAgICAgICAgICAgICAgICAgICAgICAgICAgICAgICAgICAgICAgICAgICAgICAgICAKICAgICAgICAgICAgICAgICAgICAgICAgICAgICAgICAgICAgICAgICAgICAgICAgICAgICAgICAgICAgICAgICAgICAgICAgICAgICAgICAgICAgICAgICAgICAgICAgICAgIAogICAgICAgICAgICAgICAgICAgICAgICAgICAgICAgICAgICAgICAgICAgICAgICAgICAgICAgICAgICAgICAgICAgICAgICAgICAgICAgICAgICAgICAgICAgICAgICAgICAgCiAgICAgICAgICAgICAgICAgICAgICAgICAgICAgICAgICAgICAgICAgICAgICAgICAgICAgICAgICAgICAgICAgICAgICAgICAgICAgICAgICAgICAgICAgICAgICAgICAgICAKICAgICAgICAgICAgICAgICAgICAgICAgICAgICAgICAgICAgICAgICAgICAgICAgICAgICAgICAgICAgICAgICAgICAgICAgICAgICAgICAgICAgICAgICAgICAgICAgICAgIAogICAgICAgICAgICAgICAgICAgICAgICAgICAgICAgICAgICAgICAgICAgICAgICAgICAgICAgICAgICAgICAgICAgICAgICAgICAgICAgICAgICAgICAgICAgICAgICAgICAgCiAgICAgICAgICAgICAgICAgICAgICAgICAgICAgICAgICAgICAgICAgICAgICAgICAgICAgICAgICAgICAgICAgICAgICAgICAgICAgICAgICAgICAgICAgICAgICAgICAgICAKICAgICAgICAgICAgICAgICAgICAgICAgICAgICAgICAgICAgICAgICAgICAgICAgICAgICAgICAgICAgICAgICAgICAgICAgICAgICAgICAgICAgICAgICAgICAgICAgICAgIAogICAgICAgICAgICAgICAgICAgICAgICAgICAgICAgICAgICAgICAgICAgICAgICAgICAgICAgICAgICAgICAgICAgICAgICAgICAgICAgICAgICAgICAgICAgICAgICAgICAgCiAgICAgICAgICAgICAgICAgICAgICAgICAgICAgICAgICAgICAgICAgICAgICAgICAgICAgICAgICAgICAgICAgICAgICAgICAgICAgICAgICAgICAgICAgICAgICAgICAgICAKICAgICAgICAgICAgICAgICAgICAgICAgICAgICAgICAgICAgICAgICAgICAgICAgICAgICAgICAgICAgICAgICAgICAgICAgICAgICAgICAgICAgICAgICAgICAgICAgICAgIAogICAgICAgICAgICAgICAgICAgICAgICAgICAgICAgICAgICAgICAgICAgICAgICAgICAgICAgICAgICAgICAgICAgICAgICAgICAgICAgICAgICAgICAgICAgICAgICAgICAgCiAgICAgICAgICAgICAgICAgICAgICAgICAgICAgICAgICAgICAgICAgICAgICAgICAgICAgICAgICAgICAgICAgICAgICAgICAgICAgICAgICAgICAgICAgICAgICAgICAgICAKICAgICAgICAgICAgICAgICAgICAgICAgICAgICAgICAgICAgICAgICAgICAgICAgICAgICAgICAgICAgICAgICAgICAgICAgICAgICAgICAgICAgICAgICAgICAgICAgICAgIAogICAgICAgICAgICAgICAgICAgICAgICAgICAgPD94cGFja2V0IGVuZD0ndyc/Pv/bAEMABwUFBgUEBwYFBggHBwgKEQsKCQkKFQ8QDBEYFRoZGBUYFxseJyEbHSUdFxgiLiIlKCkrLCsaIC8zLyoyJyorKv/bAEMBBwgICgkKFAsLFCocGBwqKioqKioqKioqKioqKioqKioqKioqKioqKioqKioqKioqKioqKioqKioqKioqKioqKv/AABEIAjkCnQMBIgACEQEDEQH/xAAfAAABBQEBAQEBAQAAAAAAAAAAAQIDBAUGBwgJCgv/xAC1EAACAQMDAgQDBQUEBAAAAX0BAgMABBEFEiExQQYTUWEHInEUMoGRoQgjQrHBFVLR8CQzYnKCCQoWFxgZGiUmJygpKjQ1Njc4OTpDREVGR0hJSlNUVVZXWFlaY2RlZmdoaWpzdHV2d3h5eoOEhYaHiImKkpOUlZaXmJmaoqOkpaanqKmqsrO0tba3uLm6wsPExcbHyMnK0tPU1dbX2Nna4eLj5OXm5+jp6vHy8/T19vf4+fr/xAAfAQADAQEBAQEBAQEBAAAAAAAAAQIDBAUGBwgJCgv/xAC1EQACAQIEBAMEBwUEBAABAncAAQIDEQQFITEGEkFRB2FxEyIygQgUQpGhscEJIzNS8BVictEKFiQ04SXxFxgZGiYnKCkqNTY3ODk6Q0RFRkdISUpTVFVWV1hZWmNkZWZnaGlqc3R1dnd4eXqCg4SFhoeIiYqSk5SVlpeYmZqio6Slpqeoqaqys7S1tre4ubrCw8TFxsfIycrS09TV1tfY2dri4+Tl5ufo6ery8/T19vf4+fr/2gAMAwEAAhEDEQA/APMaaafimkV77Pj0NHWn5puKXNAC5o3U3NJmi4WH5puaTdTS1S9R2H5pc1Fvpd9CHYkzTg1Q76cGpiaJg1PDVAGpwNUQ4k4anBuagDU7dTIcScNTg1QBqeDTM3EmDVKDVYGpA9AtibNPVqgBqRTSsFywjVKrVWVqlU0mgUrFpGqYNVRGqZWqeU0UywrVJuqsrU/fScTRVCfdTS1ReZTd9NRFOpoPNR55pc02uqMVY8upJtjxS7qYGoqkjK7H7qM0yloFdjxS5pooHWgVx4p1NAp9XchiYpRRS0EhRmlzSGhEsN1KKbS1ZI8GikAxRnmmIeKWmg0/FIYlLijFLQAc0oPNGRik702IfSUZpM0MdmLijNJupakQZpKWkIoEJmnU3FLmgApaTIoqkLUWiijNJlDafTcU6kgFpKWkpgLRRmjrQAUynZpMUCYlLRilxTELuFJSYp1AJAKWkooBiUmaXNIOaADNOpuKcDVIDz49aYaeRTSK8tn1KENN7U400ipKQhNMJp1QS3EaNjcPzo2NIxb2HbvejdVc3Kf3h+dNN5H/AHh+dTc19nLsWC1G6qpu4/7w/Om/b4s9TRcr2cuxd3U4NVD7fD604X8XqadxOlLsXw1PDVmjUYR/C1P/ALUg/uvVJkujPsaIanBqzf7Vg/uvThqtuf4Xpkewn2NINTw9Zw1K39/zpw1S39WqkzN0Z9jSV6eG5rNGq2v94/lUy6naf89QPrVGboz7GipqQVQXUrP/AJ+EqUalZf8APwlBk6M+xdWpVNUBqVn/AM/CVOt5a/8AP1F+dBHs5LoXFapAapreWo/5eov++qlW9tD/AMvUX/fVCix8suxZDml31WF3a/8AP1D/AN9Uv2mH/nqn/fQp8rE+ZdCxvpQ1VftVv/z3j/76qXzYv+esf/fQp8rMZ81tiwGpN3FRCaL/AJ6p/wB9Cl82L/nqn/fQrWxzuMr6ofmk3Gk3xf8APVP++hRvi/56x/8AfQp2I5JdhwpQaBJF081P++hS/u/+e0f/AH0KLMOSXYUE04Hmmgx/89Y/++hSjZ/z1j/76FNJkuEuxMDS5qMFf76/99Cn/L/fX86fKyeWXYcDS5pgK/31/wC+qf8AL/fX/vqnysVmGaM0YU/xr/31TxED0kT/AL6o5WS4sjyKAakMBAzvU/Q1ESqtguM1dmTykgNGOaQbf76/rS/L/wA9F/WhpisOAqQVGCv/AD0WpV5FRZodgpCaCabjPQ0IVn0FzRupAtO202ybMN1LTQKdimPUSnZpNtAFBNmPBpKKbmkOwE0madtJpNhphZiUo+tBUijbRcfKwJo3UBTS+WaBWYm6nZpuzFLQFmOzSUlLketAWYUoNA5zg9KTBphZhmkoKkUDBH3h+dAmmFOpoGehzQfrQKzQtOpuDS5oGhaM0maM0AGKUCkzS5pABFIDSk8U2qQHBsKYRU5FRkV5zR9ImRYpDTyKjbgVOxaKl5MY4jisGSRmckmtXUX/AHZrGJqHqevhYpRuHmGjNMpQak7LDqTFJmigBRing0yloEPopAaKtCsLS80lGapCFyaX8abRmqFYkyexP4UhOaQEUtAWAU8Go6dTRLRJmjFIKUVpGKZI4Cl5HelFJWsYImwZPr+tODn1NNoquRCaH+Y394/nTvNb+8fzqKijkRPKiXzW/vH86cJW/vH86gp4o5EJxROJW/vH86PNb+8fzqIUtUoonlJPNb++fzo89/77fnUdNzT5UHKibz3/AL7fnSi5f++351BTe9VGKDkRdW9mXpI3/fRp/wBvm/vn86prT8VfKiXSj2LIv5v75/On/wBoTf3z+ZqnRmjkIdKPYuf2jP8A3z+ZpRqdzn77f99GqWaAaOUXsodjRXVrxfuSkfU5p661fDrN+lZynNOp8ovY03ukaS67fiQHzsj0xUjeJL49An61k04riiyD6vT7I1E8SXg++iN+JqV/El3LHs+5zwymsXFLS5UyXh6T+ya0eq3Syb5biVl9A1Ml1m98wtFcSKM8DPSs7ecYpAxxg0/ZoPq9NdC6da1NuPtcn4Ggavqf/P7L+dUlODTwO+aPZIfsYdl9xcTVdRPW8l/OpP7S1AL/AMfkp/4FVAtjpSiQ0/ZoXsIdkXzqt+rbReyN9DSNrmqA8XT1R8zFHm560vZoPq9P+VGgNZ1NwC14wHfFSLrV0o+WZyfXNZW/PAoDYoVNIl4am+hpnX9TPAuCuKadb1XqLxz+NZ24mnJn1o9mmNYemvsoujW9UI+a8epjr+peTtFwfrjms00Z7UvZoHh6fZGtba/fIwaad3A6jpTrjxLfuWWKZkXt61kA0GmoIn6tSvexojxBqGAGuGNDazeN/wAt2H0JrNAGKAecUco/q1Lsaa6zeDrM5H+9SPq0x/5bye43VRC5pp6mp9mH1al2NR9ZkfaIzImByS1NOpTE/wDHxJ/30azc00timoLqH1ekuhptqMwGTPIR/vGoZNQllICTSIO/zGqQfcMVILdlUSHBU9ADSlBdAVCmnsaejanc2urQo07SRyttKvyK7N/9ZXm0cjR30Dnja4Nekv8AfyO/NZqNjycypxi04i9qSnAZWkxTPGEoopcUgCjNBFNoAdSUUU0BxTCoyKnIqIiuJnvxZEw4qB+9WWquwrJm8TH1L7hFY5rY1PgGsesz3MP8AhpDTqTFSzpGg5p5OKktIhLMQewzWmsKkcqPypWE2Y+7/OKdn/OK12iUfwD8qQIM/dH5U0K5lDP90/lR839xvyrdjjJYdhUpXFWkK6OeGf7p/Klw390/lW9gf3R+VIQAelWhXMPD9kY/hR5cn9xvyreHHtUpLKoYcg0wOfWNz1Rh+FSCFz/A35V0DDaiMxB3nAFSlfWmgOaML9lb8qUQP/dNdHj0qqVXJ5GfSqIkZHlP6UjqyDODgdTW0sUbffB/Cor2CMWEixnaWx940+blJMtXBTP8hSeYPQ/lXqOn6HpdvaKi2Ub/AO0wBJ/Srseh6ZJgvZRAeyil9ZSDQ8f89fRvypRKp6A/lXs7+HtC8vCWMZb1Kj/Co/7A0pPuWMP4xg/0qfraJbieO7x7/lRvHv8AlXs0eiaZ3sbc/wDbJf8ACpn0TSCPl0y2H/AB/hT+tIV0eJ7x7/lTvMHofyr2M6FpnbTrf/vkf4VJBoWjh8zadCRjoFH+FH1pBoeNecvo35Uecvo35V7K+gaKx+TTox/wEf4U0+HdI72EX5D/AApfW0Gh4550f979KTzU/vD8jXtEHhvQ/wCPTIT/AMBH+FS/8ItoI+5pkX4gH+lH1tBoeJeYn94fkaPMT+8PyNe2/wDCL6J/0DIP++B/hVmPw14fEW1tJty3r5a/4VSxkRaHhYlT+9+lSK+7pXtb+ENClP8AyDoV+igf0rifFnh7T9N1+KKyi8tWTcyjp+FaRxcWFuxxlJXV/wBmWqqCYFf8KI7SybhrDH4CumNW5LTOUorrzplkGUC1U7jjjtU66RYb9rWygjrhQav2hNmcYpxTg2a7g6Rp0ce4WqsP90VHLpVn5X7qyj5746fpR7SwWOMBx7U4uh/jFdd/YNmihpIgQewpLnStKVIyLXHmdOtLnVx2sjjmZQfvUu9McNmu3tNG0p41SazRiejCpP8AhHdKMhX7LgfWqU0mJWscHvHrShgehrv18K6Pj5oevuaJfB+kryI3/CqVVCsjgx9aUyAd67GbwppohyitGc/xGqsvh/S+ByD7NVe1Q9DmN4NNJ966lvB8E0W6CR1z0+tX/CfwyOszTNqN2FiRsKqnBNZTxEI7glc4YuB0YfnSbxn7y/nXr0nwl0CKQjfM2O5fNC/C3w8OqyH/AIEa5/r1NFWPI1kX+8v50plU/wAQ/OvZLT4U+HJptpjb3y5qW4+FXhq3fHlOfo1H1+kwseK+aB/EPzoE49R+dezD4aeGz1gc/jTl+FXh26bakTrj0aj69SBK546iySrlen1phbaxBIyPevUdY8C+D9Ewl3O6seiB8k/hXMTaToBkIsbKUj+9I3X9aylmlCO7Oyjga1b4InMK+aVmwK6NdItkHEIA7Zp66dbKf9Sp+orB5xhl1PUhw9imtTlhIc08PzXVCyt+0Kj8KDZwHrEv5VKzvDmv+rmJOYMv4UzzgOpH51050+zB/eW4cdwK0LPw54T1OdIniltZW6BnwD+NbQzjDS6nFiMmxNFXaOIVt7cUrKW+XvXomr/Cmxj02WbSppVmRCy5bIPtXmg81S8cylJI22sD61208RCq/dPGlBx3Hhdh+Y5NOBY8qxFQ5NSRmulECszbgSc4Nemht9vEw7oP5V5i5wOvevSbc/6DbnPWNT+lRUPHzJe4iZScUpOaaD8tLmsDwBaN1FGKBBmm96XFJQMWjFLRkU0I40io2qYio2WuJnupkDCoXqwwqBhWbRvExNU71kYrX1ToayRUWPew38MTFJ2p1NNJo6S1paF7tsf3a2BEc8VmaKu67k/3a31UAcUiZFcoMdKasPPIqyBk0pOOKpJk3RCqDIA60hU7iDUqx7mJ5FPaIlThsn3rVIltFdowKiPDip2Vh96mGIvIEzj3osK5GeW9qlUsFwBmmyoYZNhwfepVBTrRYdxphB2k7sg5x6VIsjtIS+MdqfnKZqJjxxRYLjy/pUHlh5iT1qZANoz1pGjxJlDVJEhGoDY61BqKnyQvTnmrEP8Ax8AGm6ng/d6VE1oSz07RrX7VbINyqf8AaNW5oUhbarbiOtUNLcpZoRVtAWf3NcE2S7iotaFnawTKxnkC9Mc1DJZyQxhm6GotpA4rC5nZiAYNPHvRFE0sgRPvMcCpZ7Z4MB+9UmxFhLe1NtuMg3emapADPFM2VZtbSS5k2RYJxnmne40MVeavTW8DW4KMNw7jvVeWB7eTZIBn1BpAcCkxiJHip4x+8GelPtbd7kny+1Iw2SYPUUikXbyG3jAEJO7uKrBaYpJNXobCaSHzEwR9aBNkUMRkkCL1PTNcB44iP/CTW6t/zx5P5V6EjbGyDg9jXn3jaQyeJLUuQp8j8+la01qOJmQKgXaGLEUm/MjL6YpYzGn/AC0XJ45qZIgrEkZJ9K9eC90Y6I8Apg+9TgjzNzd6bFHFDbqkasNvUsetOiPmSYdenTNabCZYQqUwe9JtxxnipWVV4IFNhjMjH5sih2ZLG/ZVcczbfrTgYrSJwCtwzcKD2p08cbTNGnVQMiqEtukNtIDGySZyuD1qrC1LNrcRrbM0/lxSq2AueBUjXJLCPb+9C5YgcYqGHyZivnorAHP41K0ZZZY94Sab7gPpT6i1HmdZVTyRg4ySaiM7oc7zwelV55vJUR42mM7TjvTVRFgnuGVhxwD3osK5YL/a5jvB2AdPWkK267bdYMbmxkVXt/3kIZuTjNSQzvNNvi4EXVsdKBotB2jBiGQAeK1fB8kkf2hPMJO/PBrGEpabcx3Enk1peDVaTVL1EycOOBXLiV7g0dxGC65PJq5Hp0pt/N42ioBC8GFkGDTxPKqbA5C+ma8ZlXI1O1sg4ND/ADcnrShcketLKjIvPH1pCYGBlhMpX5B1Ncj4h8WSWrNY6UcSsv7yUfw/T3rV1bxCdPspSzDaoI5NebrN9qkkuTjdK5Yn1rlxNRwie3lODjiKyTGNH50xmuZHmlPV3OTViFAD0pgXLVMnFeBOpKTP0vD4enTVooc44p0axlTv69qQnNJisuZnbyoYwweKbUuM0wrijmYWQw4NRMit169j6VKVppWqjJpmM6SktTrPBWsu8kulX7lxs3Qux7DqK8z8SMj+Kb9ExtWToK6zRG2a9AxPZhXGa5/yNOo+8lfV5JVcp2Z+d5/hI0p80VuUSKUcUbaXaRX2UT5IR+Vr0XTmD6RaHOf3S/yrzplyM16Do/8AyA7U99grKojysxV6Ze/h4oBxQPeiuc+dFzTqZmnCmIWm06kxTAKQ0tGKAORpjU88Uw81xntIiaqz96tEVXkX5qVjeDMHVOSRWVitPUj+/YVnYqLdz6ChpBDcUhp9NIocexuaGhDM8x9AK6CBMsM1heHxma4+groolIcA1m0EhsqBckCogvNW5VG2qv8AFVoyY9o8LkUxTzzUyk+Wc1GVkLZUA1aERzDKnHWoQf3itVhwSwzVVt3OKYCzHL5pjSliAaQhwAXxg9MUjj5dw60CJEwke0d6fGMsAarox4DVOHqkUglVjJhKUsYosiJpD/s9qeis7cdaI5HV/lNAMlAAf/Vc+oNQXijy+fWriEv7mqep5RB25rOexJ6PpoP2FMVcUlTx1FQaLLHFaI0q7h6VbZg8hKjAz2rzJ7ktkz3kssao5JAFIqu4yqMR3IHSowKvW955Ns0W0EMc5qNCblIM0cmV4I6U97mSY/Oc4pjcuaBwarQglEb4ztO31p8M0kJzGcE1Ob4m1EOxSAMZxVUHNICRmaRsscmnGNgoJBx61GDyKuT3olhWMIF2ijQCOGdoc7OM0/5pW55JqBRnkVatpfKmRioIB5zQCYqoUbDAj6iraXUqR7FPFOurwXIXAAx6Cq4BxQAucnNcF4+RV1y1cj7sP+Fei2rRxyZlXcvpjNef+PriK48SWzRriNoxgMO1a0ty43OftWiLkzISjDggcg1fUSrM6qhKKcAnvUCRYK4+6O1WeudvFexC1g1GsXbvj6mpYmkVh5gA9MUIgVf32M44qrAnkXG6SZnQ/wB49KuyFc1EZWYhnUYHc1JEwUMUrHjZRfFpJNyHpjtWgs6KmEbOSBjNFuxLFBS4kM0e5XC/MDxVa7mlCGRecfcJ6GrpDJycg+9V7D7VPceTcRxmNchQOAatMCCza4kQ+ciRgjPyip5W8xN+/MkXQ96WSBo98jybVB2hPeq4EgkDIhPrx1pN6gSygtFFKF2Fjk+9JK801zGR80ezkEdKnPmOgycHHGe1RxDMmJicLyQP4qNQIlbzPNCOAwHC4xkU6JFgtWjLfe+YrRHGGefzQfLx8gB5zUiGL7MROD6H1ApCBQUj4bjGcVqeCLlrTxDcsnO8jINZT7VjRbbcAOpbnIq14UEg8STKwwGAYfhXNifgGj0+4uGuZA7elRDpTEORWhbXFvHblJE3Me9eM2UkVYJfKnV8Zx2pdSvDcR52hcDtUbH5uKinG6JqSBnmvxBdl0l8MfvVg6NL5ulQN3212Pi+K2k8P3QkGXUEjIrg/DTE6OgJ6GuDGfAfUcPu1c3E+9Uy4qGOpa8Fn6PHYfikpN1NJ5qWbK4+kxSZpc0hEbdaaTTm60w8U0KWxJaNs1O3IOMviuX8RDy/Fd8p6na3866INtmjfurg1h+LlA8UPL3khUmvosklavY+M4khekpGSDzT81CDzUoNffReh+diP90132htv0K2I6ba4R+Yjj0rtfDEm/w5D2K5B/Oonsebj1ekaoFJilU/LiiuY+cYnen03GadTIDNGaSlxSAM0ZoxSZoA5NhTCKmIphFczVz2EyIiq0nU1bIqvKtCNoPU5nUv+PlvrVCr+p/8fLfWqNSlc+jo/AhtJinYpQMLTasbGp4ZTdPc59F/rXUIgzmud8ML807DvgflXSqOKxQpETpkmq5RQ+D1q62dp4J9hUDp/EeDWiSM2M2gLxURKg8n5h0HrTXmAfYDk+go2N9qXKkgjrjpRZAmEoBkBHao2UbDUm4Cdh6VC6sQWXpQNleQY6VHkkCpCSWIOePWjGBQIj6yAelSr97BoVdzcU8rt257nFUhFhcIMg4p8kW1sbTn6UxAssuzcQcZ+tXEkDH5uvvTAS1iI5IxVPXFzbAjsau/vFmJjYbT2NU9XB+xjPdsVnU2JZ6Bp64sY6v25UMN/wB3vTNOtGmsU2kDHrS+WVJBrzJrUhmleJaBENs2Tjmqfao1TFaFvp5ltGuDIoC8bc8ms7EENqIfN/f9KW7EQm/c/dI9Kh25c4pcZYZoQhKu2X2cZMwz7GnHTcWwmLDHpmq2zHSqkNMlnKecxjGFPQelQ4zUiReY4GcZq7c6b9kjDCQPn0NSUJYfZ9jfacg4+XFNZV3nYcjPFQKKtW8DTTKikAn1oJFT3rUVLX7A5J+fGB65qG4sWtGCuQ2fSogvFMdhqjFedeNEb+2bLaCT5VelwwtNIEUgE+tef+Nle21yx6HdFj8q0p7msNDITkAOrA9yKtKAuNlU4nd3Jc8U17t4LmFV2mInBY9q9ensDLLL51xtm+72AqK6ijCbQTtXofSoZLiaT5gwEkfIwOtPe8hKgsGZZV+YAfdPvWtjMayCJ40l4MgypzWiIPLhKEKxPIOehrM8uK4EcSlvMGdjMcmtKMTfZ08/5W9+tA0WVl85khb5pe6e1FzMY4mlA3AnYgQfdNVJ7m2s9RguSkmcbN2envWjJDbvCYo3aIyfMSp70uawuUpbC8Me8tKR1LetWYQdw3VZBBjC7QSO+OtKsDNggcnoKdw2Kbu0kuwxHHrUTyMGZJV+bHBHcVpNGV+Rh8/piqiPHcSuCmGQlGz2qiSNVCKqKSxZc80TWy3cAiibZ3YnuasyxxrENvUcA1HJEJLQop2sRjcOoqR6DbeK4WJVmRfl9Km8LtGfHTIWwrRcj0qvFvgQAyM4UYyai0FGh8cDJz5keRjtXPX1gxo9ZvLeOEgRHP0quBxgmkVsjk1PBZTTgvHjFeKyiJFDSBScZPWrN/ZpbwqVfduqs6lCQeoqORmdSGY496CTjPFUYbS7lCvJBrznwu+bSWM9UcivVtZs5bu1n8uPICnOa8m0DdBfXsTjbh+h+tcOKXuH0GSy5cRE6NKlzUKmng5rwJH6fDYfRQDQalm6DNFMpd1IQHFNalpGpoUiLpWV4rTfeW0v96LFazCsrxG2YbQjqMivayiVsSj5bP4uWGZgYw2KfSfxU4njiv0aB+ZMGPyGuu8JybtFdR/C5FceeRXWeC+dNuV/6aVFTY4cdG9FnQRnNPpqLin1zHy0hBS0A0YoEFLmkxRQAuabTqTFMTOYxTSKkxSEVznqXIWHFV5fumrhFVrkYU4pWN6b1OS1E5um+tU8Vbv/APj6b61WxSgfS0/gQ3FH8NOxTTTkjVG94TAMc+ezVutcOy/uoGT3esLwmf3U+f73Fbcczu5EzAAdBmsUEtyQsWlUKajlOXO48d6jDNDfs6ksvYZ6U77VuEgWFxjGc85q0QxFigAEu3LD+IDkVXW6uBHyozk84pYplEJHlsP1pru7JhCB9RTEQjO4k9TSeYypsXvQXIJDUhwV35/CkMjIblm5wM8VIADArdM9qXeN23vSmPNADI9wJCjJxmrEZ36dMZItrAjG4c0sShPmHBpzMzqQzZB7UBYjs4P3gc+lXZTarEQ24MvcY5qK1YNCWQHKmlZ4hIkbIrZzv3dqYmTQ7ZEVlPDDIqlrKkWad/3gqQW7LGyxzFPmO3ae2eKZeKx02CJ2LnzQAxOSfrWdTYk9JsJiLBNpx9KmRS74HJqrp4xaKtXoJfJlDrwRXmy3JYjxtE2HGDSrIyrgMQPTNTXV012wJwMD0qDbWbJeo6FJJpMRqWPtQyMjlXGCPWpLed7dspRLK88xeQ5Y0tyRAz7Nu47fTNTQwPKDsGcVHjirdpdyWobyiPm65FWCKwUhsHqKl3s3BJx6UrsZHLN1PWmgHNDBlmC1kkjZ1QlV6mnISrAoSpHcVLa381vCYkI2kdxUa0EomLu/32Zj7mpTDIIg5UhT0NVwavtqJawEBUcDrimaIqLK0UgZOtef+PJXfVNNLgfcbmu93VwvxAULcWJ6ERmtKe5cWc5B5+2T94XHcY6UqmNGHmBiPQU2ymaK4JIJjdcMKldFC7lbPNevTWgXFit5J5BJEcLnrjrSRXEa3k63RLxnCgqudpFRJcNFaxxIzqy5yQcA02NSzjHUmtUQx1vcNHcMyovyk7Cy5NWo726uJA0wGAeOKjVN87FwAF4471dG02bOF6dMCmwJcs25WjR1IGM9qfC7hvmUcdM1HE+I1LHBIp8JjlLedI0aqMkis7FGg+2LypWceWTg1OA0sziSUpkfKyjpVe1uLeWDyYopCvYv/OrQIjxvYn8KbsmSrsig820DJJm4cN8sjHnH4UwxsWeQxomeWIp9zOSD9n69t1QRy3DRFZgozwcHOaL6ia0JUjUxgr8/frVeS+hjkMT28hYd16U/zEjj8kll7Bh2pPs4hYsxLepPeiwh6qpjLHoe1UdNmT/hPrYxnh4io+tXDIGT5AQPeq0AeDxNp0uwDD5B9a56qXIyloen/Z5I4wzqQDT47mWEYjYj6U6S8e6tkVgABzwahU814yQxWYuxJ6mkeNtvKn8qXo2fSrc9+stusSx7cd6ARzOpTywJIqdCDkV4/FJ/xVV2p43c17FqybvoRXh/iG4fR/FplZDhu3rzXJiIuULHp5dVVOupM6gA5qVDzVGw1K3vkDRNg4+6avYx0r5+pBxZ+qYetCpG6ZIBx1pWHFRbsU4SEisWdiaYlJTwNwJpp60IBKQ0ucUnXrwPWqSJlJIa2AM1meIosadbSYxukIB9eKlu9RhFxFZ2x824ncIoXnGT1rX+J2kHSvDWlNlSVcBgPUqa9rK4NV4s+WzzFU1RcE9WcByW604GowaeDX6Ktj80bbY7NdN4KkOLuIdAd1cvmuj8Fn/Trlc9Y6ipscuKV6MjrQeOaM0o4FJiuRXPk5CilzSUtPUgKXFJTs0xgRSZpSaaTTYHN0EU4ikrA9EjPSqt0cKauEVTu+IyafQ3pas5HUP+Pp/rVYdKsXjb7hiOmagA4qIn1FP4EIaYakxTCMVb2LRraG5itnwcZkNa0rpFM0vlNKSBlUrI0df9EJJx85Na6Fcqz84rFBIWJ5WbK7kB6BhkipUeVYd2xiT94dxStdkAGPGT270xpJJE3r1IwwqrEEYZpJQqqR9RU6Q7m2Hg+9JC4jRdw+arCBHkMjZ3dsUwKaWj3O8pgFTjBOM1CIFVmAOSh5FaEjoT8pwfXNVioEkrd5DmgCs0RZt2Kd82QFBb2FStJ5cYVhke1ORcZKZBAzkUrAELecxWUBCOB2pECbHKnlPvVXJO/dk5qxE0bAxxodz/AHjjrSsU2XYGXoDUVwkalpGUtjso5NMhQsAQcVNsbdk9KWhnJsZsC4ZehFLMnmR2y/8ATdf607ORt7UhQ/a7Nc4HnrUT2JTPTtMhgayUzcVW702F/wBwoHSrthZreTFGbaAM5zivNnuS9SsDWhJPavZ7EhxJtwW96rXNstvMUU5A96irOwri/Snqp3A1Z06xS6Z/MfGBwAajlQRzMo6CmkS9S7cS2klsBChVwKpihBmr1rp6zRF3kVfTJp6iSIbYxidTMMoOuKuXs9tOVNvEUwOfes8oyPg4qVDxzRdgKB6VcsfLWceeAV7gjNSQWUbW/mF1B9CahK0MpE181u02bZNg7iq4FG2tGTTPKslm35J5xS6DuR2CW3mEXX3ccH3rzf4nNi+slTjK16AAc1558Shi601j/dropfECMGFd0fHpUWBFasyMT82Mdc1NE8aLsjByfWn2sAjtZIXHmO7ZVielexTWgXGRSQQwBpIzMWOOB933oEiRsZFUlgRtAFMaF4pMPgDHQU6JCGMn92tLCJTK+4eYu3ceRVxZfLgOFOB2x976VAbdp7P7U0qBR2bg0qR3MmyQbTGvUE0mh3Lc5Ag+QKXI4yOlS2kk0saxyQqTjk+tUyzqrJIV81hlOegq4kcz2/mfJBMR8o3cVmO5oIBAu4qFX2GKqPqJuQfsigjOPn4qK2upJYZRNKsnkthttEE8ZlM0Efys2drUOwK5YhmZmSKaPy5c8+4qbzzFPgxqQTwfSqbSedKHk+8vSieYyxoyBiBweKaSDVly3WQyTyrsIb7obsaguHunKAGNWzz1Ipm2VFjYgrGvX3ps1wzspiRsA8k9qYtUTozrlHUbl64pjSodUsi2crJg0nngqTuG761XLPHc2kh+YecM5+tYVlaILU9Nt2/cr9KuWU0MU2Z03ClisoV01ZA/zYqsAPWvFe4ye7kR5y0S4Q9KgOMUE8Yq4mnmSz87eB3xSuMoLBDNMBN92vN/iL4NTUp3n08ZkiGR716QFHrUc0McgO4ZzSauXCXK7nzAs02n3TRS74nQ4PUVs23im5jABKyqPU17fqXw6sNct2nuYEPHBUc1w978G7cqzWM7xPnjvXFUoRke7hsyqUl7rOWTxWnHnW7D6GrKeKrHHMcgpZ/hNr8T/ubqN1/2lqWP4QeKZYS4lg2/jXM8JE9aGeVV1K58W2g+7HIaYfFtufuwPn61Zi+EXiFm/eXUSD2U1pWnwauGbN9qRPsq4qVg4lSz6r3Mm38W2qhzNACcfLk9DWI2o6nrt4LbTYpZpXOFSIcCvVNN+DGlRqZJ2kuFXkgmur0rQtN0NVXTLOOErxuC8mtFhUmefWzqrLS5x/gn4ay6Eyanr22S8Ybo485Cfn3p/wAWQZvD9sGOQsoOa9Cmme4YGQ5xXCfFOLPhFn/uOv8AOvSw0VCaZ4VavKs7tnkhA4I9KXFNQ4QCngZr7SOx5+txK3/BnGqTnv5f9aw8Vs+D5AmuMp/iQis6mxjiNaUjtN2WNLmkwNxozzXMkfIyF70UDmlxTZAUUUZFIYUlLkUlAjnyKbUhFN21kegmMNUL9sW7fStBuBWbqRAt2JpHTQ1mjkZvvn61GKkl5Y/WmAUQTPqFsFNYU+mNTY0bGkR77Lyxy5Y4rQWKTHIx+NVtHtma0ySVycitAwED5jmsU0gZVKOsyNGMnNXHBjiYR9/Wp0tX8hJEALAYINSqsIgBn6nPQ1TaEZjuRGz7S5HvU0cjhhtXcMc96qz/AOtdSflY9qehNp93jdRcYRzC4kcqNpU4I6Ukm6ojmW4aReeMmnrIz/eoHYcjk9efapFjkMny5AIpsaYbIqQSSR3GMkj6dKASZA6hpGC/wDmliJU5XrUkifvCyLgsBuwKjBAo0FZkiGdMY2ge9W2nHG4HHsKhhZWOZOlEVy6MAwU/hUKxMky8kKq3J496ivB5d7Ybe84qxH5cjBicCortXk1K0Hy7ElBXHX3qJ2sRZs7y3iKxLmrMbNGflJB9qbDzCtOAJNedPckG3O3JzUz2U0UYkdCqnpmmBcVZlv7ieIRyvlR0FSS0VkV1PyMR9DUqRNIwUcsaRBnpzUsUhjcMpwR0ougsSy2M1qR5oxkZBoVmAwDUs15Nc481ywA4qMKSM000AQ273M4ROp9amuLQ2xw3WmwyPbyCSM4Ip0101w2XOTQwsLGx8vHapYIJZ32xDceuKiQYWrNrcvay74zg9KQWY14WibbIMGpDI5TbuJHpmia4M8pduppopMSHQxSSHEa7j6V518TI/wDSNL+lem2V41q2VUN9a86+JA8y801e4Ga3o7jOXjQAg1O2UG7FCKv8WfwqaSET27KG2nsc17MGrCKiyieXDKN2Dkk9KNn7vGcZ605LeZI1UgOy9WUdaSU7mAFaXRTHJBJHAkSyK4lPAJ6UyC3lcujS7NnVcmrFsY+PPi34+7zjFP2YZ9vJfH3u1JsLDHZbvW7fyMkRriTitSWyj8xZ55d6Yxgf1qBLcNaSbT5UpPDqOarRSM2E3sfXmoGPig/s8y+SieVOc+pqVTHuAhUqF4Ix3qZI87QRwO1IsQRjx1Oam6Y0rEezfJjfsB71aSKSS1LiXIjOBjvTNis1TRExr5aDgnNO9h300KzgyRASMxAOeajcHaFibJLcg1YuW8lyc59qrwf6RIxc7Cehp6E3vuJ5YjYhcAt196p3jGO8svnJzcICv41f+z+XMUDiRwM5BzVK6izf2anh2nQgH61FRpRCyep6vCWaJcscY4FSxxvLII4+WPSoLfd5KYGeKnjZo3DrwwrwXe49ySe1kt8LKME1EruF2hmA9M1JLPJOwMrE4pm2lsIaEJYKoyT0pZLeWL/WLtz0zT0do3DKORUtxdyXRBk6imBCt1NHD5auQvpUILZ9zT2U9aWIFZA3oalpFJsY4kX76kfWpUvZ0iMS42/Spbu5+04O3btqsKSigcmR4bdkDmght3zA1YjIDgn1q3eTxTogjjCle+KfKguyK3vHhgMYGQagJyxPqacOBSgZIosguMPANcv8RAr+A73gFl2kce4rt7kWxtB5Qw/euK8fx58FX4/2Qf1qqfxIDxEYKgj0pwFNiOYxT6+vj8KMnuFaXhg7fEUfuprNJ4q/4d48Q2/40p7GVX+GzvicSGinOPmptcyPjnuOU0uaYDS5NBI7NNpeaTBoEJinUlOxSBGEaaaeRTSKyO8iesrWCPslazr1rF1c4tufWk7nbhfjRzLjJNNp7HrTK0ifSrYKikJ7DNS4qXTwG1SFWAIJPBqKraRUTqdL8La4+lrILmOFX5QMSTj8uKtf8I3rmcG5tz+f+FegrGn2RAoHHFMMYHavKnVaYM4hPDmvKuBdQfQE/wCFVZPB/iV1y97b7B3K9P0r0FnjiXe5AC8kk1y+veJ7jVG8nTHa3t+jMFwWrmqYrkR1YXC1MRK0Fc5ltEu7OYfbL+3l/wBw/wD1qXyHm4lYkAnFSR2W37zFvc1bVQBXnVMzn9k+uwuRxWtUpxWwgB2d+uaBb89Ku7RShFrB5lW7no/2Nh+xWSGpREBUoAFFT/aVbuNZPhuxSuLaSZNsc3k56kVJa+F7y+jZrbUrdiOqhcn+VTOuRUdjPPpN/Hd2hbajZkhB4cfSumjmVRuzZ5mOyWCV6RNF4K1pQEN5CFxxlT/hTv8AhA9WzkalF+bf4V6BJex30Mc1upUMM4anBPl6V60a7krnxNdShNxfQ4q28K6/ECEvbWT/AICR/SqOp2moaHeW76rEWXzMb4hkV6VaN5UoLfdrK+Id1C+hwgLwZ17e1aKbZlBsoL4qsoowo8wkdfkqxZ+MdLSTE4Y8f3P/AK9cUqZINWJCFTgDP0q/ZOSEdPN4008ynZvAzx8lRf8ACX2pH/LT/viuZUeY+ABnBPAp8YQx5lm2HOACaPYPqSdvpXirS3t5GnkbcoyV281VfxPZ+YcCXH+7XKWsBFw+TyRgEmrsY4O6qWHEdCPFVuv8MmP92tePxVpn9mByH8z+5jnrXEgFR8vPtS4J9RT+rgdQfF2nc7vMX6rUH/CZ2CtkiTH+5/8AXrm5YdiKz87vfpUc8ZEBIJ/Ok8OB3TeLdJ+xh1lc5PGFqsPFunnpMR9RXFWsLJGQT3zSywgRluOKFh2O53EXi7TtwBmPX0rQuPFelRgYm3ZH8IrzW2KS7tgPynGSKuxQZxmq+r9xHcReKtOf/low+orkfGeu6bdarZRJcAsuSTjjHFNEWOlMsdNsNQ8RR/bIBKyrwD2pez5NgMp7yKK4YbZJF7FIyRUM2rROQITIp77kNesWumROm2GBCB/sim/2RapJhrOHI9YxT9tYLHmNnqyW+4zMzBhxtQ1X/tO18zOJOv8AcNetjTbPbzaQH/tmP8KfDodvcZ8qwt2I6/ul/wAKpYlLcGjyo6vaMB+6ZAP7qGkTXLKSVR5qqqZ6rgmvVH0q0RirWcAI6jyx/hUR0PTDy2n25/7Zin9aQI80k8QWI+RZuvfFFtqOmRSZe7Qk9ga9Rj8M2VyuU023cDrmMVVk8NaQHIbS7XIP/PMUPFJk7HEW+q2hZ2LjacYzTzqlpICA4zXZL4b0gcHTLfH/AFzH+FTf8IRpssXmw6bCF74QD+lQqy6FKTOCS+hD58xSPTNE2u29vIDGVB/2jXaDwtpKjixjH/AR/hVebwbpE5+ewhI+v/1qXtwWhxF1qlu+Xa4j3t2zwKEure4gUC6jG05bDV30Pwz0VoTMunoVxnLOTVZvAvh8/wDMPUfRiK0WJiBydveaZbSSTpdKXYbVDmq7M7app7SYYeepVga7AeAPDuf+PI/Qua5Hxr4bl0bU9Pm06VkgLbliYk4x70pVlPRFJaHr2najapp4SX7xHpVUXAJOT3rzAa3rS26OZ2j3fw+lWk1fVRGjTXT/ADdOa5fq83sI9HMw7sMVoWN9aRxsspXJ9a8oOr6kbxY0vXzjJX2p/wDamoMx3Xcg5x2pfV59UI9IkuYzM237pPFIJo/71eby3+pxuV+2yDbyQCKiOqX3/LO6kf1yelL6vUKPXLOazML+eRntVSSSPe3lHivMFv7rbia4kBboQ9O8zVPLLQalcKo7ZBqXh6gXPSMjqTV2ytoLiNmlfBHYGvKzc6i0A3ajcZPXoDTRHqCoWGsXgDDlVfFCw9TsNnqEipHIQGGAeDmmGaMcFhXl628+wk6jeE9t0pNILS7ZedTuOf8AbNP6vU6CPWLNYblmBkAx3zTHKRTNGZFOPQ15WDqVgm621ScZ6knNIH1OYbjqUuSM5yKPq8+qEeqblPAYfnXP+M7SS78L30SdTEcVyKXF9E67ruV8f7VZPjPXPEa6WY4ZSLR12yN/EPWmqUk0WjioQyrtYYI61JUcXyxrzk45qTNfT09Yoye4Yq3o7eXrlsx/v9qq4qXT326tbH/bFEtjOfws9Ic/NikxUkww4+lR5rmPj6itIKKN1FMyCnUgNLmkAYozRQRSAxsUhp+KaRWR2XuRSdKwdZP+j/jW9IcA1z2sNmEj3oO7B/xEc6wpAKd1zRWi1PpRuKm05f8AicWy/wB5iKYKtaQN/iGyX1k/pWdf4Cons8LkxqD2q/BDbvC73Emzb+tVhZyQorv0bOKguv8AVEdq8KYM5nxJeM9r5ETkbm5wayI+IwvarGsA+Zx/eqmmRXi4tu59vw/FcjkTUU0NTs15jPrkkLS03NPqGVGwYpKWkprQbQUyQY6U+lbpWkHqRJJrU7HRmEmgWUg6lADXQ2ZtBat5+d+OMVznhM+d4TtX/ukr+VbAGRX0WH1gfk+aQ5MTJDhjccdM8VzPjyQLpNsD3nFdRFEWYL6nFcz8TbJ7TSrHewO+fjHsP/r12Qep5qZzC8dKnNuXh3bgPqaqJcr3FXQ4aDaTXrU9UGpXto9kjsDll4OKmjjgdsSDn2FEDxxswbgt3x1qVI2MgK8Z6GtnERJFGhY4QADpSbZPtClSAg6jHWpEWVVdVKZx3HSltyZlyeOcc0rCHBdkm/J57UNMWkXMWVB5NPSB4k/eS+YfXFIrfLg0rDGysDHhxkemKjGXwSpK+mKkbBqCZbhz+7OR2VeKqwhhVl3qTjJ/Kktkt57jbLKzKOoBolkuSqGe2ELkYODndTUVYpgjR4LjJYcVS0AkhR4opuCUViyn2q1b3CzwrJCCVPqORWfFHqEUwVJw8BBD+YOgq1EgikBWLKZ5CjilLUDXijWSEEEHNM0aAp4uGegjzTIVWVB9nYBR2z0q/oUe7xBIx5IhHP51hVWgHYWN01tu287vWlkmMkpc9TUMa4xUwUcGvKqbhqPQZFT291La7vKOM9atXN3aPaqIYtsn8RxVDr0rKwriSOZJCx6k80o6dDSxlVlUuMjPNXr26t5LVFgXa46nFCAqwXclupWM4zUDFnkz3Jo5qSB0SZWkGVB5p3E2IVIHIqeO9mjh8tGwDU99dQXEaiEYI68VQp3AUjdS+WV+8CPrT7aRIp1aRdy+lWb26S5KbF27alXKIVupo4tiPhcYxiq2MnFS0+1kWC4EjruHpTGVmQqeQRXE/FC8c2mmLD8r+djP4V6JqFwlzIrRpsAGCK83+JUAkt9O5IP2jAI+lVD4hnN2FysrGC8/ftn5ccVauHtZm8p1liMQ6A9azdOljh8wuhjuIj8rMOtWpDJewkeXhz91wTzXtw2RPQvadDDEFuow2TyNxzxUjOssckhU5DfKBUVo7CzjRuFT5XPvV4eSY0CLu45NX1CxXjiVZHDr5jyDJJPSmCOHzlWdWAJ6qeBVgxx72CtlieDSvbkQhhhgOqk0twSKM1oyupgUbGbqWJ4q+8gQHaMKF5bNSFAoRF+7/KpHgQQ7Qu8HqCKQWKwRWQNKpKNyGDYqfbEgDuTjHAqB1MKxxw8pnoe1SNDIJAzMOBjbVNDB5VeMCIYbvmoRDMzKxYYU9KabmT7cUmXC5wGFWMS+Y4hXcF680khE4WIxFZJFOfWmrZ267WeT6VWW5h8smZNnOM561ajih43K2z3NKSAiRRK5VTnDcGszxYZRoMyHAUJnityTyQmIBt9awfEj7tDuUGTtQk5qLIpHAxNlF+lS1DD/AKpfpUtejTfukPcfRA22+hI7OKQU1eLiM9twpz2Jex6pP8zjB/hFQ0qg+UjE8so/lSVzHx9fSbQUoGaQdaeDSZiJik70ufSgDJpAKBS0UlBJkmmt0qUrTGFZtHWirLXO6ycJj1ro5Rwa5rWjkAe9S9D08FrURiZ2ikpWFIK1ifQgaveG0MvimyX/AGyf0qia2PBse/xfaf7IY/pWeI+AuJ7Kbp5gA/QdB6VDNCzqdozT9uG6VN5xiQ4xXgzB7nA60Nl0w96z1FauuJuvyPeqO0A4rxcZfQ+44ea5HEixTsU/FO215fqfX27EQHNPHSnbBTttGg0iOkqXbTStIpoZQ/3TTttDL8tNMykjpvBc2dCkgH/LOX+f/wCqult4JJyREuSK5XwUP9HvgP8Anov8jXY2N9JZZMWOfUV9Hg5Xpn5jnkLYpjFVo254Irk/iRO01hp6scgTnH5CutlmaaQu3U1xfxAJEOmg9DOf5CvQhueDHQ5W3jEnfFXJI1WYtDN5qhQCPQ1Sg+Thc496mCkyE9scivVp7F6FhMFueD2q3DPJmNGQMqnjmqgCNJEwzuTqvY/WrsUkTymNG+dRk+1dCZJIkivfSbQxOASM4FLcbmgxBgYbJAotgibiQdzHrSW3ysyuec1LAdbyPICr9VpTFk4Y4FC+U5YwuDj72001WOQmWPuaBC7VVuG3D1qF9rqfLdgfUGpfLCLxgD0pjxiNdwwOcU2Mhuo5LZYmDSThRyepFMl/ebW34YdMmrJkjmkGVYOq464FRzQqV2lQPp2ppARRRyh2VwWUjDCrWn32678jbIB6kYApitPvLJux7VJA9wHyxVQ3XKgmk0Ji2ubOaVdx+c5GTWx4cRo9YYmRmLQjqfrWW1hG480uD7YrR8PSFtaIHaLB/Wues3YlM77TrQXkgBcKAOc065hFtO0asGA7iq1vIYwNpINSMSzEnkmvKk7sYnWrmnWyXTsrvsxUJs51h80xNs9cVCOOmRUNE3LFzCILhkV9wHeoOc8U8fNinzWs9uoMqYDdDQhlmyso7qNmeXYRxiqsihJGA5wevrTACOhpyhmYBeTRYQgq/Z2lvLAzSPhvTNVp7WWADzFxnpUIYrSGPIAcgevFN6U6NWlkCoMk1Lc2kttgTLtz0poC1Z2kE9szvJ8w7ZqjTAxVcDIFSQo00gRBkmgpMa3NcX8UIPK0GzuVdf3dyCfyrubm3ktiBIME1w3xGdjpNpGRlWuACDVR3LRyxt57m4R1g3Ap94DrVm0DrMsMg8sjrxwKsaWJI9PMZkOR0IHSpd81zctE8anZj95617MfhJIkggt4WikcFXfdj3qeeE2kOYxvDj5VHWo7rTTcqUk+ULyrA96Ul42hiJMiheXParFrcdbJGHWSRSMjkE9KHgX5pC5Zs8ewqsjFriRN3Har8MY2BTz9aYMW0G5mZ2ygHHsacjCUtg4APeqzI1vJtRiysefanbSG2l1BJ4x1NCDUbMF8wD5owf4u1Rs6tICsjZT1HBq1JtaHYxyy9KzHW6VgsmGU/wB0UwJdrSKzbsgNnGO9K09xbozLGz7h0Wq/kzmMo8hT5s8DtU0Vw+/IY4A29KQizDhrdTLEIv8AZbnJrRR/M+ZgAfQdKz41DfvGnDf7J7VdgDFR79KHsMhuWbcdq84rC1fLaXfK33zCcCugnLow3AcHtUN/awtp00rqCzRnnHtUWGjya3P7pfpU4NQW/wBwgdiRUwFd1L4SXuPBprZ4I7GlFO4KVpPYlnpcD77K3J/55j+VKKgs336dbFehiU/pU68muXqfI4j+IxQKWlBpDUs5gxigHFGaMUJDF60ZpAcUuKYmZ1RtzUlMIqDpK03Ga5jW+CPrXU3Awua5XWuZAKhq56eA1mjHNMqV14GKireKPogPStzwKN3i+3/3H/lWEeldD8P13eMIf+ubfyrnxPwFRPapktvskZiJ3knNUZ/uU9DViG1W5BDHFeDIbaucJrSYvs+prOk/1uPatjxIqxXS47E1jMd0pIrxcbdWPseHZJuSFC1JikHSnV5N2fcITFGKWl4oGNxSU/IpMUDYzFIeRT8Um2rimyG7G54KlCyXsHO5mBH4D/69dSBk1yHhABdckH95DkfhXeafBFLI6zHGMYr6DB/Afmmff70V1XnmuZ+JLwnTbDywC4n4wOeldbcRpHK3lnK1w3jwn/iXKuMmR8Z+gr0ae582csQE5qUMd4eAgrjkMM0yeKaJsS4I9qmiCXDFIwqleoAxXsU9gsMjmENx5kmfoK0IZkuJmZIgrY5O0ZNJHaxqp3gE7SBnnmorWX7NIWO0uONpOM1qFjQt5I5eCdp9DQ/lpKVdlWT+6TzTI7dm/fcDd2oFtbmRp3jEkwPUnNNBZkPkXEWTahEDHLYHWpYbqRY2LuCVT9arxN5Mj72fDHjPOKlSAJHcTbxIpUbeOlDCxDbyDy/NuZzkdm5BqZ7kTMGaMBR0ANNjnhuNsU2E9yKd5WSBH0FPRjB1nlty1ogMuQQjdTTgomEmXAIX5RnqaZHJuBIbBHHBpyxoOQ2T9aewghlmXCb9uBzT4CUL+cC+4YXGOKURCc5Ztx+uaeIjBK0YB+WmIWKNkTliRjpmrvhhlTXZsf3KrDmPdVjw6c68wxjKVyV9gR3UZ3AVPj1p+mCFCfPGeOM1LdNEbhvIzszxmvI2YPUlk1CWSzELc47k1TXkUucdat2EtsjN9qAK44zTJ2KeSGq5dahJdxqkgGF6YqK5eJ7hjbjEfYVFkDqKkYhJOMU6OQxyAjqDVzT5rRFf7UMk9OKpylDMxjGFJ4FArali4vXuVUPj5fSq3JpelW7S6tooGWaLcx74pDKkUzwTB04Iqe4vZbrHnEfL0wKruNzkjp2oHAoWgIdjIoikeGYOhwRV23vLeO2KSRAv64qh1NVcCe5u5LpgZccVxPxEVjpVmFH/AC8rXX9GrE8bwxTeHomP3knXGPrTjuaROSsoZ7dHE8qyAnjauMVcVDt37to7g0y3faoB596dcrJuRycoewr2ofCrElOe2MjHy53jyc4U8VKjx5KZLOg+73NNVmL5CnAPPFBCvMxRgre3Wr9QGRyq04JTygAdysOQatxlZV3RMGXOODVcXCQLJKf3hXruGanhmhnthLB8m4dQOhpgSLJHny9hYk9T2qs6tJMBEF3K3DE9KLVgjiKWUNIDmpndIRJIkgd+4HahWTDcguUcSHzhg9eKhlY3EJa3mAf0NJ9skvFfylG4dTJxmnxRloSdqh17Dik0ASyA/PI3zYxiqccm+Jg8gJzkLjmppI+SxOGJ5WpLS3RnbzEXcBwcUJBYZEsIiDSZJz0BxWqkx+zZjRjgdO9ZMMwuywZAjRnGPWr8FwkL/vnKL6inYRZt41KFpN3I5DdqbIyvFIqHKBSMVHJfWkRKySMC3QnPNSoqtC+O4qXsUjyKPCySAdnI/WphzTNmy+uoz1WU8/jT+hrqo/CKW4tIM07FOQA9a26EM73Sm8zRrRj/AM8wKtqeapaGd2hW+OgFXlHNcr3PlMV/FY9aQ9aeBimkUjkG96dmkooAXFOHSkBpc0AZoFIakxUZFSbEU/8AqTXI6yc3fFddOf3Rrj9W5uzUnrZf8ZnPUJqZqiIroSPoSM9K6n4cx7vETtjlY+D+BrlyOK7H4ZD/AIm90/8AdRf61y4n4BrY9VWzlWDzCp25piu0Z+UkfQ1aN7K8OzdhfQVW8tmb5QSfYV4LEzjvFCMLjeRwTxWOm3sc11+t2H2xdhGCvTPFeX3d7eaPfMlyjiMt8ue4rzsVS54nv5Ji44abv1OlFJmseDxDbSICxYH6VfW+gYAiRT+NeO6Ml0P0CnjKU1dSLWaXFVxdQn/lov50v2uED74/Op9m+xsq9PuTkU3dzUH2+3Gd0qjHqaoS+IbFScM2foKapS7EyxNNfaNimtIifedR9TXNz+KF5WLP1xWel5f67qCW1irytIQB1wv19K6aNGRwYjMqMY6M7/wHcHUfEtzJAD5MSckj2NegAkNwawPBvh1vDGlNHLtN1OSZmXnjsB+ddCkZZsKM/SvZo0+SNj89zHFPE1eZinLVxfxEgZP7LcH+OT+QrtWBQ8jmuQ8e3MU39nRy8FXfH5CuymtTykc/DIktuvngsfao1th/aCyR7guORRHJC1wq2xbaezVcVNjZz3xXr09htjJglsSxkxnoGNQp9jvJ0kljzKmOnA96syQRSMCyqW7kipLqzhhs2niVUZP7oxmtUBJvyu1elMQeTGcJ7k4pkO4Qrv8AlZueTTpJZJXeE/u4iPvg96pIQQqtw7pJwcfLinQIZbRo1cBs4IIpbe3EaRtG5dlHJPel8gqxOQMn8aHYCIWMYtVW4kUTDOWU9eapyrcQSloS5X2rRW0i8zedxbHc1FcRSJbyNDOUfjaM0ICtbwkMTICA3rSmIq6lDwakS2uzCDdz7j2CmpYduUUg5X1oYiWKFYI/NP40qX6XLZEEiE92HWlmuIYofnyR6Cm+cXCmFAR+VCAlJJ7nHYVZ8Pn/AIn30SmCJigJUjNP0FSniB1P9ysK+wI7qEhj+FSqcmobeNnxsBJ9qlKMjYYYrx3uSy9Pp7RWgnZ1IPQCqYFOMkhQKzEqOgp0MDy5Ealj7UgGIvzfjVu7sPs8CuZA27oBVR1aNyGyCOooMrsMMSQOlIBpGKfEokmVSduT1p0dvLPzGhbHXFMZSjkEEMKBou3tilsqlJN2RzVEjFOLOw5JOPU0+O1mnUtGhYDrigTuEEYlmVS20E9asX1pHbFdjbt1UhlWPYin5ZuvNJggIBWn21v9ouBHnGe9OW2laMsqHAqLO1uDg+1NjLWoWKWpUI27PvXI+M/+QKmef3y/zrpd7N94k/U1zvjSMnQw3ZZVJ/Omty0c7ADinSz+TtVkLsegFLaEEfNVeSeeS4y1uyIvcDNe1T+FEsSO6kZn/cMmOgI60oHnWu8kRN1IxyKauou9z5AtJFAHMp6GpZVWGXzM43jGc9a1YkSKkEluUVt+4YJHeiO3EcIjjZVRegJ5qBd24CNlHzZbPcU6S33zOY+Mgcii49yCVViutxw+OtOiaFmdok2l/TvTLqb7DCzmEs2MbsZqNLxI44544WYOMFQORSY0FzbzvArWzBWVssWPGKn84KqKW54zx1qFrkz7oiDGrDP1q0piFvu2ZccYHU0WAjubdlYTxSDaBypqFJ1D/MecdM1NKqiNuo3f3jVTyVmvEzhRjqOKatYCa2jaRtwKqq5bJ70Rsb1ZJFKgbto5wDUCWjRmVoJM5+XDtgCrUVvCumrFfbVYNnCHimwJvLAhA3BnXg55AFOS4lSVUjAZSDkntVWHTwhllQMhcgLg9fwqzHHOkykqCmOc9algtjzW4RxrF8pGGEppUjLtjOD71PqSmPxNqCt/fGKYBzmuml8I5bicKpBGTios/KRUpHWmDhvu5rboZM7Tw0WbQYQP4SQa2FFZHhQhtDwRgq5BrZBrlZ8vjFasxwPFN60pNNBpHALtxRjijNLnikAmKdim7uacDQBSqJualphWlY3bK1wCITXI6oP9LNdjc/6quP1M5vGpLc9bL/iM0ioj1qc1EwroR77IyK7T4Yp/pV/Iem1R/wChVxh6V3XwwiJtb5/Xj8s1y4rSBS2PR4znitXTrlLVt5QMfcU+SztksA64D9iO9VFGBXz73GyHUVF3Ozgbc+1c1qvh621OExXcCt6HHI/Gup2/NV+4t7P+zhKh+fvxyaiUbiTad0eA6j8ONVslMllLHOn9zJ3D9KxJNF121kw9lLgdcCvoRoEznbUTW8bNkxqfqorCVJM7oY2cFa589vDqQbBtrhT7KaQ2erP/AKu2um+gNfTR06wTTRIY4Wc+ijI/Ss7yYh0iQf8AARUexN1mE+589weH9eu/9XZXB/3ga0Lf4d+JLuTDRRQj+9I5x+gNe7oqqflAH0FabW9l9hDIyK5qo0SZY6b6nkOh/CWKKXzNZu/P/wBiIkD+Vd9ZaFpWk7v7MsYLbIwTHGAT9SKvbRmlxW8KaRx1MVORFuJbBq9ZT/Z33bQw96lkhshaKcneOuOuaqdOB0rU5W2x95N9omJChR2AFedePI/M1HT0HXe/8hXoNcb4ztVbVdPZeoV8/X5a3o7isc7Dai3lXjFaDIG5FPuYQYw+QCp9aeIx5KuDwRnrXqw2AgWHc3Jp72KzowFyw9Yw3B/Cp0VVIZhxVa4t4zMssTMGH8IbrWqGisbR1l+87YHYmnJGlxDJExxkY5q0J/KkCsDluOlRXVvJcxEW77H9RxTAS3jlkuWhEmxVAxjvTJppBex45VuGpTcvbFYyFL4w7jvU8ao5Rj161LHYZdJdQTgxjMZ6U1EuJ95ZOI8HJ6EVc+15V1kVjk/LkdBTQxSBiD8o6ii6ERQyPdMWYEY9aVtqNk9ScU4EKoeIg5GcCm+W1xsPKbWBOR2p3EAsUmcvISfY9BSTxrEhSM49PapTua4dUPbiohHKy7ZQob1U0gHWq3It2ElyD/d9qt+Hy3/CQfMcnZWfLFKAEE6xg98f1rU8Pxq2ukqc4SsK9rCR6Dp10LbOQDu71NdXAuJjIBjPaqCcAVKh5rypbkjnq1YX5tC3y7s1YuLezFirxPmU9QT0rMbio6jJbiXzpmkIwWOTUQ45pR94bulXbtLQWqG3Pz45osPoR2moSWilUVSD61FLIZpS56seajH3aWNlEi7umeaViQz1q3aag9rGyqAQ3qKmv2tGt0FuBv7kVm4yKClqOc75C3r1oDYp0G0TL5n3c81b1FrZ0T7KACOuO9AhINSlihMeAR6ntVNjucn1pAeKltxH56eb9zvQPdEWSORVPxHcofCdxEy5bjmtnUFtwV+zEc9cVzXihxD4euGb2/nVR3LicpEGNoCH2vjrTjNMmw7mZcfMBUFmS0Y7g1bMqxuiMMhuK9qktELoUtt7LMW3qsLdUPWlO+SQKsC+QnDBz39qdIGEkhXrnjHpTbe4NwrQzADb90r3+tbMC3DYxRuSF5YZHNOtYDbCV5jvLHIHoKjhco3XtipjMCpDd6kEQSSMZTlV8s9mqOPzGuWkEiLHt4VhwKlkTzVVWHCnIpWa1srR5ZoNw6D60AjPnLQO/n/dwWDLzmiFFNubkMzN1C+gq0tybmyYpAArDAIGMCib91aLKqhQg5FNCZSvHe4s2nGVY4GM06QB7XZhpHCggjr9KW4Pl2qTMvmAtkotSQyKoDwwtHv7Z6U0IzBEbqaK3lSSIYycnFX/ALQgs3tjbgndhWUZIFSw20kt8ly2RtBUg96s4it7lmJEaqemOtK5RFbxRQhA1w7t6d6tsYyvDNn1I5pNsMLPdAb2I7dqZHcJeSYUFNvJyMZqGNHnOsMzeKLpWxyARUXI61P4gG3xhPjrsFQk7q6aD0HIMGlIAXI4I70mKXbuXGcV0PYyZ2HhWKWDSZEmxln3DHcGtisDwjcNNZTK53eWwAz6Vv5xXOz5nMF+9YUlKDSEZqDzRc0A0lFADsUYNLmjFAFOkp2KbQaMrXX+pNcdejdcu1dhdn9ya4+5P72QUup7WW/EUfWmGnmmGtkme6iI16J8Lo/+JPdt3aXH8687NemfDCNo9Bdj0klJH61y4z4C47HoUbE2yg1cs7F7tWKsF2+veqcakQjirdvcyQf6tsV8/Z3GyGeEwzFCckdxTSMjFTNmRizck0wqV6gilsSLbWbXTMqMoI9arzRmGUp3FSJO8LExsQT3BqJ5DI+W5Jo0ZnYaScY7VPZ2ZuptucADJPpUflsBkinRzPA2Y2we/vTSQ1oNuIDbylG7VEDT5JJJn3SMWPqTS+Q4XJUj8KewXuSW1q13L5aNtPrRPb/ZpTGXDEdxTYpXgk3RsVPqKR2MjlmOSaATuNNWLS2+0PtDhT70zyH8sPjg0RO0ThlOCKY0SXFsYJipbd9K4LxVKzeKraIE4WPOM8c4/wAK71pWkYs5ya4LxWhh8U287D5WiAH4VrT3GVjG0q7ZduPanLEyqAhGB2IpwfdUmMqDnr716lN6ARkevao3WEMGkALDpmnvbSMcLc4X12jNQvDIr7TKrY7+ta3QhJZD5E0iLnavBXqKakyCRGZSNwyMnFTrKIEYCEMG+971VOJAC642kleOlNNBYjnhaS4LuGVf1pGuIbkGGCY20i9MD71SNcun+tO8Hp7VZayjeTYQise+AKejHqNExYfvMfhSFsx4FV4UeQEP91DgEd6Se6Fu6BVZhnnFTZCdyzCMyKQMbTVsMGfAXHqarTTNJtayiRQeu4/4VKjMIxu4Peq2I1JUjCyZ61Mybl4FV4n2t61YjeVrkY2+UeuetJ2EVhAs0hWRQQPWregbYdekVeyU8Q7SWo0SL/ieu3+wa569mi4nb2kD3PEY6CnzWz274k60y0na3+5T57mS4lLOMk15UlqRYZuzU1vaPdSbUIB9zVcswP3Kkt7uSFsoAD9aQx9xA1vIUfGRUIbtUs1wZmLOMn61AQQc4oYmXrSze7yIsfL1zUEsXlyshOdpxkU2K5khbMbFT7UFi3XkmgYgOKtWljJdqxjIAHc1W2EDJFSQXMlvny2xnrQNaA8RRyrdRTBzxmlMjOxzyTTNjryaQy9b6bJcwl0ZQB1yapspViD2OKVJ5YxhHIB6gGkyWPvTYkAHFY/jC1kfwndSqMhRk/ga2sEdazPFF6YPCOoKRuDR4we1EX7yLicNZuDZoydD0NLLK0O37Qw2O2FY9qqafMxjVDhtoyIl4qeGJNTYyyK+LZ/9Sxxz717VJ6IT2JVeOK1kuJpdqg4PHWqkT+ViSFsxuc7mqLU47uR2iXy0SRsquc4pz6cJrlQkjIqKAyhuDWyJL/nqxLKflH8RpZ5mSFUCBvN4V15xVNrR/MWKPM0J6rnFOdZo2WKJTaKnR2+bd9KA6l2IyLCokz6bjSM7ZeCR1eIjOcd6bb3zSv5ToHQD5mIxk05FZJyS2UPQY4FJj1GFp4bXy7Uq5J6N2qwQZIvJl28jBx0p6QAPkNwe1Rywuu9iPlA/KpQFCS0uwzIJI1iH3Aoyac63PmRugDBOoI61L53l42/M3YGrAlupIQy4T1HtVCKyzyyTZ3rEf7h5NLGzSTHzQSc+mamki3nzotomHHPemIt3HO0m1W/vbTxQxlhjn7owPSkmlPl7l2qVHTHWkAaSUupG0/w+9VNTLoqqo2BuNzd6zkUjiPEZf+3xJIADImMiqgOK0fE0bR3tsZMbiOCO9Z1dNDYUhw5qTZleaYlPD4rpexJueCnCSXkR65BrqSc5rkvB7BdYugejRg11ma52fO5mrVRVp3egLR3qTyGBGKTFOJyKKQhBTs0zvS80MCtTDT6YaDQp3n+qNcfcf8fD12N98tua424b/SHpLc93Ldyqe9RmpD3qM10o9tLQiNel/DzVrCHQo45LhUeNvnB+teasMLXY+E9Njj0nzmjGZTnJHNcmKV1oWtj12fxToE8SpFdoGHqMVAdVsd2VuEx9a4dbWLtGPyp62yj+EY+leQ6Ur6gduusWSkE3CY+tWLrxBpc1vsjnAb3FeeyKgkWMR5LdML0phe3iJWRFyPYVnOldXKjCUnZI7A6nbJ1lBHtSJrFnuzv/AJVwkkkDsdqbh+VV/s57Vwyq04dTvpZVi6iuonqP/CQ6ZPAEW4AcetVf7Stc/NcIo9685WJkPy4qQF+4X8qhYml3N/7Exb+yehDVbAHm6Q1cfxBp7W2wS/N68V5pn1RfypNkRPMa/lVfWaXcHkuLX2T0A6rZn/luufrSLqNuW4mU/jXCw2VrPkN8p7VXNnsVmUuoHvXZSj7TZnm1cJUofEj1JtctDZiIP8w9hVRbyF2z5yD6mvMHmaPj52z6VH+8E+zzWP8AwI1v9Xkc56wt3bqQTcR/nXI+LtTsr3XrWKKVSYY8sd3r/wDqrlvNiaUxyTTKw/uk1Z0Xwxbarqk8009xsQLjDc9+v5VSpuG4GjLJGowrilSUKACf1rV/4Q6wl4Jm/wC/hpY/h7ZXEgVJJAT0zM1aKrFdRmYZ4x/FTVlQNlttbNx8PrOxiElxdSBPXzT/AFrn7u30SJ/LgluLg9yG4FRLGU4bs6aOFqVfhRYkuEK/w/hVZpFcHccD2qottGjZjJx7mpNtYPNaCPZp5BiZ7oqNebLjy1jc46Mwq3cb51jKvh19+tNaIFs96AuKX9rUDb/VzE9yVJ/sqASt94cL3p0CJJkk5/Coiu47j1HSmo5V+OlNZtRM58P4iKNBrlIlVVIGOuasRFJ0yhzTtJ0fRvEkzRfbprW4Xjy34zV6DwV9iZ1XVJjluoA4rsjjKc1dM8SvhqlHSasUhEEPJxVqJdsYIp8vgwznnU5z9QKtW/w5uJbcyprUqqvY1p7aD6nFsVA+VOas6AIZNTmSRgreWSvPWpI/CJRSs9/I7DuBxXIeIbfWND8QWxtJUxtzkEncO+aznNSWhUT1ASAU5J1VgW6V5lH4ovbh/LeVgw7EYqV9T1IRkx3JUn0Ncvs5Mk9bnuLGSwTyyBJ61l+Yu75TmvMF1DWz93UGA7ArxUn9o+JE/wBXeIffbQqMuxSR6epGQT0q1cXFsbUKmN/c15K+t+JoxzfR/gtMXXfERPN7Fj/crOa5dzSNGU3ZI9OEiZ+8KlSWMMPnH515umtakR+8lBPsKd/beoA8S/pXM8RTXU7o5RjHtA9TmuYJIcKwzVMsn98fnXnieIdRXqyn8KT/AISTUumYz/wGl9Zp9yv7Gxv8p6JFcRRygswI9M1dutQtZ4VWFdpHU4HNeYJ4gu+ropqw/ieZIxsT67qFiKcupE8qxdNXlA7nzFx1qa3niSZGk5UHkCuKttVvJoz5XztjPJqA+I9QgkbzIE2r/FnNdEYuaujiq0pU3Zo9IvLq3nRRCu314xXM+LY9/hW+A/55E1hweK79wGS2V19VNQ+I/FcjeF72KS3kEjwkDC96v2ck7maRiacj+WHZNrlcE+lWUR4/MUvhZRy3Q1leG4tc1azeYWjqpACljtB9xmrk+l+IlVhHpryH+E+YmP516dOokkFgktSJIniYymMckng1YtwD8suS5HJXtVT7B4jdFC6K4IHI8xef1pLjSvE/yG30uRGH3j5q8/rWvtIdxFu1tfJWVzKQx6Mc/KajWOeWZLia6a4jjzlVGM01bHxRPtE2j/dHBEq8/Xmn3Ol+KPsrpaaVs3jBPmLkfrR7WItTQQq8QkSJUX2przo/AO0jrmqlrp3ii3tljXR9zDqWlX/Gpo9L8RkkyaN97t5q/wCNL20Sr3JxBcoA8bIyHvu6UiSBGkSVndmH5UkGia9g7rNlLfwiRcCpf7A19FYRRRqWGPmccUlWiSMjSFosn76nHIqC6DOoFuWjdT13cGp9O0fxHHE8V5bRHnhw4zU3/CN6uAxj8s7v7xx/Kk60RlW3ikMge43GLHVRVoiIxNJbyblHUVIPDmumNAkkSAdV3dalTw9qUfDxpz6PR7aIGYPNEwaFWIP92i6eOWHFyp3KeM9q0H8M6vIjJHcRwg/dOeRT08J6ktuUkvIpmP8AeXv9azdVDRwXi+BW+xyg4AOAKwhzXQeMfMggS3v4/KnjlAX0aufANd2HkpIJD14pcgn0poPOKP4q6yNzZ8NHGtMV/ijrrxXF+HTt1+L3WuzPDYrne58/mfxoeCaKUD3oxUnjigUh604UEUgG0uaSnDpQIqGmVJim7aEaFDUT/o5ri5TmZzXZamdsbVxLHniktz38tWjY2mGnetNNdB7aGS/6s13WgyNDo8EbHJArhZf9Wa7bTgRYwN2281z1hnRQ4aPdSu4SM1Q+0qI1UMwI/umo7++WBypbjHHvXO9Riy3RjJMX3+xNVZMytlutQpcCc7l6VYA4r5LMMVLncIs/Qcly+n7JVJK7EVAKdSY5p1eDKbkfVRpJLQTFLiinA0uZlezGYpu3mptoI5phHNLmYclhoG05p5mLDYcYNMpvQ12YfFVKEk4s4MXg6VeDjNEcrCNxmPdjn8Kr2e03nmv930q0VdpkHZ+M9hUYtnE4VRkd8V97Rl7SCkz8oxlJUKrgh0lxFFKJPIDBvQda2/Bso+0X6ejKfyzWLNbu0qKAQqitvw3Z/Z726dG4ZhnP40VUrHHdnXRjdgqpx9KbdalHpsRndsFe1XLa9gtLbdMpI74rgvFN+txNHbxsd27c30rxqslFNnXhaXtaiiynrXiDUPEFwPPkMcKnIjjYhfxFUliC+9CJtqUV85WquTP1LB4GFCCshoJFPFGOaBXJdnppIdRxRikzTTKtYU4xUJ+9UuaaVp3JcbkO1xcLNFI0cinIZTjFegeHryTVtLWZ87w5RvciuEC4Ndj4Ak/4l10v9yc/rmvRwVRuXKz5XP8ACxeHdW2qOh+zvHgsDU6OyqQCRkVNPP5oAIHAqvzmveifnLQoQtwOTXnnj53j8R2UZBA8s/0r0eFwkgY9BXC/EyMXms2dxCdoSMgg/h/hW0NwSscxI8QTBjUuejY6VdSNYFjVk2Bx1znNUbdN8gDCrwwRsYkj1z0r04rQaQ6RDFCu/qOoqvJeIXVELAmpJ5Ei+QkneOMmsZZwblV6nPBqa0+SNzpw9PnmomxuzxnNAXvTVFSCvicXjJ1JNXP07AZbRoxTsN70u33p4GaMV5zkz2VTSG7fek70+kxSuyuRABSMuRinAUE8U0xOCYxZpoG3QyFT6ZrQBhvLaTYSs7jlOxrMYGruis63zgHH7s44r2MDjJQmovY+bzXLqdWm5paok0xLi3iZLiMIewBqLV43NoxIJGORV0szySGVtuwZzVG/mS80y5VlcPFGSrgcGvr+VNH5vKPKztdHdG063MICpsGFArdsVheYef09657wjbz3Hhm0nbG3yxW4qgda8ypdSsZXLV4sCP8A6OfqKq9e5peM1cWwlMIkx8uM9azuxXG6fFE83788dsmlu0RZyIT8tQMMNwacDzRdiuN57k1bs7eGdiJmwO3NNks5liEjL8vrUGSB1ou2Mlu4Uim2wtlR71XCYyTTgST3zUzWsqx72XC0JsGLYW0NwzCdiuOnOKiliSOVlQ5A6UnPakAYt6mhtiGHirVlHDI+Jjikms54kDumFNVwKSbHcfcxok5EZyM8VAQQ2e1S4z9ammspIoRI44b9KG2M4v4g6Bb6r4WnuNq/aYPnRsc8da8fUsFAbkjvXtXjmZoPBd+0Zw2zArxKAHyV3HJx3r18vle4nqiTAzmlzzSUDhq9doSL2jv5eu2rD1xXct96uAsn2atat/00FeguPnrKR4OaL3kxFNONNFOzWZ4oqg0pNNzRQIM0uaTbRQIjppFOoapNUY+rH921cW4wxFdhrD4Rq5B/vGnD4j38vXuDB3php4HWjArpPYIXrttNUpbRQS4AYDnNcVKQBmu2tfs7WcebUuwXHzc1y1ty0iZ5oYbpooyHcDIBGRWPqN1JN/rV2kdK2I3Hm+b9kSJsYJxyay9WlWWBxtAfBwQOlc/QuJLpA3WwJrTxWbo4/wBBjPfmtQdK+Cx1vbM/WcqhbDobiin0BC3SvOR7CGUfxU7bSFaGDFyKaaXbQRSEM7UwnkVJUbD5hWkDGqnYk3kFUxxV2zjw5OeaeIkCqQvNTxoA2R3r9Ewv8GJ+Q5p/vEiMwlvv9a0dEizJMR3Iqu8fmL8vBq34cY/6QD2IH86qv8J5kTRvfltWFebXE7ya3Nv9eK9Rurd5bdtik15ffr5evMP71eDiPgZ6WXu2Ij6lpRmnClUcUuK+ZlufrtPWCCilxRipNLC0w9afim7aSKEpTRtoxTEFdL8P3+fUIT13hh+tc1it7wPIB4imgUkNLA3fjPrXXhXaojx82pe0wk0dua0bGC1kt907Yaqk1s8ABfvUW7jg19JE/JpJrcVwA7BemeK4fxzn7ZagehruY18xgq9ScCuP8d2pj1C0VgclSf5f41vT3JRzcUKIu5WDH2pglUsQFYn6VpQWsaRjHBpJ4MIdvWvXjqhpGDfNdC4MzquzoFXtXMQu48RWwJIB3cZ+ldddEhGDdV7Vxs8u3xBYse0uK5sX/DZ34F2rK5261KOlRLUyrX57U+Nn6/Q+BCjpRS4pcVBuMxS4pcUopDExzTWFSCkYUEkDCrWl5GpR7Tg4I+tQEUtsP+JhDn+9XRh3aojkxMb0pLyNiaDzSSe9U7qORbOaOMn5lIxmrbOWZijcj+Gq8lzFKZIGLCXYTgV+hQ+BH47Xf7xo6fwbqTr4VtIcfw4JrdBya5bwbg6DCvdTiuusZo4Zw0y719K8yp8TOdjGUip1vJli8vd8vpUuoXMNxMGiXaMdMVV4NZsgM5NAJzVqykhSceeuVovnhabMAwKQxDfTNb+Ux+WoAfWkx+VWrFoFm/f9O2aBFYHDZFWWvpWh8tjkU28MZmzDwp9KgC56GkMXdQGO7NWrEW4dvtOMds1FdeX5x8j7namIfPfyTRCM8AVUyR1p3Q1bsWg3MLgA+maGUkUlbkEVZlvZZYRG5yBTLkx/aD5IwvpUeOKAscx4+QyeCb/aOVTNeJQsTCp9q998TJHJ4P1USDJ8hyAf92vALNgbZa9PLn7zQ7aEoOadg5pQAKGOTXuECx5FzCw4Icc16Qw5zXmrOVMZ7Bga9JVvMiRv7wBrGW542ZK6TEzS0FcUYrM8FhRmijFAh2aSgUUgIqRm4paa44oLRg60fkNcox5NdTrZ+Q1yjNkmiO59HgP4YA9aKbmjdXSerEjkUkgDkk4rutMuHePc8RUDtiuHLlZEZeqnNdba3E7BELAFvSuSruaI1pLn++igH1FYGtFYYdyEMJAQMVuz2klyE2yKAo5yetc7qrLGjQkcjpgdKwexa3NHSflsUFaQ6VQ04YtUq8DXwGM/jM/Xct/3eItSJIUjZAOG6mos06uA9NBTadTaQC0GijNNAMxUbdanPNQsPmFaRMar93Qvm5dIwzoCPRRV1eazY3MpjRRkjqK0UZBwGGfSv0PC/wAGJ+OZi28RImQ4qzoC7WuP98f1qpuC9a0NAGfPPqwP86dd+6cKN9r1bazOVya8p1wBfEEbDjOf6V6VfJm1avOvEaBNZgP+9/SvEr6xZ2YSXLXi/MFkqQVDGmTmpwtfMVFaR+v0HeCCilxRioOhhSU7FNxSAKSlxSYpiYh6Vo+E5fK8WW5B5ZGH6VnGpNHl+z+JLCQ9PM2/mK3w/wAaOLGWdGSfY9Smv3mGHqJEZucHHrUODmt3S72C2smjlXcx9hX1Edj8erN81jNjfyXDDqORXLeNrw3OtWYb+FD/AErrJyrMSorhvF/7vVrWQ9CMVvDcziQMgaA4YqfUVWid4XCuzS5PcdKnD4UUzLSSEnCjtXqxehZn6oyCB5hHnJwcCuD1XEWsWTD/AJ7c16NOUETxNhsj6ivOfEi+XdQP/dlzXPiv4bOvC6VUzuEqwtVozujRx0YZFSg1+fVVabP1/DtOmmS0ZqPml3cVmdA4mkzTc0tJgPBoagClIoSYMjNMHFxEfRxTyajJ+YfUc1rT0kjCsrxaNNYWtr9zJPuEgyqBcYpzeSrebsUPjk45x6VBc36MiCP/AFvQgioXZpYwC+x/4hX6Jh7umj8dx0FCvJeZ1vgqzd/D3nLgKXJxnpXQLjpXMeB7yQ6C0S/IqyEFc10sXzEADJrgqv3mcJMAKvx6c72vnAjGM4qiUZD8ykVKt1MsewOwX0rHcEhhwKTrQSWPApMkNz1pAXW0+SO381jx6VUXBNTm7leEIzHHpUIX0poNRCOwq0bCeGESuRtIzgVVOQeama9nePyy2Ux0xSY0RHrSjmkGT0FLkqaEBYkspIo/MYjb7VWqR7uV1CMxK+lRgFulA2+w3+IVfm0+SG1EucjFUehqdruZ4djSEr6UCuYXiFd/h7UE/vW7j9K+f7Ef6Kv1r6E1gGTSbxFHJiYfpXz5aQukLZH3XINehl/8Qr7JYApCMGlFLiveRDsMcnyyMV6NAR9ht2U9Y1/lXnzDdEc8V32m4k0a1PpGBWc9zycy/homDZpwOKFWlJFYs+eewhNFGPWikIKKKKYiKkf7ppw5pHHymg0RzmufcNcn3NdXrZ+U1yp+8aUNz6TAfwhMU2n9qaRXUenEdCnmXUaHozc11ttZibaWk2MRxg4rkbVyL6L/AHq7BWjt443BcyMPl7gVy1C0MS5lgDK3zEZHJrn9SuGaMs+S+cE107wFx5uM9zXO6sqrnI6tXPPRamlP4jobMYtY8elWQaoabdJcWqbDnAwauk4r4DGfxWfreXyToRRIKdUQen764NT1B9NpN9G4UDHdqTNJvpM04iYuaZ1elzTGcIc5renG7OetJRi2xbpJPtTC0DF0GSFPWtJNoHmeWwfvuFZ8M8qtJIu3eQApHBP1q1bzTtCTdFd3sa/QsPG1JI/Hsa1KvJotq4lXk1r+HXzDPg5w+OPauctI3eQMXP07V0PhlNkVz7zGorK0TjOkk0+aawLqpwRxXlnilXGpxMwIClh/KvV/t80NmUVvl7A9q808W7y5d+cMTkV41XY2o3VRNFO3kBUVPmqGnyrLCCp4q2XAr5utF8x+vYOopUYskzRmoxIDTs8VzpHddMXNFM3U7fTAXFJRuFJupoAqJH2alYEf8/Kj+dPLYFJZlLjWtPtwcubhSB9M1vQi3UR5uMklSlfsev31mkCK6dGNVl4qa4uDJHtJ4zUcaO6kojMB1IHSvqLNI/IKzTndD4081gg6scVxvxEtZbCSynfaU7+tdeGMbZHBH6VxXxKvmeGxjmO7LHGfwrSnuSjPh/1asx4IqYMh44qjK8U9pHH+8QsuVK9qaEQYO9xjqB3r2ILQakyzcxAR5FefeLY+EYdnrs2u55Jv320RKPlx1P1rkfFTB7dAOu7JrDExTptHVQfvo6m1bfZQMOhjFTis7Q51n0i3wclV2mtPbxXwOJi1No/WsDOM6KsJSUueaQnFctmd3MkFKOtN3UBqaQNolVqUmog1KW461YXEY1GTSk0gGWHNVBNyVjGpJWH3hdbdZohucdab5nmAXb5B/jUdqtuzxW/lKgl5yVzg1HY3sUlw1uLfbnlt3ev0LC3dGNz8lzS31mRveBn3adcY4/fNx+NdnYyiCcOy7h71zPgq3EljeSP8uJuK6OMDHFcVbSR5K1L17eC5dSq7dtQZ4puFq/HZQtY+cZcHHT0rnKIbSdIZgZE3LilvZo5pt8S7eMVX6jmk4p9SegvarNhdRwXBMq7lNS/2afs3mmQdM4qhjDUh3sWb2aKa43QrtHpVcdaTjdV5tOkFuJldTxkimFxtlNFDKTOMimXskU1xm3G1KgbHrTQOaBBtwauWFxHBKfNXKnvjpUkunFLTzvMB4ziqS+9A0T3kqTTbohgfTrUB6c06rr6dH9k80SjOM4o0BmWxjFrcCRc7kOOK+coGVbi6VucSn+dfRUwHkyj/AGT/ACr51njEesahGOAs7D9TXbgnaqUtmSh1zxS7hioVHOKkCetfQxIY5jmIgeldtoUhk0O3J9CP1risgKceldl4efdoUGP4WYfrWVRHmZgr0jUU8YpM0uAeab3rKx82LmiinYpWQhoGaWlxxSUAR9KbI/ymjdUMrYBpXN4nPa23yn61zJPNdFrbcEe9c6RRDVn0mCX7oKTFLRXS9jvihbVN19F/vV2+nrG8H73t0rjdPx/aEftmuqAlWMbEJBrnmWSJbzIJAbr5W6AmsfVLPzkK55rVity5Em44zyM0lzCrSc88VhNXRUdGcVb3tzo11zkx55XOa6+y1i2v0zExHs2AapX+mrPGVEYJPcisWXw/fWg82zc47jcQa+YxmX3d4o+qy7N3RXLJ6HZ7l7GlBzXADV9QtZAsonwPXOKur4pmUDhj+FeO8JOL2PqI5xQktWdnkUZrjh4vk/54GgeMZT/y7moeFn2NP7Ww/wDMdjmgsB1OBXH/APCWzsDi3Iqg+tanPkKxwf8AaNVHCVH0JnnOHitGdrc6jb2qF5JBx2rAXU59Y1FEst6IG53cce+KzLXTb7UpV8+cqhPzbuePauu03SoLKJVtyN/8XIya9bCYBuWqPnsfnTmrQHzhhjbkH1qVI5Fh8wbpCoyVB5NTRqs5xnB9aLR5YxuuY9hI6Cvqox5VY+MlJydx1lqKXB3IDHg4wa6zw6cwSn1mauNeCLeskQ2gnIHSuo8Kyn7DIW6GU4rnr/CQjppTmEiuY1izjuThxXbR6XJJa+duXb6d6w72wDscV5ElcuMnE8VstSbRtUms70ttLfu++K6GO8jm5U5zW/rvg211aEhgsco5EgXmuGv/AAf4l0KITR5uIe3lk5x9K8yth7n1mX5u6cFB7HQIMmp+1efxa/qFvJl/OOOoINWB40uF+8mPqprheFl0PpKec4e2p2pU9gaTocVxJ8bXH8OPyNNbxXfyfdUn6A0LCz6jlnWGWzO5JAHNQyXcMQ+dwPxrjE1LXrvAhtrht3oGrdsvh74s1eISzsLJT089jk/kDWsMJ3OWtnlLl90df+Ire3RkjDu3bArpvAPh+9l1Bdd1VNi4/cRnqD64q94e+Gun6YDLqhF/NxjzOVH4V2se0FVAAUcADtXfRwyi7o+Xx+cTrJxiyU5Iq3YaiLNWBTduqe4tbeOyEmRkjjBrKCc16DbPmfMmkk8yZnP8RzXC/EW3W5lsAW27Sx/lXbL1xXI/FGz8ltP2MfmJ6H6VdPVmiZgBnKKIgDj1qSScvfSRIowgHamoCkKMD14olSaOXz4thWTAbPWvagvdEK8O5G9a5TXbJ3iOASQTXXI20bn5JrP+yG5iuIyQHY/KT2rOpG6sbU5WdzjdJ1OTSZm37mjOMrmu0s9XtL1P3MgJ9DXLX+jSOzKV2NnjNY8lrdWEn8Sj+8rda+ZxWDbldH1+X5s6K5Welbh1qMkE1wkXiK/h48wsB/eGatR+L51+/EG/4DXlSws49D6CGbUJbs7DNGa5P/hMfW2pP+Ex/wCnes/q0+xs80w/8x1uaM4HJrk/+Ex/6d/1qjP4ou7ifbblgegVRVRws27WJlmlBLc7WS5jiBMjBR6k1mw6yl5qkNtbFim7LvjgCsO30vVNUuk+2+YiNwMnrXVaTpMWmq0YEcgIwxI5/WvVwmXNzTmeDj86ioONNmpdTvDCZ7cKzDHfk00xxybZVco0i9hjFLa2QkkeZF2wKO/BzUVynlqZV528ivqqceWKSPiKtR1G5SN7wS91CL23nmL7JM46da7S3VpSFQZJrhfB8sklzdvICC5Gc+1dzZTm3kDDnBry6694xW5ZnhkgAWQYzTEZgu3cdvpmpLm6a5YFhj2qENziubZjZKqs52oCTSOjxNtkUg+9Lb3Zt5923cPSpLu7+1OGAwAOKdxDBPJt27jj0zTQGdvlGajyTU9pci2m3su4elAmRsCpwykH3p32mXZtEjbfTNOvLlbmXcq7RjpVbNNC1JUy56Z+lK3ysQRg0+xultpsyLuU/pS3t0tzcb1UKP50MaDzpPL2lzt9KagZzhFLH2qHfmrFldC2lLMu4elKxQjhozh1INMMjbcbmx6Zqa9u/tUoYLtAFVN2TigYxwz7goJyD0rwC+QDxLqo6YmPH419CwXC20xZ13AjGK8B8SKqeO9W8oFVMpODXXg9KqKWzKeMc0hY9qCc8U8cLX0SZmxEbPWus8Jtu0eRf7sp4rlAMtXSeET/AKLcj0k/pUzdzhxqvRZ0INHem9aUGsD5YdmjNJSbqBDqKQNQTQgIM1BMeKlzUE5+U1mzeJzGuvk8etYw6Vp60+W/GssHinS3PqMIrU0HelP3aSg9K6pbHai1o8Zk1RQBkAEmuseO5+QxhSAMEGua8OtjVD/umusUkrXJOQyOAlB5ciYz6U9vJT/WjGehp8cbSHgZxSyRxn5ZQCPes73BAqL3GfwpzW4b/wDVSgINvPyk4zUhmSJcnp7Cpkk9ykynPpyzRkbFI9CBWFd6LFFkiJP++RXSrdK4IRs/gap5uXkLywMYh1IxWXsoPdGqqNbM5yLS4pFOIVB/3aYuiqsnKAj6V0rshDeVHt29eKqKTLKO1L6vT7Fe2l3KcenWsaKJII8n/ZHNWFsLZfuQRj3CCrNzZG5CGN8bOwbrSK5SPLDpTVCmhOrJ9St5CpJ8vHtinssYffGm1vUVbihFxGzx8kdRUSwSHPyGt4pLYwbb3Kj3E8X+qbbVmzvXdQ056VFMiRz7ZyQParCW1u8QNs24HrntV3EiZJGvHllbOd2QBXS+FIyNObeCD5hODXPSIbWzMsIIx1xXR+FLj7VpazH7zMc1y4j4RHVx3cwj2CRtn93PFRiJpW+UFjTF4FWrK6FrNvZN49K8rqBUe328MOfQ1A6nZsPK+laV5cpdTF0iCVW2A1MlcV2tjLGiw3W7ZbRE+pQf4VVfwlZF/wB9aw/Tyx/hXT2U/wBkk3bVYdwR1plzO08xOAAegFTyI19pLuc6PC+kKP8Ajzgz/wBcl/wqza+GrR2zBZRNt9Ixx+laDR5NWbG7exkLRgEN94HvRyIl1JdysljFBgKgUjtjpUwYgdakubhriTecD6CoTuxTUUS6kmSwpJPkRqWI647VE6tHIVcEMDyKnsLt7SVmXBVhhge9NuZnuJS7n6e1Xa2xnuMErEfMxI9KswQyzqTGhYDriqoHFXrDUGskYKoJbofSj1AgZSjEHg1xnxCd5ZbIsc7TxXZzzGaVpD1Y5rhviBJ5H9nu4yMnI/KtqO5VjFs3kdPLc8dvapW3j92WO30qvDJ/oKTxg5c9PSr0O14lMgG7GSa9mOwyBrmVr63jSNSjth8L0FPnkiS82Jwx6U2Qbbk+VJtyMA471VvfJhYOzMefvjNNpME7DxHLPdTQ3UQKIB5bdxWZeWA3PkjavYitZruRIGGS7n+Ijn86gcJeApyHK5qXCL3LjJowG0QXSgoo/AVCfDmH2suPc10MLmErGuQelOkikJ6M+fesHh4PoaqtJdTnV8NRSS+XuGfapX8JwQttl3k/7IrYit2htTPD8zjqG5JpWa7E0ctzJlHbbtz0qfq1PsP28+5VtPBlmMSt849CatWfh+1snMiwqkmDz7+1bBiktWbDblbH4UMQ+GOCw6e1L6vTTuhOrJxepFEwnji8wZkjbIbvUj2qPOC27pS26ck7QKkLsr5kx+FdCiraHOpSvqV72TybMweYY8jI56mrNvHK9uolA/AVPEyOwZgD9RUkjfLgcU7tB0LXhXL6hfRS4QRYKnHXNdTC3Nctozf8TKQrwSvPvXVWMTXMgRPve9eXWu3dktK+hN16VpwwWzWBc48wD1qhPbvbPtk61GGxXM0IceGpcgUsMbTPtjGTTriBoWCyDBoQaFz7FH9j83zPmxnGaz80BzjG44+tCo0rbUGTQgDOVq/9gjNn5vmYOM4zVJ4Xi4cYNNJbbjccU2A7I6CmMcmhEZ22oMmldHiba64IpAX1sI1sfNMnzfWqINMDHuTj609EMjYQZNMaDNX1gtWszJuw/wBaoyxPEcOMGmEHHWkMZKRXhni39348vx0yAa9z8tpSFUZOa8R8exGD4iXIYY3Rg8/St8M7VUXHZmSDTyeKiz6VIi5619KjJD4sH71bvg9+bxPcGsIAA1teFSF1K5A6MgOKmWxy4pXpNHTq2OKN3PWmgZc0uKwPlWh+aaRSZp1BNhMUuaKDQFivmoLj7jfSpqr3DYQ+4qDogtTkdY/1lZoHFaGqsGmwO1Z+cCqpbs+ow/8ADQbsU7dlajzRu2qa3b0OpJmt4aHmao/sprrV+VTXK+EmRdQl3soJUYyfrXVyMkanLKfxrgnJJjsNDuHTbwpPJHamTENcIpbBJ4HrVd9QSIZ3DA96e2o2YljlBRnQcBsYqFNAXIlkjiKOMDOcDpToj+9FMbVrWfo6j8qWK8tgc+Yv503JDQ6ScNvWMbipx0phnkVfKcEK/tUwu7FSSpjUnqRgZqvc3cDYPmrge9CkhjJSIozGELP3C9ahSDE53KTu6H0pTe27MJUfkjHWkW5RctuGTyeafMgGIJLaVy6naRxUcE9w2Q6qU7/LTxqUFxmNycrUX2yFY9ucN7GjmQGlC8axbt236Uy4y6/IwUk8EmoEMb2w2vtp8UkUqhJsYA7etUpITJmtomlPnRpJx94jNLAlpbRkIiqc9hTZGjgtyAeD71UWQTKV/i9afMhFpp5ZPMtpNiDBOFHWtrwQP+JCvs7CucB3wqJ3AmQYVx3+tdR4Sj8nRQpIJ81icGueu7xA7VbBPsQk3c1SxTBfFI9plO303cUguY26EH6GvLtqFiYVotaQLp29XG/PFZBuYx1o+2KFxu49M07BYnNNBAYZpsUon+5zUcrbXwaNETJM2Z4LJbESJ/rCOcVk55qPzto5JNPjBk+7zS3FyjxWhOLQ2A8vIkIxkCs1vlJBqIzleKNgsSjhqkXrzUcCmXJUZx1xQ7iM4NCFY1pvspsBtAEoHGB1rNzUQmLDrUkSNK21Rk0Mqwua5v4lwwouklCDl8H8QK6PbhsGuL+IiPNJp0KttHmZP6VrR3FqZlqyRRiHggdqcsixzyFT99dpB7VlQNKLjzOQPer+5ru03OqJJHydgxur14bBcZLC1ukfzbkOcHNTKA8O5nzGvUZpihnRVfkDpmmrCosZV3+XKxJUE9PwqhkYCyyYU49CKdsGnxi4Vy4LBSOtSQ2+2KNuN2MN7mnFVWxeISEOzqRk0APlgTzy7IDuXgjgg1XWV3LAjAVhirJPHJ/WoWJU/KM5PpRcdrjZJljhXC7QTinRaSstu/719zMCuT0pWtcRyS3D7owdyD0qxAWVMZ6UaMTuWnJjiAl5zUMUSLkoCAfWnM29fm61KB8nFQ9BxuORMdKlZVMJBGT9Kghfkg9qmLAriou7jtdEQj54qR1YR5A6UqDGBUobAx2NaS21M1uGi5GqN/u12FlK1u4dDg5rldCSMapNlvm2ZAzXSxDivLrfENF64unuWzJ19hUGcCm7q0Y4rVrHLEeZ65rBgVra5aCQMmPxp9zcvctvfqOgFQBMdDSn60bAkID61NBOYJQ6jNXEitGsi/RgPWs49aTHYsXV21w2WAH0qDNNIxzV+K1tjZ+Y0mGx0oE4oq21w1tPvxkU+6vPtMm7btqE0wLQKyFB5qWKZoJVdOvoatx29obUux+f61R7/jQNE1zdvcsCwxj0qDNKetXIILaS1ZnfD9qExlSKf7PMHHOK8a+Jsgl8fK4GN0NevSjDYHrXlfxRtNniCwu8YDgoTW1FpVEykjlFXI96eFPalA29KN5FfSrYzAbu9aXhpyutSKOrR1QUlqtaKxj8QxfKcMMZqZ7GFdXps7FGP8XWlzSPwxxTQ3NYHyjH0u6kDUlDIHbjRmm5paENEOaqXTelWSarT461DOimcfqP/H01UXq7qTf6W1UWNVSPp6K9xDRSsMikppY5reSdjria/hXRv7W1f5pHSOIZO04Jr1IeG9OmUeYsh47Oa4j4X4m1+eB/u7Qx/WvV5reOBtqHPrXi152lYbRgDwjomD5ls7/WQ1XPgbQS3FtN/wB/jXR4qW3jV5lDYxXP7QWxzA8DaJ/DHMP+2pp//CC6OFOFmH/bU11d3BHEV2Y57A1WJ4pe1HY5KTwFprn5ZrpPpKaqSfDqyzzf3eP9412YG+TFXLq2hEIZD83saPaodmcEnw408L/x/wB4v+6+Kjf4cxf8s9TugP8AafP9K7baAPWm55xS9tYLHCt8NQeV1OcfiP8ACm/8KzGedUm/Mf4V6cbOBbIOXGazDwaPbMLM4pfh2VXA1a6A9A3/ANalHw9YcjVrr/vv/wCtXaZq/Haxmy37hnryaqNZkM4BfAcnR9VuCPds/wBKG8ByDmLVp1P0H+FdieTSgVXtmTY4O88B6h9nZotVYkdyP/rVkaBqeoWKPatOXCPtzk8169Fbieyn5wVXPJrxmy3m6uGYY/fMBj2rSEucZu3N3fSncLh19lY4qK21bUrGctGfNVvvCQ/yqWNwsXNV2ctJ8taKjEdy2davbq42s209cDpT21K9ikAZyo9jUCjYN7IFb1xzUcz+cuGNV7CI1dlxfEuq6dPvhKzRN94N2+lV5/E+pXkjFJSjn+EDGKzZZTDwoaQ/3VGTWhZ6bqV9bb7e02tnrICKznTpx1kzRU5PYIvEOo52NcZbNXdO8Tatbzy5KOoAxuJ4qAeDdSnXc/lQyf3gT/hU6eDdTWYMbuPbjld3BrkdbCr7aB0anYjuPFeqXV8+wooHHUimjW9SXlpIz+dWrfwZfR3DyPPEwboM1M/hW9zw8R/Gp9vhP50HsanYfp/i69tQd0SSA9xxUd54quridnRUjXsuKpz6RqFvA4WAkj071kwgo2bsSRDODvXFdFP2FT4WJ0prdG0PFdyIvM2AAevGalsvHNzFL8sOT2OcYrCkaC4jKAhlHTFRpEi/6sYro9hAzaaOiufGkwuWMgA9kNYHjLXrvUobOOC1lMuSwZQOnFLbiLzNjAbj3NWLS78vXrSNlDBvl5FJ0lDVAmuotnpev3GnxkWKMe/Y/jTDp3iS3kyNKyB79f1r0OzuWhfYAMEelWpJd9T7Zol2Z5iLbxF53mNpkmP7mBj+dMeHX5LgBNEYk8Zr0vGelOixHIG70vbsLI80vYtcjjjSPSrlHBy+RwR7c1VMWptexySabeGNOqhBz+tevXF15oG45IqkTlqPbspJHmn+mBif7MvIwfUZ/rUi3NxEoV7KcH1aPivSQ4Rh9wn/AGqfd6pp1zaLGJId4PJOKn60i1CXRHmU11KYZIZYZAWIxhD+NStfgw4hikJ90IrufMszyZ7cn60itYZ/1lt+dWsVC24eznfY4b7dttocxyB+d3yGrP29SnAYfVa9CaTRZbHy1W18zHDFRVOOxtmXcIIWGcfcFS8VF9Rcklujgzfxxt8zFf8AgJp/9sWykAyc/Su5Nnad7WE/9sxU8Fppv2bZPYwMxXB/dqamVa70JTseftq8Lf6uUZ+tXY9Wt2iGTz9a6l9C0luljCPogpv9gaWP+XSP/vkVar9GTZHPaDqFnL4gli8zDqvfvmuthuoWk8tZU3dhuri/FnhuxtmhvtPX7Lcb1DbG+/7VWe088IY5HVl/iViDUyjzu6JSO9nn8h9sjKPqajF8ueJBx/tVxsyu7ZkkkZvdqYls68zu4BPBBqHRkUjvLa9E7bYyGI64NOnuRExVyB+NcJBK8F2UtpX2lTkhqiuZL6a3lMtxJvB+Rm9PSl9XkwO+XUIFXmQfnT4rtJ2xEwb6GvNhcTDEZyWZcqc9TU9nJfrZljM8Eu7kxnPFP6tMD0ZryNG2ynFKLqEjAk4PvXnM95MfmuryT5R1HU1TjvbuSXKTOIQe7c0/q8hHqkcgdsKc0kkgjfaxwa85ju7yBTLBeSo3sc/zqR7+9vLdGuLiQuozkHFL2EhHf+eM43frUqMXYAc15e+oXqDYss24/dOc1pW2rahblJIrv58DcJBkUnQkNHfyBlbDcH3qLzMcE1xOoeI9QmC/v+R1KjrVKPVbuTANw24+tL2Eho9EwZDiPk+1cD8VbTGk280/yvFMu0E9jx/WpLXXdQtJd0dwGIHRlrnPH91qmvW9tcM6+RC2WjHr61UaMoyTLja5hAIY8hyfY1ESS1CyZQAKBR1619BB6GTRIjFRVrT5tms2rDnJxVTkjAb8KktUePULZgRgOOKJbGc1eLO5b71NFK/DUgrA+TqRtJjgaXNNFLmgyCl3YopKAIKr3JwKtYqneHC1kzqgjjtR5u2qk1XL3m7eqjDNb0fhPqKPwISmmnYpWxtrd7G6Om+HBK6/O6nH7sZ/WvWAxPU5ryf4bhhqd5J2UKv869WUdK+cxMrzLZbS2laPeBxUf3Wz3qVb8pBs71W80E1xVKkaceaTHGLk7IlLlutRk0nmYppfNfMYrOle1E9WjgdPfHA88Ubmz1qPdRurw6mZ4mbvzHdDC0o9CXcaTnPFMDUu6svr+Jf2mafV6fYeXcjGePSozSlqaTW9HMsRD7REsNTatYQvzShj6momXHNSKjFcgV9fl2PjiVaW54mJwrpO62J4lMrBV6mrM1q9vGGccVThmMEgYAcVYmvXmj2sBXrLY4irdTvFZS7GK5XtXlmjSia3YucsZGJPrXp1/n+zpv8AdrybSJJIbVTGhclzkAV14fcRtyuuMKaIFP3z931pGuf3a+bHGh78c1FZyTTtMoUrED8pPQ13oZduZ1bBVi3rnrUdpbS3t0EgQv647Vn6jcLpyA4y+c9O1dH4DkW5003iggynnP1rix2KWGouZ00KfPKx0GkaHa6fu3osrsOrDOPzrUMnlcJwPSogec0ON1fluMzPEYiXvSPoaVCMFsKZSTShjUYXFOBxXlyqSfU35UtiTzaUPUNOqVN9w0JQx7Gq93YWuoQmO8hWQH1HIqTNOrro4urSd4yJlCElqjkNR8IPaSebpib4zndGOorAt5Fjuv3o4B5GK9QLHbgHivONashZeIrh0/1cg4X0r7vJM2liZ+ym9TyMZh1FcyKbSxxSSuELcZXHamRTq3iLT8f3yKuwpDJC5KgMoyfesxo8eINLkToZM19ZNvlPFaPT7bmYZ9KuCotLgFzM/ONoFWLiAwPtJzXnSeorGhCbT7CRIo39iBzWUTyaazlV9qzr7U1t7V3zgKMmsZNR3Naced2RYvNUtrBN1w/P90DJrnbnxhdOzJb28SJ2Y/ernnubi8mL3MrSZ6bmJxUsFu88yxxLljXlVsW3pE+wwGSJQU6uor3N7Mcy3Urc5+8eKi8v3P51PIpiYoSMj0pinFef7WXc+lhg6MVpEj8s+p/OgRH1NSk0oPFT7SXcv6rS/lRGIm/56OPo1T29/qNm2bW6cAfwuSRTM0gOK0jWlHqZ1MDQqK0om9Z+L2QhNQgP+/Gc/wA66i2mguYFmt5VkB4JU5Ga83Kg1oeH9Sk0/WIowMwTsEZfT3r0aGJb3Pl8wySEVekd8DzzV2fT2ht/ML7u+BVIg7wAOT2pxuHMewsSPSvSvofIOLi2mcn40yLeyYMV/wBIHP8AKs2AEE5b7w6elaXjf/kFwP0Ec6sT+NZsIDtwRxyea9DDu4lsWYyjHYQSRUpzn5x8oFQ+aqglOSOtVUaQyErMZATypHSuuwAh8iaX5gWzwfanmR5IXGQARx9abKU2nzlAJ7mmmOT5RGhZW7jtVJAReasnliZSsidCBwaktmSW7YySMny46cVBemS3uIY5YcqTjcD0q3aojGRQV3qOB60xNEEdrMkzNJLDcxPxjoVqAPGkjQSK3zHAApJpHlnIjUeZGclc8EVawAjTTqAByuDmiwBE0SQtEwYAe+cU23kdXZYk3gd3OBUDXsQkJul2RscBl/rVy3iQJmNtynoDRYYkkitIAw2St0AHBqsbuUt5U1squPukHrVzCtIoP3l6VHektIkisi7M9OtNIB0PzwlXiKP6GhecoISGXo2OtR3EnnCORSyTL0HrQLy4BWO4ASQ9CO9FhAkbNL+8Tbzyag1TyxpswY7h6CrEl8kandliOoFQ35ifSZXiBBK5YEdKLDRxwwGOPWnZJpItrc5pzcNxXTHYGNwQeBT1ci6gf+7IKN7bcYprBvlfHAYUS2Ilsd5I+6TjpgUA8VHEd0Mbeqg0/NYHylb42OFLTM0uaZgPBpcio80uaBoZmqF82ITVzdWfqDfuWrJnXSWpyd03+ksfUVVPWp7hszGoT1rel8J9LTXuoTFFLSHpW71RrFHZfChoxfX5mxs3LnNeoXLRmT91wK8n+HIwt4R1MoH6V6ajZQE9cV8ziP4jNXuRXk4iXk9BRp84ubJJgfvelQazBu0uZwcNt45qj4NkMvh2IscnJrwc2v7BnZg1+8NwnmjNBFJXwDbufRWQZoptGanUSHUuaaOadimhhmjNGKMUXCw1z8taNlfQJYmOWPL9M1nsPlqNOK9/JZv29mefjVenoTnBc4pwPFRxDzHxnGa0biwWCEOr59RX3S2PnSuPKa1uFlUNmM4yK8h00NDG2w/J5jbfzr1W5JFrKV/unFeUaZIGt4wejMxxXXh9wNaSCOe2Eu7d6j0oSVYsJGPlXpTEV4lZMjY3pTY48KSe1d6KRR10pLMMH7seTXT/AA1P/FLr/vmuO11lFvI6HlUOcV2fw1jx4PjY/wB9v5181xE/9kZ6GC+M68GlzUfenV+Wp3Pob6Ds03NFJiqaJuKOtOpgpc1NhDqcDUdOoAkBrhfFh260oAzuGcY613ANcT4vQ/29A6nGEx+dfR8O/wC+K5x43+GYpmKyMFyARzSAf8TjTD2LjFOULJl/4j1pihl1LSc/3q/T535T5tnpGmStFM204yKuvK0jZJyazrNh5xxzxVsPhs15z3JYl3uW1LYrzzxBqzPqEVjuI35Jx04xXpF3fwrp2x1O4dwK8d1w/wDFVwyLwuSP5VzV/hOzAq9ZXNNBtFTRzPFyhIPqKiHNLmvm53UmfqtFLkSQufmJPU07NM707FQbpBSg0mKKEhjs0lJmjNMTFoVttxFIOCrg/rSZprHC/iK2ptpnLWimrM9P3keXIDyyg009OKbERLb2zA9Yxj8q1Jbe2FnvjYFsZ619DDWKPynEpxrSXmcd4x2N4bnV/vErt/3s8Vy8VrAmyVJ9jjqu7rXSeM0V/Ds29dyhlJHtmuXtbMSFld8ruyDnGBXp4dI51saPmzNNGYRmHGHAGfxqV5kjlSNI23H26UrSeW8aQygHHC+tVZb1kuPNkkUKONp65ruBIt3MPmtHu/h6ilmnW3QM3CjjpWcZJb6Z5WLxFeNi9h61JbzlN8Etws4bopHIoGOvjNJcQyoFeHOTg81WIWSUSQSbZFbLZ9KsM1vZsGkyI/TPANUobtIWkkig8zzDxVCZbAhF0ZYEz5i/vCTUIuDGqpGu+OU7c9cVDIkkzBrYlePu96fA9xEgyFBU4xtoETRgRyrE8YMbdcjODVuSSS34twpOOc1FcM8TxFVDMx5HpUi+YJywjz6ChDCJneESTRBGz+dQm13sJHYkhsgeopLlL29vIW4gjhOdp/iqG4vJJGZxGyCI7dw5zQBcuGQ4z/rEGQtQPLJJKs0kWcDGaq3N28dxbSuhlBQ7yBU8d5HeIfIiKgHBz2piFjIeYrLEFyMhvWmbd8V2pfcpUhRjFJHIJLtkds+WMURyM3mjbtZQaTA46EbIgfSrAcFai3b2YD1PanBT2reGwEobio7hj5DjFA3jtxSS/NA/0py2A7WxbOm2zE5JiXNT1n6M27Rrck5IXFXc5rA+WxCtUaH0tMzRmmczH0UzNKDigaID0qhqB/cNV8jis3UHxEwrO520fiOTm/1xqM1JKMuTUea3p7H0kPhCg0ZpGPy1r0ZojsfhpE0kd7tBOJV/lXo5VlX5gRXCfCqVIYb1nGQZR/KvQ7i4SY5TgY7183iP4jNGY+rzEabMv+zWX4DfOiyp/cmIFXtW+e2kQelZXgOQG1vox1Sb+ea8HNlfDux24L+IdaTTcUE5ozXwD3PfEpO9LmipY0KKdmm0tIYuaKSjFGowJ4pFjZ87aUjNPtrgW5bcM7hXsZVJrEI4cUr02MjJRvcVM9xKybS5K+lQMwMhI6UoNfofQ+a6hOCbKXHZTXlWlRMLGJ1AI56166k0cdrOJOdycV5XZO7WyBAFDM2Bj3rqw+4ifezBd/BWnF1EJJOKUI0uc8Yqt8pcB+QPSvSKRiasG+yXbkYBXivQPhy+PBFt7k/zrideKrptwnfZXafD3jwRZ49W/nXy3EWuFZ6WC+M6kH5qfmoVPNPzX5gkz3GPzSZpu6kzTYDqTNJmm5pIZKDTs1EDT8imA4VxXjBwNftUb7rAZI7V2YOK4rxWVfxPZKwyNtfQ8P8A++I48X/DZmQJnPpmo5JC2taapGNj4q87Qo+0Ag+1UpFDa9p6r1EmTX6jU+A+ckejaFFHLLIJTg8Yq/eRLBIApBBrHsX2THB7VbZ2LZYk15LIZDfKGhINeWeJF2a9B/10/rXrE9rNNbF0XjGa8q8W/JqsMnpIM/nWFXWJ14N2qovoeKdmo4+RT6+fqLU/UsNL92hQaeDUdOzWex1XHUmeKM0mam4BRmm55paBMUGiTDRn6UlIT8p+lXG9zKbVtT0PTJN+iWknfYBVkOSMZNZvh99/hy1zztGDWgGr6Kg/cPy3MItYiSMXxXG0nhy8C84TP61x1jNINNS4YFQDhh1yK7fxE4Xw/ek8DyjXDaTJCLWOYyNGrrhkb7tephnqcPQsvPFJPAmnjc7fNk/w1NHZvNqDSXSh9i546E1FcRKpQRkIxf5WWraRzJeedC3y7Nrg969BASRzyOpCxhQeBgVVvH+yIrwxDaThzjmrE82+3I3bMH7y8YNVJbidRGnlebG5G9yOBTExPKRXyzEKfmO/pUdsHkupXbhB/q9o4pLq5hLNb3QPlEZTA61W0+5aFZbZdzbz8ue1DA0EcidgqMz54I7VO19DDB/psZBz1AqhFuiUoshWTk5PUGpY5LgwRm8Af5sZC0gNBoY7rEiNu28qaiLqGKb8N1IB5qSzw0RiDfOvXjFV7u2ge78ySLLKMZU4JoAc7wvGWeRgijB561BYvPaRzW88e2HJZZSO1MliZLcR28mBu5DjNJ510IZRcSLJCoxtFNARxoGeRknWQDkbe1KR9h2tFz5nLrUa2bLYJKSIwxO0Drimyux2d8cUwJoAqzMyAqXOTU88gfciHbJt5OKjto5JJMKMHHBqxM8luVEuD74pCOKztmcd1YipUl9Rz60l0v8Ap8xHTdTU2scZwa3hsBK0hI6Uxz+5b6U/aB1PFKwVkIFU9iWdF4cbdoMef4WIrRFZPhts6S6jtMf5CtYCsT5vFq1Vi5yKKQClpHGOozSAUUgIuxrE1F8q30rZY4BrB1Ntkb1nI9DDq8jnWkyxHvTc0FfnNFbU9j6JbC5ob7ppKG+6a2uki4ndfDbjSpm7mY5/IV3AbNcX8M4Wk0ltozulY/0ruHgaH746185X1mzRjJ7eF7GRnPOK5DwQ+zUNSi/6aA/zrprtiYmAPGK5bwj+78S6ih6socfrXj5im6DOvBtKodrmlzTAadmvzyS1PoUGadmmUtQ0Uh2aXNMpc0DHZpaZmlzQAoqKQ/vKfmodrSXAVepr0suusRE5MR/DY9c7hWrNZxJaLIGG7+ftWUuVfaeCKnMjFcFiR6V+ix2PlyC8bbZyn0Q15hp0zCOFjyBnNel3oaSynVRzsNeYaPGyW6+ZyDyM124fcDcBwXIPB6DGMVnKf9IZSec1Z8/c5HpTCEkzvVVwM7l616PQaMPWlbNy0udrplcV3nw+P/FE2f8AwL+dcDqRLwT7juAUgV3ngE7fB1oncZP618zxB/ux6OC+I6cHmnZqMGlzX5ie6OzSZpKSlqMdmkpKKQx4NLmo84o31SQmS59a4/xWVGomXHzRxgg+ldZvrkPFHzag69jGBX0PD6/2xHFi/wCGzMZgyq56mgXES67p7Ecl8GotwMSrnBXiqlwpj1jTSed0p/pX6dU1gfOyPRrT/XfhV85xyKg0pVF4PMxg8c1o6g0JZfIxjHOK8pkMiF95VsyYyMYryjxuNtyjdg/+FelT/wCrNed+OIsQbup3A5rGovdN8O2ppj4j0p+ar2bb4EYnOVBzU9eDVXvH6hhXekmLmlzTadWJ13FzSZpKXFSWJS5pMUlMQuaCflNJQCDVJGU2rHaeF3z4dA7iQiuogNp9kwwG/Bzkd65Dwi2dJuB/dkrcXoMn8K97D/Afm+aq2JkZfiZTJ4d1AL3hbH5V57o8Us+kiJiwLjGSOleja3G0+jXccf3mibH5VwWhzXUen4wJG2Flz/KvUw+55JfgtoIPKieTcvQEnPzVdhZotQeMkBNg2sehrOEs9zaoZbYQyE8jH6iptOnN3avAyr50Lbc969IAijeydsqbmN25U/w1cuyJdPkS1Owlf4h92qEtwlvJskl2uOPao7iUyQHe37sn76d6AIoiE0uNCTNJGxyWHSq4ljnukAwDnqKsm5j+ytHbli2R/DjIqO3sreXVB5b7d3Y+tMRZuIi94JG+5jqOtOjkad/s9vKd4HykjpTVV4iyhCWR+cnORVxpYlCeTwc8t6UXEkMsrN4wzSXDefn5wMYNOntB5izxSurr95c8GkKTrf8A2iNg8bH5lxUs8oADf3jihMDPiu0e7aAKxZ/4mXIpvkFWlhZdwL5OTjArTDGLDBFLfTpUepNK1sssQUleX96YyrcBVUK3zQqox7GhI18hCQCG6HNN35Yofu96HnihtxF5bFc8MO1FwYksQOzyy4cHIYNU8rM6rIzbtnWqnmkxL9nyGB4LdTVhFMa+cBlj1460MRzF8jnUpccBjkVX2bH+brVzUMvdu4bOenHSqQ8xW3Hp71pEZKGB609Vy3FRhSRuxxTkcgn0q3qSbfhhsW1ynpLn9K2Aea57w2Qt5dxqcjg/zroO9ZbHg45fvBwPNOxUYPNP3UjzgDYpd1MzS0gIXPFYOr/6t623asLVj+6apZ6GGXvowm+8abTiMnNJWsD6FbCU2TIjJp9MkP7hqc37pUT0b4Z3H2bRUYDIJb/0I12lzdtdPlgAB0Arh/h//wAi3bnuS/8A6Ea69DXgVfiNJbkFzkxvj0rk9CcQeMHBOPNhI/Ku8T7OYD5uBXmHiKSfSdWh1KD7sZ+bHpXDio89JxRrh3aaZ6QHFOzWPo+uWWr2qy20gPHIPUVqBq/Pa9CcHZo+khJNaEmaXNR5pc1y2saXH5ozTM0tK1wFzS7qjLUm6qVOT2QmyXdVKfVEsb+2ByWkfCgd6p6l4l07Soz9olDP2VSCax/DpufEGsf2reIUtoP9Qjep74/CvZy3C1HVUmtDlrzXIzsZiWuC2acr8Ypu4bq0Sbb7COBu9e+a+7jsfNtamZPMIbSYnuhry7TZ2azQPwe1ejao2NOuG6YQ15zZOk0CIV2ttBBxXXhxFlZljjbdkux4I7Ux9zRk5OKlkihiTO8ufeoy7CzfIHtXpLYZk6kAlnLznKmt34deIIZbNdOmfZLF8qgn71ULmxV4+eQw5BrlLi2m0+8+0WTFGU5GK8fNMP8AWKfKdmGmovU99Bx9adXmfhz4nIjCHXIyOgEqf1rv7XVLS8XfDOhU9DuHNfmuJwNWjLVHuQqRki7mm5pMjtSVwcrRdx2aKNtJg0uW400LSBaNwH3iB9aqXmtWGmxl7u5jQDtuGTW0KUpaRQOSLZIQEk4xXG6rqEGo3LtCQSp28elZOu+P5dSkNjoQYq/BkC9PxqK0iNlbIkeHkx+9bqSfWvr8jwE6dX2k1Y8/F1IuFkTC3+bcz4XPSm3OJtX0wLxtlP8ASpg3nAjuBk1Qk3x67p7k/L5uAK+3n8J4J6XGcMCOtWl6VSt8yNgCrgBXqK8uW4iVLKS6hcpjj1rz/wAcxFbV1IPymu/juJYEby2xnrXJ+KrV7+3kQfM5GfrWcldFQbi9DmtOcNZxEHPyVazXKaZqgsbs2lzv4OF4rpYp45RlDmvDrU5cx+kZfiITopXJc808Hios80/Nczi0eopIdmlzUeaXdRYpSHE03NJmmhuaXKwch+aQUVEZg06W8KmSWQ4ATnFb04O5y1qsYq8jtPCEbx6Vcs4wHfKn1rbUEjPJqK1QW+nwwL/CvpWlZXcEcJWVfmz1Ir2qEbRsfnOY1I1a7kjJvpDHaytjoh4/CvOdHhjNslxZXDeYBzG54+lejaniWCcL/EpxXmOmx7LGEKMvv+YjsM16WH3OBHSqryJHJKAHU5wp4qAAQTPNGMCQ84FKksxwka5A7jvVK4u2jYQSMVYthcLwK9FALeMtxHIggwCclj3psQS2t0Nsgfdx5cvHPtTxI8UKy3HBTIIPemBXv4klbMDgnZkUwHWSTuszDaGzyoHSnhfnVpIzuDY3Yxj3qFrSWO4EguAWYYYLxn3xVuG1kkIWaViAMg4pAR28jszCUlSWxvx1FWY4oLWCZGVnBO7PYVFMJFhEKOi4PU96bJHcT4jMgSID5gO9AiSCSQmNN3yEZFXjwx9Ko2qRFCkcm1kHCn0qzHcKBgnJ6UCQ6UrIgKgsO4FMt4UhVsKfn5IJzTY8kFYuoOeR2p+JPMIyMY4PvTTBlOTy4WkSKEhjyTUKB5IvLOFDdGPapk86BiXYSOTyAaSWOR1Zgny9QtO4WIIUeFDvcPg1PKk6TKY3UqVztNQIGR/KZBlhnrUbGV3C7iCD60hmbq37m6QnnePmFVJFjaLMQYZ6jPFW9ZV1mj83H19aqqVEXy8Z7VqmIgDFOD0qQYYdab15IzUqbTj5aoC94fOzVpR3ZBXQ5rmdHbGuL7oRXTHioZ4eYL95cSjNFNzUnmWHUuaaPenCgLFV+FJrn9Xl/dfjXQSD92a5rVv9X+NZs9PCL3zM3fKKSk/hFKK3jse6+gdaSUYgandKZO48hqmpsXE9G+HsJbw3agf7Z/8AHjXYTW7QAFsYbpiuV8D7rfw9Ygd1P6sTXUzXDSgbznHSvBqfEVIgcZQisPUtJW8ieOVdyNxg1ug57U113dazYoto8m1DwxrXhlftmmTuYWbJWMnj61a074l3Nt8l/B5hz24Ir06VTJAI9q4HqOtc/eeFLC73brVCzdSoxXFWwlOt8SPQp4hxVilb/ErSJsCRZoz6kD/Gr0fj3QSOblh+A/xrBufhnYtyhkjP1qqPhbCTn7a/5V50snoS6HQsWkdJN4/0NASLhj9AP8aoN8TtKTOzzT9UH+NUYvhZaFh5t1I3tVtfhbpi/eeU/jiiOS0F3D64U7j4qIzYtbMycc8f/XrKPirxRrkjR2EMsanvGCuBXc6Z4S0vS0xFaRMf7zruJ/OteG2hhGIIY4x/soBXZTy6hT2RlPFt7HE6N4DuJpluddm8xuu3eT+dehWFkiIIYQFAHGBUYRqs28rQsCtdsKMY7HDUrSnoEsJhkKtyR3FNHA60+SQyvubmmYrcw1KOsgtpF0B/zzJrz6BzHDCY8H92M8V6DrMqwaJdyEZxGRiuBt7bZAgzkgV14fcYjncykjAJ5qW5bCqpXbmnTRGW0xEQJM8E0rWg+zp5su5gMfLXoLYSIEjnkYgjCjvVC8tVZyMdvSthZm2YxwO/rVVljkyznGPSokkzRM5m50QOpaIfN34qCGPUbBwbW5kXHbccV0zSbRhMgGovKQnJFcVXCQmtUdVOs0VIPFniKFcPcbyPUnmrDePtfjAzb598GrTadBeLHjMbDABXjJqxeQxLFEvk8lOoUYH1rzJZRSk/hR0LE+Zl/wDCydeH/Luv5Gk/4WPr54ECj86tx6Ykl4V2rwm7kVXntFivkARSh64HFT/Y9JfZRSxF+pRm8XeJ7t8pI6A/3c1Wh0q/1Ah76ZnHcMxOK6OSCKJf3YUfhSA+WgIPWuqnlsIfCrEyxCIrDT7XTmxADkjkmrlvHKjPKVyrHnBpsQBOTQGJkwoO0V6tKlGnscNSo5D1Tad+4Lkcgmqk7eZqVgR/DOK0oo45Thx24qmts0uq2kcYI/fA1dXY5rHoenyCK5VnGV71r3VzDMo8pSPqKwrc/NV5TxXky3EhxNUru180ZHX3rUtLf7Qx9qbd2/kPtNSPU4vX/CNpqlnuhVYbheQ4GMn3rhJ7XVdHlw8MmB/EvKmvZJIg4x61XTSvtDeUAp3dm6GueVNS3PQw+LlS6nk0XiORMCeL6kVY/wCEoscciQf8Brv9R8EWaSBpraHc3HyD/wCtWWfAtkM5iBB9e1c88OmetTzipFHLf8JNYY4Zs+4px8S6cB99v++a6NPh/p7MuUY4/Wpm+GVrEvmlDtNR9WRqs6mjlT4l09V++7H0C1B/wkkbf8e8DsT612lt8PtNj5ZQ3Oea17Pw3p1iAYoE3epGaawyRE87naxwthZa/rjAQRm1hPVmH8q7rwv4Ts9ImR5maW4b70jdvpW1b2+Iy0S4Gc8CgMQ+c8iumFGKZ5WIx9WsrNly9tkhYPG+5W9e1VBzSmRm6kmhAWPyjNdK02PNtchuBmNh6ivNtIOZAjblZWZemQcGvRrpmXORivMdPaU3100RIMdw3y+vNdVDWQWsbUdy8du4tTul3YIYYxVMm5aOP7VMrMshZsL2qczSs3mQiPOfnVjyKSdZSAXVQjHjBya9EQTSxOI/M/eCTnHrTJ2u/OhCQqsGCMFuRUjgJEv2lQNv3SnOKZEJXkBDiSB+OeooHYtQRKyhm2iaPnAPUVagmWJGlm42jhR1NUbWIRrOoY7l6HNTW7I37uSZA+OB600KxTf7I103mFtzHhCTT47ZJmLWs7oWPIftU8zEzhWtU4+89RpbmG4do3LJIOmPu0wJQkMRE0bbyAVbBqMwq0gdBtPXrUT2MSqVErqW569amiQsVJbgcZqQHxM6SKGJ61echvut1qJUEh5wPekkCwA4lHzfjigCLyiCVcgvj74quba4DlxMWA7Cn+WXm81JM/LtPvSgywRMMAqT1oAjDSeZyCWxgA03amwu4brg460+SIyQrtYiRTxT48xQ/vEI+vegDD1uMKkGCxOf4qrR25dMhTxWlrciy2Mb7SCHwCRzWYjuqfKx5rVMQhGw4NCsoprBs896TYe9XcRNp8m3XbXHG4kGuqLZOK5CH91qVpKW6PjFdcy4kyKzkeRj1qmO6Cm96XdkU3vUnksdmlFNzRmmBXkOIzmuZ1VuAPWuknP7s1zOrffT8azPUwi98z9vApaVmyeOlRlq6I7HtscTUE/+panFsVBPIQOOlRU+EuJ614ZQx6RZr/dXH61v1ynhbxDY3NhCpkVGj4ZTxiula6gRNzypj/eFeJNNyKZo2kkKKfMA/EVWkIMp29KzW1ixU83Ef/fYp6atp7Hi7h/77FZtMVi/jiprORIZCzgH6iqpurTywwuIsH/bFQ/b7T/nvF/32KVhl68kWaTKDAquic1D9vtP+e8f/fYqxHNAUDCaP/voUrAPgwtwCwyKtXskcrAx4AxzgYrPN1bhsean/fQpftEH/PWP/voUCHFeaMU+IRzKSksfHX5hUbyRo20uv50AkaE80TWq7QN30qmKiE8f99fzp6Ornhl/OmgaJAauWxg8o+cCfTFUpAIxyw/Omeev94fnTFYz/FJA0C829NhxXD2Dssiq5yZEB612Him5iTw9ch5FXcuBk1xdpaJFLE8LNtVQSXbOfpXZh9xF5laPj1NEdvM8u6PkKMkHvT2/fY570v2hraeQtwHAxXffQBjyHzlMigJghtoxTJfs6wExgk9xTyxa8jc/6oIS/FNgngkJ2KMZqSiC3gSaPzGI2jsactnvcbMEEZpyGO2R0BLbz37UyJmEhUfUUAP06dEwZEOM/K2OKSQyxQkXLl1Y8N6Cqlur/LGJCvpWp5DG3AmO8CkBRg/0tpGwysgC5zinzoI4Y4YgXfqxPWrvlpbIdn8XWmqyAuSBuYYzTAqRwiQgnOO+abPH5n+pQlV7gcVZONpRR1HY0xx9lhEFnlM9STnNFwC2i3od3GKjeR4Z40RQQzjJxUkUqx5WQnp2p8BgMjBA0jfwMemaBCymU+Ydm0gZUAVXtnnTUrVmU8SDBxUs88ywljww4xninxhpL+1A/v8AJqamwjsrTkjPWrpVh2wKrW6hJwT0rXu7mGW1URgBh14rypbisVIZ3hYlDg0TTNM2X61FnqaN3FToCuOweooR2jcMOoq/bS2/2Pa4XeO9ZxPzYqQaJpriSfHmc4qHk0Zq7YeVkmXB+tA9SkoI6VdkvnkthEw6d6rylBM3l9M0zNCDUSkJNSQhDMA/Q1NepHGy+X6c0CZJa3ohhKMufSqrMCxIpoIxQoBcZ6d6egK44GrdlOsTtvHUcU6azWK1D7uTVMNgUwVxdVkSV9yDtzxXk1hN9l1y/SYkJ5zHgd816rIAw5rzKW0jXxFfJK+39+SPfNdVD4hhCY5JnurW43+W37xDxxV+C4uHkIVP3RGQTVKWO2tvOSMbZGbgj0qy6xy+SVmZcL8wBxzXoXAfHIiXEjzMy8fdb19qkPmh4/JjBQ8ntUU0aXbK7Y+XjcO9LLex28i/aYDtUYRhmhCLNrAYpZs87vm+lJLHHeMnkfK6HJNQRGb7UtyJwEYcJ6ilZiZGKDqecdqdwJzPcRKUnUtzw23iprUq5J70lsFFq0cjMc8qWOcUsUIhj3t94d6VxMfKIS/LAtTPMSOQKVJVu+OlVmBnucDGD36VPBGLZCkrsxByM9qACa5UQ8BxnuBT44YwEfdle4aofNVrkxFuGXctNltw6/fyM8gHpQBYWCLcxH3fY0yeVI+FQsMVFDkNsBO2pXjLgYONpouBX88sAAjcnGcdKnWKdlAlcMg6UihixGOlBLM2wqceoNAFPW4hJYDDY2HNYgR0C9CpHDCtjWIytuQu4+tYO8pgZ/CtIiJhndlqf8rrjvUAlJ60pHOQeasBlwgUo+eVcGuu8zeAfauQuTmH8a6qH5oInHQqKlnl45e6iZTRmmg0VJ44+jFNzRQBUnb92a5nVG/fCukn/wBWa5fU2zNWZ6mDXvlUtxUTGhn445PpU8VrkB5ePQD+tbpntEEcLSgNghfU96naFNuCBUzSEnHYdBUZOaHqO4yOMR/6slD6qcVOGYrh5ZGHu1RA0pIPSsnRi+gXFeGNvX86Ytuimng0jc1HsI9UNsn2RFcGSX/vuozbR5+/J/33TFyKdu96Pq8OwriG1Q9JJB/wM0vlSD7t3cAeglNG6kLGn9Wg+g7seIGI/wCPmcn/AK6Gl8h/+fqf/v4aiDMD1p4kPrR9Vp9guyVEuEyItQuY89cSn/Gn+Rev8x1a4/GZv8ahDE96MmpeGh2GpD1iu26atc/9/W/xpw/tGE/u9XnH/bVv8aiTApGYHpU/VodEDkWTNq79dXm/GQ/41PDdavHgm/Lj3OaobiR1oWRx0Jp/VoiuXNWm1LVoEgeeMLnkA4zUXk6nBCsb3KkAcFSc1EJHDAknipZLp2Ayc1pGioBfQch1QfcuQPrSPJqzEeZKkn1NH2v5cGk8zdzim4gD3WrqMYTH1qNbzVYDhII/wWnFznrTHmIbmhIdyUajqr9bSNz/ALtNOqavHljZr9RT0mOOOKf5zBcdfrSaYJoqjV9TU7jYqT9KnXxNqqDDWOR6EU9HAi565qQOjLzU8rHzIrHxRqDR7ZLEbuxxSP4ivCB/oL/lVtJY4+sSt6ZpTdMAcBBnplelHJLuHMikvia5T71k/wCVOPieVuXsZD9KnilH2fbMqu/rinwXqo3ywx47/LRyS7heLKf/AAkw3c2L/iTUjeJg7RYidFUnIxV5blJDuNvEB7IKicQM2Wij/wC+RTUWg93oOfXILmELypzzmql94hkVk+wCUOjcnGM/rUkhilXEcSDHcKKjhREb7iE+4olHmQro6zTfGsVxah7hPLkHUPxmmyfEWxj6pn6Zrm5I43YfKM0sttbuMqoX8K5Xh2x3Rvj4naaTgwyj8Kl/4WTpWPuSf981z6JbkYeKP/vkU14bQniJR+FR9VkDcToh8SdK7rIPwp3/AAsnRh3k/wC+a5sWdiVOUXJ74p0enWOOUhP+8tS8NIE4nSL8SNFb+Jx9QaevxE0U/wDLVh+Fc6unWBU4hgz/ALg/wqqdLthIT5EZ57ip+rSKvE7FfHeiuR/pH58VOPG2h/8AP2K4n+xbJ8lokX6CmjRdOB5Cj8Kf1eRL5Tuv+Ez0U9L1RTx4u0iXpfIT9a4UaJYP91V/IU2Tw1YiMFcA+zUvq8gSjY9Fi13TpFyt1GR/vCnf2/pytj7Smf8AeFeZJoVrG37xmKn+61SL4d0+eTEcrqcf3qPq0hLlPUF160lXaLtT6AtSpfxSEhHDfSvMjo1vaKfLdmb1DHipoJJLNS0FzKh75bP86Pq8kJs9LN0ixlnbAxXmN9KLvxJLdRXCNDHLggHnipZr26vLdoZruQq3904qpa+H7WGQSCWRfXng1rSpSi7sFbqaMnlyXvmQPvCsdwNTSYDqQMIw+c+lZx0xYWbyJ3O/vnpURsLvlTdvtPbNdgGvbYtkMJYEbsqfY0y6nMMDrwQecmsi8tboyRbJ2XYMH3+tJPa3kkIzdjI/hoEbEU4WwijIBJPynuKX7QikqQytjlqw1ivJEVBPs29Dinq+oRZVp1l9Ny0gOje8ZLT5GBwPTmrsEwZVEoO4iuRH9qyENGVG30p6X+qo331HqCtAHUS3KNkIfm7HFV5Jtkas4LnOCRWC15qhOVaPPulQm61Ull8xMN1G3pTA6aeWOOMNDgyYpiXEEJWORmDSjPTvXNRvfoHwy5Y9cUrT6lIqoWU7eQSOaBHVxrEmdzjd2z3pYZcs2RgVyskt6ShlUsQeoq8NVuY12vbkjsQaANdbiT7QcsoTsCKmLnd9e9c6dYZ8rJa/rT01qZXANtx65piNa/jM9uw7gH8a5iCKOSP55Mc8Grlzrt3OrQQW4V+zE1kxNcW6suoRMoz95atMdi99nAPyvmkZSvekBiaMGEnHvQPeruQxkp/dtn0rptPk36ZAf9nFc065jbPpXQaVzpEOPU1Jw41XgXM5NLmmgUtSzxRSaM00mkoFYq3H+rrltQYLcnPPFdRc7ghBBH1FctqcUgnB2MR7CsWz1sGrT1Ktu6xzB5F3Ae1TvebzVNnPQoR+FJuP90/lWikj2Ccy5o8yoNx/un8qXJ9D+VUpomxN5lG+ocn0P5Uuf9k/lT50FicPS7qg3/7J/KjzMdQfyp86FYsb+KaW5qJZM9KUsaXMhEu6l3VBvpfNXuwpqaGTbqC2OlQ+avqKPNX1H50c6HZk6zYp3mVX3D1H50nmUc6FYm3mpYUDHk1V3inCTHejnQy4wCd6YW9KqmbPeneb7E0+ZCsyyD60ZBqt5h/utSeYw9R9aHJDSZbwKcrDpmqQnNAkOetLmQF1iByaiZlLZqHeW4zS7cjrQ2hllGB6VK2CvBqiDt70omI70roC2uNuCakQKi5JrP8AtBFKbliMUXQF15EbvimSMG24boKoee2aBKaLoC6HPrTkOKpeewpDcMaLoDTEpWEBcE1E0jvxiqazsKkF0y0XQi1GGjBPrSLnPWoPtv8Aeo+1DNMCyA24HNSeZ/DVP7Vt6jNL9q9hTETEky9eKk3EVTFzhs4qUX0eMOhJ9qTGWvLbAbPB7UF+OmKrfbhx6Cg3sbdOtAFlZW7UKzEncaqrcLnIPFTLdIB1Bo0EThi/GTUeMnkfpTBcLnIPFOW6CqQoRifUUrILEqrt7mkHLYLH86hNwR6U0TKGyTSsii2ARwrfnUg3xLuYA1VE8RPDYH1pxnjC8SH8aNCSaOR5WxjPrUrIjqRt6dapLOqjhyD6ilE4xjfn1pbgWMJEo2Cn+ZIygA4FV1ZG/iH508Pt+7yBRYNSQZHU0ws+7qcUnmFhnHFKXUj7pB+tAx5lZ/vHNQt97pS5HYc0AZ60WAdGenFTmUBs7AR9KhDBaDOh4UYNICfz1GSvHtUZmSQEbMN61FxSeYQeOlAybdtWk84rysYb8agMmabvYHiiwFg3iyKAYtp70eYOBiq5JPanZ+WnYRYM2FxTPObcOMioCzdKUFh1osBOZk3D90vFNefd2Apg5pGHtQAm/wCbIHNTtIJ4DDMAUI9KhUKPrT9y1SsIz3tZLP7r709cU9JVlXKHNaKSY+UgMD1zVS70/wCzbrm1O5G5aP0+lO4iNt2w8HkVuaES2jgMfuuQK59LlXjznit3QWDabIo6CU4qWzjxS/dmkKDxSYpM1J4jQ4c04AUwGl3UBY9jvND0u+iKXVjA4PfYAR+I5FeT+LfDA0TVNkbloJRuiLDt3B+lezGvP/ib/rdN+kn/ALLXj4acuex9bmFKKouaWqPOGtFzyoP4U37FEf4F/Krb0i9a9Q8D2s0tyr/Z8Z/gX8qPsEX9wflV4UhpD9tMpfYIv7g/Kj7BF/cH5VdooD20yl9gi/uD8qQ6bG3WEH/gNXx1qUVSLjWkY50lO0I/KmnSU/54j8q26aaTK9tIxv7Hh7xfpR/ZFsf+WQFbB6VXbrQhOtMzTo1sf+WY/Ok/sW2/55j8606UUB9Yn3Mo6Ha/88/1po0G2JP3h+Na9LSsg+sVO5jf8I9CejNSHw/CP4nrd/hpDTaK+s1O5gf2BD/eek/4R+P+89bneihD+s1O5h/2AnZ3H5UjaCMcTP8AjW7SNVD+s1DB/wCEfbb8s9IdAmHSWt9alHSiw1iZnNf2LP0D0p0W5x/rFrpDUZ60B9Zmjmzo1z/eFJ/Yt2OjLXT0+iw1iZnJ/wBjXn95f1oGkX3baa6g1GnelYpYmZzf9k3w/gpP7Mvf7ldT/DTaLF/WJHLnTL3+5UZsLxTzGa6ykPWiw1Xkcp9kuh/yzb8qT7Ncn/lm35V07Uwd6Ngdd9jmTBODzG35UhimXrG35V0LffqQdKE2NV2+hzeJAOUb8qbuf+6fyro5Pumqp61V2V7XyMbc390/lSmQgfdP5VrnpUT0XY1U8jJ8xu4OPpTg6jqDWgelR9zSuyvaX6FUSxjsaPOj9DUtIelLmZXMMMq44zSiVAOM5pjU1ugo5mUiQzZ6saBKM9agNNo5mVa5dE6UGZT3qjS0c7DlLfmjuaN/oT+dVhTjTUmIsCTHU5qRbgqOCapDrTqfMGxd+2OOjce9BvZD/HVGinzAX1vG7tmnm8B71nigUuYVzQ+1+jUz7UxP3x+VUh1paLgXvtPPWj7YQDg1TPSkp3GXPtbetH2xh3FUjSjpRcTZcF4x6kU8XnHUVnUUXA0ftZJ6gfjThe4/izWZSClcDWW89/1pwuixwp/Wsofdpy9adxmrmTrgfnQN+7kfrVGl9KLgzR+ZVyR+tC33ljBGaoD7lRN96pbJLNxDvPnKuyPqwFbugKo00tHnazZFYLf8eEn0rodB/wCQLB+NCZy4r+GX8Gkpx602g8NhSU4UlMR//9k=)"
      ]
    },
    {
      "cell_type": "markdown",
      "metadata": {
        "id": "eTjBNX81u2QI"
      },
      "source": [
        "\n",
        "\n",
        "\n"
      ]
    },
    {
      "cell_type": "markdown",
      "metadata": {
        "id": "O2j30GD8z0e6"
      },
      "source": [
        "# Players\n"
      ]
    },
    {
      "cell_type": "markdown",
      "metadata": {
        "id": "uv3-IgGsz4qh"
      },
      "source": [
        "O jogador que inicia a partida será chamado de \"1\", o outro jogador será chamado de \"-1\".\n",
        "\n",
        "Como no Orthokon as peças brancas começam, então o jogador que conduz as peças brancas será o jogador 1, enquanto que o jogador que conduz as peças pretas será chamado de -1.\n",
        "Então, desde já , vamos assumir a seguinte regra:\n",
        "\n",
        "*   **Peças Brancas**: 1\n",
        "*   **Peças Pretas**: -1\n",
        "\n",
        "\n"
      ]
    },
    {
      "cell_type": "markdown",
      "metadata": {
        "id": "de9Dcf1QuNu9"
      },
      "source": [
        "# **Tabuleiro Orthokon**\n"
      ]
    },
    {
      "cell_type": "markdown",
      "metadata": {
        "id": "bOmuThyAzRXC"
      },
      "source": [
        "O tabuleiro será representado por dois números e por um par de tuplas, uma delas contendo a listagem das peças **brancas** e a outra contendo a listagem das peças **pretas**. Os dois números anteriormente mencionados servem para definir as dimensões do tabuleiro, que serão fixadas previamente. A seguir, a representação de um possível tabuleiro:\n",
        "\n",
        "**4, 4, ((1,1),(1,2),(1,3),(1,4)), ((4,1),(4,2),(4,3),(4,4))**\n",
        "\n",
        "Nessa representação, temos um tabuleiro 4x4 onde as peças **brancas** estão nas casas (1,1),(1,2),(1,3) e (1,4), enquanto que as peças **pretas** estão na casa (4,1),(4,2),(4,3) e (4,4)."
      ]
    },
    {
      "cell_type": "markdown",
      "metadata": {
        "id": "LdaMhPUfxFnz"
      },
      "source": [
        "# **Representação Visual do Tabuleiro**"
      ]
    },
    {
      "cell_type": "markdown",
      "metadata": {
        "id": "1YEc7V96rLJE"
      },
      "source": [
        "\n",
        "A função **draw_board**(lines, columns, white_positions, black_positions) recebe as configurações de um tabuleiro e imprime esse tabuleiro no kernel. Os parâmetros para essa função são explicados abaixo:\n",
        "\n",
        "* **lines:** número de linhas no tabuleiro.\n",
        "\n",
        "* **columns:** número de colunas no tabuleiro.\n",
        "\n",
        "* **white_positions:** posição das peças brancas na forma de uma **tupla**.\n",
        "\n",
        "* **black_positions:** posição das peças  pretas na forma de uma **tupla**."
      ]
    },
    {
      "cell_type": "code",
      "metadata": {
        "id": "GZDHEwTrqxtc",
        "outputId": "fc4e5f1b-ff28-455e-fb24-7ab96db0c55f",
        "colab": {
          "base_uri": "https://localhost:8080/",
          "height": 267
        }
      },
      "source": [
        "from IPython.display import display # para mostrar imagens\n",
        "from PIL import Image, ImageDraw    # para ler imagens\n",
        "\n",
        "def draw_board(lines, columns,white_positions, black_positions) :\n",
        "    board = Image.new('RGB', (250,250),  \"gray\") #Tamanho e a cor do tabuleiro.\n",
        "    draw  = ImageDraw.Draw(board)\n",
        "    \n",
        "    ## Linhas e Colunas\n",
        "    shift_lines = float(board.size[0])/lines    \n",
        "    for el in range(lines) :\n",
        "      #Desenhando linhas na Horizontal\n",
        "        draw.line( (0, shift_lines *(el+1), board.size[0], shift_lines*(el+1)), fill = \"black\" )  \n",
        "        \n",
        "    ## Linhas e Colunas\n",
        "    shift_columns = float(board.size[1])/columns\n",
        "    for el in range(columns) :\n",
        "      #Desenhando Linhas na Vertical\n",
        "        draw.line( (shift_columns*(el+1), 0, shift_columns*(el+1), board.size[1]), fill = \"black\" )  #Linhas na Vertical\n",
        "    \n",
        "    ## Peças\n",
        "    for el in black_positions :\n",
        "        x, y = lines-el[0]+1, el[1]\n",
        "        draw.polygon([(shift_columns*(y-0.9),shift_lines*(x-0.9)), \n",
        "                      (shift_columns*(y-0.5),shift_lines*(x-0.15)), \n",
        "                      (shift_columns*(y-0.1),shift_lines*(x-0.9))], \n",
        "                     fill = 'black')\n",
        "        \n",
        "    for el in white_positions :\n",
        "        x, y = lines-el[0]+1, el[1]\n",
        "\n",
        "        draw.polygon([(shift_columns*(y-0.9),shift_lines*(x-0.1)), \n",
        "                      (shift_columns*(y-0.5),shift_lines*(x-0.85)), \n",
        "                      (shift_columns*(y-0.1),shift_lines*(x-0.1))], \n",
        "                     fill = 'white')\n",
        "    return board\n",
        "  \n",
        "  \n",
        "board = draw_board(4,4,((1,1),(1,2),(1,3),(1,4)), ((4,1),(4,2),(4,3),(4,4)))  #Posicoes das peças Brancas e Pretas !!\n",
        "display(board) #Exibir o tabuleiro\n"
      ],
      "execution_count": null,
      "outputs": [
        {
          "output_type": "display_data",
          "data": {
            "image/png": "[encoded data removed]",
            "text/plain": [
              "<PIL.Image.Image image mode=RGB size=250x250 at 0x7FF8F7CB0EB8>"
            ]
          },
          "metadata": {
            "tags": []
          }
        }
      ]
    },
    {
      "cell_type": "markdown",
      "metadata": {
        "id": "rd_dZNg5sh70"
      },
      "source": [
        "**Neste exemplo, vemos que o tabuleiro do Orthokon é dividido como uma matriz 4x4, onde temos linhas e colunas. Assim, temos uma peça branca na posição (1,1), que significa que ela está posicionada na linha 1, coluna 1 (line,col).**\n",
        "\n",
        "![Capturar.PNG](data:image/png;base64,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)"
      ]
    },
    {
      "cell_type": "markdown",
      "metadata": {
        "id": "yjQrPUNT1m2c"
      },
      "source": [
        "## Sequência de Jogadas\n",
        "\n",
        "Será muito mais fácil para nós entendermos o jogo (e nos divertirmos) se tivermos uma maneira de animar uma partida inteira. Para isso, vamos criar uma forma interativa de permitir que o usuário veja a lista de movimentos.\n"
      ]
    },
    {
      "cell_type": "code",
      "metadata": {
        "id": "G9Q44S0t4oq2",
        "outputId": "4cb530a0-03b9-4fa1-9c42-91ebdb8730b0",
        "colab": {
          "base_uri": "https://localhost:8080/",
          "height": 316,
          "referenced_widgets": [
            "63688f13024e4a28bd35e4944e035327",
            "d041042c48d3417ab426f141d23b4b10",
            "55346fe99fed45adbfa98076451c6619",
            "4d36e3d221e74e94b54446ab30743f50",
            "61da1e17847f44d089643e08daf849ba",
            "15c6a02999f945a4b7f548b8b1d7214b",
            "65cbdb2faaef4c82aff6d23d62d877c2"
          ]
        }
      },
      "source": [
        "from ipywidgets import interact\n",
        "\n",
        "def display_sequence(images) :\n",
        "    def _show(frame=(0, len(images)-1)) :\n",
        "        return images[frame]\n",
        "    return interact(_show)\n",
        "\n",
        "images = [\n",
        "    draw_board(4,4,[(3,1),(1,2),(1,4)], [(4,2),(4,3),(4,4),(3,3),(2,4)] ),#Inicial\n",
        "    draw_board(4,4,[(3,1),(3,2),(1,4),(4,2),(3,3)], [(4,3),(4,4),(2,4)] ),#Vez do branco\n",
        "    draw_board(4,4,[(3,1),(3,2),(1,4),(4,2)], [(4,3),(3,4),(2,4),(3,3)] ),#Vez do Preto\n",
        "    draw_board(4,4,[(3,1),(3,2),(2,3),(4,2),(2,4),(3,3)], [(4,3),(3,4)] ),#Vez do branco\n",
        "    draw_board(4,4,[(3,1),(3,2),(2,3),(4,2),(2,4),(3,3)], [(4,3),(4,4)] ),#Vez do Preto\n",
        "    draw_board(4,4,[(3,1),(3,2),(2,3),(4,2),(3,3),(4,4),(3,4)], [(4,3)] ),#Vez do branco\n",
        "]\n",
        "display_sequence(images)"
      ],
      "execution_count": null,
      "outputs": [
        {
          "output_type": "display_data",
          "data": {
            "application/vnd.jupyter.widget-view+json": {
              "model_id": "63688f13024e4a28bd35e4944e035327",
              "version_minor": 0,
              "version_major": 2
            },
            "text/plain": [
              "interactive(children=(IntSlider(value=2, description='frame', max=5), Output()), _dom_classes=('widget-interac…"
            ]
          },
          "metadata": {
            "tags": []
          }
        },
        {
          "output_type": "execute_result",
          "data": {
            "text/plain": [
              "<function __main__.display_sequence.<locals>._show>"
            ]
          },
          "metadata": {
            "tags": []
          },
          "execution_count": 35
        }
      ]
    },
    {
      "cell_type": "markdown",
      "metadata": {
        "id": "p4RODsjJ8ZkM"
      },
      "source": [
        "# **Implementando o Jogo**\n",
        "Vamos começar a implementar o jogo propriamente dito, os passos serão:\n",
        "\n",
        "* Representar as condições de vitória.\n",
        "* Identificar as jogadas válidas (ações possíveis)."
      ]
    },
    {
      "cell_type": "markdown",
      "metadata": {
        "id": "1GqNOX5M8n4F"
      },
      "source": [
        "## Condições de Fim de Jogo\n",
        "Em geral, podemos identificar duas condições em que uma partida pode ser finalizada:\n",
        "\n",
        "1 - Se um jogador não possuir mais peças, ou seja, quando suas peças forem \"coloridas\" pelas peças adversárias\n",
        "\n",
        "2 - Um jogador ficou impossibilitado de se mover, ou seja, suas peças ficaram cercadas por peças adversárias. (AINDA NÃO IMPLEMENTADA)\n",
        "\n",
        "Em cada uma dessas situações, é possível identificar um dos jogadores como vencedor, lembrando que **1 representa o jogador das brancas** e **-1 representa o jogador das pretas.**"
      ]
    },
    {
      "cell_type": "code",
      "metadata": {
        "id": "nkCwF7uRvGJ6"
      },
      "source": [
        "def winner(lines, columns, white_positions, black_positions) :\n",
        "    ## Se alguém ficou sem peças, encerrar a partida.\n",
        "    if len(white_positions) == 0: #Vai contar quantos elementos tem na lista White_Position, se não tiver nenhum(0) significa que não tem peças brancas.\n",
        "        print(\"Acabou para as brancas!\") \n",
        "        return -1 #Quem ganhou foi o preto\n",
        "    elif len(black_positions) == 0: #Vai contar quantos elementos tem na lista Black_Position, se não tiver nenhum(0) significa que não tem peças Pretas.\n",
        "         print(\"Acabou para as pretas!\") \n",
        "         return 1 #Quem ganhou foi a branca\n",
        "   # elif valid_move(lines, columns, white_positions, black_positions) == True: #Significa que o jogador não tem mais movimentos válidos\n",
        "     # return 2\n",
        "    ## Jogo ainda não acabou\n",
        "    else:\n",
        "      print(\"O jogo não acabou\")\n",
        "      return 0"
      ],
      "execution_count": null,
      "outputs": []
    },
    {
      "cell_type": "code",
      "metadata": {
        "id": "mOjz5WUG6kwS",
        "outputId": "f9d18032-7453-4102-d889-c258cd66bbac",
        "colab": {
          "base_uri": "https://localhost:8080/"
        }
      },
      "source": [
        "## Exemplo de uso do que temos até agora.\n",
        "winner(0, 0, (()), ((1,2))) #Exemplo de quando as brancas perdem (Quando não há elementos em sua tupla)\n",
        "winner(0, 0, ((1,2)), (())) #Exemplo de quando as pretas perdem (Quando não há elementos em sua tupla)\n",
        "winner(0, 0, ((1,1)), ((3,2))) #O jogo ainda não acabou, existe peças pretas e brancas no tabuleiro!\n"
      ],
      "execution_count": null,
      "outputs": [
        {
          "output_type": "stream",
          "text": [
            "Acabou para as brancas!\n",
            "Acabou para as pretas!\n",
            "O jogo não acabou\n"
          ],
          "name": "stdout"
        },
        {
          "output_type": "execute_result",
          "data": {
            "text/plain": [
              "0"
            ]
          },
          "metadata": {
            "tags": []
          },
          "execution_count": 37
        }
      ]
    },
    {
      "cell_type": "markdown",
      "metadata": {
        "id": "szN96K5blwEM"
      },
      "source": [
        "##*Jogadas Válidas*\n",
        "Vamos agora criar uma função chamada valid_move. O que ela faz é bastante simples, obtém um tabuleiro com peças brancas e pretas e verifica se um determinado movimento das brancas é válido ou não. Note que nos preocupamos apenas com a movimentação das brancas, isto ficará claro mais adiante, vamos assumir agora que iremos criar apenas o jogador das brancas e um jogador humano assumirá o controle das peças pretas.\n",
        "\n",
        "A função valid_move(move, lines, columns, white_positions, black_positions) possui a maioria dos argumentos semelhantes ao que já explicamos para draw_board, exceto pelo primeiro, que é o movimento em si. Caso o movimento das brancas seja válido, a função devolve True. Caso contrário, devolve False."
      ]
    },
    {
      "cell_type": "code",
      "metadata": {
        "id": "82wvs2wEHVrX"
      },
      "source": [
        "def valid_move(move, lines, columns, white_positions, black_positions) :\n",
        "    ## Se não houver move (Movimentação das peças brancas), então já saia.\n",
        "    if not move :\n",
        "        return False\n",
        "                            ##Move é duas tuplas, um origem e um destino.\n",
        "    origem, destino = move #Vai vir uma tupla com origem e destino. Exemplo: ((1,1),(2,1)) - Sai da posição 1,1 e vai para a 2,1\n",
        "    \n",
        "    ## verificar limites do tabuleiro\n",
        "    if not 0 < origem[0]  <= lines :\n",
        "        return False\n",
        "    if not 0 < destino[0] <= lines :\n",
        "        return False\n",
        "    if not 0 < origem[1]  <= columns :\n",
        "        return False\n",
        "    if not 0 < destino[1] <= columns :\n",
        "        return False\n",
        "\n",
        "    ## Verificar se origem é válida, se ele realmente é uma peça branca ele deve estar com seus valores dentro da duple white_positions.\n",
        "    if not origem in white_positions :\n",
        "        return False\n",
        "      \n",
        "    ## Verificar se destino é livre de peças brancas\n",
        "    if destino in white_positions :\n",
        "        return False\n",
        "    if destino in black_positions :\n",
        "        return False\n",
        "    \n",
        "    ##Verificar se o movimento foi máximo, ou seja, ele andou todas as casas possíveis.\n",
        "\n",
        "    ##Não Deixar pular peças \n",
        "    \n",
        "    return True"
      ],
      "execution_count": null,
      "outputs": []
    },
    {
      "cell_type": "code",
      "metadata": {
        "id": "JC7vf_ahHy5f",
        "outputId": "f36c852c-40c6-4a9c-eec7-1c1df76bed15",
        "colab": {
          "base_uri": "https://localhost:8080/",
          "height": 488
        }
      },
      "source": [
        "board = draw_board(4,4,((1,1),(1,2),(1,3),(1,4)), ((4,1),(4,2),(4,3),(4,4))) \n",
        "display(board)                             #white                         #black\n",
        "print(valid_move([(1,1),(2,1)],       4,4,((1,1),(1,2),(1,3),(1,4)),      ((4,1),(4,2),(4,3),(4,4)) )) ## True\n",
        "print(valid_move([(1,1),(2,2)],       4,4,((1,1),(1,2),(1,3),(1,4)),      ((4,1),(4,2),(4,3),(4,4)) )) ## True\n",
        "print(valid_move([(1,1),(2,0)],       4,4,((1,1),(1,2),(1,3),(1,4)),      ((4,1),(4,2),(4,3),(4,4)) )) ## False Limite do tabuleiro (y=0)\n",
        "print(valid_move([(1,1),(3,1)],       4,4,((1,1),(1,2),(1,3),(1,4)),      ((4,1),(4,2),(4,3),(3,1)) )) ## False (Existe preta no 3,1)\n",
        "print(valid_move([(2,2),(3,1)],       4,4,((1,1),(1,2),(1,3),(1,4)),      ((4,1),(4,2),(4,3),(4,4)) )) ## False (Não está na origem!!)\n",
        "print(valid_move([(2,2),(3,2)],       4,4,((2,2),(1,2),(1,3),(1,4)),      ((4,1),(4,2),(4,3),(4,4)) )) ## True\n",
        "print(\"DIAGONAL --\")\n",
        "print(valid_move([(2,2),(4,4)],       4,4,  ((1,1),(2,2),(1,3),(1,4)),    ((4,1),(4,2),(4,3),(4,4)) )) #False já tem peça nessa posição\n",
        "print(\"p/ tras --\")\n",
        "print(valid_move([(2,2),(1,1)],       4,4,  ((2,2),(1,3),(1,4)),      ((4,1),(4,2),(4,3),(4,4)) )) #True (da 2,2 para 1,1)\n",
        "print(valid_move([(2,2),(4,2)],       4,4,  [(2,2),(1,2),(1,3),(1,4)],    [(3,2),(4,1),(4,3),(4,4)])) ## False -> jump\n",
        "print(valid_move([(2,2),(1,2)],       4,4,  [(1,1),(1,2),(1,3),(1,4)],    [(4,1),(4,2),(4,3),(4,4)])) ## False -> backward\n",
        "print(valid_move([(2,2),(2,1)],       4,4,  [(1,1),(1,2),(1,3),(1,4)],    [(4,1),(4,2),(4,3),(4,4)])) ## False -> sideway"
      ],
      "execution_count": null,
      "outputs": [
        {
          "output_type": "display_data",
          "data": {
            "image/png": "[encoded data removed]",
            "text/plain": [
              "<PIL.Image.Image image mode=RGB size=250x250 at 0x7FF8F7C98B38>"
            ]
          },
          "metadata": {
            "tags": []
          }
        },
        {
          "output_type": "stream",
          "text": [
            "True\n",
            "True\n",
            "False\n",
            "False\n",
            "False\n",
            "True\n",
            "DIAGONAL --\n",
            "False\n",
            "p/ tras --\n",
            "True\n",
            "True\n",
            "False\n",
            "False\n"
          ],
          "name": "stdout"
        }
      ]
    },
    {
      "cell_type": "markdown",
      "metadata": {
        "id": "Z2eHA9VfHLt7"
      },
      "source": [
        "Podemos agora implementar a função get_valid_moves de uma maneira bastante simplificada, bastará selecionar todas as possíveis jogadas e eliminar as que não são válidas. Novamente, vamos supor que estamos criando um jogador para as peças brancas, as pretas serão conduzidas pelo jogador humano."
      ]
    },
    {
      "cell_type": "code",
      "metadata": {
        "id": "Kz0h4FLWHNf1"
      },
      "source": [
        "def get_valid_moves(lines, columns, white_positions, black_positions) :\n",
        "    valid_moves = []\n",
        "    for origem in white_positions :\n",
        "        destinos = ( \n",
        "            (origem[0]+1, origem[1]-1), \n",
        "            (origem[0]+1, origem[1]),                    \n",
        "            (origem[0]+1, origem[1]+1)\n",
        "        )\n",
        "        for destino in destinos :    \n",
        "            if valid_move( (origem, destino), lines, columns, white_positions, black_positions) :\n",
        "               valid_moves.append(  (origem, destino)  )\n",
        "    return tuple(valid_moves)"
      ],
      "execution_count": null,
      "outputs": []
    },
    {
      "cell_type": "code",
      "metadata": {
        "id": "uBfdvJi5HZvo",
        "outputId": "839d4e16-b4fa-4b79-9ace-505bda2e15d3",
        "colab": {
          "base_uri": "https://localhost:8080/"
        }
      },
      "source": [
        "tabuleiro = [4,4,((3,1),(1,2),(1,4)), ((4,2),(4,3),(4,4),(3,3),(2,4))]\n",
        "\n",
        "get_valid_moves(*tabuleiro)"
      ],
      "execution_count": null,
      "outputs": [
        {
          "output_type": "execute_result",
          "data": {
            "text/plain": [
              "(((3, 1), (4, 1)),\n",
              " ((1, 2), (2, 1)),\n",
              " ((1, 2), (2, 2)),\n",
              " ((1, 2), (2, 3)),\n",
              " ((1, 4), (2, 3)))"
            ]
          },
          "metadata": {
            "tags": []
          },
          "execution_count": 41
        }
      ]
    },
    {
      "cell_type": "markdown",
      "metadata": {
        "id": "vnhoc0wCl4bY"
      },
      "source": [
        "## Efetuando Jogadas\n",
        "\n",
        "Supondo que queremos criar um **bot**, o que ele precisa saber? Obviamente ele precisa saber quais são as jogadas válidas e qual peças ele está conduzindo. Basta isso para criarmos um jogador sem nenhum tipo de inteligência, que escolha ao acaso uma jogada dentre todas as disponíveis.\n",
        "\n",
        "Se quisermos que o jogador tenha algum tipo de inteligência, provavelmente ele precisará de uma função que possibilite a pontuação dos tabuleiros. Essa função receberá um determinado tabuleiro e dará uma nota para o tabuleiro, uma espécie de **score**, quanto maior o **score** do tabuleiro, melhor ele é segundo a função de pontuação. \n",
        "\n",
        "A seguir, vamos tentar uma primeira implementação e depois podemos reformular o nosso jogador para que tenha algum tipo de inteligência."
      ]
    },
    {
      "cell_type": "code",
      "metadata": {
        "id": "ZlN3xfInz0pF",
        "outputId": "d016cb23-33b1-4c17-dbde-8b7856ee610c",
        "colab": {
          "base_uri": "https://localhost:8080/"
        }
      },
      "source": [
        "## O nosso jogador fará uma jogada ao acaso, então usamos \n",
        "## a biblioteca random para poder gerar números aleatórios\n",
        "import random\n",
        "\n",
        "## A função abaixo é um jogador. Ele receberá um tabuleiro\n",
        "## como parâmetro pelas variáveis  lines, columns, white_positions, \n",
        "## black_positions. \n",
        "def player(lines, columns, white_positions, black_positions) :\n",
        "    valid_moves = get_valid_moves(lines, columns, white_positions, black_positions)\n",
        "    if valid_moves :\n",
        "        return random.choice(valid_moves)\n",
        "     \n",
        "## O jogador retornará a peça que irá mover no \n",
        "## tabuleiro, seguida da posição no tabuleiro onde\n",
        "## deverá colocar a peça. \n",
        "tabuleiro = [4,4, ((1,1),(1,2),(1,3),(1,4)), ((4,1),(4,2),(4,3),(4,4)) ]\n",
        "player(*tabuleiro)"
      ],
      "execution_count": null,
      "outputs": [
        {
          "output_type": "execute_result",
          "data": {
            "text/plain": [
              "((1, 3), (2, 3))"
            ]
          },
          "metadata": {
            "tags": []
          },
          "execution_count": 42
        }
      ]
    },
    {
      "cell_type": "markdown",
      "metadata": {
        "id": "WE6BLB8b9Sd7"
      },
      "source": [
        "## Adicionando Jogador Humano\n",
        "\n",
        "Agora que temos um jogador para as peças brancas, vamos criar um jogador para as peças pretas. Esse jogador será um ser humano que fonecerá as jogadas pelo teclado. \n",
        "\n",
        "Vamos assumir que o jogador humano não comete erros, em outras palavras, não vamos fazer nenhum tipo de checagem para as jogadas feitas por essa pessoa."
      ]
    },
    {
      "cell_type": "code",
      "metadata": {
        "id": "zaj8JFCi9aNY"
      },
      "source": [
        "def human_player(lines, columns, white_positions, black_positions) : \n",
        "    board = draw_board(lines, columns, white_positions, black_positions)  \n",
        "    display(board)   \n",
        "    print(\"Jogue no formato '(origemLine, origemColumn), (destinoLine, destinoColumn)' \")\n",
        "    origem, destino = eval(input())\n",
        "    return origem, destino"
      ],
      "execution_count": null,
      "outputs": []
    },
    {
      "cell_type": "code",
      "metadata": {
        "id": "2u7EGYFr9bF9",
        "outputId": "21f8123e-73c4-4aed-ea3a-8d859a84dec1",
        "colab": {
          "base_uri": "https://localhost:8080/",
          "height": 318
        }
      },
      "source": [
        "tabuleiro = [ 4,4,((3,1),(1,2),(1,4)), ((4,2),(4,3),(4,4),(3,3),(2,4)) ]\n",
        "\n",
        "human_player(*tabuleiro )"
      ],
      "execution_count": null,
      "outputs": [
        {
          "output_type": "display_data",
          "data": {
            "image/png": "[encoded data removed]",
            "text/plain": [
              "<PIL.Image.Image image mode=RGB size=250x250 at 0x7FF8F7DAEE80>"
            ]
          },
          "metadata": {
            "tags": []
          }
        },
        {
          "output_type": "stream",
          "text": [
            "Jogue no formato '(origemLine, origemColumn), (destinoLine, destinoColumn)' \n",
            "(1,2),(2,2)\n"
          ],
          "name": "stdout"
        },
        {
          "output_type": "execute_result",
          "data": {
            "text/plain": [
              "((1, 2), (2, 2))"
            ]
          },
          "metadata": {
            "tags": []
          },
          "execution_count": 44
        }
      ]
    },
    {
      "cell_type": "markdown",
      "metadata": {
        "id": "WC9_CECQ9jv2"
      },
      "source": [
        "## Gerenciador de Jogo\n",
        "\n",
        "Temos um tabuleiro, um jogador que pode conduzir as peças brancas e um jogador humano (você) que pode conduzir as peças pretas. O que devemos fazer agora é criar um gerenciador de jogo para que uma partida possa ser iniciada. O gerenciador irá:\n",
        "\n",
        "1.   Garantir que pedirá para o jogador certo jogar (alternância entre jogadores).\n",
        "2.   Gerenciar o tabuleiro de modo a fazer com que as jogadas sejam concretizadas.\n",
        "3.   Verificar se as condições de vitória, derrota ou empates já foram satisfeitas.\n",
        "4.   Armazenar um histórico de jogadas, para que os jogadores posteriormente possam analisar. \n",
        "\n",
        "Vamos ver uma função que faz tudo isso."
      ]
    },
    {
      "cell_type": "code",
      "metadata": {
        "id": "BrL4m-JE9sYk"
      },
      "source": [
        "##Função que gerencia um jogo. \n",
        "def game(player1, player2, lines = 4, columns = 4, \n",
        "         white_positions = ( (1,1), (1,2), (1,3), (1,4) ), \n",
        "         black_positions = ( (4,1), (4,2), (4,3), (4,4) ) ) :\n",
        "\n",
        "    ## Inicialização\n",
        "    turn   = 1\n",
        "    result = 0 \n",
        "\n",
        "    ## Lista que guardará o histórico\n",
        "    history = [ (lines, columns), (white_positions, black_positions)  ] \n",
        "    \n",
        "    ## Enquanto houverem jogadas, pedimos para o jogador vez prosseguir\n",
        "    win = winner(lines, columns, white_positions, black_positions)\n",
        "    while not win :\n",
        "\n",
        "        ## Pedindo uma jogada ao jogador da vez.\n",
        "        if turn == 1 :\n",
        "            origem, destino = player1(lines, columns, white_positions, black_positions)\n",
        "            lwhite_positions = list(white_positions)\n",
        "            lwhite_positions.remove(origem)    \n",
        "            lwhite_positions.append(destino)\n",
        "            white_positions = tuple(lwhite_positions)\n",
        "            ldestino = tuple(destino)\n",
        "            print(origem,destino)\n",
        "            linha = destino[0]\n",
        "            coluna = destino[1]\n",
        "            pecafrente = (linha+1, coluna)\n",
        "            pecaatras = (linha-1, coluna)\n",
        "            pecaesquerdo = (linha, coluna-1)\n",
        "            pecadireito = (linha, coluna+1)\n",
        "            lblack_positions = list(black_positions)\n",
        "            lpecafrente = list(pecafrente)\n",
        "            if pecafrente in lblack_positions: \n",
        "              lblack_positions.remove(pecafrente)\n",
        "              lwhite_positions.append(pecafrente)\n",
        "              board = draw_board(lines, columns, white_positions, black_positions)  \n",
        "              display(board)\n",
        "            if pecaatras in lblack_positions: \n",
        "              lblack_positions.remove(pecaatras)\n",
        "              lwhite_positions.append(pecaatras)\n",
        "              white_positions = tuple(lwhite_positions)\n",
        "              black_positions = tuple(lblack_positions)\n",
        "              board = draw_board(lines, columns, white_positions, black_positions)  \n",
        "              display(board)\n",
        "            if pecaesquerdo in lblack_positions: \n",
        "              lblack_positions.remove(pecaesquerdo)\n",
        "              lwhite_positions.append(pecaesquerdo)\n",
        "              white_positions = tuple(lwhite_positions)\n",
        "              black_positions = tuple(lblack_positions)\n",
        "              board = draw_board(lines, columns, white_positions, black_positions)  \n",
        "              display(board)\n",
        "            if pecadireito in lblack_positions: \n",
        "              lblack_positions.remove(pecadireito)\n",
        "              lwhite_positions.append(pecadireito)\n",
        "              white_positions = tuple(lwhite_positions)\n",
        "              black_positions = tuple(lblack_positions)\n",
        "              board = draw_board(lines, columns, white_positions, black_positions)  \n",
        "              display(board)\n",
        "\n",
        "            ## Se destino estiver na lista de pretas, então deve ser removido.\n",
        "            if destino in black_positions :\n",
        "                lblack_positions = tuple(black_positions)\n",
        "                lblack_positions.remove(destino)         \n",
        "                black_positions = tuple(lblack_positions)\n",
        "                \n",
        "        else : \n",
        "            origem, destino = player2(lines, columns, white_positions, black_positions)\n",
        "            lblack_positions = list(black_positions)\n",
        "            lblack_positions.remove(origem)    \n",
        "            lblack_positions.append(destino)     \n",
        "            black_positions = tuple(lblack_positions)\n",
        "\n",
        "            ## Se destino estiver na lista de brancas, então deve ser removido.\n",
        "            if destino in white_positions :\n",
        "                lwhite_positions = list(white_positions)       \n",
        "                white_positions = tuple(lwhite_positions)\n",
        "                ldestino = tuple(destino)\n",
        "            linha = destino[0]\n",
        "            coluna = destino[1]\n",
        "            pecafrente = (linha+1, coluna)\n",
        "            pecaatras = (linha-1, coluna)\n",
        "            pecaesquerdo = (linha, coluna-1)\n",
        "            pecadireito = (linha, coluna+1)\n",
        "            lblack_positions = list(black_positions)\n",
        "            lpecafrente = list(pecafrente)\n",
        "            if pecafrente in lwhite_positions: \n",
        "              lwhite_positions.remove(pecafrente)\n",
        "              lblack_positions.append(pecafrente)\n",
        "              white_positions = tuple(lwhite_positions)\n",
        "              black_positions = tuple(lblack_positions)\n",
        "              board = draw_board(lines, columns, white_positions, black_positions)  \n",
        "              display(board)\n",
        "            if pecaatras in lwhite_positions: \n",
        "              lwhite_positions.remove(pecaatras)\n",
        "              lblack_positions.append(pecaatras)\n",
        "              white_positions = tuple(lwhite_positions)\n",
        "              black_positions = tuple(lblack_positions)\n",
        "              board = draw_board(lines, columns, white_positions, black_positions)  \n",
        "              display(board)\n",
        "            if pecaesquerdo in lwhite_positions: \n",
        "              lwhite_positions.remove(pecaesquerdo)\n",
        "              lblack_positions.append(pecaesquerdo)\n",
        "              white_positions = tuple(lwhite_positions)\n",
        "              black_positions = tuple(lblack_positions)\n",
        "              board = draw_board(lines, columns, white_positions, black_positions)  \n",
        "              display(board)\n",
        "            if pecadireito in lwhite_positions: \n",
        "              lwhite_positions.remove(pecadireito)\n",
        "              lblack_positions.append(pecadireito)\n",
        "              white_positions = tuple(lwhite_positions)\n",
        "              black_positions = tuple(lblack_positions)\n",
        "              board = draw_board(lines, columns, white_positions, black_positions)  \n",
        "              display(board)\n",
        "\n",
        "        ## Adicionando tabuleiro no histórico\n",
        "        history.append( (white_positions, black_positions) )\n",
        "\n",
        "        ## Atualizando a variável que verifica ganhador.\n",
        "        win = winner(lines, columns, white_positions, black_positions)\n",
        "\n",
        "        ## Trocando a vez de jogar\n",
        "        turn = -turn\n",
        "    \n",
        "    return win, history"
      ],
      "execution_count": null,
      "outputs": []
    },
    {
      "cell_type": "code",
      "metadata": {
        "id": "s3gsVlRX9k1B",
        "outputId": "7595e85b-c0b7-40ab-ae0c-cff60a7f12b1",
        "colab": {
          "base_uri": "https://localhost:8080/",
          "height": 1000
        }
      },
      "source": [
        "## Agora vamos colocar o jogador para jogar contra um humano.\n",
        "_, history = game(player, human_player)"
      ],
      "execution_count": null,
      "outputs": [
        {
          "output_type": "stream",
          "text": [
            "O jogo não acabou\n",
            "(1, 2) (2, 1)\n",
            "O jogo não acabou\n"
          ],
          "name": "stdout"
        },
        {
          "output_type": "display_data",
          "data": {
            "image/png": "[encoded data removed]",
            "text/plain": [
              "<PIL.Image.Image image mode=RGB size=250x250 at 0x7FF8F86B6EB8>"
            ]
          },
          "metadata": {
            "tags": []
          }
        },
        {
          "output_type": "stream",
          "text": [
            "Jogue no formato '(origemLine, origemColumn), (destinoLine, destinoColumn)' \n",
            "(4,1),(3,1)\n"
          ],
          "name": "stdout"
        },
        {
          "output_type": "display_data",
          "data": {
            "image/png": "[encoded data removed]",
            "text/plain": [
              "<PIL.Image.Image image mode=RGB size=250x250 at 0x7FF8F86B6C88>"
            ]
          },
          "metadata": {
            "tags": []
          }
        },
        {
          "output_type": "stream",
          "text": [
            "O jogo não acabou\n",
            "(1, 4) (2, 4)\n",
            "O jogo não acabou\n"
          ],
          "name": "stdout"
        },
        {
          "output_type": "display_data",
          "data": {
            "image/png": "[encoded data removed]",
            "text/plain": [
              "<PIL.Image.Image image mode=RGB size=250x250 at 0x7FF8F7DFC908>"
            ]
          },
          "metadata": {
            "tags": []
          }
        },
        {
          "output_type": "stream",
          "text": [
            "Jogue no formato '(origemLine, origemColumn), (destinoLine, destinoColumn)' \n",
            "(4,4),(3,4)\n"
          ],
          "name": "stdout"
        },
        {
          "output_type": "display_data",
          "data": {
            "image/png": "[encoded data removed]",
            "text/plain": [
              "<PIL.Image.Image image mode=RGB size=250x250 at 0x7FF8F86B6B00>"
            ]
          },
          "metadata": {
            "tags": []
          }
        },
        {
          "output_type": "stream",
          "text": [
            "O jogo não acabou\n",
            "(1, 1) (2, 2)\n"
          ],
          "name": "stdout"
        },
        {
          "output_type": "display_data",
          "data": {
            "image/png": "[encoded data removed]",
            "text/plain": [
              "<PIL.Image.Image image mode=RGB size=250x250 at 0x7FF8F7DFC908>"
            ]
          },
          "metadata": {
            "tags": []
          }
        },
        {
          "output_type": "stream",
          "text": [
            "O jogo não acabou\n"
          ],
          "name": "stdout"
        },
        {
          "output_type": "display_data",
          "data": {
            "image/png": "[encoded data removed]",
            "text/plain": [
              "<PIL.Image.Image image mode=RGB size=250x250 at 0x7FF8F86B6F28>"
            ]
          },
          "metadata": {
            "tags": []
          }
        },
        {
          "output_type": "stream",
          "text": [
            "Jogue no formato '(origemLine, origemColumn), (destinoLine, destinoColumn)' \n",
            "(2,4),(2,3)\n"
          ],
          "name": "stdout"
        },
        {
          "output_type": "display_data",
          "data": {
            "image/png": "[encoded data removed]",
            "text/plain": [
              "<PIL.Image.Image image mode=RGB size=250x250 at 0x7FF8F86B6550>"
            ]
          },
          "metadata": {
            "tags": []
          }
        },
        {
          "output_type": "display_data",
          "data": {
            "image/png": "[encoded data removed]",
            "text/plain": [
              "<PIL.Image.Image image mode=RGB size=250x250 at 0x7FF8F86B6E80>"
            ]
          },
          "metadata": {
            "tags": []
          }
        },
        {
          "output_type": "stream",
          "text": [
            "O jogo não acabou\n",
            "(2, 1) (3, 2)\n"
          ],
          "name": "stdout"
        },
        {
          "output_type": "display_data",
          "data": {
            "image/png": "[encoded data removed]",
            "text/plain": [
              "<PIL.Image.Image image mode=RGB size=250x250 at 0x7FF8F86B6588>"
            ]
          },
          "metadata": {
            "tags": []
          }
        },
        {
          "output_type": "display_data",
          "data": {
            "image/png": "[encoded data removed]",
            "text/plain": [
              "<PIL.Image.Image image mode=RGB size=250x250 at 0x7FF8F86B6F28>"
            ]
          },
          "metadata": {
            "tags": []
          }
        },
        {
          "output_type": "display_data",
          "data": {
            "image/png": "[encoded data removed]",
            "text/plain": [
              "<PIL.Image.Image image mode=RGB size=250x250 at 0x7FF8F86B65C0>"
            ]
          },
          "metadata": {
            "tags": []
          }
        },
        {
          "output_type": "stream",
          "text": [
            "O jogo não acabou\n"
          ],
          "name": "stdout"
        },
        {
          "output_type": "display_data",
          "data": {
            "image/png": "[encoded data removed]",
            "text/plain": [
              "<PIL.Image.Image image mode=RGB size=250x250 at 0x7FF8F86B6C88>"
            ]
          },
          "metadata": {
            "tags": []
          }
        },
        {
          "output_type": "stream",
          "text": [
            "Jogue no formato '(origemLine, origemColumn), (destinoLine, destinoColumn)' \n",
            "(2,3),(3,3)\n"
          ],
          "name": "stdout"
        },
        {
          "output_type": "display_data",
          "data": {
            "image/png": "[encoded data removed]",
            "text/plain": [
              "<PIL.Image.Image image mode=RGB size=250x250 at 0x7FF8F86B6EB8>"
            ]
          },
          "metadata": {
            "tags": []
          }
        },
        {
          "output_type": "stream",
          "text": [
            "O jogo não acabou\n",
            "(3, 1) (4, 1)\n",
            "O jogo não acabou\n"
          ],
          "name": "stdout"
        },
        {
          "output_type": "display_data",
          "data": {
            "image/png": "[encoded data removed]",
            "text/plain": [
              "<PIL.Image.Image image mode=RGB size=250x250 at 0x7FF8F86B6C88>"
            ]
          },
          "metadata": {
            "tags": []
          }
        },
        {
          "output_type": "stream",
          "text": [
            "Jogue no formato '(origemLine, origemColumn), (destinoLine, destinoColumn)' \n",
            "(3,2),(3,1)\n"
          ],
          "name": "stdout"
        },
        {
          "output_type": "display_data",
          "data": {
            "image/png": "[encoded data removed]",
            "text/plain": [
              "<PIL.Image.Image image mode=RGB size=250x250 at 0x7FF8F86B6C88>"
            ]
          },
          "metadata": {
            "tags": []
          }
        },
        {
          "output_type": "stream",
          "text": [
            "O jogo não acabou\n",
            "(2, 2) (3, 2)\n"
          ],
          "name": "stdout"
        },
        {
          "output_type": "display_data",
          "data": {
            "image/png": "[encoded data removed]",
            "text/plain": [
              "<PIL.Image.Image image mode=RGB size=250x250 at 0x7FF8F7DFC908>"
            ]
          },
          "metadata": {
            "tags": []
          }
        },
        {
          "output_type": "display_data",
          "data": {
            "image/png": "[encoded data removed]",
            "text/plain": [
              "<PIL.Image.Image image mode=RGB size=250x250 at 0x7FF8F86B6B70>"
            ]
          },
          "metadata": {
            "tags": []
          }
        },
        {
          "output_type": "stream",
          "text": [
            "O jogo não acabou\n"
          ],
          "name": "stdout"
        },
        {
          "output_type": "display_data",
          "data": {
            "image/png": "[encoded data removed]",
            "text/plain": [
              "<PIL.Image.Image image mode=RGB size=250x250 at 0x7FF8F86B6E80>"
            ]
          },
          "metadata": {
            "tags": []
          }
        },
        {
          "output_type": "stream",
          "text": [
            "Jogue no formato '(origemLine, origemColumn), (destinoLine, destinoColumn)' \n",
            "(3,1),(2,3)\n"
          ],
          "name": "stdout"
        },
        {
          "output_type": "error",
          "ename": "ValueError",
          "evalue": "ignored",
          "traceback": [
            "\u001b[0;31m---------------------------------------------------------------------------\u001b[0m",
            "\u001b[0;31mValueError\u001b[0m                                Traceback (most recent call last)",
            "\u001b[0;32m<ipython-input-47-8f0d4e554137>\u001b[0m in \u001b[0;36m<module>\u001b[0;34m()\u001b[0m\n\u001b[1;32m      1\u001b[0m \u001b[0;31m## Agora vamos colocar o jogador para jogar contra um humano.\u001b[0m\u001b[0;34m\u001b[0m\u001b[0;34m\u001b[0m\u001b[0;34m\u001b[0m\u001b[0m\n\u001b[0;32m----> 2\u001b[0;31m \u001b[0m_\u001b[0m\u001b[0;34m,\u001b[0m \u001b[0mhistory\u001b[0m \u001b[0;34m=\u001b[0m \u001b[0mgame\u001b[0m\u001b[0;34m(\u001b[0m\u001b[0mplayer\u001b[0m\u001b[0;34m,\u001b[0m \u001b[0mhuman_player\u001b[0m\u001b[0;34m)\u001b[0m\u001b[0;34m\u001b[0m\u001b[0;34m\u001b[0m\u001b[0m\n\u001b[0m",
            "\u001b[0;32m<ipython-input-45-7f7733bb8c8e>\u001b[0m in \u001b[0;36mgame\u001b[0;34m(player1, player2, lines, columns, white_positions, black_positions)\u001b[0m\n\u001b[1;32m     68\u001b[0m             \u001b[0morigem\u001b[0m\u001b[0;34m,\u001b[0m \u001b[0mdestino\u001b[0m \u001b[0;34m=\u001b[0m \u001b[0mplayer2\u001b[0m\u001b[0;34m(\u001b[0m\u001b[0mlines\u001b[0m\u001b[0;34m,\u001b[0m \u001b[0mcolumns\u001b[0m\u001b[0;34m,\u001b[0m \u001b[0mwhite_positions\u001b[0m\u001b[0;34m,\u001b[0m \u001b[0mblack_positions\u001b[0m\u001b[0;34m)\u001b[0m\u001b[0;34m\u001b[0m\u001b[0;34m\u001b[0m\u001b[0m\n\u001b[1;32m     69\u001b[0m             \u001b[0mlblack_positions\u001b[0m \u001b[0;34m=\u001b[0m \u001b[0mlist\u001b[0m\u001b[0;34m(\u001b[0m\u001b[0mblack_positions\u001b[0m\u001b[0;34m)\u001b[0m\u001b[0;34m\u001b[0m\u001b[0;34m\u001b[0m\u001b[0m\n\u001b[0;32m---> 70\u001b[0;31m             \u001b[0mlblack_positions\u001b[0m\u001b[0;34m.\u001b[0m\u001b[0mremove\u001b[0m\u001b[0;34m(\u001b[0m\u001b[0morigem\u001b[0m\u001b[0;34m)\u001b[0m\u001b[0;34m\u001b[0m\u001b[0;34m\u001b[0m\u001b[0m\n\u001b[0m\u001b[1;32m     71\u001b[0m             \u001b[0mlblack_positions\u001b[0m\u001b[0;34m.\u001b[0m\u001b[0mappend\u001b[0m\u001b[0;34m(\u001b[0m\u001b[0mdestino\u001b[0m\u001b[0;34m)\u001b[0m\u001b[0;34m\u001b[0m\u001b[0;34m\u001b[0m\u001b[0m\n\u001b[1;32m     72\u001b[0m             \u001b[0mblack_positions\u001b[0m \u001b[0;34m=\u001b[0m \u001b[0mtuple\u001b[0m\u001b[0;34m(\u001b[0m\u001b[0mlblack_positions\u001b[0m\u001b[0;34m)\u001b[0m\u001b[0;34m\u001b[0m\u001b[0;34m\u001b[0m\u001b[0m\n",
            "\u001b[0;31mValueError\u001b[0m: list.remove(x): x not in list"
          ]
        }
      ]
    },
    {
      "cell_type": "markdown",
      "metadata": {
        "id": "yaSE1Ne09upK"
      },
      "source": [
        "## Desenhando Histórico\n",
        "\n",
        "Criamos anteriormente uma função que mostra uma sequência de **Images** na tela. Agora precisamos de uma função que cria esses objetos **Image**. A função que faz isso deverá percorrer o histórico e fazer as chamadas a **draw_board** de maneira adequada, nada muito complicado comparado com o que já conseguimos evoluir."
      ]
    },
    {
      "cell_type": "code",
      "metadata": {
        "id": "tWHeH3BQ9v5I"
      },
      "source": [
        "## O parâmetro flip_black_board será usado mais adiante.\n",
        "def generate_image_history(history, flip_black_board = False) :\n",
        "    image_history = []\n",
        "    lines, columns = history[0]\n",
        "\n",
        "    for i in range(1, len(history)) :\n",
        "        white_positions, black_positions = history[i]\n",
        "        if ( flip_black_board and (i % 2 == 1) ) :\n",
        "            lines, columns, white_positions, black_positions = flip_board(lines, columns, white_positions, black_positions)\n",
        "        image_history.append( draw_board(lines, columns, white_positions, black_positions ) )\n",
        "    return image_history"
      ],
      "execution_count": null,
      "outputs": []
    },
    {
      "cell_type": "code",
      "metadata": {
        "id": "hGosD7vE9ybn",
        "outputId": "313e85de-7c84-4379-bda5-18274812328d",
        "colab": {
          "base_uri": "https://localhost:8080/"
        }
      },
      "source": [
        "history"
      ],
      "execution_count": null,
      "outputs": [
        {
          "output_type": "stream",
          "text": [
            "from IPython.display import display # para mostrar imagens\n",
            "from PIL import Image, ImageDraw    # para ler imagens\n",
            "\n",
            "def draw_board(lines, columns,white_positions, black_positions) :\n",
            "    board = Image.new('RGB', (250,250),  \"gray\") #Tamanho e a cor do tabuleiro.\n",
            "    draw  = ImageDraw.Draw(board)\n",
            "    \n",
            "    ## Linhas e Colunas\n",
            "    shift_lines = float(board.size[0])/lines    \n",
            "    for el in range(lines) :\n",
            "      #Desenhando linhas na Horizontal\n",
            "        draw.line( (0, shift_lines *(el+1), board.size[0], shift_lines*(el+1)), fill = \"black\" )  \n",
            "        \n",
            "    ## Linhas e Colunas\n",
            "    shift_columns = float(board.size[1])/columns\n",
            "    for el in range(columns) :\n",
            "      #Desenhando Linhas na Vertical\n",
            "        draw.line( (shift_columns*(el+1), 0, shift_columns*(el+1), board.size[1]), fill = \"black\" )  #Linhas na Vertical\n",
            "    \n",
            "    ## Peças\n",
            "    for el in black_positions :\n",
            "        x, y = lines-el[0]+1, el[1]\n",
            "        draw.polygon([(shift_columns*(y-0.9),shift_lines*(x-0.9)), \n",
            "                      (shift_columns*(y-0.5),shift_lines*(x-0.15)), \n",
            "                      (shift_columns*(y-0.1),shift_lines*(x-0.9))], \n",
            "                     fill = 'black')\n",
            "        \n",
            "    for el in white_positions :\n",
            "        x, y = lines-el[0]+1, el[1]\n",
            "\n",
            "        draw.polygon([(shift_columns*(y-0.9),shift_lines*(x-0.1)), \n",
            "                      (shift_columns*(y-0.5),shift_lines*(x-0.85)), \n",
            "                      (shift_columns*(y-0.1),shift_lines*(x-0.1))], \n",
            "                     fill = 'white')\n",
            "    return board\n",
            "  \n",
            "  \n",
            "board = draw_board(4,4,((1,1),(1,2),(1,3),(1,4)), ((4,1),(4,2),(4,3),(4,4)))  #Posicoes das peças Brancas e Pretas !!\n",
            "display(board) #Exibir o tabuleiro\n",
            "from ipywidgets import interact\n",
            "\n",
            "def display_sequence(images) :\n",
            "    def _show(frame=(0, len(images)-1)) :\n",
            "        return images[frame]\n",
            "    return interact(_show)\n",
            "\n",
            "images = [\n",
            "    draw_board(4,4,[(3,1),(1,2),(1,4)], [(4,2),(4,3),(4,4),(3,3),(2,4)] ),#Inicial\n",
            "    draw_board(4,4,[(3,1),(3,2),(1,4),(4,2),(3,3)], [(4,3),(4,4),(2,4)] ),#Vez do branco\n",
            "    draw_board(4,4,[(3,1),(3,2),(1,4),(4,2)], [(4,3),(3,4),(2,4),(3,3)] ),#Vez do Preto\n",
            "    draw_board(4,4,[(3,1),(3,2),(2,3),(4,2),(2,4),(3,3)], [(4,3),(3,4)] ),#Vez do branco\n",
            "    draw_board(4,4,[(3,1),(3,2),(2,3),(4,2),(2,4),(3,3)], [(4,3),(4,4)] ),#Vez do Preto\n",
            "    draw_board(4,4,[(3,1),(3,2),(2,3),(4,2),(3,3),(4,4),(3,4)], [(4,3)] ),#Vez do branco\n",
            "]\n",
            "display_sequence(images)\n",
            "def winner(lines, columns, white_positions, black_positions) :\n",
            "    ## Se alguém ficou sem peças, encerrar a partida.\n",
            "    if len(white_positions) == 0: #Vai contar quantos elementos tem na lista White_Position, se não tiver nenhum(0) significa que não tem peças brancas.\n",
            "        print(\"Acabou para as brancas!\") \n",
            "        return -1 #Quem ganhou foi o preto\n",
            "    elif len(black_positions) == 0: #Vai contar quantos elementos tem na lista Black_Position, se não tiver nenhum(0) significa que não tem peças Pretas.\n",
            "         print(\"Acabou para as pretas!\") \n",
            "         return 1 #Quem ganhou foi a branca\n",
            "   # elif valid_move(lines, columns, white_positions, black_positions) == True: #Significa que o jogador não tem mais movimentos válidos\n",
            "     # return 2\n",
            "    ## Jogo ainda não acabou\n",
            "    else:\n",
            "      print(\"O jogo não acabou\")\n",
            "      return 0\n",
            "def valid_move(move, lines, columns, white_positions, black_positions) :\n",
            "    ## Se não houver move (Movimentação das peças brancas), então já saia.\n",
            "    if not move :\n",
            "        return False\n",
            "                            ##Move é duas tuplas, um origem e um destino.\n",
            "    origem, destino = move #Vai vir uma tupla com origem e destino. Exemplo: ((1,1),(2,1)) - Sai da posição 1,1 e vai para a 2,1\n",
            "    \n",
            "    ## verificar limites do tabuleiro\n",
            "    if not 0 < origem[0]  <= lines :\n",
            "        return False\n",
            "    if not 0 < destino[0] <= lines :\n",
            "        return False\n",
            "    if not 0 < origem[1]  <= columns :\n",
            "        return False\n",
            "    if not 0 < destino[1] <= columns :\n",
            "        return False\n",
            "\n",
            "    ## Verificar se origem é válida, se ele realmente é uma peça branca ele deve estar com seus valores dentro da duple white_positions.\n",
            "    if not origem in white_positions :\n",
            "        return False\n",
            "      \n",
            "    ## Verificar se destino é livre de peças brancas\n",
            "    if destino in white_positions :\n",
            "        return False\n",
            "    if destino in black_positions :\n",
            "        return False\n",
            "    \n",
            "    ##Verificar se o movimento foi máximo, ou seja, ele andou todas as casas possíveis.\n",
            "\n",
            "    ##Não Deixar pular peças \n",
            "    \n",
            "    return True\n",
            "def get_valid_moves(lines, columns, white_positions, black_positions) :\n",
            "    valid_moves = []\n",
            "    for origem in white_positions :\n",
            "        destinos = ( \n",
            "            (origem[0]+1, origem[1]-1), \n",
            "            (origem[0]+1, origem[1]),                    \n",
            "            (origem[0]+1, origem[1]+1)\n",
            "        )\n",
            "        for destino in destinos :    \n",
            "            if valid_move( (origem, destino), lines, columns, white_positions, black_positions) :\n",
            "               valid_moves.append(  (origem, destino)  )\n",
            "    return tuple(valid_moves)\n",
            "## O nosso jogador fará uma jogada ao acaso, então usamos \n",
            "## a biblioteca random para poder gerar números aleatórios\n",
            "import random\n",
            "\n",
            "## A função abaixo é um jogador. Ele receberá um tabuleiro\n",
            "## como parâmetro pelas variáveis  lines, columns, white_positions, \n",
            "## black_positions. \n",
            "def player(lines, columns, white_positions, black_positions) :\n",
            "    valid_moves = get_valid_moves(lines, columns, white_positions, black_positions)\n",
            "    if valid_moves :\n",
            "        return random.choice(valid_moves)\n",
            "     \n",
            "## O jogador retornará a peça que irá mover no \n",
            "## tabuleiro, seguida da posição no tabuleiro onde\n",
            "## deverá colocar a peça. \n",
            "tabuleiro = [4,4, ((1,1),(1,2),(1,3),(1,4)), ((4,1),(4,2),(4,3),(4,4)) ]\n",
            "player(*tabuleiro)\n",
            "def human_player(lines, columns, white_positions, black_positions) : \n",
            "    board = draw_board(lines, columns, white_positions, black_positions)  \n",
            "    display(board)   \n",
            "    print(\"Jogue no formato '(origemLine, origemColumn), (destinoLine, destinoColumn)' \")\n",
            "    origem, destino = eval(input())\n",
            "    return origem, destino\n",
            "##Função que gerencia um jogo. \n",
            "def game(player1, player2, lines = 4, columns = 4, \n",
            "         white_positions = ( (1,1), (1,2), (1,3), (1,4) ), \n",
            "         black_positions = ( (4,1), (4,2), (4,3), (4,4) ) ) :\n",
            "\n",
            "    ## Inicialização\n",
            "    turn   = 1\n",
            "    result = 0 \n",
            "\n",
            "    ## Lista que guardará o histórico\n",
            "    history = [ (lines, columns), (white_positions, black_positions)  ] \n",
            "    \n",
            "    ## Enquanto houverem jogadas, pedimos para o jogador vez prosseguir\n",
            "    win = winner(lines, columns, white_positions, black_positions)\n",
            "    while not win :\n",
            "\n",
            "        ## Pedindo uma jogada ao jogador da vez.\n",
            "        if turn == 1 :\n",
            "            origem, destino = player1(lines, columns, white_positions, black_positions)\n",
            "            lwhite_positions = list(white_positions)\n",
            "            lwhite_positions.remove(origem)    \n",
            "            lwhite_positions.append(destino)\n",
            "            white_positions = tuple(lwhite_positions)\n",
            "            ldestino = tuple(destino)\n",
            "            print(origem,destino)\n",
            "            linha = destino[0]\n",
            "            coluna = destino[1]\n",
            "            pecafrente = (linha+1, coluna)\n",
            "            pecaatras = (linha-1, coluna)\n",
            "            pecaesquerdo = (linha, coluna-1)\n",
            "            pecadireito = (linha, coluna+1)\n",
            "            lblack_positions = list(black_positions)\n",
            "            lpecafrente = list(pecafrente)\n",
            "            if pecafrente in lblack_positions: \n",
            "              lblack_positions.remove(pecafrente)\n",
            "              lwhite_positions.append(pecafrente)\n",
            "              board = draw_board(lines, columns, white_positions, black_positions)  \n",
            "              display(board)\n",
            "            if pecaatras in lblack_positions: \n",
            "              lblack_positions.remove(pecaatras)\n",
            "              lwhite_positions.append(pecaatras)\n",
            "              white_positions = tuple(lwhite_positions)\n",
            "              black_positions = tuple(lblack_positions)\n",
            "              board = draw_board(lines, columns, white_positions, black_positions)  \n",
            "              display(board)\n",
            "            if pecaesquerdo in lblack_positions: \n",
            "              lblack_positions.remove(pecaesquerdo)\n",
            "              lwhite_positions.append(pecaesquerdo)\n",
            "              white_positions = tuple(lwhite_positions)\n",
            "              black_positions = tuple(lblack_positions)\n",
            "              board = draw_board(lines, columns, white_positions, black_positions)  \n",
            "              display(board)\n",
            "            if pecadireito in lblack_positions: \n",
            "              lblack_positions.remove(pecadireito)\n",
            "              lwhite_positions.append(pecadireito)\n",
            "              white_positions = tuple(lwhite_positions)\n",
            "              black_positions = tuple(lblack_positions)\n",
            "              board = draw_board(lines, columns, white_positions, black_positions)  \n",
            "              display(board)\n",
            "\n",
            "            ## Se destino estiver na lista de pretas, então deve ser removido.\n",
            "            if destino in black_positions :\n",
            "                lblack_positions = tuple(black_positions)\n",
            "                lblack_positions.remove(destino)         \n",
            "                black_positions = tuple(lblack_positions)\n",
            "                \n",
            "        else : \n",
            "            origem, destino = player2(lines, columns, white_positions, black_positions)\n",
            "            lblack_positions = list(black_positions)\n",
            "            lblack_positions.remove(origem)    \n",
            "            lblack_positions.append(destino)     \n",
            "            black_positions = tuple(lblack_positions)\n",
            "\n",
            "            ## Se destino estiver na lista de brancas, então deve ser removido.\n",
            "            if destino in white_positions :\n",
            "                lwhite_positions = list(white_positions)       \n",
            "                white_positions = tuple(lwhite_positions)\n",
            "                ldestino = tuple(destino)\n",
            "            linha = destino[0]\n",
            "            coluna = destino[1]\n",
            "            pecafrente = (linha+1, coluna)\n",
            "            pecaatras = (linha-1, coluna)\n",
            "            pecaesquerdo = (linha, coluna-1)\n",
            "            pecadireito = (linha, coluna+1)\n",
            "            lblack_positions = list(black_positions)\n",
            "            lpecafrente = list(pecafrente)\n",
            "            if pecafrente in lwhite_positions: \n",
            "              lwhite_positions.remove(pecafrente)\n",
            "              lblack_positions.append(pecafrente)\n",
            "              white_positions = tuple(lwhite_positions)\n",
            "              black_positions = tuple(lblack_positions)\n",
            "              board = draw_board(lines, columns, white_positions, black_positions)  \n",
            "              display(board)\n",
            "            if pecaatras in lwhite_positions: \n",
            "              lwhite_positions.remove(pecaatras)\n",
            "              lblack_positions.append(pecaatras)\n",
            "              white_positions = tuple(lwhite_positions)\n",
            "              black_positions = tuple(lblack_positions)\n",
            "              board = draw_board(lines, columns, white_positions, black_positions)  \n",
            "              display(board)\n",
            "            if pecaesquerdo in lwhite_positions: \n",
            "              lwhite_positions.remove(pecaesquerdo)\n",
            "              lblack_positions.append(pecaesquerdo)\n",
            "              white_positions = tuple(lwhite_positions)\n",
            "              black_positions = tuple(lblack_positions)\n",
            "              board = draw_board(lines, columns, white_positions, black_positions)  \n",
            "              display(board)\n",
            "            if pecadireito in lwhite_positions: \n",
            "              lwhite_positions.remove(pecadireito)\n",
            "              lblack_positions.append(pecadireito)\n",
            "              white_positions = tuple(lwhite_positions)\n",
            "              black_positions = tuple(lblack_positions)\n",
            "              board = draw_board(lines, columns, white_positions, black_positions)  \n",
            "              display(board)\n",
            "\n",
            "        ## Adicionando tabuleiro no histórico\n",
            "        history.append( (white_positions, black_positions) )\n",
            "\n",
            "        ## Atualizando a variável que verifica ganhador.\n",
            "        win = winner(lines, columns, white_positions, black_positions)\n",
            "\n",
            "        ## Trocando a vez de jogar\n",
            "        turn = -turn\n",
            "    \n",
            "    return win, history\n",
            "## Agora vamos colocar o jogador para jogar contra um humano.\n",
            "_, history = game(player, human_player)\n",
            "## O parâmetro flip_black_board será usado mais adiante.\n",
            "def generate_image_history(history, flip_black_board = False) :\n",
            "    image_history = []\n",
            "    lines, columns = history[0]\n",
            "\n",
            "    for i in range(1, len(history)) :\n",
            "        white_positions, black_positions = history[i]\n",
            "        if ( flip_black_board and (i % 2 == 1) ) :\n",
            "            lines, columns, white_positions, black_positions = flip_board(lines, columns, white_positions, black_positions)\n",
            "        image_history.append( draw_board(lines, columns, white_positions, black_positions ) )\n",
            "    return image_history\n",
            "images = generate_image_history(history, False)\n",
            "display_sequence(images)\n",
            "history\n",
            "history[1]\n",
            "history\n"
          ],
          "name": "stdout"
        }
      ]
    },
    {
      "cell_type": "markdown",
      "metadata": {
        "id": "Tzce0NG1S3w5"
      },
      "source": [
        "**Conduzindo as Peças Pretas - Virando o Tabuleiro**\n",
        "\n",
        "A função flip-board recebe um tabuleiro como parâmetro e devolve este tabuleiro rotacionado. Dessa forma, é possível movimentar o jogo.\n",
        "\n",
        "\n"
      ]
    },
    {
      "cell_type": "code",
      "metadata": {
        "id": "5RG8QCs0TClM",
        "outputId": "ba4e2e60-aca2-4594-be02-4facc8dc8611",
        "colab": {
          "base_uri": "https://localhost:8080/",
          "height": 534
        }
      },
      "source": [
        "def flip_board(lines, columns, white_positions, black_positions) :\n",
        "    new_white = []\n",
        "    new_black = []\n",
        "    \n",
        "    for coord in black_positions :\n",
        "        new_white.append(\n",
        "            ( lines-coord[0]+1, columns-coord[1]+1)\n",
        "        )\n",
        "    for coord in white_positions :\n",
        "        new_black.append(\n",
        "            ( lines-coord[0]+1, columns-coord[1]+1)\n",
        "        )\n",
        "    return lines, columns, tuple(new_white), tuple(new_black)\n",
        "  \n",
        "tabuleiro = [ 4,4,((1,1),(2,2),(2,3)), ((3,3),(4,4),(2,4)) ]\n",
        "display(draw_board(*tabuleiro))\n",
        "print(\"---\")\n",
        "flipped   = flip_board(*tabuleiro)\n",
        "display(draw_board(*flipped))"
      ],
      "execution_count": null,
      "outputs": [
        {
          "output_type": "display_data",
          "data": {
            "image/png": "[encoded data removed]",
            "text/plain": [
              "<PIL.Image.Image image mode=RGB size=250x250 at 0x7F441A1A3C88>"
            ]
          },
          "metadata": {
            "tags": []
          }
        },
        {
          "output_type": "stream",
          "text": [
            "---\n"
          ],
          "name": "stdout"
        },
        {
          "output_type": "display_data",
          "data": {
            "image/png": "[encoded data removed]",
            "text/plain": [
              "<PIL.Image.Image image mode=RGB size=250x250 at 0x7F441A1A3978>"
            ]
          },
          "metadata": {
            "tags": []
          }
        }
      ]
    }
  ]
}